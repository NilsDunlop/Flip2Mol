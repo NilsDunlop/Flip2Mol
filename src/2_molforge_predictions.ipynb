{
 "cells": [
  {
   "cell_type": "markdown",
   "id": "be490bcf9d064755",
   "metadata": {
    "collapsed": false,
    "jupyter": {
     "outputs_hidden": false
    }
   },
   "source": [
    "# Project: Decoding Molecules From Fingerprints.\n",
    "## Group Members:\n",
    "### Qi Chen, e-mail: gusqichr@student.gu.se\n",
    "### Nils Dunlop, e-mail: gusdunlni@student.gu.se\n",
    "### Francisco Alejandro Erazo Piza, e-mail: guserafr@student.gu.se\n",
    "***"
   ]
  },
  {
   "cell_type": "code",
   "execution_count": 115,
   "id": "db70a18ceb7f41c7",
   "metadata": {
    "ExecuteTime": {
     "end_time": "2024-09-16T15:33:57.204683500Z",
     "start_time": "2024-09-16T15:33:57.160085300Z"
    },
    "collapsed": false,
    "jupyter": {
     "outputs_hidden": false
    }
   },
   "outputs": [],
   "source": [
    "import os\n",
    "import pandas as pd\n",
    "import subprocess\n",
    "from concurrent.futures import ThreadPoolExecutor, as_completed\n",
    "from rdkit import Chem"
   ]
  },
  {
   "cell_type": "markdown",
   "id": "8e57c937",
   "metadata": {},
   "source": [
    "### Define directories\n",
    "***"
   ]
  },
  {
   "cell_type": "code",
   "execution_count": 116,
   "id": "91bbdfc7",
   "metadata": {},
   "outputs": [],
   "source": [
    "# Set user directory\n",
    "USER_DIR = os.path.expanduser('~')\n",
    "\n",
    "# Set the project root directory\n",
    "PROJECT_ROOT = os.path.abspath(os.path.join(os.getcwd(), '..'))\n",
    "\n",
    "# Define the input and output directories\n",
    "INPUT_DIR = os.path.join(PROJECT_ROOT, 'data/chunks')\n",
    "OUTPUT_DIR = os.path.join(PROJECT_ROOT, 'data/processed_chunks')\n",
    "FINAL_OUTPUT = os.path.join(PROJECT_ROOT, 'data/final_processed_data.parquet')\n",
    "\n",
    "# Ensure output directory exists\n",
    "os.makedirs(OUTPUT_DIR, exist_ok=True)\n",
    "\n",
    "# Path to the conda environment to MolForge\n",
    "CONDA_ENV_PATH = os.path.join(USER_DIR, 'conda/envs/molforge/bin/python')\n",
    "MOLFORGE_DIR = os.path.join(USER_DIR, 'MolForge')\n",
    "MOLFORGE_SCRIPT_PATH = os.path.join(USER_DIR, 'MolForge/predict.py')\n",
    "\n",
    "# Define the number of workers\n",
    "WORKERS = 16"
   ]
  },
  {
   "cell_type": "code",
   "execution_count": 117,
   "id": "c46e0475",
   "metadata": {},
   "outputs": [
    {
     "name": "stdout",
     "output_type": "stream",
     "text": [
      "/home/javhittaxx/Fingerprints-To-Smiles\n",
      "/home/javhittaxx/Fingerprints-To-Smiles/data/chunks\n",
      "/home/javhittaxx/Fingerprints-To-Smiles/data/processed_chunks\n",
      "/home/javhittaxx/Fingerprints-To-Smiles/data/final_processed_data.parquet\n",
      "/home/javhittaxx/conda/envs/molforge/bin/python\n",
      "/home/javhittaxx/MolForge\n",
      "/home/javhittaxx/MolForge/predict.py\n"
     ]
    }
   ],
   "source": [
    "print(PROJECT_ROOT)\n",
    "print(INPUT_DIR)\n",
    "print(OUTPUT_DIR)\n",
    "print(FINAL_OUTPUT)\n",
    "print(CONDA_ENV_PATH)\n",
    "print(MOLFORGE_DIR)\n",
    "print(MOLFORGE_SCRIPT_PATH)\n"
   ]
  },
  {
   "cell_type": "markdown",
   "id": "4596c3bf",
   "metadata": {},
   "source": [
    "### Check parquet files\n",
    "***"
   ]
  },
  {
   "cell_type": "code",
   "execution_count": 118,
   "id": "d681a079",
   "metadata": {},
   "outputs": [
    {
     "data": {
      "text/plain": [
       "'\\nfor file in os.listdir(INPUT_DIR):\\n    if file.endswith(\\'.parquet\\'):\\n        df = pd.read_parquet(os.path.join(INPUT_DIR, file))\\n        print(f\"{file} shape: {df.shape}\")\\n'"
      ]
     },
     "execution_count": 118,
     "metadata": {},
     "output_type": "execute_result"
    }
   ],
   "source": [
    "\"\"\"\n",
    "for file in os.listdir(INPUT_DIR):\n",
    "    if file.endswith('.parquet'):\n",
    "        df = pd.read_parquet(os.path.join(INPUT_DIR, file))\n",
    "        print(f\"{file} shape: {df.shape}\")\n",
    "\"\"\"\n"
   ]
  },
  {
   "cell_type": "code",
   "execution_count": 119,
   "id": "c68cfa05",
   "metadata": {},
   "outputs": [],
   "source": [
    "parquet_files = ['molecule_fingerprints_part_0.parquet']"
   ]
  },
  {
   "cell_type": "markdown",
   "id": "8c2e27e0",
   "metadata": {},
   "source": [
    "#### Compute MolForge Predictions\n",
    "***\n"
   ]
  },
  {
   "cell_type": "code",
   "execution_count": 120,
   "id": "1095b9f0",
   "metadata": {},
   "outputs": [],
   "source": [
    "def convert_spaced_smiles(spaced_smiles):\n",
    "    compact_smiles = spaced_smiles.replace(\" \", \"\")\n",
    "    mol = Chem.MolFromSmiles(compact_smiles)\n",
    "    if mol is not None:\n",
    "        return Chem.MolToSmiles(mol, isomericSmiles=False)\n",
    "    else:\n",
    "        return \"Invalid SMILES string\""
   ]
  },
  {
   "cell_type": "code",
   "execution_count": 121,
   "id": "bd7b2c4e",
   "metadata": {},
   "outputs": [],
   "source": [
    "def run_molforge(fp_input):\n",
    "    # Construct the command\n",
    "    command = [\n",
    "        CONDA_ENV_PATH,\n",
    "        MOLFORGE_SCRIPT_PATH,\n",
    "        \"--fp=ECFP4\",\n",
    "        \"--model_type=smiles\",\n",
    "        f\"--input={fp_input}\"\n",
    "    ]\n",
    "    \n",
    "    # Run the command and capture output\n",
    "    try:\n",
    "        result = subprocess.run(\n",
    "            command,\n",
    "            capture_output=True,\n",
    "            text=True,\n",
    "            check=True,\n",
    "            cwd=MOLFORGE_DIR,\n",
    "            env=os.environ.copy()\n",
    "        )\n",
    "    except subprocess.CalledProcessError as e:\n",
    "        print(f\"Error running MolForge: {e}\")\n",
    "        print(f\"Error output: {e.stderr}\")\n",
    "        return \"Error\", \"Error\"\n",
    "    \n",
    "    # Process the result\n",
    "    spaced_smiles = None\n",
    "    device_used = None\n",
    "    output_lines = result.stdout.splitlines()\n",
    "    \n",
    "    for line in output_lines:\n",
    "        if \"Result:\" in line:\n",
    "            spaced_smiles = line.split(\"Result:\")[1].strip()\n",
    "        if \"rank :\" in line:\n",
    "            device_used = line.split(\"rank :\")[1].strip()\n",
    "    \n",
    "    # Convert the spaced SMILES to compact SMILES\n",
    "    if spaced_smiles:\n",
    "        compact_smiles = convert_spaced_smiles(spaced_smiles)\n",
    "    else:\n",
    "        compact_smiles = \"No Result\"\n",
    "\n",
    "    return compact_smiles, device_used"
   ]
  },
  {
   "cell_type": "code",
   "execution_count": 122,
   "id": "0f00e114",
   "metadata": {},
   "outputs": [],
   "source": [
    "def process_row(row):\n",
    "    fp_input = row['SparseFingerprintBits']\n",
    "    \n",
    "    # Run MolForge and get the converted SMILES and device information\n",
    "    compact_smiles, device_used = run_molforge(fp_input)\n",
    "    \n",
    "    return compact_smiles, device_used"
   ]
  },
  {
   "cell_type": "code",
   "execution_count": 123,
   "id": "fe937c76",
   "metadata": {},
   "outputs": [],
   "source": [
    "def process_chunk(file_path, max_rows=None):\n",
    "    chunk_df = pd.read_parquet(file_path)\n",
    "    if max_rows:\n",
    "        chunk_df = chunk_df.head(max_rows)\n",
    "    \n",
    "    total = len(chunk_df)\n",
    "    with ThreadPoolExecutor(max_workers=WORKERS) as executor:\n",
    "        futures = {executor.submit(run_molforge, row['SparseFingerprintBits']): idx for idx, row in chunk_df.iterrows()}\n",
    "        \n",
    "        for i, future in enumerate(as_completed(futures)):\n",
    "            idx = futures[future]\n",
    "            result, device_used = future.result()\n",
    "            chunk_df.at[idx, 'Converted_SMILES'] = result\n",
    "            chunk_df.at[idx, 'Device_Used'] = device_used\n",
    "            if (i + 1) % 100 == 0 or (i + 1) == total:\n",
    "                print(f\"Processed molecule {i + 1}/{total} in {os.path.basename(file_path)}\")\n",
    "    \n",
    "    output_file = os.path.join(OUTPUT_DIR, f\"processed_{os.path.basename(file_path)}\")\n",
    "    chunk_df.to_parquet(output_file, index=False)\n",
    "    print(f\"Finished processing {os.path.basename(file_path)}\")"
   ]
  },
  {
   "cell_type": "code",
   "execution_count": 124,
   "id": "9ccd638e",
   "metadata": {},
   "outputs": [],
   "source": [
    "def process_files(file_list=None, max_rows=None):\n",
    "    if file_list:\n",
    "        chunk_files = [f for f in file_list if f in os.listdir(INPUT_DIR) and f.endswith('.parquet')]\n",
    "    else:\n",
    "        chunk_files = [f for f in os.listdir(INPUT_DIR) if f.endswith('.parquet')]\n",
    "    \n",
    "    total_chunks = len(chunk_files)\n",
    "    for i, file in enumerate(chunk_files, 1):\n",
    "        file_path = os.path.join(INPUT_DIR, file)\n",
    "        process_chunk(file_path, max_rows)\n"
   ]
  },
  {
   "cell_type": "code",
   "execution_count": 125,
   "id": "dd7d7493",
   "metadata": {},
   "outputs": [
    {
     "name": "stderr",
     "output_type": "stream",
     "text": [
      "[21:22:41] SMILES Parse Error: unclosed ring for input: 'CN1C(CC2=C3C14CCN(C(C3(CC2)O)CC(=O)NC5=CC=CC=C5)CC6CC6)CC(=O)NC7=CC=CC=C7'\n"
     ]
    },
    {
     "name": "stdout",
     "output_type": "stream",
     "text": [
      "Processed molecule 100/1000 in molecule_fingerprints_part_0.parquet\n",
      "Processed molecule 200/1000 in molecule_fingerprints_part_0.parquet\n"
     ]
    },
    {
     "name": "stderr",
     "output_type": "stream",
     "text": [
      "[21:23:31] SMILES Parse Error: unclosed ring for input: 'C1CCC2=NC3=C(C=C(C=C3)NC(=O)CCCCCCCCCCCCCCCCCCCCCCCCCC2)C(=C2C1)N'\n"
     ]
    },
    {
     "name": "stdout",
     "output_type": "stream",
     "text": [
      "Processed molecule 300/1000 in molecule_fingerprints_part_0.parquet\n",
      "Processed molecule 400/1000 in molecule_fingerprints_part_0.parquet\n",
      "Processed molecule 500/1000 in molecule_fingerprints_part_0.parquet\n",
      "Processed molecule 600/1000 in molecule_fingerprints_part_0.parquet\n",
      "Processed molecule 700/1000 in molecule_fingerprints_part_0.parquet\n"
     ]
    },
    {
     "name": "stderr",
     "output_type": "stream",
     "text": [
      "[21:25:32] SMILES Parse Error: unclosed ring for input: 'C1C2CC3CC1CC(C2)(C3)C4=CC=CC=C4C5C(C6=CC=CC=C6C57CC8CC(C7)CC(C8)C7)N'\n"
     ]
    },
    {
     "name": "stdout",
     "output_type": "stream",
     "text": [
      "Processed molecule 800/1000 in molecule_fingerprints_part_0.parquet\n",
      "Processed molecule 900/1000 in molecule_fingerprints_part_0.parquet\n"
     ]
    },
    {
     "name": "stderr",
     "output_type": "stream",
     "text": [
      "[21:26:13] SMILES Parse Error: unclosed ring for input: 'CN1CCC2=CC3=C(C4=C2C1CC5=C4C6=C(C=C5)CC7C8=C(C=CC9=C8OCO9)CCN7C)OCO3'\n",
      "[21:26:14] SMILES Parse Error: unclosed ring for input: 'C123C4(C5(C(O2)(CC(C1(C(/C(=N/OC)/C3(C(C(C4=O)(C(C)C)O)O)C)OC(=O)c1[nH]ccc1)O)(C4(O)C)C)O)C)O'\n"
     ]
    },
    {
     "name": "stdout",
     "output_type": "stream",
     "text": [
      "Processed molecule 1000/1000 in molecule_fingerprints_part_0.parquet\n",
      "Finished processing molecule_fingerprints_part_0.parquet\n"
     ]
    }
   ],
   "source": [
    "process_files(file_list=parquet_files, max_rows=1000)"
   ]
  }
 ],
 "metadata": {
  "kernelspec": {
   "display_name": "Python 3 (ipykernel)",
   "language": "python",
   "name": "python3"
  },
  "language_info": {
   "codemirror_mode": {
    "name": "ipython",
    "version": 3
   },
   "file_extension": ".py",
   "mimetype": "text/x-python",
   "name": "python",
   "nbconvert_exporter": "python",
   "pygments_lexer": "ipython3",
   "version": "3.11.10"
  }
 },
 "nbformat": 4,
 "nbformat_minor": 5
}
