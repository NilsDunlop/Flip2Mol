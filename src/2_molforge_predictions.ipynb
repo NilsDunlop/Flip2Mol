{
 "cells": [
  {
   "cell_type": "markdown",
   "id": "be490bcf9d064755",
   "metadata": {
    "collapsed": false,
    "jupyter": {
     "outputs_hidden": false
    }
   },
   "source": [
    "# Project: Decoding Molecules From Fingerprints.\n",
    "## Group Members:\n",
    "### Qi Chen, e-mail: gusqichr@student.gu.se\n",
    "### Nils Dunlop, e-mail: gusdunlni@student.gu.se\n",
    "### Francisco Alejandro Erazo Piza, e-mail: guserafr@student.gu.se\n",
    "***"
   ]
  },
  {
   "cell_type": "code",
   "execution_count": 1,
   "id": "db70a18ceb7f41c7",
   "metadata": {
    "ExecuteTime": {
     "end_time": "2024-09-16T15:33:57.204683500Z",
     "start_time": "2024-09-16T15:33:57.160085300Z"
    },
    "collapsed": false,
    "jupyter": {
     "outputs_hidden": false
    }
   },
   "outputs": [],
   "source": [
    "import os\n",
    "import pandas as pd\n",
    "import subprocess\n",
    "from concurrent.futures import ThreadPoolExecutor, as_completed\n",
    "from rdkit import Chem"
   ]
  },
  {
   "cell_type": "code",
   "execution_count": 2,
   "id": "9b991ca0",
   "metadata": {},
   "outputs": [
    {
     "name": "stdout",
     "output_type": "stream",
     "text": [
      "CUDA available: True\n",
      "CUDA device count: 1\n",
      "CUDA device name: NVIDIA GeForce RTX 4090\n"
     ]
    }
   ],
   "source": [
    "import torch\n",
    "print(f\"CUDA available: {torch.cuda.is_available()}\")\n",
    "print(f\"CUDA device count: {torch.cuda.device_count()}\")\n",
    "if torch.cuda.is_available():\n",
    "    print(f\"CUDA device name: {torch.cuda.get_device_name(0)}\")"
   ]
  },
  {
   "cell_type": "markdown",
   "id": "8e57c937",
   "metadata": {},
   "source": [
    "### Define directories\n",
    "***"
   ]
  },
  {
   "cell_type": "code",
   "execution_count": 3,
   "id": "91bbdfc7",
   "metadata": {},
   "outputs": [],
   "source": [
    "# Set user directory\n",
    "USER_DIR = os.path.expanduser('~')\n",
    "\n",
    "# Set the project root directory\n",
    "PROJECT_ROOT = os.path.abspath(os.path.join(os.getcwd(), '..'))\n",
    "\n",
    "# Define the input and output directories\n",
    "INPUT_DIR = os.path.join(PROJECT_ROOT, 'data/chunks')\n",
    "OUTPUT_DIR = os.path.join(PROJECT_ROOT, 'data/processed_chunks')\n",
    "FINAL_OUTPUT = os.path.join(PROJECT_ROOT, 'data/final_processed_data.parquet')\n",
    "\n",
    "# Ensure output directory exists\n",
    "os.makedirs(OUTPUT_DIR, exist_ok=True)\n",
    "\n",
    "# Path to the conda environment to MolForge\n",
    "CONDA_ENV_PATH = os.path.join(USER_DIR, 'conda/envs/molforge/bin/python')\n",
    "MOLFORGE_SCRIPT_PATH = os.path.join(PROJECT_ROOT, 'MolForge/predict.py')\n",
    "\n",
    "# Define the number of workers\n",
    "WORKERS = 15"
   ]
  },
  {
   "cell_type": "markdown",
   "id": "4596c3bf",
   "metadata": {},
   "source": [
    "### Check parquet files\n",
    "***"
   ]
  },
  {
   "cell_type": "code",
   "execution_count": 4,
   "id": "d681a079",
   "metadata": {},
   "outputs": [
    {
     "name": "stdout",
     "output_type": "stream",
     "text": [
      "molecule_fingerprints_part_6.parquet shape: (182680, 4)\n",
      "molecule_fingerprints_part_1.parquet shape: (200000, 4)\n",
      "molecule_fingerprints_part_4.parquet shape: (200000, 4)\n",
      "molecule_fingerprints_part_3.parquet shape: (200000, 4)\n",
      "molecule_fingerprints_part_2.parquet shape: (200000, 4)\n",
      "molecule_fingerprints_part_0.parquet shape: (200000, 4)\n",
      "molecule_fingerprints_part_5.parquet shape: (200000, 4)\n"
     ]
    }
   ],
   "source": [
    "for file in os.listdir(INPUT_DIR):\n",
    "    if file.endswith('.parquet'):\n",
    "        df = pd.read_parquet(os.path.join(INPUT_DIR, file))\n",
    "        print(f\"{file} shape: {df.shape}\")\n"
   ]
  },
  {
   "cell_type": "markdown",
   "id": "8c2e27e0",
   "metadata": {},
   "source": [
    "#### Compute MolForge Predictions\n",
    "***\n"
   ]
  },
  {
   "cell_type": "code",
   "execution_count": 5,
   "id": "1095b9f0",
   "metadata": {},
   "outputs": [],
   "source": [
    "def convert_spaced_smiles(spaced_smiles):\n",
    "    compact_smiles = spaced_smiles.replace(\" \", \"\")\n",
    "    mol = Chem.MolFromSmiles(compact_smiles)\n",
    "    if mol is not None:\n",
    "        return Chem.MolToSmiles(mol, isomericSmiles=False)\n",
    "    else:\n",
    "        return \"Invalid SMILES string\""
   ]
  },
  {
   "cell_type": "code",
   "execution_count": 6,
   "id": "bd7b2c4e",
   "metadata": {},
   "outputs": [],
   "source": [
    "def run_molforge(fp_input):\n",
    "    # Get the full path to the Python interpreter you use in the terminal\n",
    "    command = f\"{CONDA_ENV_PATH} {MOLFORGE_SCRIPT_PATH} --fp='ECFP4' --model_type='smiles' --input='{fp_input}'\"\n",
    "    \n",
    "    # Run the command and capture output, ensuring environment variables are inherited\n",
    "    result = subprocess.run(command, shell=True, capture_output=True, text=True, cwd=os.path.dirname(MOLFORGE_SCRIPT_PATH), env=os.environ.copy(), timeout=300)\n",
    "    \n",
    "    # Process the result\n",
    "    spaced_smiles = None\n",
    "    device_used = None\n",
    "    output_lines = result.stdout.splitlines()\n",
    "    \n",
    "    for line in output_lines:\n",
    "        if \"Result:\" in line:\n",
    "            spaced_smiles = line.split(\"Result:\")[1].strip()\n",
    "        if \"rank :\" in line:\n",
    "            device_used = line.split(\"rank :\")[1].strip()\n",
    "            \n",
    "    # Now convert the spaced SMILES to compact SMILES\n",
    "    if spaced_smiles:\n",
    "        compact_smiles = convert_spaced_smiles(spaced_smiles)\n",
    "    else:\n",
    "        compact_smiles = \"No Result\"\n",
    "\n",
    "    return compact_smiles, device_used"
   ]
  },
  {
   "cell_type": "code",
   "execution_count": 7,
   "id": "ad0ea0e1",
   "metadata": {},
   "outputs": [
    {
     "data": {
      "text/plain": [
       "'\\ndef run_molforge(fp_input):\\n    command = f\"{CONDA_ENV_PATH} {MOLFORGE_SCRIPT_PATH} --fp=\\'ECFP4\\' --model_type=\\'smiles\\' --input=\\'{fp_input}\\'\"\\n    try:\\n        result = subprocess.run(command, shell=True, capture_output=True, text=True, cwd=os.path.dirname(MOLFORGE_SCRIPT_PATH), env=os.environ.copy(), timeout=300)\\n        print(f\"Command output: {result.stdout}\")\\n        print(f\"Command error: {result.stderr}\")\\n        if result.returncode != 0:\\n            print(f\"Command failed with return code {result.returncode}\")\\n            return \"Error\", \"None\"\\n    except subprocess.TimeoutExpired:\\n        print(f\"Timeout occurred for input: {fp_input}\")\\n        return \"Timeout\", \"None\"\\n    except Exception as e:\\n        print(f\"Unexpected error: {e}\")\\n        return \"Error\", \"None\"\\n    \\n    spaced_smiles = None\\n    device_used = None\\n    output_lines = result.stdout.splitlines()\\n    \\n    for line in output_lines:\\n        if \"Result:\" in line:\\n            spaced_smiles = line.split(\"Result:\")[1].strip()\\n        if \"rank :\" in line:\\n            device_used = line.split(\"rank :\")[1].strip()\\n    \\n    if spaced_smiles:\\n        compact_smiles = convert_spaced_smiles(spaced_smiles)\\n    else:\\n        compact_smiles = \"No Result\"\\n\\n    return compact_smiles, device_used\\n'"
      ]
     },
     "execution_count": 7,
     "metadata": {},
     "output_type": "execute_result"
    }
   ],
   "source": [
    "'''\n",
    "def run_molforge(fp_input):\n",
    "    command = f\"{CONDA_ENV_PATH} {MOLFORGE_SCRIPT_PATH} --fp='ECFP4' --model_type='smiles' --input='{fp_input}'\"\n",
    "    try:\n",
    "        result = subprocess.run(command, shell=True, capture_output=True, text=True, cwd=os.path.dirname(MOLFORGE_SCRIPT_PATH), env=os.environ.copy(), timeout=300)\n",
    "        print(f\"Command output: {result.stdout}\")\n",
    "        print(f\"Command error: {result.stderr}\")\n",
    "        if result.returncode != 0:\n",
    "            print(f\"Command failed with return code {result.returncode}\")\n",
    "            return \"Error\", \"None\"\n",
    "    except subprocess.TimeoutExpired:\n",
    "        print(f\"Timeout occurred for input: {fp_input}\")\n",
    "        return \"Timeout\", \"None\"\n",
    "    except Exception as e:\n",
    "        print(f\"Unexpected error: {e}\")\n",
    "        return \"Error\", \"None\"\n",
    "    \n",
    "    spaced_smiles = None\n",
    "    device_used = None\n",
    "    output_lines = result.stdout.splitlines()\n",
    "    \n",
    "    for line in output_lines:\n",
    "        if \"Result:\" in line:\n",
    "            spaced_smiles = line.split(\"Result:\")[1].strip()\n",
    "        if \"rank :\" in line:\n",
    "            device_used = line.split(\"rank :\")[1].strip()\n",
    "    \n",
    "    if spaced_smiles:\n",
    "        compact_smiles = convert_spaced_smiles(spaced_smiles)\n",
    "    else:\n",
    "        compact_smiles = \"No Result\"\n",
    "\n",
    "    return compact_smiles, device_used\n",
    "'''"
   ]
  },
  {
   "cell_type": "code",
   "execution_count": 8,
   "id": "0f00e114",
   "metadata": {},
   "outputs": [],
   "source": [
    "def process_row(row):\n",
    "    fp_input = row['SparseFingerprintBits']\n",
    "    \n",
    "    # Run MolForge and get the converted SMILES and device information\n",
    "    compact_smiles, device_used = run_molforge(fp_input)\n",
    "    \n",
    "    return compact_smiles, device_used"
   ]
  },
  {
   "cell_type": "code",
   "execution_count": 9,
   "id": "fe937c76",
   "metadata": {},
   "outputs": [],
   "source": [
    "def process_chunk(file_path):\n",
    "    chunk_df = pd.read_parquet(file_path)\n",
    "    total = len(chunk_df)\n",
    "    with ThreadPoolExecutor(max_workers=WORKERS) as executor:\n",
    "        futures = {executor.submit(process_row, row): idx for idx, row in chunk_df.iterrows()}\n",
    "        \n",
    "        for i, future in enumerate(as_completed(futures)):\n",
    "            idx = futures[future]\n",
    "            try:\n",
    "                result, device_used = future.result()\n",
    "                chunk_df.at[idx, 'Converted_SMILES'] = result\n",
    "                chunk_df.at[idx, 'Device_Used'] = device_used\n",
    "                if (i + 1) % 100 == 0 or (i + 1) == total:\n",
    "                    print(f\"Processed molecule {i + 1}/{total} in {os.path.basename(file_path)}\")\n",
    "            except Exception as e:\n",
    "                print(f\"Error processing molecule {idx + 1} in {os.path.basename(file_path)}: {e}\")\n",
    "                chunk_df.at[idx, 'Converted_SMILES'] = 'Error'\n",
    "                chunk_df.at[idx, 'Device_Used'] = 'Error'\n",
    "    \n",
    "    output_file = os.path.join(OUTPUT_DIR, f\"processed_{os.path.basename(file_path)}\")\n",
    "    chunk_df.to_parquet(output_file, index=False)\n",
    "    print(f\"Finished processing {os.path.basename(file_path)}\")"
   ]
  },
  {
   "cell_type": "code",
   "execution_count": 10,
   "id": "9ccd638e",
   "metadata": {},
   "outputs": [
    {
     "name": "stdout",
     "output_type": "stream",
     "text": [
      "Processing chunk 1/7: molecule_fingerprints_part_6.parquet\n"
     ]
    },
    {
     "name": "stderr",
     "output_type": "stream",
     "text": [
      "[08:26:32] Can't kekulize mol.  Unkekulized atoms: 1 2 3 4 5 6 7\n"
     ]
    },
    {
     "name": "stdout",
     "output_type": "stream",
     "text": [
      "Processed molecule 100/182680 in molecule_fingerprints_part_6.parquet\n"
     ]
    },
    {
     "name": "stderr",
     "output_type": "stream",
     "text": [
      "[08:27:17] Can't kekulize mol.  Unkekulized atoms: 18 19 20 24 25 26 27\n"
     ]
    },
    {
     "name": "stdout",
     "output_type": "stream",
     "text": [
      "Processed molecule 200/182680 in molecule_fingerprints_part_6.parquet\n"
     ]
    },
    {
     "name": "stderr",
     "output_type": "stream",
     "text": [
      "[08:27:44] SMILES Parse Error: unclosed ring for input: 'CCOC(=O)C[C@@]1([C@@H]2CC[C@@H]3[C@H]4[C@@]5(CCC([C@H]([C@@H]5CC[C@@]4([C@@]2(CC[C@@H]1C(C)(C)C(=O)OCC)C)C)OC3)(C)C)CO4)C'\n"
     ]
    },
    {
     "name": "stdout",
     "output_type": "stream",
     "text": [
      "Processed molecule 300/182680 in molecule_fingerprints_part_6.parquet\n",
      "Processed molecule 400/182680 in molecule_fingerprints_part_6.parquet\n"
     ]
    },
    {
     "name": "stderr",
     "output_type": "stream",
     "text": [
      "[08:28:40] SMILES Parse Error: unclosed ring for input: 'C[C@H]1C[C@@H]([C@@H]2[C@@H](C3=C1C(=O)C=C3C)OC(=O)[C@]4([C@H](O4)C)C)OC(=O)[C@]5([C@@H](O5)C)C'\n",
      "[08:28:51] Can't kekulize mol.  Unkekulized atoms: 0 1 3 4 8 9 10\n"
     ]
    },
    {
     "name": "stdout",
     "output_type": "stream",
     "text": [
      "Processed molecule 500/182680 in molecule_fingerprints_part_6.parquet\n"
     ]
    },
    {
     "name": "stderr",
     "output_type": "stream",
     "text": [
      "[08:29:15] Can't kekulize mol.  Unkekulized atoms: 28 29 30 31 32\n"
     ]
    },
    {
     "name": "stdout",
     "output_type": "stream",
     "text": [
      "Processed molecule 600/182680 in molecule_fingerprints_part_6.parquet\n"
     ]
    },
    {
     "name": "stderr",
     "output_type": "stream",
     "text": [
      "[08:30:06] SMILES Parse Error: unclosed ring for input: 'C[C@H]1C(=O)C2=C([C@@]1(C)CO)[C@@H]3CC[C@H]4[C@@](CCC[C@@]4(C3)O)(C)CO'\n"
     ]
    },
    {
     "name": "stdout",
     "output_type": "stream",
     "text": [
      "Processed molecule 700/182680 in molecule_fingerprints_part_6.parquet\n"
     ]
    },
    {
     "name": "stderr",
     "output_type": "stream",
     "text": [
      "[08:30:58] SMILES Parse Error: unclosed ring for input: 'C[C@@H](NC(=O)Nc1cc2[nH]nc3N(CCc2n1)C(C)C)c1ccccc1'\n"
     ]
    },
    {
     "name": "stdout",
     "output_type": "stream",
     "text": [
      "Processed molecule 800/182680 in molecule_fingerprints_part_6.parquet\n"
     ]
    },
    {
     "name": "stderr",
     "output_type": "stream",
     "text": [
      "[08:31:30] SMILES Parse Error: unclosed ring for input: 'C[C@@]12CC[C@@H]3[C@@](C1=O)(CC[C@@H]4[C@@]3(C=CC(=O)OC4(C)C)C)C[C@]56C=C7C(=O)OC([C@@H]8[C@@]7(C5)C=CC(=O)OC8(C)C)(C)C'\n"
     ]
    },
    {
     "name": "stdout",
     "output_type": "stream",
     "text": [
      "Processed molecule 900/182680 in molecule_fingerprints_part_6.parquet\n",
      "Processed molecule 1000/182680 in molecule_fingerprints_part_6.parquet\n",
      "Processed molecule 1100/182680 in molecule_fingerprints_part_6.parquet\n",
      "Processed molecule 1200/182680 in molecule_fingerprints_part_6.parquet\n"
     ]
    },
    {
     "name": "stderr",
     "output_type": "stream",
     "text": [
      "[08:33:23] SMILES Parse Error: unclosed ring for input: 'Cc1ccncc1C(=O)N1C[C@@H]2C[C@H](CN3CC4CCC4)[C@@]2(C1)C(=O)O'\n"
     ]
    },
    {
     "name": "stdout",
     "output_type": "stream",
     "text": [
      "Processed molecule 1300/182680 in molecule_fingerprints_part_6.parquet\n"
     ]
    },
    {
     "name": "stderr",
     "output_type": "stream",
     "text": [
      "[08:34:30] SMILES Parse Error: unclosed ring for input: 'C[C@H](CC/C=C(\\C)/C(=O)O)[C@H]1CC[C@@H]2C1=C[C@H]3C(=C)[C@@H]4CCCC4(CCC(=O)OC3(C)C)C'\n"
     ]
    },
    {
     "name": "stdout",
     "output_type": "stream",
     "text": [
      "Processed molecule 1400/182680 in molecule_fingerprints_part_6.parquet\n",
      "Processed molecule 1500/182680 in molecule_fingerprints_part_6.parquet\n",
      "Processed molecule 1600/182680 in molecule_fingerprints_part_6.parquet\n"
     ]
    },
    {
     "name": "stderr",
     "output_type": "stream",
     "text": [
      "[08:35:51] SMILES Parse Error: unclosed ring for input: 'NC(=O)c1c(N)n(nc1c1ccc(Oc2ccc(Cl)cn2)cc1)C1CCC(CC1)(CC2)C#N'\n"
     ]
    },
    {
     "name": "stdout",
     "output_type": "stream",
     "text": [
      "Processed molecule 1700/182680 in molecule_fingerprints_part_6.parquet\n"
     ]
    },
    {
     "name": "stderr",
     "output_type": "stream",
     "text": [
      "[08:36:24] Can't kekulize mol.  Unkekulized atoms: 1 2 3 4 5\n",
      "[08:36:55] Can't kekulize mol.  Unkekulized atoms: 2 3 4 7 8 12 13\n"
     ]
    },
    {
     "name": "stdout",
     "output_type": "stream",
     "text": [
      "Processed molecule 1800/182680 in molecule_fingerprints_part_6.parquet\n"
     ]
    },
    {
     "name": "stderr",
     "output_type": "stream",
     "text": [
      "[08:37:19] SMILES Parse Error: unclosed ring for input: 'CN1C=C(C=N1)C2=NC3=C(C=NN3C)C4CC(C4)(CC#N)CC#N'\n"
     ]
    },
    {
     "name": "stdout",
     "output_type": "stream",
     "text": [
      "Processed molecule 1900/182680 in molecule_fingerprints_part_6.parquet\n",
      "Processed molecule 2000/182680 in molecule_fingerprints_part_6.parquet\n",
      "Processed molecule 2100/182680 in molecule_fingerprints_part_6.parquet\n"
     ]
    },
    {
     "name": "stderr",
     "output_type": "stream",
     "text": [
      "[08:39:04] Can't kekulize mol.  Unkekulized atoms: 0 1 2 5 7 8 9 10 21 22\n"
     ]
    },
    {
     "name": "stdout",
     "output_type": "stream",
     "text": [
      "Processed molecule 2200/182680 in molecule_fingerprints_part_6.parquet\n"
     ]
    },
    {
     "name": "stderr",
     "output_type": "stream",
     "text": [
      "[08:39:55] Can't kekulize mol.  Unkekulized atoms: 25 26 29\n"
     ]
    },
    {
     "name": "stdout",
     "output_type": "stream",
     "text": [
      "Processed molecule 2300/182680 in molecule_fingerprints_part_6.parquet\n",
      "Processed molecule 2400/182680 in molecule_fingerprints_part_6.parquet\n"
     ]
    },
    {
     "name": "stderr",
     "output_type": "stream",
     "text": [
      "[08:41:06] Can't kekulize mol.  Unkekulized atoms: 0 1 2 3 4 5 6 7 8 9 20 21 22 23 24\n"
     ]
    },
    {
     "name": "stdout",
     "output_type": "stream",
     "text": [
      "Processed molecule 2500/182680 in molecule_fingerprints_part_6.parquet\n"
     ]
    },
    {
     "name": "stderr",
     "output_type": "stream",
     "text": [
      "[08:41:14] SMILES Parse Error: unclosed ring for input: 'CC1=CC=C(C=C1)N2C(=C3C(=N2)C=C4C(=N2)C=C(OC4=O)C)C'\n"
     ]
    },
    {
     "name": "stdout",
     "output_type": "stream",
     "text": [
      "Processed molecule 2600/182680 in molecule_fingerprints_part_6.parquet\n",
      "Processed molecule 2700/182680 in molecule_fingerprints_part_6.parquet\n",
      "Processed molecule 2800/182680 in molecule_fingerprints_part_6.parquet\n",
      "Processed molecule 2900/182680 in molecule_fingerprints_part_6.parquet\n",
      "Processed molecule 3000/182680 in molecule_fingerprints_part_6.parquet\n"
     ]
    }
   ],
   "source": [
    "# Process all chunk files\n",
    "chunk_files = [f for f in os.listdir(INPUT_DIR) if f.endswith('.parquet')]\n",
    "total_chunks = len(chunk_files)\n",
    "for i, file in enumerate(chunk_files, 1):\n",
    "    file_path = os.path.join(INPUT_DIR, file)\n",
    "    print(f\"Processing chunk {i}/{total_chunks}: {file}\")\n",
    "    process_chunk(file_path)\n",
    "    print(f\"Completed chunk {i}/{total_chunks}\")"
   ]
  },
  {
   "cell_type": "code",
   "execution_count": null,
   "id": "0379e214",
   "metadata": {},
   "outputs": [],
   "source": [
    "# Combine all processed files\n",
    "'''\n",
    "processed_files = [f for f in os.listdir(OUTPUT_DIR) if f.startswith('processed_')]\n",
    "combined_df = pd.concat([pd.read_parquet(os.path.join(OUTPUT_DIR, f)) for f in processed_files], ignore_index=True)\n",
    "'''"
   ]
  },
  {
   "cell_type": "code",
   "execution_count": null,
   "id": "aaea9fc2",
   "metadata": {},
   "outputs": [],
   "source": [
    "# Save the final combined file\n",
    "#combined_df.to_parquet(FINAL_OUTPUT, index=False)"
   ]
  }
 ],
 "metadata": {
  "kernelspec": {
   "display_name": "Python 3 (ipykernel)",
   "language": "python",
   "name": "python3"
  },
  "language_info": {
   "codemirror_mode": {
    "name": "ipython",
    "version": 3
   },
   "file_extension": ".py",
   "mimetype": "text/x-python",
   "name": "python",
   "nbconvert_exporter": "python",
   "pygments_lexer": "ipython3",
   "version": "3.11.10"
  }
 },
 "nbformat": 4,
 "nbformat_minor": 5
}
