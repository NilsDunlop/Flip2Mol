{
 "cells": [
  {
   "cell_type": "markdown",
   "id": "be490bcf9d064755",
   "metadata": {
    "collapsed": false,
    "jupyter": {
     "outputs_hidden": false
    }
   },
   "source": [
    "# Project: Decoding Molecules From Fingerprints.\n",
    "## Group Members:\n",
    "### Qi Chen, e-mail: gusqichr@student.gu.se\n",
    "### Nils Dunlop, e-mail: gusdunlni@student.gu.se\n",
    "### Francisco Alejandro Erazo Piza, e-mail: guserafr@student.gu.se\n",
    "***"
   ]
  },
  {
   "cell_type": "code",
   "execution_count": 1,
   "id": "db70a18ceb7f41c7",
   "metadata": {
    "ExecuteTime": {
     "end_time": "2024-09-16T15:33:57.204683500Z",
     "start_time": "2024-09-16T15:33:57.160085300Z"
    },
    "collapsed": false,
    "jupyter": {
     "outputs_hidden": false
    }
   },
   "outputs": [],
   "source": [
    "import os\n",
    "import pandas as pd\n",
    "import subprocess\n",
    "from concurrent.futures import ThreadPoolExecutor, as_completed\n",
    "from rdkit import Chem"
   ]
  },
  {
   "cell_type": "markdown",
   "id": "8e57c937",
   "metadata": {},
   "source": [
    "### Define directories\n",
    "***"
   ]
  },
  {
   "cell_type": "code",
   "execution_count": 2,
   "id": "91bbdfc7",
   "metadata": {},
   "outputs": [],
   "source": [
    "# Set user directory\n",
    "USER_DIR = os.path.expanduser('~')\n",
    "\n",
    "# Set the project root directory\n",
    "PROJECT_ROOT = os.path.abspath(os.path.join(os.getcwd(), '..'))\n",
    "\n",
    "# Define the input and output directories\n",
    "INPUT_DIR = os.path.join(PROJECT_ROOT, 'data/chunks')\n",
    "OUTPUT_DIR = os.path.join(PROJECT_ROOT, 'data/processed_chunks')\n",
    "FINAL_OUTPUT = os.path.join(PROJECT_ROOT, 'data/final_processed_data.parquet')\n",
    "\n",
    "# Ensure output directory exists\n",
    "os.makedirs(OUTPUT_DIR, exist_ok=True)\n",
    "\n",
    "# Path to the conda environment to MolForge\n",
    "CONDA_ENV_PATH = os.path.join(USER_DIR, 'conda/envs/molforge/bin/python')\n",
    "MOLFORGE_DIR = os.path.join(USER_DIR, 'MolForge')\n",
    "MOLFORGE_SCRIPT_PATH = os.path.join(USER_DIR, 'MolForge/predict.py')\n",
    "\n",
    "# Define the number of workers\n",
    "WORKERS = 16"
   ]
  },
  {
   "cell_type": "code",
   "execution_count": 3,
   "id": "c46e0475",
   "metadata": {},
   "outputs": [
    {
     "name": "stdout",
     "output_type": "stream",
     "text": [
      "/home/student/Fingerprints-To-Smiles\n",
      "/home/student/Fingerprints-To-Smiles/data/chunks\n",
      "/home/student/Fingerprints-To-Smiles/data/processed_chunks\n",
      "/home/student/Fingerprints-To-Smiles/data/final_processed_data.parquet\n",
      "/home/student/conda/envs/molforge/bin/python\n",
      "/home/student/MolForge\n",
      "/home/student/MolForge/predict.py\n"
     ]
    }
   ],
   "source": [
    "print(PROJECT_ROOT)\n",
    "print(INPUT_DIR)\n",
    "print(OUTPUT_DIR)\n",
    "print(FINAL_OUTPUT)\n",
    "print(CONDA_ENV_PATH)\n",
    "print(MOLFORGE_DIR)\n",
    "print(MOLFORGE_SCRIPT_PATH)"
   ]
  },
  {
   "cell_type": "markdown",
   "id": "4596c3bf",
   "metadata": {},
   "source": [
    "### Check parquet files\n",
    "***"
   ]
  },
  {
   "cell_type": "code",
   "execution_count": 4,
   "id": "d681a079",
   "metadata": {},
   "outputs": [
    {
     "name": "stdout",
     "output_type": "stream",
     "text": [
      "molecule_fingerprints_part_16.parquet shape: (50000, 4)\n",
      "molecule_fingerprints_part_21.parquet shape: (50000, 4)\n",
      "molecule_fingerprints_part_25.parquet shape: (50000, 4)\n",
      "molecule_fingerprints_part_27.parquet shape: (32680, 4)\n",
      "molecule_fingerprints_part_11.parquet shape: (50000, 4)\n",
      "molecule_fingerprints_part_8.parquet shape: (50000, 4)\n",
      "molecule_fingerprints_part_13.parquet shape: (50000, 4)\n",
      "molecule_fingerprints_part_0.parquet shape: (50000, 4)\n",
      "molecule_fingerprints_part_15.parquet shape: (50000, 4)\n",
      "molecule_fingerprints_part_18.parquet shape: (50000, 4)\n",
      "molecule_fingerprints_part_9.parquet shape: (50000, 4)\n",
      "molecule_fingerprints_part_6.parquet shape: (50000, 4)\n",
      "molecule_fingerprints_part_26.parquet shape: (50000, 4)\n",
      "molecule_fingerprints_part_24.parquet shape: (50000, 4)\n",
      "molecule_fingerprints_part_20.parquet shape: (50000, 4)\n",
      "molecule_fingerprints_part_10.parquet shape: (50000, 4)\n",
      "molecule_fingerprints_part_23.parquet shape: (50000, 4)\n",
      "molecule_fingerprints_part_22.parquet shape: (50000, 4)\n",
      "molecule_fingerprints_part_12.parquet shape: (50000, 4)\n",
      "molecule_fingerprints_part_5.parquet shape: (50000, 4)\n",
      "molecule_fingerprints_part_19.parquet shape: (50000, 4)\n",
      "molecule_fingerprints_part_4.parquet shape: (50000, 4)\n",
      "molecule_fingerprints_part_3.parquet shape: (50000, 4)\n",
      "molecule_fingerprints_part_17.parquet shape: (50000, 4)\n",
      "molecule_fingerprints_part_14.parquet shape: (50000, 4)\n",
      "molecule_fingerprints_part_1.parquet shape: (50000, 4)\n",
      "molecule_fingerprints_part_7.parquet shape: (50000, 4)\n",
      "molecule_fingerprints_part_2.parquet shape: (50000, 4)\n"
     ]
    }
   ],
   "source": [
    "\n",
    "for file in os.listdir(INPUT_DIR):\n",
    "    if file.endswith('.parquet'):\n",
    "        df = pd.read_parquet(os.path.join(INPUT_DIR, file))\n",
    "        print(f\"{file} shape: {df.shape}\")"
   ]
  },
  {
   "cell_type": "code",
   "execution_count": 5,
   "id": "c68cfa05",
   "metadata": {},
   "outputs": [],
   "source": [
    "parquet_files = ['molecule_fingerprints_part_0.parquet', \n",
    "                 'molecule_fingerprints_part_1.parquet', \n",
    "                 'molecule_fingerprints_part_2.parquet'\n",
    "                 ]"
   ]
  },
  {
   "cell_type": "markdown",
   "id": "8c2e27e0",
   "metadata": {},
   "source": [
    "#### Compute MolForge Predictions\n",
    "***\n"
   ]
  },
  {
   "cell_type": "code",
   "execution_count": 6,
   "id": "1095b9f0",
   "metadata": {},
   "outputs": [],
   "source": [
    "def convert_spaced_smiles(spaced_smiles):\n",
    "    compact_smiles = spaced_smiles.replace(\" \", \"\")\n",
    "    mol = Chem.MolFromSmiles(compact_smiles)\n",
    "    if mol is not None:\n",
    "        return Chem.MolToSmiles(mol, isomericSmiles=False)\n",
    "    else:\n",
    "        return \"Invalid SMILES string\""
   ]
  },
  {
   "cell_type": "code",
   "execution_count": 7,
   "id": "bd7b2c4e",
   "metadata": {},
   "outputs": [],
   "source": [
    "def run_molforge(fp_input):\n",
    "    # Construct the command\n",
    "    command = [\n",
    "        CONDA_ENV_PATH,\n",
    "        MOLFORGE_SCRIPT_PATH,\n",
    "        \"--fp=ECFP4\",\n",
    "        \"--model_type=smiles\",\n",
    "        f\"--input={fp_input}\"\n",
    "    ]\n",
    "    \n",
    "    # Run the command and capture output\n",
    "    try:\n",
    "        result = subprocess.run(\n",
    "            command,\n",
    "            capture_output=True,\n",
    "            text=True,\n",
    "            check=True,\n",
    "            cwd=MOLFORGE_DIR,\n",
    "            env=os.environ.copy()\n",
    "        )\n",
    "    except subprocess.CalledProcessError as e:\n",
    "        print(f\"Error running MolForge: {e}\")\n",
    "        print(f\"Error output: {e.stderr}\")\n",
    "        return \"Error\", \"Error\"\n",
    "    \n",
    "    # Process the result\n",
    "    spaced_smiles = None\n",
    "    device_used = None\n",
    "    output_lines = result.stdout.splitlines()\n",
    "    \n",
    "    for line in output_lines:\n",
    "        if \"Result:\" in line:\n",
    "            spaced_smiles = line.split(\"Result:\")[1].strip()\n",
    "        if \"rank :\" in line:\n",
    "            device_used = line.split(\"rank :\")[1].strip()\n",
    "    \n",
    "    # Convert the spaced SMILES to compact SMILES\n",
    "    if spaced_smiles:\n",
    "        compact_smiles = convert_spaced_smiles(spaced_smiles)\n",
    "    else:\n",
    "        compact_smiles = \"No Result\"\n",
    "\n",
    "    return compact_smiles, device_used"
   ]
  },
  {
   "cell_type": "code",
   "execution_count": 8,
   "id": "0f00e114",
   "metadata": {},
   "outputs": [],
   "source": [
    "def process_row(row):\n",
    "    fp_input = row['SparseFingerprintBits']\n",
    "    \n",
    "    # Run MolForge and get the converted SMILES and device information\n",
    "    compact_smiles, device_used = run_molforge(fp_input)\n",
    "    \n",
    "    return compact_smiles, device_used"
   ]
  },
  {
   "cell_type": "code",
   "execution_count": 9,
   "id": "fe937c76",
   "metadata": {},
   "outputs": [],
   "source": [
    "def process_chunk(file_path, max_rows=None):\n",
    "    chunk_df = pd.read_parquet(file_path)\n",
    "    if max_rows:\n",
    "        chunk_df = chunk_df.head(max_rows)\n",
    "    \n",
    "    total = len(chunk_df)\n",
    "    with ThreadPoolExecutor(max_workers=WORKERS) as executor:\n",
    "        futures = {executor.submit(run_molforge, row['SparseFingerprintBits']): idx for idx, row in chunk_df.iterrows()}\n",
    "        \n",
    "        for i, future in enumerate(as_completed(futures)):\n",
    "            idx = futures[future]\n",
    "            result, device_used = future.result()\n",
    "            chunk_df.at[idx, 'Converted_SMILES'] = result\n",
    "            chunk_df.at[idx, 'Device_Used'] = device_used\n",
    "            if (i + 1) % 100 == 0 or (i + 1) == total:\n",
    "                print(f\"Processed molecule {i + 1}/{total} in {os.path.basename(file_path)}\")\n",
    "    \n",
    "    output_file = os.path.join(OUTPUT_DIR, f\"processed_{os.path.basename(file_path)}\")\n",
    "    chunk_df.to_parquet(output_file, index=False)\n",
    "    print(f\"Finished processing {os.path.basename(file_path)}\")"
   ]
  },
  {
   "cell_type": "code",
   "execution_count": 10,
   "id": "9ccd638e",
   "metadata": {},
   "outputs": [],
   "source": [
    "def process_files(file_list=None, max_rows=None):\n",
    "    if file_list:\n",
    "        chunk_files = [f for f in file_list if f in os.listdir(INPUT_DIR) and f.endswith('.parquet')]\n",
    "    else:\n",
    "        chunk_files = [f for f in os.listdir(INPUT_DIR) if f.endswith('.parquet')]\n",
    "    \n",
    "    total_chunks = len(chunk_files)\n",
    "    for i, file in enumerate(chunk_files, 1):\n",
    "        file_path = os.path.join(INPUT_DIR, file)\n",
    "        process_chunk(file_path, max_rows)\n"
   ]
  },
  {
   "cell_type": "code",
   "execution_count": 11,
   "id": "dd7d7493",
   "metadata": {},
   "outputs": [
    {
     "name": "stderr",
     "output_type": "stream",
     "text": [
      "[22:01:08] SMILES Parse Error: unclosed ring for input: 'CN1C(CC2=C3C14CCN(C(C3(CC2)O)CC(=O)NC5=CC=CC=C5)CC6CC6)CC(=O)NC7=CC=CC=C7'\n"
     ]
    },
    {
     "name": "stdout",
     "output_type": "stream",
     "text": [
      "Processed molecule 100/50000 in molecule_fingerprints_part_0.parquet\n",
      "Processed molecule 200/50000 in molecule_fingerprints_part_0.parquet\n"
     ]
    },
    {
     "name": "stderr",
     "output_type": "stream",
     "text": [
      "[22:01:59] SMILES Parse Error: unclosed ring for input: 'C1CCC2=NC3=C(C=C(C=C3)NC(=O)CCCCCCCCCCCCCCCCCCCCCCCCCC2)C(=C2C1)N'\n"
     ]
    },
    {
     "name": "stdout",
     "output_type": "stream",
     "text": [
      "Processed molecule 300/50000 in molecule_fingerprints_part_0.parquet\n",
      "Processed molecule 400/50000 in molecule_fingerprints_part_0.parquet\n",
      "Processed molecule 500/50000 in molecule_fingerprints_part_0.parquet\n",
      "Processed molecule 600/50000 in molecule_fingerprints_part_0.parquet\n",
      "Processed molecule 700/50000 in molecule_fingerprints_part_0.parquet\n"
     ]
    },
    {
     "name": "stderr",
     "output_type": "stream",
     "text": [
      "[22:04:08] SMILES Parse Error: unclosed ring for input: 'C1C2CC3CC1CC(C2)(C3)C4=CC=CC=C4C5C(C6=CC=CC=C6C57CC8CC(C7)CC(C8)C7)N'\n"
     ]
    },
    {
     "name": "stdout",
     "output_type": "stream",
     "text": [
      "Processed molecule 800/50000 in molecule_fingerprints_part_0.parquet\n",
      "Processed molecule 900/50000 in molecule_fingerprints_part_0.parquet\n"
     ]
    },
    {
     "name": "stderr",
     "output_type": "stream",
     "text": [
      "[22:04:52] SMILES Parse Error: unclosed ring for input: 'CN1CCC2=CC3=C(C4=C2C1CC5=C4C6=C(C=C5)CC7C8=C(C=CC9=C8OCO9)CCN7C)OCO3'\n",
      "[22:04:53] SMILES Parse Error: unclosed ring for input: 'C123C4(C5(C(O2)(CC(C1(C(/C(=N/OC)/C3(C(C(C4=O)(C(C)C)O)O)C)OC(=O)c1[nH]ccc1)O)(C4(O)C)C)O)C)O'\n"
     ]
    },
    {
     "name": "stdout",
     "output_type": "stream",
     "text": [
      "Processed molecule 1000/50000 in molecule_fingerprints_part_0.parquet\n",
      "Processed molecule 1100/50000 in molecule_fingerprints_part_0.parquet\n"
     ]
    },
    {
     "name": "stderr",
     "output_type": "stream",
     "text": [
      "[22:05:47] Can't kekulize mol.  Unkekulized atoms: 6 8 9\n"
     ]
    },
    {
     "name": "stdout",
     "output_type": "stream",
     "text": [
      "Processed molecule 1200/50000 in molecule_fingerprints_part_0.parquet\n",
      "Processed molecule 1300/50000 in molecule_fingerprints_part_0.parquet\n"
     ]
    },
    {
     "name": "stderr",
     "output_type": "stream",
     "text": [
      "[22:06:26] SMILES Parse Error: unclosed ring for input: 'COC1=CC=C(C=C1)CN2CCCC3(C2=O)C4=C(N(C(=O)C=C4)CC5=CC=CC=C5)O'\n"
     ]
    },
    {
     "name": "stdout",
     "output_type": "stream",
     "text": [
      "Processed molecule 1400/50000 in molecule_fingerprints_part_0.parquet\n",
      "Processed molecule 1500/50000 in molecule_fingerprints_part_0.parquet\n",
      "Processed molecule 1600/50000 in molecule_fingerprints_part_0.parquet\n"
     ]
    },
    {
     "name": "stderr",
     "output_type": "stream",
     "text": [
      "[22:07:50] SMILES Parse Error: unclosed ring for input: 'CC(=CCC/C(=C/CNCCN1C2C3CC4C2C5C(C3C41)C6(C7C8CC9C7C(C6C5C9C8N6C)O)O)/C)C'\n"
     ]
    },
    {
     "name": "stdout",
     "output_type": "stream",
     "text": [
      "Processed molecule 1700/50000 in molecule_fingerprints_part_0.parquet\n",
      "Processed molecule 1800/50000 in molecule_fingerprints_part_0.parquet\n"
     ]
    },
    {
     "name": "stderr",
     "output_type": "stream",
     "text": [
      "[22:08:23] SMILES Parse Error: unclosed ring for input: 'C1CC1CN2CC[C@]34[C@@H]5C(C6(CC3[C@H]2CC7=C4C(=C(C=C7)O)O5)O)C(=O)NC8=CC=CC=C8'\n",
      "[22:08:32] SMILES Parse Error: unclosed ring for input: 'CCC1CN=C(N)N2C(=NC32c2cc(ccc2C3)c2cc(F)cc(Cl)c2)N'\n"
     ]
    },
    {
     "name": "stdout",
     "output_type": "stream",
     "text": [
      "Processed molecule 1900/50000 in molecule_fingerprints_part_0.parquet\n"
     ]
    },
    {
     "name": "stderr",
     "output_type": "stream",
     "text": [
      "[22:08:57] SMILES Parse Error: unclosed ring for input: 'C1C(C2=C(C(=O)O)N(C=N2)CCC3=CC(=CC=C3)CC(=O)O)O'\n"
     ]
    },
    {
     "name": "stdout",
     "output_type": "stream",
     "text": [
      "Processed molecule 2000/50000 in molecule_fingerprints_part_0.parquet\n"
     ]
    },
    {
     "name": "stderr",
     "output_type": "stream",
     "text": [
      "[22:09:10] SMILES Parse Error: unclosed ring for input: 'CC(C)C1C2C(C(OC3=C2C(=O)NC4=CC=CC=C43)(C)C)C5=CC(=C(C=C5)OC)OC(=O)O'\n"
     ]
    },
    {
     "name": "stdout",
     "output_type": "stream",
     "text": [
      "Processed molecule 2100/50000 in molecule_fingerprints_part_0.parquet\n"
     ]
    },
    {
     "name": "stderr",
     "output_type": "stream",
     "text": [
      "[22:09:30] SMILES Parse Error: unclosed ring for input: 'CC1C(OCCO1)C2C(O2)(C3C(O3)(C4(CCN(CC4)C)C5OCCO5)C6(O4)CCN(CC6)C)C7OCCO7'\n"
     ]
    },
    {
     "name": "stdout",
     "output_type": "stream",
     "text": [
      "Processed molecule 2200/50000 in molecule_fingerprints_part_0.parquet\n",
      "Processed molecule 2300/50000 in molecule_fingerprints_part_0.parquet\n",
      "Processed molecule 2400/50000 in molecule_fingerprints_part_0.parquet\n"
     ]
    },
    {
     "name": "stderr",
     "output_type": "stream",
     "text": [
      "[22:10:51] Can't kekulize mol.  Unkekulized atoms: 11 12 30 31 32\n"
     ]
    },
    {
     "name": "stdout",
     "output_type": "stream",
     "text": [
      "Processed molecule 2500/50000 in molecule_fingerprints_part_0.parquet\n"
     ]
    },
    {
     "name": "stderr",
     "output_type": "stream",
     "text": [
      "[22:11:04] Can't kekulize mol.  Unkekulized atoms: 1 8 19\n",
      "[22:11:09] SMILES Parse Error: unclosed ring for input: 'CCCN1CC[C@@H]2[C@H]3CCC[C@H]3[C@H](C4=C2C=C5C=C(C=CC5=N4)Cl)CC'\n"
     ]
    },
    {
     "name": "stdout",
     "output_type": "stream",
     "text": [
      "Processed molecule 2600/50000 in molecule_fingerprints_part_0.parquet\n",
      "Processed molecule 2700/50000 in molecule_fingerprints_part_0.parquet\n",
      "Processed molecule 2800/50000 in molecule_fingerprints_part_0.parquet\n"
     ]
    },
    {
     "name": "stderr",
     "output_type": "stream",
     "text": [
      "[22:12:24] Can't kekulize mol.  Unkekulized atoms: 12 13 16 21 22\n"
     ]
    },
    {
     "name": "stdout",
     "output_type": "stream",
     "text": [
      "Processed molecule 2900/50000 in molecule_fingerprints_part_0.parquet\n",
      "Processed molecule 3000/50000 in molecule_fingerprints_part_0.parquet\n",
      "Processed molecule 3100/50000 in molecule_fingerprints_part_0.parquet\n",
      "Processed molecule 3200/50000 in molecule_fingerprints_part_0.parquet\n"
     ]
    },
    {
     "name": "stderr",
     "output_type": "stream",
     "text": [
      "[22:13:55] Can't kekulize mol.  Unkekulized atoms: 18 19 20 21 22\n",
      "[22:14:03] Can't kekulize mol.  Unkekulized atoms: 8 9 10\n"
     ]
    },
    {
     "name": "stdout",
     "output_type": "stream",
     "text": [
      "Processed molecule 3300/50000 in molecule_fingerprints_part_0.parquet\n",
      "Processed molecule 3400/50000 in molecule_fingerprints_part_0.parquet\n",
      "Processed molecule 3500/50000 in molecule_fingerprints_part_0.parquet\n"
     ]
    },
    {
     "name": "stderr",
     "output_type": "stream",
     "text": [
      "[22:15:22] Can't kekulize mol.  Unkekulized atoms: 15 16 17\n"
     ]
    },
    {
     "name": "stdout",
     "output_type": "stream",
     "text": [
      "Processed molecule 3600/50000 in molecule_fingerprints_part_0.parquet\n",
      "Processed molecule 3700/50000 in molecule_fingerprints_part_0.parquet\n",
      "Processed molecule 3800/50000 in molecule_fingerprints_part_0.parquet\n",
      "Processed molecule 3900/50000 in molecule_fingerprints_part_0.parquet\n",
      "Processed molecule 4000/50000 in molecule_fingerprints_part_0.parquet\n"
     ]
    },
    {
     "name": "stderr",
     "output_type": "stream",
     "text": [
      "[22:17:14] Can't kekulize mol.  Unkekulized atoms: 1 14 15 28 31\n"
     ]
    },
    {
     "name": "stdout",
     "output_type": "stream",
     "text": [
      "Processed molecule 4100/50000 in molecule_fingerprints_part_0.parquet\n",
      "Processed molecule 4200/50000 in molecule_fingerprints_part_0.parquet\n",
      "Processed molecule 4300/50000 in molecule_fingerprints_part_0.parquet\n"
     ]
    },
    {
     "name": "stderr",
     "output_type": "stream",
     "text": [
      "[22:18:29] SMILES Parse Error: unclosed ring for input: 'CC#CCOc1cnc(cn1)C(=O)Nc1ccc(F)c(c1)[C@]12COC(=N)N1'\n"
     ]
    },
    {
     "name": "stdout",
     "output_type": "stream",
     "text": [
      "Processed molecule 4400/50000 in molecule_fingerprints_part_0.parquet\n"
     ]
    },
    {
     "name": "stderr",
     "output_type": "stream",
     "text": [
      "[22:18:58] SMILES Parse Error: unclosed ring for input: 'CC[C@@]12CCN3[C@@H]1[C@@]4(CC3)C=CC3=NC5=CC=CC=C45'\n",
      "[22:19:09] SMILES Parse Error: unclosed ring for input: 'C1C=C2C=NC3=C(C4=C(C(=C3O)O)NC5C46CC(N5C1=CC6=O)O)N=CC7=CC(=O)C(S7)O'\n"
     ]
    },
    {
     "name": "stdout",
     "output_type": "stream",
     "text": [
      "Processed molecule 4500/50000 in molecule_fingerprints_part_0.parquet\n",
      "Processed molecule 4600/50000 in molecule_fingerprints_part_0.parquet\n"
     ]
    },
    {
     "name": "stderr",
     "output_type": "stream",
     "text": [
      "[22:19:52] Can't kekulize mol.  Unkekulized atoms: 0 1 2 3 4 5 6 7 11 12 13\n"
     ]
    },
    {
     "name": "stdout",
     "output_type": "stream",
     "text": [
      "Processed molecule 4700/50000 in molecule_fingerprints_part_0.parquet\n"
     ]
    },
    {
     "name": "stderr",
     "output_type": "stream",
     "text": [
      "[22:20:20] SMILES Parse Error: unclosed ring for input: 'CN(C)CCNC(=O)C1=C2C(=CC=C1)NC3=CC=NC4=C(C=CC(=O)C3=N2)C(=O)NCCN(C)C'\n"
     ]
    },
    {
     "name": "stdout",
     "output_type": "stream",
     "text": [
      "Processed molecule 4800/50000 in molecule_fingerprints_part_0.parquet\n"
     ]
    },
    {
     "name": "stderr",
     "output_type": "stream",
     "text": [
      "[22:20:31] SMILES Parse Error: unclosed ring for input: 'CN1CCN(CC1)C2=NC=C(C=C2)C3=CC4=C5C(=CN=N4)N(C(=O)C(=N5)F)CC(F)(F)F'\n",
      "[22:20:34] SMILES Parse Error: unclosed ring for input: 'C[C@@H]1CC[C@@]23CC[C@@]4([C@H]5C[C@@H]([C@]6(CC[C@H]7[C@]([C@@H]6CC[C@@]5([C@@]2([C@@H]1C)C)C)(CCC(=O)OC7(C)C)C)C)F)C(=O)O4'\n"
     ]
    },
    {
     "name": "stdout",
     "output_type": "stream",
     "text": [
      "Processed molecule 4900/50000 in molecule_fingerprints_part_0.parquet\n"
     ]
    },
    {
     "name": "stderr",
     "output_type": "stream",
     "text": [
      "[22:21:11] Can't kekulize mol.  Unkekulized atoms: 19 20 21 22 23\n"
     ]
    },
    {
     "name": "stdout",
     "output_type": "stream",
     "text": [
      "Processed molecule 5000/50000 in molecule_fingerprints_part_0.parquet\n",
      "Processed molecule 5100/50000 in molecule_fingerprints_part_0.parquet\n",
      "Processed molecule 5200/50000 in molecule_fingerprints_part_0.parquet\n",
      "Processed molecule 5300/50000 in molecule_fingerprints_part_0.parquet\n",
      "Processed molecule 5400/50000 in molecule_fingerprints_part_0.parquet\n"
     ]
    },
    {
     "name": "stderr",
     "output_type": "stream",
     "text": [
      "[22:23:12] Can't kekulize mol.  Unkekulized atoms: 2 19 26\n"
     ]
    },
    {
     "name": "stdout",
     "output_type": "stream",
     "text": [
      "Processed molecule 5500/50000 in molecule_fingerprints_part_0.parquet\n",
      "Processed molecule 5600/50000 in molecule_fingerprints_part_0.parquet\n",
      "Processed molecule 5700/50000 in molecule_fingerprints_part_0.parquet\n",
      "Processed molecule 5800/50000 in molecule_fingerprints_part_0.parquet\n"
     ]
    },
    {
     "name": "stderr",
     "output_type": "stream",
     "text": [
      "[22:24:31] SMILES Parse Error: unclosed ring for input: 'Cc1ccc(CC(=O)N2CC(Cn3cccn3)Cn3cccn3)cc1'\n"
     ]
    },
    {
     "name": "stdout",
     "output_type": "stream",
     "text": [
      "Processed molecule 5900/50000 in molecule_fingerprints_part_0.parquet\n"
     ]
    },
    {
     "name": "stderr",
     "output_type": "stream",
     "text": [
      "[22:24:53] Can't kekulize mol.  Unkekulized atoms: 0 1 2 3 4 7 9\n"
     ]
    },
    {
     "name": "stdout",
     "output_type": "stream",
     "text": [
      "Processed molecule 6000/50000 in molecule_fingerprints_part_0.parquet\n"
     ]
    },
    {
     "name": "stderr",
     "output_type": "stream",
     "text": [
      "[22:25:23] SMILES Parse Error: unclosed ring for input: 'CC1C(=O)N2C(=N)C(C(C2=O)C3=CC(=C(C=C3)OC)OC)C#N'\n"
     ]
    },
    {
     "name": "stdout",
     "output_type": "stream",
     "text": [
      "Processed molecule 6100/50000 in molecule_fingerprints_part_0.parquet\n",
      "Processed molecule 6200/50000 in molecule_fingerprints_part_0.parquet\n",
      "Processed molecule 6300/50000 in molecule_fingerprints_part_0.parquet\n",
      "Processed molecule 6400/50000 in molecule_fingerprints_part_0.parquet\n",
      "Processed molecule 6500/50000 in molecule_fingerprints_part_0.parquet\n"
     ]
    },
    {
     "name": "stderr",
     "output_type": "stream",
     "text": [
      "[22:27:35] SMILES Parse Error: unclosed ring for input: 'C1CCC2=C(C1)C3=C(S2)N=C4N(C3=O)C5=C(ONC5=O)/C=C/C6=CC=CC=C6'\n"
     ]
    },
    {
     "name": "stdout",
     "output_type": "stream",
     "text": [
      "Processed molecule 6600/50000 in molecule_fingerprints_part_0.parquet\n",
      "Processed molecule 6700/50000 in molecule_fingerprints_part_0.parquet\n",
      "Processed molecule 6800/50000 in molecule_fingerprints_part_0.parquet\n",
      "Processed molecule 6900/50000 in molecule_fingerprints_part_0.parquet\n",
      "Processed molecule 7000/50000 in molecule_fingerprints_part_0.parquet\n",
      "Processed molecule 7100/50000 in molecule_fingerprints_part_0.parquet\n",
      "Processed molecule 7200/50000 in molecule_fingerprints_part_0.parquet\n"
     ]
    },
    {
     "name": "stderr",
     "output_type": "stream",
     "text": [
      "[22:30:15] SMILES Parse Error: unclosed ring for input: 'CC(C)OP1(=O)OC[C@@H]2[C@@H](O1)[C@@]3([C@@H](O2)C4=C5N=CN=C(N5N=C4)N)C'\n"
     ]
    },
    {
     "name": "stdout",
     "output_type": "stream",
     "text": [
      "Processed molecule 7300/50000 in molecule_fingerprints_part_0.parquet\n",
      "Processed molecule 7400/50000 in molecule_fingerprints_part_0.parquet\n",
      "Processed molecule 7500/50000 in molecule_fingerprints_part_0.parquet\n"
     ]
    },
    {
     "name": "stderr",
     "output_type": "stream",
     "text": [
      "[22:31:28] SMILES Parse Error: unclosed ring for input: 'C[C@@]12C[C@H](OC(=O)C1C(C[C@@]34[C@]25COC(=O)C3=CC[C@H](O5)C6=COC=C6)O)C7=COC=C7'\n"
     ]
    },
    {
     "name": "stdout",
     "output_type": "stream",
     "text": [
      "Processed molecule 7600/50000 in molecule_fingerprints_part_0.parquet\n",
      "Processed molecule 7700/50000 in molecule_fingerprints_part_0.parquet\n",
      "Processed molecule 7800/50000 in molecule_fingerprints_part_0.parquet\n",
      "Processed molecule 7900/50000 in molecule_fingerprints_part_0.parquet\n"
     ]
    },
    {
     "name": "stderr",
     "output_type": "stream",
     "text": [
      "[22:33:19] Can't kekulize mol.  Unkekulized atoms: 1 6 7\n"
     ]
    },
    {
     "name": "stdout",
     "output_type": "stream",
     "text": [
      "Processed molecule 8000/50000 in molecule_fingerprints_part_0.parquet\n"
     ]
    },
    {
     "name": "stderr",
     "output_type": "stream",
     "text": [
      "[22:33:37] SMILES Parse Error: unclosed ring for input: 'COC(=O)/C(=C/1\\CCN(Cc2c1[nH]c1nccc3c4cc(F)ccc4N(C)Cc23)C1CC1)/C'\n"
     ]
    },
    {
     "name": "stdout",
     "output_type": "stream",
     "text": [
      "Processed molecule 8100/50000 in molecule_fingerprints_part_0.parquet\n",
      "Processed molecule 8200/50000 in molecule_fingerprints_part_0.parquet\n",
      "Processed molecule 8300/50000 in molecule_fingerprints_part_0.parquet\n"
     ]
    },
    {
     "name": "stderr",
     "output_type": "stream",
     "text": [
      "[22:34:40] SMILES Parse Error: unclosed ring for input: 'C1CC23C(C4=CC=CC=C4C5=NC6=CC=CC=C6N=C52)C7=C(C(=O)N3)C#N'\n"
     ]
    },
    {
     "name": "stdout",
     "output_type": "stream",
     "text": [
      "Processed molecule 8400/50000 in molecule_fingerprints_part_0.parquet\n",
      "Processed molecule 8500/50000 in molecule_fingerprints_part_0.parquet\n",
      "Processed molecule 8600/50000 in molecule_fingerprints_part_0.parquet\n"
     ]
    },
    {
     "name": "stderr",
     "output_type": "stream",
     "text": [
      "[22:36:06] SMILES Parse Error: ring closure 3 duplicates bond between atom 9 and atom 31 for input: 'FC(F)(F)c1ccc(C2C3(CC4([C@@H]2CN([C@@H]4c2ccccc2)C)c2ccc(cc2)C#N)C3)cc1'\n"
     ]
    },
    {
     "name": "stdout",
     "output_type": "stream",
     "text": [
      "Processed molecule 8700/50000 in molecule_fingerprints_part_0.parquet\n",
      "Processed molecule 8800/50000 in molecule_fingerprints_part_0.parquet\n",
      "Processed molecule 8900/50000 in molecule_fingerprints_part_0.parquet\n"
     ]
    },
    {
     "name": "stderr",
     "output_type": "stream",
     "text": [
      "[22:37:30] SMILES Parse Error: extra open parentheses for input: 'CC1=CC(=NN1CC2=CC(=NN2CC3=CC(=NN3CC4=CC(=NN4CC5=CC(=NN5CC6=CC(=NN6C(=C7C=CC(=CC=C7)Cl)C(=O)O)C(=O)O)C(=O)O)C(=O)O)C)C(=O)O'\n"
     ]
    },
    {
     "name": "stdout",
     "output_type": "stream",
     "text": [
      "Processed molecule 9000/50000 in molecule_fingerprints_part_0.parquet\n"
     ]
    },
    {
     "name": "stderr",
     "output_type": "stream",
     "text": [
      "[22:37:31] SMILES Parse Error: unclosed ring for input: 'CC1=CC(=NN1CC2=CC(=NN2CC3=CC(=NN3CC4=CC(=NN4CC5=CC(=NN5C(=C4)C)C6=CC=CC=C6Cl)C(=O)O)C7=CC=CC=C7Cl)Cl)C(=O)O'\n"
     ]
    },
    {
     "name": "stdout",
     "output_type": "stream",
     "text": [
      "Processed molecule 9100/50000 in molecule_fingerprints_part_0.parquet\n",
      "Processed molecule 9200/50000 in molecule_fingerprints_part_0.parquet\n",
      "Processed molecule 9300/50000 in molecule_fingerprints_part_0.parquet\n"
     ]
    },
    {
     "name": "stderr",
     "output_type": "stream",
     "text": [
      "[22:39:01] Can't kekulize mol.  Unkekulized atoms: 14 15 16 17 18 19 20 21 22\n"
     ]
    },
    {
     "name": "stdout",
     "output_type": "stream",
     "text": [
      "Processed molecule 9400/50000 in molecule_fingerprints_part_0.parquet\n",
      "Processed molecule 9500/50000 in molecule_fingerprints_part_0.parquet\n",
      "Processed molecule 9600/50000 in molecule_fingerprints_part_0.parquet\n"
     ]
    },
    {
     "name": "stderr",
     "output_type": "stream",
     "text": [
      "[22:40:07] SMILES Parse Error: unclosed ring for input: 'COC1=CC2=C(C=CN=C2C=C1)[C@@H]([C@@H]3[C@H]4[C@@]45C[C@H]5C=C)OC(=O)CCC(=O)O'\n"
     ]
    },
    {
     "name": "stdout",
     "output_type": "stream",
     "text": [
      "Processed molecule 9700/50000 in molecule_fingerprints_part_0.parquet\n",
      "Processed molecule 9800/50000 in molecule_fingerprints_part_0.parquet\n"
     ]
    },
    {
     "name": "stderr",
     "output_type": "stream",
     "text": [
      "[22:40:59] SMILES Parse Error: unclosed ring for input: 'C1=CC=C2C(=C1)C3=C4C(=CC=C3)C5=C6C(=NC7=CC=CC=C75)C=CC=C6N4'\n"
     ]
    },
    {
     "name": "stdout",
     "output_type": "stream",
     "text": [
      "Processed molecule 9900/50000 in molecule_fingerprints_part_0.parquet\n"
     ]
    },
    {
     "name": "stderr",
     "output_type": "stream",
     "text": [
      "[22:41:34] SMILES Parse Error: unclosed ring for input: 'Cc1c(oc2ccc(Br)cc12)C(=O)Nc1ccc(F)c(c1)C12COCC(=N)N1'\n"
     ]
    },
    {
     "name": "stdout",
     "output_type": "stream",
     "text": [
      "Processed molecule 10000/50000 in molecule_fingerprints_part_0.parquet\n"
     ]
    },
    {
     "name": "stderr",
     "output_type": "stream",
     "text": [
      "[22:41:55] Can't kekulize mol.  Unkekulized atoms: 0 1 3 5 6 7 8\n"
     ]
    },
    {
     "name": "stdout",
     "output_type": "stream",
     "text": [
      "Processed molecule 10100/50000 in molecule_fingerprints_part_0.parquet\n",
      "Processed molecule 10200/50000 in molecule_fingerprints_part_0.parquet\n"
     ]
    },
    {
     "name": "stderr",
     "output_type": "stream",
     "text": [
      "[22:42:44] SMILES Parse Error: unclosed ring for input: 'CC(=O)O[C@@H]1[C@@H]2C[C@H]3[C@@H](CC[C@@]4([C@@H](OC(=O)C[C@@H]3C(=O)[C@@]2([C@H](C1(C)C)CC(=O)OC)C)C5=COC=C5)C)C6=COC=C6'\n"
     ]
    },
    {
     "name": "stdout",
     "output_type": "stream",
     "text": [
      "Processed molecule 10300/50000 in molecule_fingerprints_part_0.parquet\n",
      "Processed molecule 10400/50000 in molecule_fingerprints_part_0.parquet\n",
      "Processed molecule 10500/50000 in molecule_fingerprints_part_0.parquet\n"
     ]
    },
    {
     "name": "stderr",
     "output_type": "stream",
     "text": [
      "[22:43:43] SMILES Parse Error: unclosed ring for input: 'CSCC(C(=O)O)N1C(=C(C(=C1O)C2CCC(O2)C3=C(N(C(=C3C4CCC(O4)C5=C(N(C(=C5C6CCC(O6)C7=C(N(C1=O)C(CSC)C(=O)O)O)O)O)O)O)C(CSC)O)O)C8CSC)O'\n"
     ]
    },
    {
     "name": "stdout",
     "output_type": "stream",
     "text": [
      "Processed molecule 10600/50000 in molecule_fingerprints_part_0.parquet\n",
      "Processed molecule 10700/50000 in molecule_fingerprints_part_0.parquet\n"
     ]
    },
    {
     "name": "stderr",
     "output_type": "stream",
     "text": [
      "[22:44:50] SMILES Parse Error: unclosed ring for input: 'CCN1CC(C1)N1C(=O)N(C(C)C)c2ccn3ncc(c4ccc(cc4)c4nc[nH]n4)c3n2'\n",
      "[22:44:51] SMILES Parse Error: unclosed ring for input: 'CC(CC(CO)(C1C=CC2C1(OC)OC)N)(CO)N'\n"
     ]
    },
    {
     "name": "stdout",
     "output_type": "stream",
     "text": [
      "Processed molecule 10800/50000 in molecule_fingerprints_part_0.parquet\n"
     ]
    },
    {
     "name": "stderr",
     "output_type": "stream",
     "text": [
      "[22:44:56] Can't kekulize mol.  Unkekulized atoms: 15 18\n"
     ]
    },
    {
     "name": "stdout",
     "output_type": "stream",
     "text": [
      "Processed molecule 10900/50000 in molecule_fingerprints_part_0.parquet\n",
      "Processed molecule 11000/50000 in molecule_fingerprints_part_0.parquet\n",
      "Processed molecule 11100/50000 in molecule_fingerprints_part_0.parquet\n"
     ]
    },
    {
     "name": "stderr",
     "output_type": "stream",
     "text": [
      "[22:46:30] SMILES Parse Error: unclosed ring for input: 'Cc1cc2C(F)CC(F)CCN(CCC(CC2)c2ccc(cc2)C#N)C(=O)c2ccc(cc2)C#N'\n"
     ]
    },
    {
     "name": "stdout",
     "output_type": "stream",
     "text": [
      "Processed molecule 11200/50000 in molecule_fingerprints_part_0.parquet\n",
      "Processed molecule 11300/50000 in molecule_fingerprints_part_0.parquet\n",
      "Processed molecule 11400/50000 in molecule_fingerprints_part_0.parquet\n",
      "Processed molecule 11500/50000 in molecule_fingerprints_part_0.parquet\n",
      "Processed molecule 11600/50000 in molecule_fingerprints_part_0.parquet\n"
     ]
    },
    {
     "name": "stderr",
     "output_type": "stream",
     "text": [
      "[22:48:40] SMILES Parse Error: unclosed ring for input: 'CC(C)n1cc(C(=O)c2cncc(NC(=O)c3oc4ccc5oc(cc4c3)C(=O)c3cncnc3)c2)c2cncnc12'\n"
     ]
    },
    {
     "name": "stdout",
     "output_type": "stream",
     "text": [
      "Processed molecule 11700/50000 in molecule_fingerprints_part_0.parquet\n",
      "Processed molecule 11800/50000 in molecule_fingerprints_part_0.parquet\n"
     ]
    },
    {
     "name": "stderr",
     "output_type": "stream",
     "text": [
      "[22:49:08] SMILES Parse Error: unclosed ring for input: 'n1c(nc2c(c1OCC(F)F)CN(CC2)c1cc(ccc1C)C(C)C)c1c(n[nH]c1ccc(c1)C(F)F)C'\n"
     ]
    },
    {
     "name": "stdout",
     "output_type": "stream",
     "text": [
      "Processed molecule 11900/50000 in molecule_fingerprints_part_0.parquet\n",
      "Processed molecule 12000/50000 in molecule_fingerprints_part_0.parquet\n"
     ]
    },
    {
     "name": "stderr",
     "output_type": "stream",
     "text": [
      "[22:50:04] Can't kekulize mol.  Unkekulized atoms: 0 1 2 3 4 5 6 7 8 9 10\n"
     ]
    },
    {
     "name": "stdout",
     "output_type": "stream",
     "text": [
      "Processed molecule 12100/50000 in molecule_fingerprints_part_0.parquet\n",
      "Processed molecule 12200/50000 in molecule_fingerprints_part_0.parquet\n",
      "Processed molecule 12300/50000 in molecule_fingerprints_part_0.parquet\n"
     ]
    },
    {
     "name": "stderr",
     "output_type": "stream",
     "text": [
      "[22:51:11] SMILES Parse Error: unclosed ring for input: 'C(#CCOc1cnc(C(=O)Nc2ccc(c([C@]34NC(=N)O[C@@H]5[C@@H]3C5)c2)F)cn1)C1CC1'\n",
      "[22:51:22] Can't kekulize mol.  Unkekulized atoms: 14 15 16 17 31\n",
      "[22:51:27] SMILES Parse Error: unclosed ring for input: 'CS(=O)(=O)C1=CC=C(C=C1)C2=CC(=C(C=C2)C[C@@H](C#N)NC(=O)[C@@H]3[C@H]4C[C@H]4[C@H]5N3)F'\n",
      "[22:51:32] Can't kekulize mol.  Unkekulized atoms: 27\n"
     ]
    },
    {
     "name": "stdout",
     "output_type": "stream",
     "text": [
      "Processed molecule 12400/50000 in molecule_fingerprints_part_0.parquet\n"
     ]
    },
    {
     "name": "stderr",
     "output_type": "stream",
     "text": [
      "[22:51:45] Can't kekulize mol.  Unkekulized atoms: 0 1 2 4 5 6 7\n",
      "[22:51:49] SMILES Parse Error: unclosed ring for input: 'Fc1ccc(NC(=O)c2ccc(cn2)C#CC2CC2)cc1[C@]12NC(=N)O[C@@H]3C[C@H]13'\n",
      "[22:51:49] Can't kekulize mol.  Unkekulized atoms: 14 15 16 17 27 28 29\n",
      "[22:51:50] SMILES Parse Error: unclosed ring for input: 'C1CC2=C(C(=C1)N3C4=CC=CC5=C4C(=O)NN5)C(=O)NN2'\n",
      "[22:51:51] SMILES Parse Error: unclosed ring for input: 'CC1(CC2=C(C(=C1)F)C3=C(N2CCN(C)C)C=C(C=C3N4C5=C(C6=CC(=CC(=C6)F)F)C(=O)NN5)F)C'\n",
      "[22:51:55] SMILES Parse Error: unclosed ring for input: 'C1CC=C2C(=CC1)C3=C(N2)C=CC=C3NC4=O'\n"
     ]
    },
    {
     "name": "stdout",
     "output_type": "stream",
     "text": [
      "Processed molecule 12500/50000 in molecule_fingerprints_part_0.parquet\n"
     ]
    },
    {
     "name": "stderr",
     "output_type": "stream",
     "text": [
      "[22:52:19] Can't kekulize mol.  Unkekulized atoms: 9 10 11 12 13 21 22 23 24 25 33\n",
      "[22:52:24] SMILES Parse Error: unclosed ring for input: 'CN1CCC2(C1)CN(CCC23C4CC5CC(C4)CC3C5)C6(C7CC8CC(C7)CC6C8)C9CC1CC(C9)CC2C1'\n"
     ]
    },
    {
     "name": "stdout",
     "output_type": "stream",
     "text": [
      "Processed molecule 12600/50000 in molecule_fingerprints_part_0.parquet\n"
     ]
    },
    {
     "name": "stderr",
     "output_type": "stream",
     "text": [
      "[22:52:38] Can't kekulize mol.  Unkekulized atoms: 19 20 21\n",
      "[22:52:41] Can't kekulize mol.  Unkekulized atoms: 9 11 12 13 14\n",
      "[22:52:45] SMILES Parse Error: unclosed ring for input: 'CO[C@@]12C=C[C@@]3(C[C@@H]1N(CC2)CC=C)[C@H]4CC5=C6[C@]3([C@H]4OC6=C(C=C5)O)CCN4CC=C'\n"
     ]
    },
    {
     "name": "stdout",
     "output_type": "stream",
     "text": [
      "Processed molecule 12700/50000 in molecule_fingerprints_part_0.parquet\n"
     ]
    },
    {
     "name": "stderr",
     "output_type": "stream",
     "text": [
      "[22:53:13] Can't kekulize mol.  Unkekulized atoms: 1 2 3\n"
     ]
    },
    {
     "name": "stdout",
     "output_type": "stream",
     "text": [
      "Processed molecule 12800/50000 in molecule_fingerprints_part_0.parquet\n",
      "Processed molecule 12900/50000 in molecule_fingerprints_part_0.parquet\n"
     ]
    },
    {
     "name": "stderr",
     "output_type": "stream",
     "text": [
      "[22:53:45] SMILES Parse Error: unclosed ring for input: 'CCN1C(=C(C(=C1O)C2CN=C(N2C(=O)SC)SCC3=CC=C(C=C3)Cl)C4CN=C(N4C5(C(=C(N5CC)O)C4=O)CC6=CC=CC=C6)SCC7=CC=CC=C7)O'\n"
     ]
    },
    {
     "name": "stdout",
     "output_type": "stream",
     "text": [
      "Processed molecule 13000/50000 in molecule_fingerprints_part_0.parquet\n",
      "Processed molecule 13100/50000 in molecule_fingerprints_part_0.parquet\n"
     ]
    },
    {
     "name": "stderr",
     "output_type": "stream",
     "text": [
      "[22:54:45] SMILES Parse Error: unclosed ring for input: 'C1CC1CN2CC[C@]34[C@@H]5C(=O)CC[C@]3([C@H]2CC6=C4C(=C(C=C6)O)O5)OCC4'\n"
     ]
    },
    {
     "name": "stdout",
     "output_type": "stream",
     "text": [
      "Processed molecule 13200/50000 in molecule_fingerprints_part_0.parquet\n",
      "Processed molecule 13300/50000 in molecule_fingerprints_part_0.parquet\n",
      "Processed molecule 13400/50000 in molecule_fingerprints_part_0.parquet\n",
      "Processed molecule 13500/50000 in molecule_fingerprints_part_0.parquet\n",
      "Processed molecule 13600/50000 in molecule_fingerprints_part_0.parquet\n",
      "Processed molecule 13700/50000 in molecule_fingerprints_part_0.parquet\n",
      "Processed molecule 13800/50000 in molecule_fingerprints_part_0.parquet\n"
     ]
    },
    {
     "name": "stderr",
     "output_type": "stream",
     "text": [
      "[22:57:31] SMILES Parse Error: extra close parentheses while parsing: CC1CCNCC1)Oc1cnc2ccc(cc2c1)C#CCNC(=O)c1cncn(Cc2ccc(F)c(F)c2)c1=O\n",
      "[22:57:31] SMILES Parse Error: Failed parsing SMILES 'CC1CCNCC1)Oc1cnc2ccc(cc2c1)C#CCNC(=O)c1cncn(Cc2ccc(F)c(F)c2)c1=O' for input: 'CC1CCNCC1)Oc1cnc2ccc(cc2c1)C#CCNC(=O)c1cncn(Cc2ccc(F)c(F)c2)c1=O'\n"
     ]
    },
    {
     "name": "stdout",
     "output_type": "stream",
     "text": [
      "Processed molecule 13900/50000 in molecule_fingerprints_part_0.parquet\n"
     ]
    },
    {
     "name": "stderr",
     "output_type": "stream",
     "text": [
      "[22:57:52] SMILES Parse Error: unclosed ring for input: 'C[C@H]1[C@@H]2C[C@@H](C(=O)N1CC(F)(F)F)NC(=O)C3=CC4=C(C[C@@]5(C4)C6=C(C(=CC(=C6)F)F)C(=O)N5)N=C3'\n"
     ]
    },
    {
     "name": "stdout",
     "output_type": "stream",
     "text": [
      "Processed molecule 14000/50000 in molecule_fingerprints_part_0.parquet\n"
     ]
    },
    {
     "name": "stderr",
     "output_type": "stream",
     "text": [
      "[22:58:35] SMILES Parse Error: ring closure 2 duplicates bond between atom 13 and atom 15 for input: 'OC[C@H]1C[C@@H](Nc2c(c(=O)[nH]c(n2)C2(F)C2)c2nc3ccccc3s2)[C@H](O)[C@@H]1O'\n"
     ]
    },
    {
     "name": "stdout",
     "output_type": "stream",
     "text": [
      "Processed molecule 14100/50000 in molecule_fingerprints_part_0.parquet\n",
      "Processed molecule 14200/50000 in molecule_fingerprints_part_0.parquet\n",
      "Processed molecule 14300/50000 in molecule_fingerprints_part_0.parquet\n",
      "Processed molecule 14400/50000 in molecule_fingerprints_part_0.parquet\n",
      "Processed molecule 14500/50000 in molecule_fingerprints_part_0.parquet\n"
     ]
    },
    {
     "name": "stderr",
     "output_type": "stream",
     "text": [
      "[23:00:22] Conflicting single bond directions around double bond at index 20.\n",
      "[23:00:22]   BondStereo set to STEREONONE and single bond directions set to NONE.\n"
     ]
    },
    {
     "name": "stdout",
     "output_type": "stream",
     "text": [
      "Processed molecule 14600/50000 in molecule_fingerprints_part_0.parquet\n"
     ]
    },
    {
     "name": "stderr",
     "output_type": "stream",
     "text": [
      "[23:00:43] Can't kekulize mol.  Unkekulized atoms: 15\n",
      "[23:00:57] Can't kekulize mol.  Unkekulized atoms: 2 3 4 16 17\n"
     ]
    },
    {
     "name": "stdout",
     "output_type": "stream",
     "text": [
      "Processed molecule 14700/50000 in molecule_fingerprints_part_0.parquet\n"
     ]
    },
    {
     "name": "stderr",
     "output_type": "stream",
     "text": [
      "[23:01:23] SMILES Parse Error: unclosed ring for input: 'CC(C1CC2CC1(C3=C(CCNC2O)C4=C(N3C2O)C=C(C=C4)OC)C(=O)OC)O'\n"
     ]
    },
    {
     "name": "stdout",
     "output_type": "stream",
     "text": [
      "Processed molecule 14800/50000 in molecule_fingerprints_part_0.parquet\n"
     ]
    },
    {
     "name": "stderr",
     "output_type": "stream",
     "text": [
      "[23:01:32] SMILES Parse Error: unclosed ring for input: 'C1CN(CCN1C2=CC=C(C=C2)Cl)C(=O)C3=NC4=C(C=CC5=CC=CNC5=C4N=C5)C=C3'\n"
     ]
    },
    {
     "name": "stdout",
     "output_type": "stream",
     "text": [
      "Processed molecule 14900/50000 in molecule_fingerprints_part_0.parquet\n",
      "Processed molecule 15000/50000 in molecule_fingerprints_part_0.parquet\n",
      "Processed molecule 15100/50000 in molecule_fingerprints_part_0.parquet\n",
      "Processed molecule 15200/50000 in molecule_fingerprints_part_0.parquet\n"
     ]
    },
    {
     "name": "stderr",
     "output_type": "stream",
     "text": [
      "[23:03:25] Can't kekulize mol.  Unkekulized atoms: 0 1 2\n",
      "[23:03:31] Conflicting single bond directions around double bond at index 18.\n",
      "[23:03:31]   BondStereo set to STEREONONE and single bond directions set to NONE.\n"
     ]
    },
    {
     "name": "stdout",
     "output_type": "stream",
     "text": [
      "Processed molecule 15300/50000 in molecule_fingerprints_part_0.parquet\n"
     ]
    },
    {
     "name": "stderr",
     "output_type": "stream",
     "text": [
      "[23:03:53] SMILES Parse Error: unclosed ring for input: 'C1=C(C2=NN=C(N2C=C1C(F)(F)F)C(C3=NN=C(N3C=C1C(F)(F)F)C(F)(F)Cl)(F)Cl)Cl'\n"
     ]
    },
    {
     "name": "stdout",
     "output_type": "stream",
     "text": [
      "Processed molecule 15400/50000 in molecule_fingerprints_part_0.parquet\n"
     ]
    },
    {
     "name": "stderr",
     "output_type": "stream",
     "text": [
      "[23:04:02] SMILES Parse Error: unclosed ring for input: 'CCOC(=O)CC1=C2C3=CC=CC=C3N4C=NC(=C4C(=O)OCC)C(=O)OCC'\n",
      "[23:04:05] Can't kekulize mol.  Unkekulized atoms: 19 22 23 30 31\n",
      "[23:04:06] SMILES Parse Error: unclosed ring for input: 'C[C@@H]1CC[C@H]2[C@@H]1[C@@H]([C@@]3(C[C@@H](C(O3)(C)C)NC(=O)CO)C)OC(=O)/C=C/C4CCCCC4'\n"
     ]
    },
    {
     "name": "stdout",
     "output_type": "stream",
     "text": [
      "Processed molecule 15500/50000 in molecule_fingerprints_part_0.parquet\n",
      "Processed molecule 15600/50000 in molecule_fingerprints_part_0.parquet\n"
     ]
    },
    {
     "name": "stderr",
     "output_type": "stream",
     "text": [
      "[23:05:11] SMILES Parse Error: unclosed ring for input: 'C1C2C3C=CC(C2CC4C1C3C=C4)C5=C(N(C(=C5C6C=CC5C7C6C7)O)CCC(=O)OC8=CC=CC=C8)O'\n",
      "[23:05:14] SMILES Parse Error: unclosed ring for input: 'C[C@H]1[C@@H]2[C@H](C[C@@H]3[C@@]2(CC[C@]45[C@]3(C4)C=CC(=O)[C@@H]5[C@@H](C[C@@H](C)[C@H](C)C(=O)C(=O)[C@H](C)[C@H](C)CO)OC(=O)C)C)O'\n",
      "[23:05:15] SMILES Parse Error: unclosed ring for input: 'C[C@@]1(CC2[C@]3(C[C@]4(C1(C)C)C(=O)N([C@@]5(C4)C6=CC7=C(C=C6NC5=O)OC(C=CO7)(C)C)C)C(=O)NC3=O)O'\n"
     ]
    },
    {
     "name": "stdout",
     "output_type": "stream",
     "text": [
      "Processed molecule 15700/50000 in molecule_fingerprints_part_0.parquet\n",
      "Processed molecule 15800/50000 in molecule_fingerprints_part_0.parquet\n",
      "Processed molecule 15900/50000 in molecule_fingerprints_part_0.parquet\n"
     ]
    },
    {
     "name": "stderr",
     "output_type": "stream",
     "text": [
      "[23:06:15] SMILES Parse Error: unclosed ring for input: 'CC1=C2C3C4C5=CC=CC(=C5C2=C(C=C1)C)C6C(O3)C7=CC=CC(=C74)C8C9C1=CC=CC2=C1C1C(O1)C1=C(C=CC(=C21)C)C'\n"
     ]
    },
    {
     "name": "stdout",
     "output_type": "stream",
     "text": [
      "Processed molecule 16000/50000 in molecule_fingerprints_part_0.parquet\n"
     ]
    },
    {
     "name": "stderr",
     "output_type": "stream",
     "text": [
      "[23:06:38] SMILES Parse Error: unclosed ring for input: 'COC1=C(C2=C3C(=C1)N=C4C5=C(CC6=C4C3=CC(=C6)O)C=C(C=C5)O)OC'\n"
     ]
    },
    {
     "name": "stdout",
     "output_type": "stream",
     "text": [
      "Processed molecule 16100/50000 in molecule_fingerprints_part_0.parquet\n",
      "Processed molecule 16200/50000 in molecule_fingerprints_part_0.parquet\n",
      "Processed molecule 16300/50000 in molecule_fingerprints_part_0.parquet\n"
     ]
    },
    {
     "name": "stderr",
     "output_type": "stream",
     "text": [
      "[23:08:03] SMILES Parse Error: unclosed ring for input: 'CCC1(C2CC3CC(C2)CC1(C3)NC)C45CC6CC(C4)CC(C6)C5(C7CC8CC(C7)CC7(C8)NC)CC'\n",
      "[23:08:09] SMILES Parse Error: unclosed ring for input: 'C[C@@H]1[C@H]2C[C@H]([C@H]3CO[C@@H]([C@H]4N3[C@@H]2CO1)C)CC(=O)C'\n"
     ]
    },
    {
     "name": "stdout",
     "output_type": "stream",
     "text": [
      "Processed molecule 16400/50000 in molecule_fingerprints_part_0.parquet\n"
     ]
    },
    {
     "name": "stderr",
     "output_type": "stream",
     "text": [
      "[23:08:23] SMILES Parse Error: unclosed ring for input: 'C1=CC2=CC3=C4C(=CC5=C3C=CC6=C5C=CC7=C6C=CC8C7O8)C=CC4=C2C(=C1)C=C5'\n",
      "[23:08:25] SMILES Parse Error: unclosed ring for input: 'C1CN2C3=C(C4=C(N3)NC(=O)N4)NC2=NC(=O)N5C1'\n"
     ]
    },
    {
     "name": "stdout",
     "output_type": "stream",
     "text": [
      "Processed molecule 16500/50000 in molecule_fingerprints_part_0.parquet\n"
     ]
    },
    {
     "name": "stderr",
     "output_type": "stream",
     "text": [
      "[23:09:00] SMILES Parse Error: unclosed ring for input: 'CC1=CC2=C3C(=C(C(=C(C3=C(C(=C2C(C)C)OC)O)O)C(C)C)O)COC4=CC(=CC5=C4C(=C(C(=C5C(C)C)OC)O)C(C)C)C'\n"
     ]
    },
    {
     "name": "stdout",
     "output_type": "stream",
     "text": [
      "Processed molecule 16600/50000 in molecule_fingerprints_part_0.parquet\n",
      "Processed molecule 16700/50000 in molecule_fingerprints_part_0.parquet\n",
      "Processed molecule 16800/50000 in molecule_fingerprints_part_0.parquet\n",
      "Processed molecule 16900/50000 in molecule_fingerprints_part_0.parquet\n",
      "Processed molecule 17000/50000 in molecule_fingerprints_part_0.parquet\n",
      "Processed molecule 17100/50000 in molecule_fingerprints_part_0.parquet\n",
      "Processed molecule 17200/50000 in molecule_fingerprints_part_0.parquet\n",
      "Processed molecule 17300/50000 in molecule_fingerprints_part_0.parquet\n"
     ]
    },
    {
     "name": "stderr",
     "output_type": "stream",
     "text": [
      "[23:12:20] SMILES Parse Error: duplicated ring closure 3 bonds atom 18 to itself for input: 'Fc1ncccc1c1ccc2OC[C@]3(NC(=N)N=C333)c2c1'\n"
     ]
    },
    {
     "name": "stdout",
     "output_type": "stream",
     "text": [
      "Processed molecule 17400/50000 in molecule_fingerprints_part_0.parquet\n",
      "Processed molecule 17500/50000 in molecule_fingerprints_part_0.parquet\n"
     ]
    },
    {
     "name": "stderr",
     "output_type": "stream",
     "text": [
      "[23:12:48] SMILES Parse Error: unclosed ring for input: 'c1(c(cc2c(c1)OCC1=NNC(=O)[C@@H](N1C)C)[C@H]1[C@@H](CN(CC1)C)C)c1ccc(cc1F)C'\n"
     ]
    },
    {
     "name": "stdout",
     "output_type": "stream",
     "text": [
      "Processed molecule 17600/50000 in molecule_fingerprints_part_0.parquet\n",
      "Processed molecule 17700/50000 in molecule_fingerprints_part_0.parquet\n",
      "Processed molecule 17800/50000 in molecule_fingerprints_part_0.parquet\n"
     ]
    },
    {
     "name": "stderr",
     "output_type": "stream",
     "text": [
      "[23:14:14] Can't kekulize mol.  Unkekulized atoms: 0 1 2 3 4 16 17\n"
     ]
    },
    {
     "name": "stdout",
     "output_type": "stream",
     "text": [
      "Processed molecule 17900/50000 in molecule_fingerprints_part_0.parquet\n",
      "Processed molecule 18000/50000 in molecule_fingerprints_part_0.parquet\n",
      "Processed molecule 18100/50000 in molecule_fingerprints_part_0.parquet\n"
     ]
    },
    {
     "name": "stderr",
     "output_type": "stream",
     "text": [
      "[23:15:31] SMILES Parse Error: ring closure 3 duplicates bond between atom 5 and atom 22 for input: 'C1[C@@H]([C@H]2C=C[C@@]3([C@H]1S(=O)(=O)N2CC4=CC(=CC=C4)C(F)(F)F)O3)CC5=CC=CC=C5'\n"
     ]
    },
    {
     "name": "stdout",
     "output_type": "stream",
     "text": [
      "Processed molecule 18200/50000 in molecule_fingerprints_part_0.parquet\n",
      "Processed molecule 18300/50000 in molecule_fingerprints_part_0.parquet\n",
      "Processed molecule 18400/50000 in molecule_fingerprints_part_0.parquet\n",
      "Processed molecule 18500/50000 in molecule_fingerprints_part_0.parquet\n",
      "Processed molecule 18600/50000 in molecule_fingerprints_part_0.parquet\n",
      "Processed molecule 18700/50000 in molecule_fingerprints_part_0.parquet\n",
      "Processed molecule 18800/50000 in molecule_fingerprints_part_0.parquet\n",
      "Processed molecule 18900/50000 in molecule_fingerprints_part_0.parquet\n"
     ]
    },
    {
     "name": "stderr",
     "output_type": "stream",
     "text": [
      "[23:18:37] SMILES Parse Error: unclosed ring for input: 'c12c(sc3c1CCC3)CCCc1scncc1C2NC=NC=C1'\n",
      "[23:18:55] SMILES Parse Error: unclosed ring for input: 'c1(sc2c(c1OCCO2)OCCO/C/2=C(\\c1ccc(/C(=N/CC(C)C)/N)cc1)/Sc1c2ccc(C(=N)N)cc2)c1ccc(C(=N)N)cc1'\n"
     ]
    },
    {
     "name": "stdout",
     "output_type": "stream",
     "text": [
      "Processed molecule 19000/50000 in molecule_fingerprints_part_0.parquet\n"
     ]
    },
    {
     "name": "stderr",
     "output_type": "stream",
     "text": [
      "[23:19:13] SMILES Parse Error: unclosed ring for input: 'C1CC2(C3=C(N(C(=O)C=C3)CC4=CC=C(C=C4)Br)O)C(=O)N(C1)CC5=CC=CC=C5'\n",
      "[23:19:13] SMILES Parse Error: unclosed ring for input: 'CN(C)C1=NC2=C(S1)C=C3C[C@H]4[C@@H]5[C@@]3(C2)CCCC5'\n",
      "[23:19:16] SMILES Parse Error: unclosed ring for input: 'CC(=O)NC1=NC2=C(S1)C=C3C[C@@H]4[C@@H]5[C@]3(CCCC5)CCN4CCCF'\n",
      "[23:19:20] Conflicting single bond directions around double bond at index 9.\n",
      "[23:19:20]   BondStereo set to STEREONONE and single bond directions set to NONE.\n"
     ]
    },
    {
     "name": "stdout",
     "output_type": "stream",
     "text": [
      "Processed molecule 19100/50000 in molecule_fingerprints_part_0.parquet\n"
     ]
    },
    {
     "name": "stderr",
     "output_type": "stream",
     "text": [
      "[23:19:26] SMILES Parse Error: unclosed ring for input: 'C[C@@H](C(=O)N[C@H]1CN(C2=CC=CC(=C12)C(C3=CC=CC4=CC=CC=C43)N5C6=CC=CC7=CC=CC=C76)C(=O)CC(C)C)NC'\n",
      "[23:19:39] SMILES Parse Error: unclosed ring for input: 'C[C@]12CCC(=O)[C@]([C@@H]1CC[C@@]3([C@@H]2CC[C@@]4([C@H]3CC[C@@](C)(CC[C@@H]5[C@@](OC(O5)(C)C)(C)CO)O)C)O)(C)O'\n",
      "[23:19:42] SMILES Parse Error: unclosed ring for input: 'C1CN2[C@H]3[C@@H](CC(=O)[C@]4([C@@H]3N=C1C=NC5=C4C(=C(N=C5O)O)O)C6=C(C7=C8C(=C6O)N=CC(=O)N8CC7)O)O'\n"
     ]
    },
    {
     "name": "stdout",
     "output_type": "stream",
     "text": [
      "Processed molecule 19200/50000 in molecule_fingerprints_part_0.parquet\n"
     ]
    },
    {
     "name": "stderr",
     "output_type": "stream",
     "text": [
      "[23:19:59] SMILES Parse Error: unclosed ring for input: 'COC(=O)C1=CC=C(C=C1)CN2C(=C(C(=C2O)C3CN=C(N3C4=CC=CC=C4)SCC5=CC=CC=C5)C6(C(=O)OC)CC7=CC=CC=C7)O'\n"
     ]
    },
    {
     "name": "stdout",
     "output_type": "stream",
     "text": [
      "Processed molecule 19300/50000 in molecule_fingerprints_part_0.parquet\n",
      "Processed molecule 19400/50000 in molecule_fingerprints_part_0.parquet\n",
      "Processed molecule 19500/50000 in molecule_fingerprints_part_0.parquet\n"
     ]
    },
    {
     "name": "stderr",
     "output_type": "stream",
     "text": [
      "[23:21:12] SMILES Parse Error: unclosed ring for input: 'CN1C=CN(C1=NC2=CC=CC=C2C(=C3C=CC=CC3=N2)NCCCN(C)C)C'\n"
     ]
    },
    {
     "name": "stdout",
     "output_type": "stream",
     "text": [
      "Processed molecule 19600/50000 in molecule_fingerprints_part_0.parquet\n",
      "Processed molecule 19700/50000 in molecule_fingerprints_part_0.parquet\n"
     ]
    },
    {
     "name": "stderr",
     "output_type": "stream",
     "text": [
      "[23:21:51] Can't kekulize mol.  Unkekulized atoms: 1 2 3 4 5\n"
     ]
    },
    {
     "name": "stdout",
     "output_type": "stream",
     "text": [
      "Processed molecule 19800/50000 in molecule_fingerprints_part_0.parquet\n"
     ]
    },
    {
     "name": "stderr",
     "output_type": "stream",
     "text": [
      "[23:22:21] SMILES Parse Error: unclosed ring for input: 'CN1C2CC3=CC=CC=C3C1C4=CC=CC=C4CC1N(C5C6=CC=CC=C6CC(C7=CC=CC=C57)N8C)C'\n",
      "[23:22:28] SMILES Parse Error: unclosed ring for input: 'CCCN(CC1CC1)[C@H]2CC[C@]3([C@@H]4[C@H](CC5=C4C(=C(C=C5)O)O2)NC(=O)/C=C/C(=O)OC)O'\n"
     ]
    },
    {
     "name": "stdout",
     "output_type": "stream",
     "text": [
      "Processed molecule 19900/50000 in molecule_fingerprints_part_0.parquet\n"
     ]
    },
    {
     "name": "stderr",
     "output_type": "stream",
     "text": [
      "[23:22:48] SMILES Parse Error: unclosed ring for input: 'c1(=O)n(nc(c2c(c(=O)n3c12)O)C(=O)NC)Cc1cc(c(cc1)F)Cl'\n"
     ]
    },
    {
     "name": "stdout",
     "output_type": "stream",
     "text": [
      "Processed molecule 20000/50000 in molecule_fingerprints_part_0.parquet\n",
      "Processed molecule 20100/50000 in molecule_fingerprints_part_0.parquet\n",
      "Processed molecule 20200/50000 in molecule_fingerprints_part_0.parquet\n",
      "Processed molecule 20300/50000 in molecule_fingerprints_part_0.parquet\n",
      "Processed molecule 20400/50000 in molecule_fingerprints_part_0.parquet\n",
      "Processed molecule 20500/50000 in molecule_fingerprints_part_0.parquet\n",
      "Processed molecule 20600/50000 in molecule_fingerprints_part_0.parquet\n"
     ]
    },
    {
     "name": "stderr",
     "output_type": "stream",
     "text": [
      "[23:25:43] SMILES Parse Error: unclosed ring for input: 'CC1=C(C2=CC(=C(C=C2N1)F)NC(=O)NC(=O)C3=CC=C(C=C3)OC)/C=C\\4/C(=C)C=O'\n"
     ]
    },
    {
     "name": "stdout",
     "output_type": "stream",
     "text": [
      "Processed molecule 20700/50000 in molecule_fingerprints_part_0.parquet\n",
      "Processed molecule 20800/50000 in molecule_fingerprints_part_0.parquet\n"
     ]
    },
    {
     "name": "stderr",
     "output_type": "stream",
     "text": [
      "[23:26:18] SMILES Parse Error: unclosed ring for input: 'CC1(C(=C)N2C3=C(C=CC4=C3C(=CC(=C4)Br)C(=O)C5=C2C1=C(C=C5O)O)C=C(C=C3)Br)C'\n"
     ]
    },
    {
     "name": "stdout",
     "output_type": "stream",
     "text": [
      "Processed molecule 20900/50000 in molecule_fingerprints_part_0.parquet\n",
      "Processed molecule 21000/50000 in molecule_fingerprints_part_0.parquet\n",
      "Processed molecule 21100/50000 in molecule_fingerprints_part_0.parquet\n"
     ]
    },
    {
     "name": "stderr",
     "output_type": "stream",
     "text": [
      "[23:27:33] SMILES Parse Error: unclosed ring for input: 'C1CCN(CC1)C(=O)/C=C/CCCCCCCCCCCCCCCCCCCCCCCCCCCCCCCCCCCCCCCCCCCCCCCCC2'\n"
     ]
    },
    {
     "name": "stdout",
     "output_type": "stream",
     "text": [
      "Processed molecule 21200/50000 in molecule_fingerprints_part_0.parquet\n",
      "Processed molecule 21300/50000 in molecule_fingerprints_part_0.parquet\n"
     ]
    },
    {
     "name": "stderr",
     "output_type": "stream",
     "text": [
      "[23:28:35] SMILES Parse Error: unclosed ring for input: 'C1C[C@@H]2C(=O)N3[C@](CCC34C5=C(C=CC(=C5)Br)NC4=O)(C(=O)N2C1)SC[C@@H]6C(=O)N7CCC[C@@H]7C(=O)N6C8(C7=O)C9=C(C=CC(=C9)Br)NC8=O'\n"
     ]
    },
    {
     "name": "stdout",
     "output_type": "stream",
     "text": [
      "Processed molecule 21400/50000 in molecule_fingerprints_part_0.parquet\n",
      "Processed molecule 21500/50000 in molecule_fingerprints_part_0.parquet\n",
      "Processed molecule 21600/50000 in molecule_fingerprints_part_0.parquet\n",
      "Processed molecule 21700/50000 in molecule_fingerprints_part_0.parquet\n",
      "Processed molecule 21800/50000 in molecule_fingerprints_part_0.parquet\n",
      "Processed molecule 21900/50000 in molecule_fingerprints_part_0.parquet\n"
     ]
    },
    {
     "name": "stderr",
     "output_type": "stream",
     "text": [
      "[23:30:49] SMILES Parse Error: unclosed ring for input: 'C1=CC(=O)C2=C3C1=C4C=CC(=O)C5=CC=C(C6=C(C=CC(=C56)C4=C4C3=C(C=C2)O)O)O'\n"
     ]
    },
    {
     "name": "stdout",
     "output_type": "stream",
     "text": [
      "Processed molecule 22000/50000 in molecule_fingerprints_part_0.parquet\n",
      "Processed molecule 22100/50000 in molecule_fingerprints_part_0.parquet\n"
     ]
    },
    {
     "name": "stderr",
     "output_type": "stream",
     "text": [
      "[23:31:46] Can't kekulize mol.  Unkekulized atoms: 2 3 4 20 22\n"
     ]
    },
    {
     "name": "stdout",
     "output_type": "stream",
     "text": [
      "Processed molecule 22200/50000 in molecule_fingerprints_part_0.parquet\n"
     ]
    },
    {
     "name": "stderr",
     "output_type": "stream",
     "text": [
      "[23:32:17] Can't kekulize mol.  Unkekulized atoms: 11 12 14 15 16\n"
     ]
    },
    {
     "name": "stdout",
     "output_type": "stream",
     "text": [
      "Processed molecule 22300/50000 in molecule_fingerprints_part_0.parquet\n",
      "Processed molecule 22400/50000 in molecule_fingerprints_part_0.parquet\n",
      "Processed molecule 22500/50000 in molecule_fingerprints_part_0.parquet\n",
      "Processed molecule 22600/50000 in molecule_fingerprints_part_0.parquet\n"
     ]
    },
    {
     "name": "stderr",
     "output_type": "stream",
     "text": [
      "[23:33:47] SMILES Parse Error: unclosed ring for input: 'CC1(C2CC34CN5CCCCC5(CC36COC7=C6C=CC8=C7NC(=O)C82CN9C6(CCCC9)C(=O)N8C)C(=O)N4C)C'\n"
     ]
    },
    {
     "name": "stdout",
     "output_type": "stream",
     "text": [
      "Processed molecule 22700/50000 in molecule_fingerprints_part_0.parquet\n",
      "Processed molecule 22800/50000 in molecule_fingerprints_part_0.parquet\n",
      "Processed molecule 22900/50000 in molecule_fingerprints_part_0.parquet\n",
      "Processed molecule 23000/50000 in molecule_fingerprints_part_0.parquet\n",
      "Processed molecule 23100/50000 in molecule_fingerprints_part_0.parquet\n",
      "Processed molecule 23200/50000 in molecule_fingerprints_part_0.parquet\n",
      "Processed molecule 23300/50000 in molecule_fingerprints_part_0.parquet\n",
      "Processed molecule 23400/50000 in molecule_fingerprints_part_0.parquet\n",
      "Processed molecule 23500/50000 in molecule_fingerprints_part_0.parquet\n",
      "Processed molecule 23600/50000 in molecule_fingerprints_part_0.parquet\n",
      "Processed molecule 23700/50000 in molecule_fingerprints_part_0.parquet\n"
     ]
    },
    {
     "name": "stderr",
     "output_type": "stream",
     "text": [
      "[23:38:20] SMILES Parse Error: unclosed ring for input: 'C1(=O)/C(=N/CCc2ccc(cc2)O)/C=C(C(=O)c2c1c(cn2S(=O)(=O)c1ccc(cc1)C)CCN/C/1=N\\CCc2ccc(cc2)O)C'\n"
     ]
    },
    {
     "name": "stdout",
     "output_type": "stream",
     "text": [
      "Processed molecule 23800/50000 in molecule_fingerprints_part_0.parquet\n",
      "Processed molecule 23900/50000 in molecule_fingerprints_part_0.parquet\n"
     ]
    },
    {
     "name": "stderr",
     "output_type": "stream",
     "text": [
      "[23:39:23] SMILES Parse Error: unclosed ring for input: 'CCC1=CC=C(C=C1)C(=O)O[C@H]2C[C@H]3[C@@H](CC[C@@]([C@H]3C4=C2[C@H]5[C@@H](CC[C@@]5(C)O)[C@@H]4C)(C)O)[C@H](C(=O)O6)C'\n"
     ]
    },
    {
     "name": "stdout",
     "output_type": "stream",
     "text": [
      "Processed molecule 24000/50000 in molecule_fingerprints_part_0.parquet\n",
      "Processed molecule 24100/50000 in molecule_fingerprints_part_0.parquet\n"
     ]
    },
    {
     "name": "stderr",
     "output_type": "stream",
     "text": [
      "[23:40:11] SMILES Parse Error: unclosed ring for input: 'CN1C(=C(C(=C1O)C2(CCCCN2C)C(=O)OC)C3C4=CC(=C(C=C4)C5=CC=C(C=C5)OC)OC)O'\n",
      "[23:40:13] SMILES Parse Error: unclosed ring for input: 'C1=CC2=C(C=C(C=C2N=C1)N=NC3=CC4=C(C=C(C=C4C=C3)S(=O)(=O)O)S(=O)(=O)O)N=C1'\n"
     ]
    },
    {
     "name": "stdout",
     "output_type": "stream",
     "text": [
      "Processed molecule 24200/50000 in molecule_fingerprints_part_0.parquet\n",
      "Processed molecule 24300/50000 in molecule_fingerprints_part_0.parquet\n",
      "Processed molecule 24400/50000 in molecule_fingerprints_part_0.parquet\n"
     ]
    },
    {
     "name": "stderr",
     "output_type": "stream",
     "text": [
      "[23:41:09] SMILES Parse Error: unclosed ring for input: 'CN(C)CC1C2CCC34C2C(C(CC3)C5C(C(=O)O5)CN(C)C)OC1=O'\n",
      "[23:41:22] Can't kekulize mol.  Unkekulized atoms: 22 23 24 28 29\n"
     ]
    },
    {
     "name": "stdout",
     "output_type": "stream",
     "text": [
      "Processed molecule 24500/50000 in molecule_fingerprints_part_0.parquet\n"
     ]
    },
    {
     "name": "stderr",
     "output_type": "stream",
     "text": [
      "[23:41:49] SMILES Parse Error: unclosed ring for input: 'CCCC[C@H]1CCC[C@H]2N1[C@@H]3CC[C@@H](CC3)N4[C@H](CCC[C@@H]4CCCC)CCCC'\n"
     ]
    },
    {
     "name": "stdout",
     "output_type": "stream",
     "text": [
      "Processed molecule 24600/50000 in molecule_fingerprints_part_0.parquet\n"
     ]
    },
    {
     "name": "stderr",
     "output_type": "stream",
     "text": [
      "[23:42:05] SMILES Parse Error: unclosed ring for input: 'CC(=C)[C@@H]1CC[C@]2([C@H]1[C@H]3CC[C@@H]4[C@H]5CC[C@@H]6[C@]7(CC[C@@H](C([C@@H]7CC[C@]6(CC2)C)(C)C)O)C)C(=O)O'\n"
     ]
    },
    {
     "name": "stdout",
     "output_type": "stream",
     "text": [
      "Processed molecule 24700/50000 in molecule_fingerprints_part_0.parquet\n",
      "Processed molecule 24800/50000 in molecule_fingerprints_part_0.parquet\n",
      "Processed molecule 24900/50000 in molecule_fingerprints_part_0.parquet\n",
      "Processed molecule 25000/50000 in molecule_fingerprints_part_0.parquet\n"
     ]
    },
    {
     "name": "stderr",
     "output_type": "stream",
     "text": [
      "[23:43:39] SMILES Parse Error: unclosed ring for input: 'c1cc2c(nn[nH]2)c2c1NC1(C2=C(CC1)C(C(=O)CC2)CC)CCCC'\n",
      "[23:43:47] SMILES Parse Error: unclosed ring for input: 'CC1=C(C2=C(C(=C1O)C)O/C(=C\\C3=CC=C(C=C3)Br)/C2=O)[C@]4(C(=CC(=O)C(C4=O)C(=O)C)O/C(=C\\C5=CC=C(C=C5)Br)/C5=O)C'\n"
     ]
    },
    {
     "name": "stdout",
     "output_type": "stream",
     "text": [
      "Processed molecule 25100/50000 in molecule_fingerprints_part_0.parquet\n",
      "Processed molecule 25200/50000 in molecule_fingerprints_part_0.parquet\n"
     ]
    },
    {
     "name": "stderr",
     "output_type": "stream",
     "text": [
      "[23:44:35] SMILES Parse Error: unclosed ring for input: 'C[C@@]12CC[C@@H]3[C@@]([C@H]1CC=C4[C@H]2CC[C@@]56[C@H]4CC(CC5)(C)C)(C[C@H]([C@@H]([C@@]3(C)CO)O)O)C'\n"
     ]
    },
    {
     "name": "stdout",
     "output_type": "stream",
     "text": [
      "Processed molecule 25300/50000 in molecule_fingerprints_part_0.parquet\n",
      "Processed molecule 25400/50000 in molecule_fingerprints_part_0.parquet\n",
      "Processed molecule 25500/50000 in molecule_fingerprints_part_0.parquet\n"
     ]
    },
    {
     "name": "stderr",
     "output_type": "stream",
     "text": [
      "[23:45:41] SMILES Parse Error: unclosed ring for input: 'C1CC2(CC(C1(C3=C(C=CC(=C3OC2)F)F)O)(S(=O)(=O)C4=CC=C(C=C4)Cl)S(=O)(=O)C5=CC=C(C=C5)Cl)OCCO2'\n"
     ]
    },
    {
     "name": "stdout",
     "output_type": "stream",
     "text": [
      "Processed molecule 25600/50000 in molecule_fingerprints_part_0.parquet\n"
     ]
    },
    {
     "name": "stderr",
     "output_type": "stream",
     "text": [
      "[23:46:05] SMILES Parse Error: unclosed ring for input: 'C1(=O)/C(=N\\CCc2ccccc2)/C=C(C(=O)c2c1c(cn2S(=O)(=O)c1ccc(cc1)C)CCN/C/1=N\\CCc2ccccc2)C'\n"
     ]
    },
    {
     "name": "stdout",
     "output_type": "stream",
     "text": [
      "Processed molecule 25700/50000 in molecule_fingerprints_part_0.parquet\n",
      "Processed molecule 25800/50000 in molecule_fingerprints_part_0.parquet\n",
      "Processed molecule 25900/50000 in molecule_fingerprints_part_0.parquet\n"
     ]
    },
    {
     "name": "stderr",
     "output_type": "stream",
     "text": [
      "[23:47:39] Can't kekulize mol.  Unkekulized atoms: 0 1 2 3 5 8 9\n"
     ]
    },
    {
     "name": "stdout",
     "output_type": "stream",
     "text": [
      "Processed molecule 26000/50000 in molecule_fingerprints_part_0.parquet\n",
      "Processed molecule 26100/50000 in molecule_fingerprints_part_0.parquet\n",
      "Processed molecule 26200/50000 in molecule_fingerprints_part_0.parquet\n",
      "Processed molecule 26300/50000 in molecule_fingerprints_part_0.parquet\n"
     ]
    },
    {
     "name": "stderr",
     "output_type": "stream",
     "text": [
      "[23:49:13] SMILES Parse Error: unclosed ring for input: 'CC(=C)[C@@H]1[C@@H]2[C@H]3[C@@]4(O3)C(=O)O[C@@H]5[C@]4([C@](C5)([C@@H]6[C@H]1OC(=O)[C@H]6C(=C)C)O)C'\n",
      "[23:49:17] Can't kekulize mol.  Unkekulized atoms: 13 14 15 16 18 20 21 22 23\n"
     ]
    },
    {
     "name": "stdout",
     "output_type": "stream",
     "text": [
      "Processed molecule 26400/50000 in molecule_fingerprints_part_0.parquet\n"
     ]
    },
    {
     "name": "stderr",
     "output_type": "stream",
     "text": [
      "[23:49:28] Explicit valence for atom # 23 C, 5, is greater than permitted\n"
     ]
    },
    {
     "name": "stdout",
     "output_type": "stream",
     "text": [
      "Processed molecule 26500/50000 in molecule_fingerprints_part_0.parquet\n",
      "Processed molecule 26600/50000 in molecule_fingerprints_part_0.parquet\n"
     ]
    },
    {
     "name": "stderr",
     "output_type": "stream",
     "text": [
      "[23:50:17] SMILES Parse Error: unclosed ring for input: 'C1[C@@H]2[C@@H]3[C@H]([C@H]([C@]1(O2)OCC4=CC=CC=C4)O3)N=NN4C(=O)OCC5=CC=CC=C5'\n"
     ]
    },
    {
     "name": "stdout",
     "output_type": "stream",
     "text": [
      "Processed molecule 26700/50000 in molecule_fingerprints_part_0.parquet\n"
     ]
    },
    {
     "name": "stderr",
     "output_type": "stream",
     "text": [
      "[23:50:56] SMILES Parse Error: unclosed ring for input: 'CC(C)(C)[C@@H]1C[C@@H]2[C@]34[C@@]15[C@H](C(=O)O[C@H]5OC3=O)O[C@@H]([C@H]4O)C(C)(C)C'\n"
     ]
    },
    {
     "name": "stdout",
     "output_type": "stream",
     "text": [
      "Processed molecule 26800/50000 in molecule_fingerprints_part_0.parquet\n",
      "Processed molecule 26900/50000 in molecule_fingerprints_part_0.parquet\n",
      "Processed molecule 27000/50000 in molecule_fingerprints_part_0.parquet\n"
     ]
    },
    {
     "name": "stderr",
     "output_type": "stream",
     "text": [
      "[23:51:56] SMILES Parse Error: unclosed ring for input: 'C1=CC=C(C=C1)N2C(=C(C(=C2O)C3C4=CC=CC=C4C(S3)C5=C(N(C(=C6C7C8=CC=CC=C8C(C6=C57)S6)O)C9=CC=CC=C9)O)C1C2=CC=CC=C2)O'\n"
     ]
    },
    {
     "name": "stdout",
     "output_type": "stream",
     "text": [
      "Processed molecule 27100/50000 in molecule_fingerprints_part_0.parquet\n",
      "Processed molecule 27200/50000 in molecule_fingerprints_part_0.parquet\n",
      "Processed molecule 27300/50000 in molecule_fingerprints_part_0.parquet\n"
     ]
    },
    {
     "name": "stderr",
     "output_type": "stream",
     "text": [
      "[23:53:12] SMILES Parse Error: unclosed ring for input: 'C[C@]12CCCC([C@@H]1CC[C@@]3([C@@H]2[C@@H]4[C@]5(O4)C(=C(C(=O)O5)CO)[C@@H]3O6)C)(C)C'\n"
     ]
    },
    {
     "name": "stdout",
     "output_type": "stream",
     "text": [
      "Processed molecule 27400/50000 in molecule_fingerprints_part_0.parquet\n",
      "Processed molecule 27500/50000 in molecule_fingerprints_part_0.parquet\n",
      "Processed molecule 27600/50000 in molecule_fingerprints_part_0.parquet\n"
     ]
    },
    {
     "name": "stderr",
     "output_type": "stream",
     "text": [
      "[23:54:38] SMILES Parse Error: unclosed ring for input: 'CC1=C2C(=CC=C1)N=C3N2C(=O)C4=CC=CC=C4C(=O)N5C3=CC=CC=C5C6=NC7=CC=CC(=C7N6C5=O)C'\n"
     ]
    },
    {
     "name": "stdout",
     "output_type": "stream",
     "text": [
      "Processed molecule 27700/50000 in molecule_fingerprints_part_0.parquet\n"
     ]
    },
    {
     "name": "stderr",
     "output_type": "stream",
     "text": [
      "[23:54:58] SMILES Parse Error: unclosed ring for input: 'C[C@@H]1CC2=NC3=C[C@H]([C@@H](C3C(=O)C1)C4=CC=CC=C4F)C5=CC=CC=C5F'\n"
     ]
    },
    {
     "name": "stdout",
     "output_type": "stream",
     "text": [
      "Processed molecule 27800/50000 in molecule_fingerprints_part_0.parquet\n"
     ]
    },
    {
     "name": "stderr",
     "output_type": "stream",
     "text": [
      "[23:55:25] SMILES Parse Error: unclosed ring for input: 'CN1C(=O)C2(CCCC2)N=C1N(C)C1Oc2ccc(cc2C2(C)CCCO2)c2cccnc2F'\n"
     ]
    },
    {
     "name": "stdout",
     "output_type": "stream",
     "text": [
      "Processed molecule 27900/50000 in molecule_fingerprints_part_0.parquet\n",
      "Processed molecule 28000/50000 in molecule_fingerprints_part_0.parquet\n",
      "Processed molecule 28100/50000 in molecule_fingerprints_part_0.parquet\n"
     ]
    },
    {
     "name": "stderr",
     "output_type": "stream",
     "text": [
      "[23:56:40] SMILES Parse Error: unclosed ring for input: 'CC[C@@]12C[C@@H]3C[C@@H]([C@]4(C1N(CC4)CCC5=C2NC6=CC=CC=C56)C(=O)N)C7=C(C=C8C(=C7)CCN9C8C(C9)(CC)O)OC'\n",
      "[23:56:43] SMILES Parse Error: unclosed ring for input: 'CCC1=C2CN3[C@H](C2=NC4=C1C=C(C=C4)O)C[C@H]5C3=O'\n"
     ]
    },
    {
     "name": "stdout",
     "output_type": "stream",
     "text": [
      "Processed molecule 28200/50000 in molecule_fingerprints_part_0.parquet\n",
      "Processed molecule 28300/50000 in molecule_fingerprints_part_0.parquet\n",
      "Processed molecule 28400/50000 in molecule_fingerprints_part_0.parquet\n",
      "Processed molecule 28500/50000 in molecule_fingerprints_part_0.parquet\n",
      "Processed molecule 28600/50000 in molecule_fingerprints_part_0.parquet\n",
      "Processed molecule 28700/50000 in molecule_fingerprints_part_0.parquet\n"
     ]
    },
    {
     "name": "stderr",
     "output_type": "stream",
     "text": [
      "[23:59:02] SMILES Parse Error: unclosed ring for input: 'CN1C2=NSC(=C2C(=O)N(C1=O)C)N(C)C3=NSC(=C3C(=O)N(C(=O)N3C)C)N(C)C'\n"
     ]
    },
    {
     "name": "stdout",
     "output_type": "stream",
     "text": [
      "Processed molecule 28800/50000 in molecule_fingerprints_part_0.parquet\n",
      "Processed molecule 28900/50000 in molecule_fingerprints_part_0.parquet\n"
     ]
    },
    {
     "name": "stderr",
     "output_type": "stream",
     "text": [
      "[00:00:02] SMILES Parse Error: unclosed ring for input: 'CCN1C(=C(C(N2C1(CCC2)C(=O)OC)C3=CC=C(C=C3)C4=CC(=CC=C4)Cl)C5N6CCCC6(C(=O)OC)C(=O)OC)O'\n",
      "[00:00:04] SMILES Parse Error: unclosed ring for input: 'CN1C(=C(C(=C1O)C2(CCCCN2C)C(=O)OC)C3C4=CC=C(C=C4)C5=CC6=C(C=C5)OCO6)O'\n"
     ]
    },
    {
     "name": "stdout",
     "output_type": "stream",
     "text": [
      "Processed molecule 29000/50000 in molecule_fingerprints_part_0.parquet\n",
      "Processed molecule 29100/50000 in molecule_fingerprints_part_0.parquet\n",
      "Processed molecule 29200/50000 in molecule_fingerprints_part_0.parquet\n",
      "Processed molecule 29300/50000 in molecule_fingerprints_part_0.parquet\n",
      "Processed molecule 29400/50000 in molecule_fingerprints_part_0.parquet\n",
      "Processed molecule 29500/50000 in molecule_fingerprints_part_0.parquet\n",
      "Processed molecule 29600/50000 in molecule_fingerprints_part_0.parquet\n"
     ]
    },
    {
     "name": "stderr",
     "output_type": "stream",
     "text": [
      "[00:03:04] SMILES Parse Error: unclosed ring for input: 'C1=CC=C2C(=C1)N3C(=O)C(=NN(C3=O)CC(=O)C4=CC=C(C=C4)Cl)N5C6=CC=CC=C6SC5=O'\n"
     ]
    },
    {
     "name": "stdout",
     "output_type": "stream",
     "text": [
      "Processed molecule 29700/50000 in molecule_fingerprints_part_0.parquet\n",
      "Processed molecule 29800/50000 in molecule_fingerprints_part_0.parquet\n",
      "Processed molecule 29900/50000 in molecule_fingerprints_part_0.parquet\n"
     ]
    },
    {
     "name": "stderr",
     "output_type": "stream",
     "text": [
      "[00:04:09] SMILES Parse Error: unclosed ring for input: 'CC1=CC=C(C=C1)CN2CCCC3(C2=O)C4=C(N(C(=O)C=C4)CC5=CC=C(C=C5)C(F)(F)F)O'\n"
     ]
    },
    {
     "name": "stdout",
     "output_type": "stream",
     "text": [
      "Processed molecule 30000/50000 in molecule_fingerprints_part_0.parquet\n"
     ]
    },
    {
     "name": "stderr",
     "output_type": "stream",
     "text": [
      "[00:04:35] SMILES Parse Error: extra open parentheses for input: 'CC[C@@]1([C@H](N1)C2=C(N(C(=C2C3(N[C@H]([C@@H](N3)CN(C)C(=O)C4=CC=C(C=C4)F)C5=C(N(C(=C5C(=O)OC)O)CC6=CC=CC=C6)O)C(=O)OC)O)CC7=CC=CC=C7)C(=O)F'\n",
      "[00:04:49] SMILES Parse Error: unclosed ring for input: 'C1CN(C(CC1C2)C(=O)O)C34CC5CC(C3)CC(C5)C4'\n"
     ]
    },
    {
     "name": "stdout",
     "output_type": "stream",
     "text": [
      "Processed molecule 30100/50000 in molecule_fingerprints_part_0.parquet\n"
     ]
    },
    {
     "name": "stderr",
     "output_type": "stream",
     "text": [
      "[00:05:05] SMILES Parse Error: unclosed ring for input: 'c1(ccc(cc1)N1CCN(CC1)C(=O)[C@H]1C[C@H]2N(C[C@@H](Cc3c(C2)c(ccc3)OC)C(=O)N2CCN(CC2)c2ccc(cc2)C(=O)OC)C)C(=O)OC'\n"
     ]
    },
    {
     "name": "stdout",
     "output_type": "stream",
     "text": [
      "Processed molecule 30200/50000 in molecule_fingerprints_part_0.parquet\n"
     ]
    },
    {
     "name": "stderr",
     "output_type": "stream",
     "text": [
      "[00:05:27] SMILES Parse Error: unclosed ring for input: 'CN1C(=C(C(=C1O)C2(CCCCN2C)C(=O)OC)C3C4=CC(=C(C=C4)C5=CC=C(C=C5)F)OC)O'\n"
     ]
    },
    {
     "name": "stdout",
     "output_type": "stream",
     "text": [
      "Processed molecule 30300/50000 in molecule_fingerprints_part_0.parquet\n"
     ]
    },
    {
     "name": "stderr",
     "output_type": "stream",
     "text": [
      "[00:05:53] SMILES Parse Error: extra open parentheses for input: 'CCCCCCCCCCCCCCCCCCCCCCCCCCCCCCCCCCCCCCCCCCCCCC(=O)OC1CCC(CC1OC(=O)CCCCCCCCCCCCCCC'\n",
      "[00:05:58] Can't kekulize mol.  Unkekulized atoms: 4 5 8 9 12 15 16 26 27\n"
     ]
    },
    {
     "name": "stdout",
     "output_type": "stream",
     "text": [
      "Processed molecule 30400/50000 in molecule_fingerprints_part_0.parquet\n"
     ]
    },
    {
     "name": "stderr",
     "output_type": "stream",
     "text": [
      "[00:06:35] SMILES Parse Error: unclosed ring for input: 'CC1(C2N3C(O1)C(O2)(OC3C4(C(O4)C5(C(O5)C6(C(O6)C7(C(O7)C(O5)(C)C8=CC(=CC=C8)O)C)C)C)C)C)C9=CC(=CC=C9)O'\n",
      "[00:06:35] Can't kekulize mol.  Unkekulized atoms: 10 11 12 13 14\n"
     ]
    },
    {
     "name": "stdout",
     "output_type": "stream",
     "text": [
      "Processed molecule 30500/50000 in molecule_fingerprints_part_0.parquet\n"
     ]
    },
    {
     "name": "stderr",
     "output_type": "stream",
     "text": [
      "[00:06:37] SMILES Parse Error: unclosed ring for input: 'CC1(N2C3COC2CO1)C4=CC(=CC=C4)OC'\n"
     ]
    },
    {
     "name": "stdout",
     "output_type": "stream",
     "text": [
      "Processed molecule 30600/50000 in molecule_fingerprints_part_0.parquet\n"
     ]
    },
    {
     "name": "stderr",
     "output_type": "stream",
     "text": [
      "[00:07:08] SMILES Parse Error: unclosed ring for input: 'CC(C)(C)[C@@]12CCC[C@@]3(O1)COC(=O)[C@@]34C[C@@H](OC4=O)[C@]56CCC[C@]5(O6)[C@H](C(=O)O[C@H]7[C@@]6(C7)C(C)(C)C)O'\n",
      "[00:07:18] SMILES Parse Error: unclosed ring for input: 'CC(=O)N[C@H]1[C@H]2[C@@H]([C@H]3COC(O3)(C)C)O[P@@]1(=O)C4=CC=CC=C4'\n"
     ]
    },
    {
     "name": "stdout",
     "output_type": "stream",
     "text": [
      "Processed molecule 30700/50000 in molecule_fingerprints_part_0.parquet\n"
     ]
    },
    {
     "name": "stderr",
     "output_type": "stream",
     "text": [
      "[00:07:50] SMILES Parse Error: unclosed ring for input: 'CCOC(=O)C1=C(C2=CNC(=C2N1)C(=O)OCC)SC3=CC=CC(=C3)C4C5C(=NC6=C4C=CC=C6N5)CCCC5=O'\n"
     ]
    },
    {
     "name": "stdout",
     "output_type": "stream",
     "text": [
      "Processed molecule 30800/50000 in molecule_fingerprints_part_0.parquet\n",
      "Processed molecule 30900/50000 in molecule_fingerprints_part_0.parquet\n",
      "Processed molecule 31000/50000 in molecule_fingerprints_part_0.parquet\n",
      "Processed molecule 31100/50000 in molecule_fingerprints_part_0.parquet\n",
      "Processed molecule 31200/50000 in molecule_fingerprints_part_0.parquet\n"
     ]
    },
    {
     "name": "stderr",
     "output_type": "stream",
     "text": [
      "[00:09:55] SMILES Parse Error: unclosed ring for input: 'CCN(CC)CCN(C1=NC2=C(C=CC=C2S1)OCC)C(=O)C3=CC(=CC=C3)N4C5=C(C=CC=C5SC4=N5)OCC'\n"
     ]
    },
    {
     "name": "stdout",
     "output_type": "stream",
     "text": [
      "Processed molecule 31300/50000 in molecule_fingerprints_part_0.parquet\n"
     ]
    },
    {
     "name": "stderr",
     "output_type": "stream",
     "text": [
      "[00:10:08] Can't kekulize mol.  Unkekulized atoms: 0 1 3 4 11 12 13\n"
     ]
    },
    {
     "name": "stdout",
     "output_type": "stream",
     "text": [
      "Processed molecule 31400/50000 in molecule_fingerprints_part_0.parquet\n"
     ]
    },
    {
     "name": "stderr",
     "output_type": "stream",
     "text": [
      "[00:10:26] Can't kekulize mol.  Unkekulized atoms: 16 17 18 19 23 24 25\n"
     ]
    },
    {
     "name": "stdout",
     "output_type": "stream",
     "text": [
      "Processed molecule 31500/50000 in molecule_fingerprints_part_0.parquet\n"
     ]
    },
    {
     "name": "stderr",
     "output_type": "stream",
     "text": [
      "[00:10:55] SMILES Parse Error: unclosed ring for input: 'CC1(N2C3COC2CO1)C4=CC(=CC=C4)O'\n"
     ]
    },
    {
     "name": "stdout",
     "output_type": "stream",
     "text": [
      "Processed molecule 31600/50000 in molecule_fingerprints_part_0.parquet\n",
      "Processed molecule 31700/50000 in molecule_fingerprints_part_0.parquet\n",
      "Processed molecule 31800/50000 in molecule_fingerprints_part_0.parquet\n",
      "Processed molecule 31900/50000 in molecule_fingerprints_part_0.parquet\n"
     ]
    },
    {
     "name": "stderr",
     "output_type": "stream",
     "text": [
      "[00:12:51] Can't kekulize mol.  Unkekulized atoms: 0 1 2 3 8 9 10\n"
     ]
    },
    {
     "name": "stdout",
     "output_type": "stream",
     "text": [
      "Processed molecule 32000/50000 in molecule_fingerprints_part_0.parquet\n",
      "Processed molecule 32100/50000 in molecule_fingerprints_part_0.parquet\n",
      "Processed molecule 32200/50000 in molecule_fingerprints_part_0.parquet\n",
      "Processed molecule 32300/50000 in molecule_fingerprints_part_0.parquet\n",
      "Processed molecule 32400/50000 in molecule_fingerprints_part_0.parquet\n",
      "Processed molecule 32500/50000 in molecule_fingerprints_part_0.parquet\n",
      "Processed molecule 32600/50000 in molecule_fingerprints_part_0.parquet\n",
      "Processed molecule 32700/50000 in molecule_fingerprints_part_0.parquet\n",
      "Processed molecule 32800/50000 in molecule_fingerprints_part_0.parquet\n",
      "Processed molecule 32900/50000 in molecule_fingerprints_part_0.parquet\n",
      "Processed molecule 33000/50000 in molecule_fingerprints_part_0.parquet\n",
      "Processed molecule 33100/50000 in molecule_fingerprints_part_0.parquet\n",
      "Processed molecule 33200/50000 in molecule_fingerprints_part_0.parquet\n",
      "Processed molecule 33300/50000 in molecule_fingerprints_part_0.parquet\n",
      "Processed molecule 33400/50000 in molecule_fingerprints_part_0.parquet\n"
     ]
    },
    {
     "name": "stderr",
     "output_type": "stream",
     "text": [
      "[00:19:02] SMILES Parse Error: unclosed ring for input: 'C1C[C@H]2C=C[C@@H]([C@H]2[C@@]3(CO3)N(C1)C45CO4)CCOCC6=CC=CC=C6'\n",
      "[00:19:08] SMILES Parse Error: unclosed ring for input: 'CCC1=C(C=C2C(=O)C[C@@]3([C@]2(O[C@H]([C@@H](C3)C(=O)OC)C(=O)OC)OC)O)OC'\n",
      "[00:19:16] SMILES Parse Error: unclosed ring for input: 'CC(=O)NCCC1=C2CN3C(C2)CC4=CC=CC=C43'\n"
     ]
    },
    {
     "name": "stdout",
     "output_type": "stream",
     "text": [
      "Processed molecule 33500/50000 in molecule_fingerprints_part_0.parquet\n"
     ]
    },
    {
     "name": "stderr",
     "output_type": "stream",
     "text": [
      "[00:19:38] SMILES Parse Error: unclosed ring for input: 'CCO[C@]12C[C@]34CN5CC[C@@](C5)(C([C@@H]3C[C@]1(C6=C(C7=C(C=C6)OC(C=CO7)(C)C)NC4=O)OCC)(C)C)C(=O)N4C'\n"
     ]
    },
    {
     "name": "stdout",
     "output_type": "stream",
     "text": [
      "Processed molecule 33600/50000 in molecule_fingerprints_part_0.parquet\n",
      "Processed molecule 33700/50000 in molecule_fingerprints_part_0.parquet\n",
      "Processed molecule 33800/50000 in molecule_fingerprints_part_0.parquet\n",
      "Processed molecule 33900/50000 in molecule_fingerprints_part_0.parquet\n",
      "Processed molecule 34000/50000 in molecule_fingerprints_part_0.parquet\n",
      "Processed molecule 34100/50000 in molecule_fingerprints_part_0.parquet\n",
      "Processed molecule 34200/50000 in molecule_fingerprints_part_0.parquet\n",
      "Processed molecule 34300/50000 in molecule_fingerprints_part_0.parquet\n",
      "Processed molecule 34400/50000 in molecule_fingerprints_part_0.parquet\n",
      "Processed molecule 34500/50000 in molecule_fingerprints_part_0.parquet\n"
     ]
    },
    {
     "name": "stderr",
     "output_type": "stream",
     "text": [
      "[00:23:41] SMILES Parse Error: unclosed ring for input: 'CCN(CC)CC1=C(C=CC(=C1)NC2=C3C(=NC=C2)C=C4C(=NN(N4)C)C3=NC=C5C3=NC=C5)O'\n"
     ]
    },
    {
     "name": "stdout",
     "output_type": "stream",
     "text": [
      "Processed molecule 34600/50000 in molecule_fingerprints_part_0.parquet\n"
     ]
    },
    {
     "name": "stderr",
     "output_type": "stream",
     "text": [
      "[00:23:58] SMILES Parse Error: unclosed ring for input: 'COC1=CC=C(C=C1)CN2CCCC3(C2=O)C4=C(N(C(=O)C=C4)CC5=CC=C(C=C5)C(F)(F)F)O'\n",
      "[00:24:09] SMILES Parse Error: unclosed ring for input: 'CN1C(=C(C(=C1O)[C@@]2(CCCN2C)C(=O)OC)[C@@H]3C4=CC=C(C=C4)C5=CC=C(C=C5)F)O'\n"
     ]
    },
    {
     "name": "stdout",
     "output_type": "stream",
     "text": [
      "Processed molecule 34700/50000 in molecule_fingerprints_part_0.parquet\n"
     ]
    },
    {
     "name": "stderr",
     "output_type": "stream",
     "text": [
      "[00:24:37] SMILES Parse Error: unclosed ring for input: 'CC(CCCC(C)(C)OC)/C=C/C=C(\\C)/CCC1=NNC(=O)/C(=C/C=C/C(C)CCCC(C)(C)OC)/C'\n",
      "[00:24:38] Can't kekulize mol.  Unkekulized atoms: 0 4 5 6 7\n"
     ]
    },
    {
     "name": "stdout",
     "output_type": "stream",
     "text": [
      "Processed molecule 34800/50000 in molecule_fingerprints_part_0.parquet\n"
     ]
    },
    {
     "name": "stderr",
     "output_type": "stream",
     "text": [
      "[00:24:52] SMILES Parse Error: unclosed ring for input: 'C1C[C@@]23[C@@H](C4(N2C1)NC(=NC4N=C(N3)N)N)N5C(=CC(=C5Br)Br)C(=O)N6CCC[C@]78[C@H]6CN=C(N7)N'\n",
      "[00:25:01] SMILES Parse Error: unclosed ring for input: 'CCCCN1C(=C(C(=O)NC1=O)N(CC(C)C)C(=O)CN2C(=C3CCCCC3=O)O)N'\n",
      "[00:25:03] SMILES Parse Error: unclosed ring for input: 'CC(C)(C)OC(=O)CN(C)CC(=O)C1CCC2=C(C1)C3=C4C(=CC=C3)C5=CC=CC6=C5C(=O)NC7=C6CCC(C7)C(=O)CN(C)CC(=O)OC(C)(C)C'\n"
     ]
    },
    {
     "name": "stdout",
     "output_type": "stream",
     "text": [
      "Processed molecule 34900/50000 in molecule_fingerprints_part_0.parquet\n",
      "Processed molecule 35000/50000 in molecule_fingerprints_part_0.parquet\n",
      "Processed molecule 35100/50000 in molecule_fingerprints_part_0.parquet\n",
      "Processed molecule 35200/50000 in molecule_fingerprints_part_0.parquet\n",
      "Processed molecule 35300/50000 in molecule_fingerprints_part_0.parquet\n",
      "Processed molecule 35400/50000 in molecule_fingerprints_part_0.parquet\n",
      "Processed molecule 35500/50000 in molecule_fingerprints_part_0.parquet\n",
      "Processed molecule 35600/50000 in molecule_fingerprints_part_0.parquet\n",
      "Processed molecule 35700/50000 in molecule_fingerprints_part_0.parquet\n",
      "Processed molecule 35800/50000 in molecule_fingerprints_part_0.parquet\n"
     ]
    },
    {
     "name": "stderr",
     "output_type": "stream",
     "text": [
      "[00:29:21] SMILES Parse Error: unclosed ring for input: 'CN1C=CC=C1CN2CCC[C@@]3(C2=O)C4=C(N(C(=O)C=C4)CC5=CC=CC=C5)O'\n"
     ]
    },
    {
     "name": "stdout",
     "output_type": "stream",
     "text": [
      "Processed molecule 35900/50000 in molecule_fingerprints_part_0.parquet\n",
      "Processed molecule 36000/50000 in molecule_fingerprints_part_0.parquet\n",
      "Processed molecule 36100/50000 in molecule_fingerprints_part_0.parquet\n"
     ]
    },
    {
     "name": "stderr",
     "output_type": "stream",
     "text": [
      "[00:30:33] SMILES Parse Error: unclosed ring for input: 'CC1=C2CC3=C(C=CC(=C3)OC)OC2=C(CC4=C1C=CC(=C4)OC)COC5=C(C=CC(=C5)OC)C6=C(C=C(C=C6)OC)OC4'\n",
      "[00:30:34] Can't kekulize mol.  Unkekulized atoms: 16 18 19\n",
      "[00:30:34] SMILES Parse Error: unclosed ring for input: 'CC1=CC2=C(C=C1)N(C(=O)C(=C2)C3C4C(C(=N)CCC4=O)C(=O)C3=CCCC3=O)CC=C'\n"
     ]
    },
    {
     "name": "stdout",
     "output_type": "stream",
     "text": [
      "Processed molecule 36200/50000 in molecule_fingerprints_part_0.parquet\n",
      "Processed molecule 36300/50000 in molecule_fingerprints_part_0.parquet\n",
      "Processed molecule 36400/50000 in molecule_fingerprints_part_0.parquet\n",
      "Processed molecule 36500/50000 in molecule_fingerprints_part_0.parquet\n"
     ]
    },
    {
     "name": "stderr",
     "output_type": "stream",
     "text": [
      "[00:32:21] SMILES Parse Error: unclosed ring for input: 'C[C@H]1[C@@H]2CC[C@@H]3[C@@]4(CCC[C@@]3(C2)C1=O)COC(=O)[C@]56[C@H]4[C@@H](OC5)OC'\n"
     ]
    },
    {
     "name": "stdout",
     "output_type": "stream",
     "text": [
      "Processed molecule 36600/50000 in molecule_fingerprints_part_0.parquet\n",
      "Processed molecule 36700/50000 in molecule_fingerprints_part_0.parquet\n",
      "Processed molecule 36800/50000 in molecule_fingerprints_part_0.parquet\n",
      "Processed molecule 36900/50000 in molecule_fingerprints_part_0.parquet\n",
      "Processed molecule 37000/50000 in molecule_fingerprints_part_0.parquet\n"
     ]
    },
    {
     "name": "stderr",
     "output_type": "stream",
     "text": [
      "[00:34:20] SMILES Parse Error: unclosed ring for input: 'CCN1C(=C(C(=C1O)[C@@]2(C(=O)OC)N[C@@H](N2)C3=CC=C(C=C3)C4=CC=CC=C4)C5(C(=O)OC)C(=O)OC)O'\n",
      "[00:34:31] SMILES Parse Error: unclosed ring for input: 'CCOC(=O)C1=C(NC2=C1C3=C(C=C2)OC(N4CCC5=C(C4)C(=CC=C5)Cl)C6=C(C=CC7=C6CN(CC7)CC8=C(O7)C=CC=C8Cl)Cl)C'\n"
     ]
    },
    {
     "name": "stdout",
     "output_type": "stream",
     "text": [
      "Processed molecule 37100/50000 in molecule_fingerprints_part_0.parquet\n",
      "Processed molecule 37200/50000 in molecule_fingerprints_part_0.parquet\n",
      "Processed molecule 37300/50000 in molecule_fingerprints_part_0.parquet\n",
      "Processed molecule 37400/50000 in molecule_fingerprints_part_0.parquet\n"
     ]
    },
    {
     "name": "stderr",
     "output_type": "stream",
     "text": [
      "[00:36:02] SMILES Parse Error: unclosed ring for input: 'CCO[C@H]1CC2=NOCCN'\n",
      "[00:36:11] SMILES Parse Error: unclosed ring for input: 'CC1(CC2=CC(CC(=O)C2C(C3=C(O2)CC(CC3=O)(C)C)C4=CC=CC=C4Br)(C)C)C'\n"
     ]
    },
    {
     "name": "stdout",
     "output_type": "stream",
     "text": [
      "Processed molecule 37500/50000 in molecule_fingerprints_part_0.parquet\n"
     ]
    },
    {
     "name": "stderr",
     "output_type": "stream",
     "text": [
      "[00:36:34] SMILES Parse Error: unclosed ring for input: 'C[C@@H]1C[C@@H]2[C@H](C2(C)C)C(=O)[C@]3(C(C1)C(=O)C(=C4[C@H]3[C@H]5C(=O)C(=C4C)C)C)C'\n"
     ]
    },
    {
     "name": "stdout",
     "output_type": "stream",
     "text": [
      "Processed molecule 37600/50000 in molecule_fingerprints_part_0.parquet\n",
      "Processed molecule 37700/50000 in molecule_fingerprints_part_0.parquet\n"
     ]
    },
    {
     "name": "stderr",
     "output_type": "stream",
     "text": [
      "[00:37:24] Explicit valence for atom # 29 N, 5, is greater than permitted\n"
     ]
    },
    {
     "name": "stdout",
     "output_type": "stream",
     "text": [
      "Processed molecule 37800/50000 in molecule_fingerprints_part_0.parquet\n",
      "Processed molecule 37900/50000 in molecule_fingerprints_part_0.parquet\n",
      "Processed molecule 38000/50000 in molecule_fingerprints_part_0.parquet\n",
      "Processed molecule 38100/50000 in molecule_fingerprints_part_0.parquet\n"
     ]
    },
    {
     "name": "stderr",
     "output_type": "stream",
     "text": [
      "[00:39:06] SMILES Parse Error: unclosed ring for input: 'CC1=CC=C(C=C1)C2=NN=C(O2)C3=CC=C(C=C3)C4=NC5=CC=CC=C5C(=O)N4C6=NC7=CC=C(C=C7)OC'\n",
      "[00:39:20] SMILES Parse Error: unclosed ring for input: 'NC(=O)c1ccc(Nc2nc3c(cccc3c3ccsc4cccc24)c2nc[nH]n2)cc1'\n"
     ]
    },
    {
     "name": "stdout",
     "output_type": "stream",
     "text": [
      "Processed molecule 38200/50000 in molecule_fingerprints_part_0.parquet\n",
      "Processed molecule 38300/50000 in molecule_fingerprints_part_0.parquet\n"
     ]
    },
    {
     "name": "stderr",
     "output_type": "stream",
     "text": [
      "[00:40:12] SMILES Parse Error: unclosed ring for input: 'CN(C)CCN1CCCC(=O)N2CC3=CC=CC=C3C4=C(C5=C(N4CC1=O)C=C(C=C5)C(=O)O)C6CCCCC6'\n"
     ]
    },
    {
     "name": "stdout",
     "output_type": "stream",
     "text": [
      "Processed molecule 38400/50000 in molecule_fingerprints_part_0.parquet\n",
      "Processed molecule 38500/50000 in molecule_fingerprints_part_0.parquet\n"
     ]
    },
    {
     "name": "stderr",
     "output_type": "stream",
     "text": [
      "[00:41:01] Can't kekulize mol.  Unkekulized atoms: 16 18 19\n"
     ]
    },
    {
     "name": "stdout",
     "output_type": "stream",
     "text": [
      "Processed molecule 38600/50000 in molecule_fingerprints_part_0.parquet\n",
      "Processed molecule 38700/50000 in molecule_fingerprints_part_0.parquet\n",
      "Processed molecule 38800/50000 in molecule_fingerprints_part_0.parquet\n",
      "Processed molecule 38900/50000 in molecule_fingerprints_part_0.parquet\n"
     ]
    },
    {
     "name": "stderr",
     "output_type": "stream",
     "text": [
      "[00:42:49] SMILES Parse Error: unclosed ring for input: 'CN([C@@H]1C[C@]23CCN(CC4CC4)[C@@H](C2)[C@@]3(CC[C@H]1N(C)C(=O)/C=C/C5=COC=C5)C6=C(C3)C=CC(=C6)O)C(=O)/C=C/C7=COC=C7'\n"
     ]
    },
    {
     "name": "stdout",
     "output_type": "stream",
     "text": [
      "Processed molecule 39000/50000 in molecule_fingerprints_part_0.parquet\n"
     ]
    },
    {
     "name": "stderr",
     "output_type": "stream",
     "text": [
      "[00:43:06] SMILES Parse Error: unclosed ring for input: 'C[C@@]12C[C@H]3C(=O)NCC(=O)N3C4=CC=CC=C41'\n"
     ]
    },
    {
     "name": "stdout",
     "output_type": "stream",
     "text": [
      "Processed molecule 39100/50000 in molecule_fingerprints_part_0.parquet\n"
     ]
    },
    {
     "name": "stderr",
     "output_type": "stream",
     "text": [
      "[00:43:33] Can't kekulize mol.  Unkekulized atoms: 2 3 6\n"
     ]
    },
    {
     "name": "stdout",
     "output_type": "stream",
     "text": [
      "Processed molecule 39200/50000 in molecule_fingerprints_part_0.parquet\n",
      "Processed molecule 39300/50000 in molecule_fingerprints_part_0.parquet\n",
      "Processed molecule 39400/50000 in molecule_fingerprints_part_0.parquet\n"
     ]
    },
    {
     "name": "stderr",
     "output_type": "stream",
     "text": [
      "[00:44:34] SMILES Parse Error: unclosed ring for input: 'C[C@@H]1[C@H]([C@@H]([C@@]2([C@@H]3[C@@]14C[C@@H](O[C@H]4CC3)C5=COC=C5)C)OC(=O)C)OC(=O)C'\n"
     ]
    },
    {
     "name": "stdout",
     "output_type": "stream",
     "text": [
      "Processed molecule 39500/50000 in molecule_fingerprints_part_0.parquet\n"
     ]
    },
    {
     "name": "stderr",
     "output_type": "stream",
     "text": [
      "[00:45:11] SMILES Parse Error: extra close parentheses while parsing: CCCN1CCNC1=O)OCCN2C(=O)C3=CC=CC=C3C2(C4=CC=C(C=C4)C(C)(C)C)OCCN5CCNC5=O\n",
      "[00:45:11] SMILES Parse Error: Failed parsing SMILES 'CCCN1CCNC1=O)OCCN2C(=O)C3=CC=CC=C3C2(C4=CC=C(C=C4)C(C)(C)C)OCCN5CCNC5=O' for input: 'CCCN1CCNC1=O)OCCN2C(=O)C3=CC=CC=C3C2(C4=CC=C(C=C4)C(C)(C)C)OCCN5CCNC5=O'\n"
     ]
    },
    {
     "name": "stdout",
     "output_type": "stream",
     "text": [
      "Processed molecule 39600/50000 in molecule_fingerprints_part_0.parquet\n",
      "Processed molecule 39700/50000 in molecule_fingerprints_part_0.parquet\n"
     ]
    },
    {
     "name": "stderr",
     "output_type": "stream",
     "text": [
      "[00:45:58] SMILES Parse Error: unclosed ring for input: 'CC\\1=NN(C(=N/C1=C\\C2=CC=C(C=C2)Cl)N=C3N=C4C=CC=CC4=CC5=CC=C(C=C5)Cl)C6=CC(=CC=C6)Cl'\n",
      "[00:46:08] SMILES Parse Error: unclosed ring for input: 'CC(=CC/C=C/1\\CC[C@@H]2[C@H](CC[C@@]3([C@H](O3)CCC(=C)[C@H]1C(=O)OCC2=C)C)C(=C)CC[C@@H]4[C@H](CC[C@]5([C@H](O5)CCC4=C)C)C(=O)OCC4=C)C'\n"
     ]
    },
    {
     "name": "stdout",
     "output_type": "stream",
     "text": [
      "Processed molecule 39800/50000 in molecule_fingerprints_part_0.parquet\n",
      "Processed molecule 39900/50000 in molecule_fingerprints_part_0.parquet\n",
      "Processed molecule 40000/50000 in molecule_fingerprints_part_0.parquet\n"
     ]
    },
    {
     "name": "stderr",
     "output_type": "stream",
     "text": [
      "[00:47:26] SMILES Parse Error: unclosed ring for input: 'C12(CCCCC1)Oc1nc(=O)c(c([nH]1)C(=O)NCc1ccc(cc1)F)O'\n"
     ]
    },
    {
     "name": "stdout",
     "output_type": "stream",
     "text": [
      "Processed molecule 40100/50000 in molecule_fingerprints_part_0.parquet\n",
      "Processed molecule 40200/50000 in molecule_fingerprints_part_0.parquet\n",
      "Processed molecule 40300/50000 in molecule_fingerprints_part_0.parquet\n",
      "Processed molecule 40400/50000 in molecule_fingerprints_part_0.parquet\n",
      "Processed molecule 40500/50000 in molecule_fingerprints_part_0.parquet\n",
      "Processed molecule 40600/50000 in molecule_fingerprints_part_0.parquet\n",
      "Processed molecule 40700/50000 in molecule_fingerprints_part_0.parquet\n",
      "Processed molecule 40800/50000 in molecule_fingerprints_part_0.parquet\n"
     ]
    },
    {
     "name": "stderr",
     "output_type": "stream",
     "text": [
      "[00:50:37] SMILES Parse Error: unclosed ring for input: 'CCCC1(C(NC(N1)C2=CC=CC=C2O)C3=C(N(C(=C3C4C5=CC=CC=C5O)O)C6=CC(=CC=C6)Cl)O)C(=O)O'\n"
     ]
    },
    {
     "name": "stdout",
     "output_type": "stream",
     "text": [
      "Processed molecule 40900/50000 in molecule_fingerprints_part_0.parquet\n",
      "Processed molecule 41000/50000 in molecule_fingerprints_part_0.parquet\n",
      "Processed molecule 41100/50000 in molecule_fingerprints_part_0.parquet\n",
      "Processed molecule 41200/50000 in molecule_fingerprints_part_0.parquet\n"
     ]
    },
    {
     "name": "stderr",
     "output_type": "stream",
     "text": [
      "[00:52:31] SMILES Parse Error: unclosed ring for input: 'C1C2C3C4C5C3C6C2C7C=CC8=NN(CC8C7C4C81)C9=CC=CC=C9'\n"
     ]
    },
    {
     "name": "stdout",
     "output_type": "stream",
     "text": [
      "Processed molecule 41300/50000 in molecule_fingerprints_part_0.parquet\n"
     ]
    },
    {
     "name": "stderr",
     "output_type": "stream",
     "text": [
      "[00:53:08] Can't kekulize mol.  Unkekulized atoms: 17 18 20\n"
     ]
    },
    {
     "name": "stdout",
     "output_type": "stream",
     "text": [
      "Processed molecule 41400/50000 in molecule_fingerprints_part_0.parquet\n",
      "Processed molecule 41500/50000 in molecule_fingerprints_part_0.parquet\n",
      "Processed molecule 41600/50000 in molecule_fingerprints_part_0.parquet\n",
      "Processed molecule 41700/50000 in molecule_fingerprints_part_0.parquet\n"
     ]
    },
    {
     "name": "stderr",
     "output_type": "stream",
     "text": [
      "[00:54:36] SMILES Parse Error: unclosed ring for input: 'CC1(C(C2=C(CCCN1C(=O)N2)C=C(C=C2)OC)N3CCCC4=C(C3C5(C(=O)NC(=O)N5)C)C=CC(=C4)OC)C'\n"
     ]
    },
    {
     "name": "stdout",
     "output_type": "stream",
     "text": [
      "Processed molecule 41800/50000 in molecule_fingerprints_part_0.parquet\n",
      "Processed molecule 41900/50000 in molecule_fingerprints_part_0.parquet\n",
      "Processed molecule 42000/50000 in molecule_fingerprints_part_0.parquet\n"
     ]
    },
    {
     "name": "stderr",
     "output_type": "stream",
     "text": [
      "[00:55:51] SMILES Parse Error: unclosed ring for input: 'C1CN(CCN1)C(=O)CCC(=O)C2=CC3=C(C=C2)NC4=C(NC5=C3C6=CCC=C6NC5=C34)O'\n"
     ]
    },
    {
     "name": "stdout",
     "output_type": "stream",
     "text": [
      "Processed molecule 42100/50000 in molecule_fingerprints_part_0.parquet\n",
      "Processed molecule 42200/50000 in molecule_fingerprints_part_0.parquet\n",
      "Processed molecule 42300/50000 in molecule_fingerprints_part_0.parquet\n",
      "Processed molecule 42400/50000 in molecule_fingerprints_part_0.parquet\n",
      "Processed molecule 42500/50000 in molecule_fingerprints_part_0.parquet\n",
      "Processed molecule 42600/50000 in molecule_fingerprints_part_0.parquet\n"
     ]
    },
    {
     "name": "stderr",
     "output_type": "stream",
     "text": [
      "[00:58:45] SMILES Parse Error: unclosed ring for input: 'COC1=CC=C(C=C1)CN2CCCC3(C2=O)C4=C(N(C(=O)C=C4)CC5=CC=C(C=C5)Cl)O'\n"
     ]
    },
    {
     "name": "stdout",
     "output_type": "stream",
     "text": [
      "Processed molecule 42700/50000 in molecule_fingerprints_part_0.parquet\n"
     ]
    },
    {
     "name": "stderr",
     "output_type": "stream",
     "text": [
      "[00:59:06] SMILES Parse Error: unclosed ring for input: 'COC1=C(C2=C3C(=C1)N=C4C5=C(CC6=C4C3=CC=C6)C=C(C=C5)OCCN)OC'\n"
     ]
    },
    {
     "name": "stdout",
     "output_type": "stream",
     "text": [
      "Processed molecule 42800/50000 in molecule_fingerprints_part_0.parquet\n",
      "Processed molecule 42900/50000 in molecule_fingerprints_part_0.parquet\n"
     ]
    },
    {
     "name": "stderr",
     "output_type": "stream",
     "text": [
      "[01:00:07] SMILES Parse Error: extra close parentheses while parsing: CCOC(=O)N1CCOCC1)/C(=N/OC(=O)N2CCOCC2)/C3=CC=CC=C3\n",
      "[01:00:07] SMILES Parse Error: Failed parsing SMILES 'CCOC(=O)N1CCOCC1)/C(=N/OC(=O)N2CCOCC2)/C3=CC=CC=C3' for input: 'CCOC(=O)N1CCOCC1)/C(=N/OC(=O)N2CCOCC2)/C3=CC=CC=C3'\n"
     ]
    },
    {
     "name": "stdout",
     "output_type": "stream",
     "text": [
      "Processed molecule 43000/50000 in molecule_fingerprints_part_0.parquet\n",
      "Processed molecule 43100/50000 in molecule_fingerprints_part_0.parquet\n"
     ]
    },
    {
     "name": "stderr",
     "output_type": "stream",
     "text": [
      "[01:00:57] Explicit valence for atom # 20 N, 5, is greater than permitted\n"
     ]
    },
    {
     "name": "stdout",
     "output_type": "stream",
     "text": [
      "Processed molecule 43200/50000 in molecule_fingerprints_part_0.parquet\n",
      "Processed molecule 43300/50000 in molecule_fingerprints_part_0.parquet\n"
     ]
    },
    {
     "name": "stderr",
     "output_type": "stream",
     "text": [
      "[01:01:39] SMILES Parse Error: unclosed ring for input: 'CCCC1(CCC(=O)C1)C(CC)(C(=O)O)C(CC)(CC)C(=O)COC2=C(C(=C(C(=C2)OC(=O)COC3=C(C(=CC4(CCC(=O)C4)CCC)Cl)Cl)Cl)Cl)Cl'\n"
     ]
    },
    {
     "name": "stdout",
     "output_type": "stream",
     "text": [
      "Processed molecule 43400/50000 in molecule_fingerprints_part_0.parquet\n"
     ]
    },
    {
     "name": "stderr",
     "output_type": "stream",
     "text": [
      "[01:02:14] SMILES Parse Error: unclosed ring for input: 'CN(CCC1=CC2=C(C=C1)OCO2)CC3CCOC4=CC=CC5=C34'\n"
     ]
    },
    {
     "name": "stdout",
     "output_type": "stream",
     "text": [
      "Processed molecule 43500/50000 in molecule_fingerprints_part_0.parquet\n",
      "Processed molecule 43600/50000 in molecule_fingerprints_part_0.parquet\n"
     ]
    },
    {
     "name": "stderr",
     "output_type": "stream",
     "text": [
      "[01:03:08] SMILES Parse Error: unclosed ring for input: 'C1CC2(CC2)CNC(=O)C3=C2NC(=C3)C4=CC(=NC=C4)NC(=O)C5=CC(=CC=C5)OC(F)(F)F'\n"
     ]
    },
    {
     "name": "stdout",
     "output_type": "stream",
     "text": [
      "Processed molecule 43700/50000 in molecule_fingerprints_part_0.parquet\n"
     ]
    },
    {
     "name": "stderr",
     "output_type": "stream",
     "text": [
      "[01:03:31] SMILES Parse Error: unclosed ring for input: 'C1C(C2=C(C(=O)O)N(C=N2)CCSC3=CC=CC=C3C(=O)O)O'\n",
      "[01:03:35] Explicit valence for atom # 30 C, 5, is greater than permitted\n"
     ]
    },
    {
     "name": "stdout",
     "output_type": "stream",
     "text": [
      "Processed molecule 43800/50000 in molecule_fingerprints_part_0.parquet\n",
      "Processed molecule 43900/50000 in molecule_fingerprints_part_0.parquet\n",
      "Processed molecule 44000/50000 in molecule_fingerprints_part_0.parquet\n",
      "Processed molecule 44100/50000 in molecule_fingerprints_part_0.parquet\n"
     ]
    },
    {
     "name": "stderr",
     "output_type": "stream",
     "text": [
      "[01:05:12] Can't kekulize mol.  Unkekulized atoms: 1 2 3 16\n"
     ]
    },
    {
     "name": "stdout",
     "output_type": "stream",
     "text": [
      "Processed molecule 44200/50000 in molecule_fingerprints_part_0.parquet\n",
      "Processed molecule 44300/50000 in molecule_fingerprints_part_0.parquet\n"
     ]
    },
    {
     "name": "stderr",
     "output_type": "stream",
     "text": [
      "[01:05:56] SMILES Parse Error: unclosed ring for input: 'CCCCCCCCCCCCCCCCCCCCCCCCCCCCCCCCCCCCCCCCCCCCCCCCCCCCCCCCCCCCCCCCCCCCCCCC2'\n"
     ]
    },
    {
     "name": "stdout",
     "output_type": "stream",
     "text": [
      "Processed molecule 44400/50000 in molecule_fingerprints_part_0.parquet\n",
      "Processed molecule 44500/50000 in molecule_fingerprints_part_0.parquet\n",
      "Processed molecule 44600/50000 in molecule_fingerprints_part_0.parquet\n"
     ]
    },
    {
     "name": "stderr",
     "output_type": "stream",
     "text": [
      "[01:07:29] SMILES Parse Error: unclosed ring for input: 'CC1=CC(=CC(=C1C2=CC(=C(C=C2)F)COC3=NC=C4[C@@H]5[C@H](C4)[C@@H]5C(=O)O)C)OCCC(C)O'\n"
     ]
    },
    {
     "name": "stdout",
     "output_type": "stream",
     "text": [
      "Processed molecule 44700/50000 in molecule_fingerprints_part_0.parquet\n"
     ]
    },
    {
     "name": "stderr",
     "output_type": "stream",
     "text": [
      "[01:07:40] SMILES Parse Error: unclosed ring for input: 'CC1CCCC2=C(C3=C(N(C(=S)N=C13)C4=CC=CC=C4)N)C5=CC=CN5C'\n"
     ]
    },
    {
     "name": "stdout",
     "output_type": "stream",
     "text": [
      "Processed molecule 44800/50000 in molecule_fingerprints_part_0.parquet\n"
     ]
    },
    {
     "name": "stderr",
     "output_type": "stream",
     "text": [
      "[01:08:11] Can't kekulize mol.  Unkekulized atoms: 0 1 2 3 4 5 7 8 9\n"
     ]
    },
    {
     "name": "stdout",
     "output_type": "stream",
     "text": [
      "Processed molecule 44900/50000 in molecule_fingerprints_part_0.parquet\n"
     ]
    },
    {
     "name": "stderr",
     "output_type": "stream",
     "text": [
      "[01:08:44] SMILES Parse Error: unclosed ring for input: 'CCCN1CC[C@@H]2[C@H]3CCC[C@H]3[C@H](C4=C2C=C5C=CC=C(C5=N4)OC)CC'\n"
     ]
    },
    {
     "name": "stdout",
     "output_type": "stream",
     "text": [
      "Processed molecule 45000/50000 in molecule_fingerprints_part_0.parquet\n"
     ]
    },
    {
     "name": "stderr",
     "output_type": "stream",
     "text": [
      "[01:08:51] Can't kekulize mol.  Unkekulized atoms: 0 1 2 3 4 5 6 8 9\n"
     ]
    },
    {
     "name": "stdout",
     "output_type": "stream",
     "text": [
      "Processed molecule 45100/50000 in molecule_fingerprints_part_0.parquet\n"
     ]
    },
    {
     "name": "stderr",
     "output_type": "stream",
     "text": [
      "[01:09:29] SMILES Parse Error: unclosed ring for input: 'C[C@@]12CCC[C@]34[C@@H]1[C@H]([C@](C3)(C56[C@H]4C[C@@H]7[C@H](C5)C(=C)[C@H]7OC(=O)/C=C/C8=CC=CC=C8)O)N(C2)C4'\n"
     ]
    },
    {
     "name": "stdout",
     "output_type": "stream",
     "text": [
      "Processed molecule 45200/50000 in molecule_fingerprints_part_0.parquet\n",
      "Processed molecule 45300/50000 in molecule_fingerprints_part_0.parquet\n",
      "Processed molecule 45400/50000 in molecule_fingerprints_part_0.parquet\n",
      "Processed molecule 45500/50000 in molecule_fingerprints_part_0.parquet\n",
      "Processed molecule 45600/50000 in molecule_fingerprints_part_0.parquet\n"
     ]
    },
    {
     "name": "stderr",
     "output_type": "stream",
     "text": [
      "[01:11:37] SMILES Parse Error: unclosed ring for input: 'CCCC[C@@H]1[C@@H]2CO[C@@H]([C@]2(CO1)O)OC3=C(C=CC=C3OC)C4OC5=C(C=C(C(=C5)OC)C6[C@H]7CO[C@@H]([C@H]7CO6)COC)OC'\n"
     ]
    },
    {
     "name": "stdout",
     "output_type": "stream",
     "text": [
      "Processed molecule 45700/50000 in molecule_fingerprints_part_0.parquet\n"
     ]
    },
    {
     "name": "stderr",
     "output_type": "stream",
     "text": [
      "[01:12:07] Can't kekulize mol.  Unkekulized atoms: 10 11 12 13 14\n",
      "[01:12:18] SMILES Parse Error: unclosed ring for input: 'C1=CC=C(C=C1)C2C(=O)C3C=CN2C(=O)OC4=CC=CC=C4'\n"
     ]
    },
    {
     "name": "stdout",
     "output_type": "stream",
     "text": [
      "Processed molecule 45800/50000 in molecule_fingerprints_part_0.parquet\n"
     ]
    },
    {
     "name": "stderr",
     "output_type": "stream",
     "text": [
      "[01:12:40] Can't kekulize mol.  Unkekulized atoms: 0 1 2 3 4 5 7 8 28\n"
     ]
    },
    {
     "name": "stdout",
     "output_type": "stream",
     "text": [
      "Processed molecule 45900/50000 in molecule_fingerprints_part_0.parquet\n",
      "Processed molecule 46000/50000 in molecule_fingerprints_part_0.parquet\n"
     ]
    },
    {
     "name": "stderr",
     "output_type": "stream",
     "text": [
      "[01:13:26] SMILES Parse Error: unclosed ring for input: 'CCOC1=C(C=C(C=C1)C(=O)O[C@@H]2C=COC=C3[C@@H]2N4C(=O)[C@@]5(CC4=C3)N(C(=O)[C@@](N5C)(CC6=CC=C(C=C6)O)SSSSS5)C)O'\n",
      "[01:13:28] SMILES Parse Error: extra open parentheses for input: 'CC[C@@]1([C@H](N1)C2=C(N(C(=C2C3(N[C@H]([C@@H](N3)CN(C)C(=O)C4=CC=C(C=C4)C(C)(C)C)C5=C(N(C(=C5C(C)(C)C)CC6=CC=CC=C6)O)O)C(=O)OC)O)CC7=CC)C(=OC)C'\n"
     ]
    },
    {
     "name": "stdout",
     "output_type": "stream",
     "text": [
      "Processed molecule 46100/50000 in molecule_fingerprints_part_0.parquet\n"
     ]
    },
    {
     "name": "stderr",
     "output_type": "stream",
     "text": [
      "[01:14:02] Can't kekulize mol.  Unkekulized atoms: 16 17 19 20 21 22 23\n"
     ]
    },
    {
     "name": "stdout",
     "output_type": "stream",
     "text": [
      "Processed molecule 46200/50000 in molecule_fingerprints_part_0.parquet\n",
      "Processed molecule 46300/50000 in molecule_fingerprints_part_0.parquet\n",
      "Processed molecule 46400/50000 in molecule_fingerprints_part_0.parquet\n",
      "Processed molecule 46500/50000 in molecule_fingerprints_part_0.parquet\n"
     ]
    },
    {
     "name": "stderr",
     "output_type": "stream",
     "text": [
      "[01:15:33] SMILES Parse Error: extra close parentheses while parsing: CC1(O)CCCCC1)NC(=O)[C@@H]1NC2(CCCCC2)[C@@]2([C@H]1c1cccc(Cl)c1F)C(=O)Nc1cc(Cl)ccc21\n",
      "[01:15:33] SMILES Parse Error: Failed parsing SMILES 'CC1(O)CCCCC1)NC(=O)[C@@H]1NC2(CCCCC2)[C@@]2([C@H]1c1cccc(Cl)c1F)C(=O)Nc1cc(Cl)ccc21' for input: 'CC1(O)CCCCC1)NC(=O)[C@@H]1NC2(CCCCC2)[C@@]2([C@H]1c1cccc(Cl)c1F)C(=O)Nc1cc(Cl)ccc21'\n"
     ]
    },
    {
     "name": "stdout",
     "output_type": "stream",
     "text": [
      "Processed molecule 46600/50000 in molecule_fingerprints_part_0.parquet\n",
      "Processed molecule 46700/50000 in molecule_fingerprints_part_0.parquet\n",
      "Processed molecule 46800/50000 in molecule_fingerprints_part_0.parquet\n"
     ]
    },
    {
     "name": "stderr",
     "output_type": "stream",
     "text": [
      "[01:17:03] SMILES Parse Error: unclosed ring for input: 'CC(C)C1=C2[C@H]3[C@@]4(CC[C@@]([C@@H](C4=C(C(=NC=C4C[C@H]([C@@H]2C(O3)O)O)C(=O)CO)C(C)C)OC)(C)C(=O)CO)C'\n"
     ]
    },
    {
     "name": "stdout",
     "output_type": "stream",
     "text": [
      "Processed molecule 46900/50000 in molecule_fingerprints_part_0.parquet\n",
      "Processed molecule 47000/50000 in molecule_fingerprints_part_0.parquet\n"
     ]
    },
    {
     "name": "stderr",
     "output_type": "stream",
     "text": [
      "[01:17:54] SMILES Parse Error: unclosed ring for input: 'C1C2(C1)N1CCN(C(C1)CC#N)C(=O)C(=C)OCc1nc3c(c(N4CC(C4)F)n1)CO[C@H](C3)c1c(cc(c(c1F)F)N)C'\n"
     ]
    },
    {
     "name": "stdout",
     "output_type": "stream",
     "text": [
      "Processed molecule 47100/50000 in molecule_fingerprints_part_0.parquet\n"
     ]
    },
    {
     "name": "stderr",
     "output_type": "stream",
     "text": [
      "[01:18:07] SMILES Parse Error: unclosed ring for input: 'C[C@@H]1C[C@@H](CC2=C3[C@@H]1[C@@H]4[C@@H]([C@@H]5[C@H]3C(=O)[C@H](C5=O)[C@@H](C4=O)C)OC(=O)[C@@]3(CC2)[C@@H]6C[C@@H](C[C@@H](C6)O)O)O'\n"
     ]
    },
    {
     "name": "stdout",
     "output_type": "stream",
     "text": [
      "Processed molecule 47200/50000 in molecule_fingerprints_part_0.parquet\n"
     ]
    },
    {
     "name": "stderr",
     "output_type": "stream",
     "text": [
      "[01:18:45] Can't kekulize mol.  Unkekulized atoms: 1 2 3 4 6\n"
     ]
    },
    {
     "name": "stdout",
     "output_type": "stream",
     "text": [
      "Processed molecule 47300/50000 in molecule_fingerprints_part_0.parquet\n",
      "Processed molecule 47400/50000 in molecule_fingerprints_part_0.parquet\n",
      "Processed molecule 47500/50000 in molecule_fingerprints_part_0.parquet\n"
     ]
    },
    {
     "name": "stderr",
     "output_type": "stream",
     "text": [
      "[01:20:15] Can't kekulize mol.  Unkekulized atoms: 0 1 2 4 5\n"
     ]
    },
    {
     "name": "stdout",
     "output_type": "stream",
     "text": [
      "Processed molecule 47600/50000 in molecule_fingerprints_part_0.parquet\n"
     ]
    },
    {
     "name": "stderr",
     "output_type": "stream",
     "text": [
      "[01:20:41] SMILES Parse Error: unclosed ring for input: 'CC1(C)CCC(=O)C=C2[C@H]1[C@@H]([C@@]1([C@]3(OC1)[C@@H]2CC[C@@H]([C@H]3OC(=O)CCCC(=O)OCc1cn(c2c1C(=O)C(=C)C2=O)C)C(=C)C4=O)O)O'\n"
     ]
    },
    {
     "name": "stdout",
     "output_type": "stream",
     "text": [
      "Processed molecule 47700/50000 in molecule_fingerprints_part_0.parquet\n",
      "Processed molecule 47800/50000 in molecule_fingerprints_part_0.parquet\n",
      "Processed molecule 47900/50000 in molecule_fingerprints_part_0.parquet\n",
      "Processed molecule 48000/50000 in molecule_fingerprints_part_0.parquet\n",
      "Processed molecule 48100/50000 in molecule_fingerprints_part_0.parquet\n",
      "Processed molecule 48200/50000 in molecule_fingerprints_part_0.parquet\n",
      "Processed molecule 48300/50000 in molecule_fingerprints_part_0.parquet\n"
     ]
    },
    {
     "name": "stderr",
     "output_type": "stream",
     "text": [
      "[01:23:26] SMILES Parse Error: unclosed ring for input: 'c12c(ncn1CCN/C/2=N\\CCc1ccccc1)C(=O)C(=C/C/1=N/CCc1ccccc1)N1CCN/C(=N\\CCc2ccccc2)/C1'\n",
      "[01:23:33] SMILES Parse Error: unclosed ring for input: 'C1CNCCC1C23CC4CC(C2)CC(C4)C35CC6CC(C5)CC7(C6)CC8CC9CC(C7)CC8C7'\n"
     ]
    },
    {
     "name": "stdout",
     "output_type": "stream",
     "text": [
      "Processed molecule 48400/50000 in molecule_fingerprints_part_0.parquet\n"
     ]
    },
    {
     "name": "stderr",
     "output_type": "stream",
     "text": [
      "[01:24:04] SMILES Parse Error: unclosed ring for input: 'CO[C@@H]1C[C@@]23C(=O)N4[C@@H]5[C@H](CC(=O)[C@H]5C[C@@]4(C(=O)N2[C@H]1[C@H]([C@H]3O)O)SSS4)O'\n",
      "[01:24:06] SMILES Parse Error: unclosed ring for input: 'CC(C)(C)OC(=O)N1CC2CCC1CC2C(=O)N3C4CCC3C(=O)N5CC6CCC5CC6'\n"
     ]
    },
    {
     "name": "stdout",
     "output_type": "stream",
     "text": [
      "Processed molecule 48500/50000 in molecule_fingerprints_part_0.parquet\n"
     ]
    },
    {
     "name": "stderr",
     "output_type": "stream",
     "text": [
      "[01:24:21] Can't kekulize mol.  Unkekulized atoms: 17 18 19\n",
      "[01:24:26] Can't kekulize mol.  Unkekulized atoms: 9 14 15\n"
     ]
    },
    {
     "name": "stdout",
     "output_type": "stream",
     "text": [
      "Processed molecule 48600/50000 in molecule_fingerprints_part_0.parquet\n",
      "Processed molecule 48700/50000 in molecule_fingerprints_part_0.parquet\n",
      "Processed molecule 48800/50000 in molecule_fingerprints_part_0.parquet\n",
      "Processed molecule 48900/50000 in molecule_fingerprints_part_0.parquet\n",
      "Processed molecule 49000/50000 in molecule_fingerprints_part_0.parquet\n"
     ]
    },
    {
     "name": "stderr",
     "output_type": "stream",
     "text": [
      "[01:26:35] SMILES Parse Error: unclosed ring for input: 'CCCCCCCCCCCCCCCCC(=O)[C@H]1[C@@H]2CC3=C(COC(=O)[C@@H]([C@]2(OC1=O)C)C(=O)CCCCCCCCCCCCCCCC)C(=O)C4=C3'\n",
      "[01:26:41] SMILES Parse Error: extra close parentheses while parsing: COCCN1C[C@@H]2OC)CCN([C@@H]2C1)C(=O)COc1ccccc1\n",
      "[01:26:41] SMILES Parse Error: Failed parsing SMILES 'COCCN1C[C@@H]2OC)CCN([C@@H]2C1)C(=O)COc1ccccc1' for input: 'COCCN1C[C@@H]2OC)CCN([C@@H]2C1)C(=O)COc1ccccc1'\n"
     ]
    },
    {
     "name": "stdout",
     "output_type": "stream",
     "text": [
      "Processed molecule 49100/50000 in molecule_fingerprints_part_0.parquet\n",
      "Processed molecule 49200/50000 in molecule_fingerprints_part_0.parquet\n"
     ]
    },
    {
     "name": "stderr",
     "output_type": "stream",
     "text": [
      "[01:27:25] Can't kekulize mol.  Unkekulized atoms: 21 22 23\n"
     ]
    },
    {
     "name": "stdout",
     "output_type": "stream",
     "text": [
      "Processed molecule 49300/50000 in molecule_fingerprints_part_0.parquet\n"
     ]
    },
    {
     "name": "stderr",
     "output_type": "stream",
     "text": [
      "[01:28:02] SMILES Parse Error: unclosed ring for input: 'CC1=C(C(=C(S1)NC(=O)C2=C(CCCC2)C(=O)O)C3CC3)C4=NC(=NO4)C(=O)NC5=C(C6CC6)C(=O)O'\n"
     ]
    },
    {
     "name": "stdout",
     "output_type": "stream",
     "text": [
      "Processed molecule 49400/50000 in molecule_fingerprints_part_0.parquet\n",
      "Processed molecule 49500/50000 in molecule_fingerprints_part_0.parquet\n"
     ]
    },
    {
     "name": "stderr",
     "output_type": "stream",
     "text": [
      "[01:28:43] SMILES Parse Error: unclosed ring for input: 'CCc1cc2C(=O)c3c([nH]c4cc(ccc34)C#N)C(C)(C)c2cc1NC(=O)CN1CC2C(CO)C1'\n",
      "[01:28:46] SMILES Parse Error: unclosed ring for input: 'FC(F)Oc1ccc(nc1)C(=O)Nc1ccc(F)c(c1)C12COCC(=N)N1'\n"
     ]
    },
    {
     "name": "stdout",
     "output_type": "stream",
     "text": [
      "Processed molecule 49600/50000 in molecule_fingerprints_part_0.parquet\n",
      "Processed molecule 49700/50000 in molecule_fingerprints_part_0.parquet\n"
     ]
    },
    {
     "name": "stderr",
     "output_type": "stream",
     "text": [
      "[01:29:51] SMILES Parse Error: unclosed ring for input: 'C[C@@]12CC[C@H]([C@@]([C@H]1CC[C@H]3C(=O)CC4=C[C@]5(CC[C@@H]([C@@]([C@H]5CC[C@H]24)(C)CO)O)C)(C)C(=O)OC)O'\n"
     ]
    },
    {
     "name": "stdout",
     "output_type": "stream",
     "text": [
      "Processed molecule 49800/50000 in molecule_fingerprints_part_0.parquet\n",
      "Processed molecule 49900/50000 in molecule_fingerprints_part_0.parquet\n"
     ]
    },
    {
     "name": "stderr",
     "output_type": "stream",
     "text": [
      "[01:30:31] SMILES Parse Error: unclosed ring for input: 'CC(=C)[C@@H]1CC[C@@]2([C@@H]3CC[C@@H]4[C@H]5[C@H]([C@@]3(CC[C@@]2([C@@]1(C)CCC#N)C)C)OCC5(C)C)C'\n"
     ]
    },
    {
     "name": "stdout",
     "output_type": "stream",
     "text": [
      "Processed molecule 50000/50000 in molecule_fingerprints_part_0.parquet\n",
      "Finished processing molecule_fingerprints_part_0.parquet\n",
      "Processed molecule 100/50000 in molecule_fingerprints_part_1.parquet\n",
      "Processed molecule 200/50000 in molecule_fingerprints_part_1.parquet\n",
      "Processed molecule 300/50000 in molecule_fingerprints_part_1.parquet\n"
     ]
    },
    {
     "name": "stderr",
     "output_type": "stream",
     "text": [
      "[01:32:22] SMILES Parse Error: unclosed ring for input: 'C[C@@]12CC[C@@H](C1(C)C)C[C@@]23CNP(=S)(O3)O[C@]45CNP(=S)(O4)OC'\n"
     ]
    },
    {
     "name": "stdout",
     "output_type": "stream",
     "text": [
      "Processed molecule 400/50000 in molecule_fingerprints_part_1.parquet\n",
      "Processed molecule 500/50000 in molecule_fingerprints_part_1.parquet\n",
      "Processed molecule 600/50000 in molecule_fingerprints_part_1.parquet\n",
      "Processed molecule 700/50000 in molecule_fingerprints_part_1.parquet\n"
     ]
    },
    {
     "name": "stderr",
     "output_type": "stream",
     "text": [
      "[01:34:32] Can't kekulize mol.  Unkekulized atoms: 2 3 6 18 26\n"
     ]
    },
    {
     "name": "stdout",
     "output_type": "stream",
     "text": [
      "Processed molecule 800/50000 in molecule_fingerprints_part_1.parquet\n",
      "Processed molecule 900/50000 in molecule_fingerprints_part_1.parquet\n",
      "Processed molecule 1000/50000 in molecule_fingerprints_part_1.parquet\n"
     ]
    },
    {
     "name": "stderr",
     "output_type": "stream",
     "text": [
      "[01:35:47] SMILES Parse Error: unclosed ring for input: 'FC1(F)c2c[nH]nc2C(F)(F)C1N1S(=O)(=O)c2ccc(nc2)C(F)(F)F'\n"
     ]
    },
    {
     "name": "stdout",
     "output_type": "stream",
     "text": [
      "Processed molecule 1100/50000 in molecule_fingerprints_part_1.parquet\n"
     ]
    },
    {
     "name": "stderr",
     "output_type": "stream",
     "text": [
      "[01:36:11] SMILES Parse Error: unclosed ring for input: 'CC(=O)OCC(=O)[C@]12[C@@H](C[C@@H]3[C@@]1(C[C@@H]([C@H]4[C@H]3CC=C5[C@@]4(C=CC(=O)C5)C)O)C)CN2C(=O)CCN6C[C@@H]7C[C@H]([C@@H]8[C@@]7(C=CC(=O)C8)C)O'\n"
     ]
    },
    {
     "name": "stdout",
     "output_type": "stream",
     "text": [
      "Processed molecule 1200/50000 in molecule_fingerprints_part_1.parquet\n"
     ]
    },
    {
     "name": "stderr",
     "output_type": "stream",
     "text": [
      "[01:36:21] SMILES Parse Error: unclosed ring for input: 'C1COC2=C(O1)C=C3C(=C2)N=C4C(=CC5=CC=CC=C54)C(=O)N3CC6=C(C7=CC=CC=C7N=C6C8=CC9=CC=CC=C9C(=O)N8C7)CCl'\n",
      "[01:36:45] SMILES Parse Error: unclosed ring for input: 'CC1OCC2(CO1)C3CCC4(C(C3(CO2)C)CC=C5C(COC5=O)OC(=O)C)C'\n"
     ]
    },
    {
     "name": "stdout",
     "output_type": "stream",
     "text": [
      "Processed molecule 1300/50000 in molecule_fingerprints_part_1.parquet\n"
     ]
    },
    {
     "name": "stderr",
     "output_type": "stream",
     "text": [
      "[01:37:02] SMILES Parse Error: unclosed ring for input: 'Fc1cccnc1OC1COC2CC3(CCCN(C3)C(=O)C3=CCCC3)OC2'\n",
      "[01:37:11] SMILES Parse Error: unclosed ring for input: 'C[C@@H](C(=O)OC)NCC(=O)O[C@H]1[C@]23[C@H](O2)C[C@H]4[C@@]3(O4)[C@H]5C[C@@H]6C7=C(CC[C@H]6[C@@H]5O6)C(=O)OC7'\n"
     ]
    },
    {
     "name": "stdout",
     "output_type": "stream",
     "text": [
      "Processed molecule 1400/50000 in molecule_fingerprints_part_1.parquet\n"
     ]
    },
    {
     "name": "stderr",
     "output_type": "stream",
     "text": [
      "[01:37:13] SMILES Parse Error: unclosed ring for input: 'C[C@@H]1CC[C@@]23CC[C@@]4([C@H]5C[C@@H]([C@@]6([C@H]([C@@]5(CC[C@]4([C@@H]2[C@H]1C)C)C)CC(C(=O)O3)(C)C)C)F)C'\n",
      "[01:37:24] SMILES Parse Error: unclosed ring for input: 'c1(cccc(n1)Nc1cc[nH]n1)CC1(CCC(CC1)Oc1cccc(c1F)C(F)(F)F)NC1'\n"
     ]
    },
    {
     "name": "stdout",
     "output_type": "stream",
     "text": [
      "Processed molecule 1500/50000 in molecule_fingerprints_part_1.parquet\n",
      "Processed molecule 1600/50000 in molecule_fingerprints_part_1.parquet\n",
      "Processed molecule 1700/50000 in molecule_fingerprints_part_1.parquet\n",
      "Processed molecule 1800/50000 in molecule_fingerprints_part_1.parquet\n",
      "Processed molecule 1900/50000 in molecule_fingerprints_part_1.parquet\n"
     ]
    },
    {
     "name": "stderr",
     "output_type": "stream",
     "text": [
      "[01:39:31] Can't kekulize mol.  Unkekulized atoms: 15 16 17 18 22 23 24 25 26 27 28\n"
     ]
    },
    {
     "name": "stdout",
     "output_type": "stream",
     "text": [
      "Processed molecule 2000/50000 in molecule_fingerprints_part_1.parquet\n"
     ]
    },
    {
     "name": "stderr",
     "output_type": "stream",
     "text": [
      "[01:40:05] SMILES Parse Error: unclosed ring for input: 'C1C[C@@H]2CO[C@H]3CC4=C([C@@]3([C@@H]2[C@@H](C1)CO4)C#N)C=C(C=C4)O'\n",
      "[01:40:13] SMILES Parse Error: unclosed ring for input: 'C[C@@H](C(=O)N[C@@H](C1CCCCC1)C(=O)N2C[C@@H]3C[C@H]2C(=O)N[C@@H]4CCOC5=CC=CC=C45)NC'\n"
     ]
    },
    {
     "name": "stdout",
     "output_type": "stream",
     "text": [
      "Processed molecule 2100/50000 in molecule_fingerprints_part_1.parquet\n",
      "Processed molecule 2200/50000 in molecule_fingerprints_part_1.parquet\n"
     ]
    },
    {
     "name": "stderr",
     "output_type": "stream",
     "text": [
      "[01:41:01] SMILES Parse Error: unclosed ring for input: 'CC1=C2CC[C@@H]3C(=C2)CC[C@@H]4[C@@]3(CC[C@@H](C4(C)C)O)C'\n"
     ]
    },
    {
     "name": "stdout",
     "output_type": "stream",
     "text": [
      "Processed molecule 2300/50000 in molecule_fingerprints_part_1.parquet\n"
     ]
    },
    {
     "name": "stderr",
     "output_type": "stream",
     "text": [
      "[01:41:21] SMILES Parse Error: unclosed ring for input: 'CC[C@H]1C[C@H]2C[C@@]3([C@H]1N4C2C5(CC4)C=C(C6=C5N(C7=C6C=C(C=C7)OC)CC8=CCC(C(C8)C(=O)OC)(CCO)C(=O)OC)C(=O)OC)CCO'\n",
      "[01:41:22] Can't kekulize mol.  Unkekulized atoms: 1 2 3 11 12 13 14\n"
     ]
    },
    {
     "name": "stdout",
     "output_type": "stream",
     "text": [
      "Processed molecule 2400/50000 in molecule_fingerprints_part_1.parquet\n",
      "Processed molecule 2500/50000 in molecule_fingerprints_part_1.parquet\n"
     ]
    },
    {
     "name": "stderr",
     "output_type": "stream",
     "text": [
      "[01:42:23] Can't kekulize mol.  Unkekulized atoms: 5 7 8 9 10 11 12\n"
     ]
    },
    {
     "name": "stdout",
     "output_type": "stream",
     "text": [
      "Processed molecule 2600/50000 in molecule_fingerprints_part_1.parquet\n",
      "Processed molecule 2700/50000 in molecule_fingerprints_part_1.parquet\n"
     ]
    },
    {
     "name": "stderr",
     "output_type": "stream",
     "text": [
      "[01:43:06] Can't kekulize mol.  Unkekulized atoms: 0 1 2 5 6 9 10 17 18\n"
     ]
    },
    {
     "name": "stdout",
     "output_type": "stream",
     "text": [
      "Processed molecule 2800/50000 in molecule_fingerprints_part_1.parquet\n",
      "Processed molecule 2900/50000 in molecule_fingerprints_part_1.parquet\n",
      "Processed molecule 3000/50000 in molecule_fingerprints_part_1.parquet\n",
      "Processed molecule 3100/50000 in molecule_fingerprints_part_1.parquet\n",
      "Processed molecule 3200/50000 in molecule_fingerprints_part_1.parquet\n"
     ]
    },
    {
     "name": "stderr",
     "output_type": "stream",
     "text": [
      "[01:45:31] SMILES Parse Error: unclosed ring for input: 'C1C2CC3CC1CC(C2)(C3)C45COC(OC4COO5)(C67CC8CC(C6)CC(C8)C7)C91CC2C(C9)(COO2)C2C1'\n"
     ]
    },
    {
     "name": "stdout",
     "output_type": "stream",
     "text": [
      "Processed molecule 3300/50000 in molecule_fingerprints_part_1.parquet\n",
      "Processed molecule 3400/50000 in molecule_fingerprints_part_1.parquet\n"
     ]
    },
    {
     "name": "stderr",
     "output_type": "stream",
     "text": [
      "[01:46:26] SMILES Parse Error: unclosed ring for input: 'COC1=C(C=C2C(=C1)CCN3CC4=C(C3=C2)C(=CC=C4)C5=CC(=C(C=C5C6=CC=CC7=C6N(C7)CC7)OC)OC)OC'\n"
     ]
    },
    {
     "name": "stdout",
     "output_type": "stream",
     "text": [
      "Processed molecule 3500/50000 in molecule_fingerprints_part_1.parquet\n"
     ]
    },
    {
     "name": "stderr",
     "output_type": "stream",
     "text": [
      "[01:46:58] SMILES Parse Error: unclosed ring for input: 'CCOc1ccc(Cc2cc3C(C)Cc3c(Cl)c3O[C@@H]([C@H]([C@@H](O)[C@@H]3O)O)S(=O)(=O)C)cc2'\n"
     ]
    },
    {
     "name": "stdout",
     "output_type": "stream",
     "text": [
      "Processed molecule 3600/50000 in molecule_fingerprints_part_1.parquet\n",
      "Processed molecule 3700/50000 in molecule_fingerprints_part_1.parquet\n",
      "Processed molecule 3800/50000 in molecule_fingerprints_part_1.parquet\n"
     ]
    },
    {
     "name": "stderr",
     "output_type": "stream",
     "text": [
      "[01:48:18] SMILES Parse Error: unclosed ring for input: 'CC(C)(C)C1(CCC2C3=CC=CC4=C3N(C1)CC4C5=CC=CC6=C5C7=CC=CC=C7CC6)O'\n"
     ]
    },
    {
     "name": "stdout",
     "output_type": "stream",
     "text": [
      "Processed molecule 3900/50000 in molecule_fingerprints_part_1.parquet\n",
      "Processed molecule 4000/50000 in molecule_fingerprints_part_1.parquet\n"
     ]
    },
    {
     "name": "stderr",
     "output_type": "stream",
     "text": [
      "[01:48:59] SMILES Parse Error: unclosed ring for input: 'C1CN(CC2=C1C3=C(S2)N=C(N=C3SC4=C3CCN(C4)CC5=CC=CC=C5)N)CC6=CC=CC=C6'\n"
     ]
    },
    {
     "name": "stdout",
     "output_type": "stream",
     "text": [
      "Processed molecule 4100/50000 in molecule_fingerprints_part_1.parquet\n"
     ]
    },
    {
     "name": "stderr",
     "output_type": "stream",
     "text": [
      "[01:49:29] SMILES Parse Error: unclosed ring for input: 'CC(=O)OC1=C2C(=CC(=C1OC)OC)CCC3=NC=CC4=CC(=C(C(=C43)OC)OC)OC'\n"
     ]
    },
    {
     "name": "stdout",
     "output_type": "stream",
     "text": [
      "Processed molecule 4200/50000 in molecule_fingerprints_part_1.parquet\n"
     ]
    },
    {
     "name": "stderr",
     "output_type": "stream",
     "text": [
      "[01:49:49] SMILES Parse Error: unclosed ring for input: 'CCC(CC12C3CCC4N3CCC1O2)O'\n"
     ]
    },
    {
     "name": "stdout",
     "output_type": "stream",
     "text": [
      "Processed molecule 4300/50000 in molecule_fingerprints_part_1.parquet\n"
     ]
    },
    {
     "name": "stderr",
     "output_type": "stream",
     "text": [
      "[01:50:31] SMILES Parse Error: unclosed ring for input: 'C[C@@]12CCC3[C@]4(COC(C4C5C(=O)OC([C@@]3(C16C(O6)C(=O)[C@]27C(O7)CC(=O)O)C(=O)O)C8CCOC8)(C)C)C'\n"
     ]
    },
    {
     "name": "stdout",
     "output_type": "stream",
     "text": [
      "Processed molecule 4400/50000 in molecule_fingerprints_part_1.parquet\n",
      "Processed molecule 4500/50000 in molecule_fingerprints_part_1.parquet\n",
      "Processed molecule 4600/50000 in molecule_fingerprints_part_1.parquet\n",
      "Processed molecule 4700/50000 in molecule_fingerprints_part_1.parquet\n",
      "Processed molecule 4800/50000 in molecule_fingerprints_part_1.parquet\n",
      "Processed molecule 4900/50000 in molecule_fingerprints_part_1.parquet\n"
     ]
    },
    {
     "name": "stderr",
     "output_type": "stream",
     "text": [
      "[01:52:59] Can't kekulize mol.  Unkekulized atoms: 6 7 8 10\n"
     ]
    },
    {
     "name": "stdout",
     "output_type": "stream",
     "text": [
      "Processed molecule 5000/50000 in molecule_fingerprints_part_1.parquet\n"
     ]
    },
    {
     "name": "stderr",
     "output_type": "stream",
     "text": [
      "[01:53:35] SMILES Parse Error: unclosed ring for input: 'C1CCC2=C(C1)C(=C(C(=C2Cl)CCN3C=NC4=C3C(=O)OCC5=CC=CC=C5)Cl)C(=O)OCC6=CC=CC=C6'\n"
     ]
    },
    {
     "name": "stdout",
     "output_type": "stream",
     "text": [
      "Processed molecule 5100/50000 in molecule_fingerprints_part_1.parquet\n",
      "Processed molecule 5200/50000 in molecule_fingerprints_part_1.parquet\n",
      "Processed molecule 5300/50000 in molecule_fingerprints_part_1.parquet\n",
      "Processed molecule 5400/50000 in molecule_fingerprints_part_1.parquet\n"
     ]
    },
    {
     "name": "stderr",
     "output_type": "stream",
     "text": [
      "[01:55:26] SMILES Parse Error: unclosed ring for input: 'CCCCOC1=C(C=C2[C@H]3CC4=CC5=C(C=C4C2=C1OC)OCO5)OC'\n",
      "[01:55:30] Can't kekulize mol.  Unkekulized atoms: 1 2 3\n"
     ]
    },
    {
     "name": "stdout",
     "output_type": "stream",
     "text": [
      "Processed molecule 5500/50000 in molecule_fingerprints_part_1.parquet\n"
     ]
    },
    {
     "name": "stderr",
     "output_type": "stream",
     "text": [
      "[01:55:33] Explicit valence for atom # 27 S, 7, is greater than permitted\n"
     ]
    },
    {
     "name": "stdout",
     "output_type": "stream",
     "text": [
      "Processed molecule 5600/50000 in molecule_fingerprints_part_1.parquet\n"
     ]
    },
    {
     "name": "stderr",
     "output_type": "stream",
     "text": [
      "[01:56:18] SMILES Parse Error: unclosed ring for input: 'CC1=C(OC=C1)C(=O)NC2=CC=C(C3=CC=CC=C32)N4C(=O)C5=CC=CC6=C5C(=O)N(C6=O)C7=CC=C(C8=CC=CC=C87)C'\n",
      "[01:56:19] Can't kekulize mol.  Unkekulized atoms: 31 32 33 34 35\n"
     ]
    },
    {
     "name": "stdout",
     "output_type": "stream",
     "text": [
      "Processed molecule 5700/50000 in molecule_fingerprints_part_1.parquet\n",
      "Processed molecule 5800/50000 in molecule_fingerprints_part_1.parquet\n"
     ]
    },
    {
     "name": "stderr",
     "output_type": "stream",
     "text": [
      "[01:57:00] SMILES Parse Error: unclosed ring for input: 'C1=CC=C(C=C1)N2C3C4=CC=CC=C4C(=O)N3C5C6=CC=CC=C6C(=O)N5C7=CC=CC=C7'\n"
     ]
    },
    {
     "name": "stdout",
     "output_type": "stream",
     "text": [
      "Processed molecule 5900/50000 in molecule_fingerprints_part_1.parquet\n"
     ]
    },
    {
     "name": "stderr",
     "output_type": "stream",
     "text": [
      "[01:57:32] Can't kekulize mol.  Unkekulized atoms: 5 6 9 10 17 19 20\n"
     ]
    },
    {
     "name": "stdout",
     "output_type": "stream",
     "text": [
      "Processed molecule 6000/50000 in molecule_fingerprints_part_1.parquet\n",
      "Processed molecule 6100/50000 in molecule_fingerprints_part_1.parquet\n",
      "Processed molecule 6200/50000 in molecule_fingerprints_part_1.parquet\n"
     ]
    },
    {
     "name": "stderr",
     "output_type": "stream",
     "text": [
      "[01:58:59] SMILES Parse Error: unclosed ring for input: 'C1=CNC(=C1)C2=C3C4=C(C=CC(=C4C=C2)F)NC(=O)C3=C(C=C4)F'\n"
     ]
    },
    {
     "name": "stdout",
     "output_type": "stream",
     "text": [
      "Processed molecule 6300/50000 in molecule_fingerprints_part_1.parquet\n",
      "Processed molecule 6400/50000 in molecule_fingerprints_part_1.parquet\n",
      "Processed molecule 6500/50000 in molecule_fingerprints_part_1.parquet\n",
      "Processed molecule 6600/50000 in molecule_fingerprints_part_1.parquet\n"
     ]
    },
    {
     "name": "stderr",
     "output_type": "stream",
     "text": [
      "[02:00:36] SMILES Parse Error: unclosed ring for input: 'C[C@@]12C3=C(N(C(C1=O)C4=CC=C(C=C4)Cl)C5CCCCC5)N(C(=O)N(C2=O)C6=CC=C(C=C6)OC)C7=CC=C(C=C7)Cl'\n",
      "[02:00:50] Can't kekulize mol.  Unkekulized atoms: 0 1 4 5 6 8 9 10 11 19 20\n"
     ]
    },
    {
     "name": "stdout",
     "output_type": "stream",
     "text": [
      "Processed molecule 6700/50000 in molecule_fingerprints_part_1.parquet\n",
      "Processed molecule 6800/50000 in molecule_fingerprints_part_1.parquet\n",
      "Processed molecule 6900/50000 in molecule_fingerprints_part_1.parquet\n"
     ]
    },
    {
     "name": "stderr",
     "output_type": "stream",
     "text": [
      "[02:02:06] SMILES Parse Error: unclosed ring for input: 'C(=O)(N1CCN(c2nc(Nc3c4cccn4nc(c3)C)c3cc(n[nH]3)C)CC1)Cc1c(cccc1)F'\n",
      "[02:02:07] SMILES Parse Error: unclosed ring for input: 'CC1CCN(C2=CN=C(C=C2)C3=C(C=CC(=C3)NC(=O)C(C)C4C5=C(C=CC(=N5)C)C(O4)C)Cl)C6=CN=C(C=C6)C'\n"
     ]
    },
    {
     "name": "stdout",
     "output_type": "stream",
     "text": [
      "Processed molecule 7000/50000 in molecule_fingerprints_part_1.parquet\n",
      "Processed molecule 7100/50000 in molecule_fingerprints_part_1.parquet\n"
     ]
    },
    {
     "name": "stderr",
     "output_type": "stream",
     "text": [
      "[02:02:42] Can't kekulize mol.  Unkekulized atoms: 13 14 15 16 17 18 21 22 23\n"
     ]
    },
    {
     "name": "stdout",
     "output_type": "stream",
     "text": [
      "Processed molecule 7200/50000 in molecule_fingerprints_part_1.parquet\n"
     ]
    },
    {
     "name": "stderr",
     "output_type": "stream",
     "text": [
      "[02:03:12] SMILES Parse Error: unclosed ring for input: 'c12c(ncn3c1cc(n3)c1ccccc1)c1c(nn(c1=S)Cc1ccccc1)C1CCCCC1'\n"
     ]
    },
    {
     "name": "stdout",
     "output_type": "stream",
     "text": [
      "Processed molecule 7300/50000 in molecule_fingerprints_part_1.parquet\n"
     ]
    },
    {
     "name": "stderr",
     "output_type": "stream",
     "text": [
      "[02:03:42] SMILES Parse Error: unclosed ring for input: 'CC(C)[C@@]12[C@@H](O1)[C@H]3[C@@]4(O3)[C@]5(CCC6=C([C@@H]5C[C@H]7[C@]4(O7)[C@]89[C@]2(O8)[C@@H]1[C@H](O1)C[C@H]9OS8(O)O)COC6=O)C'\n"
     ]
    },
    {
     "name": "stdout",
     "output_type": "stream",
     "text": [
      "Processed molecule 7400/50000 in molecule_fingerprints_part_1.parquet\n"
     ]
    },
    {
     "name": "stderr",
     "output_type": "stream",
     "text": [
      "[02:04:15] Can't kekulize mol.  Unkekulized atoms: 12 14 15 16 17 18 19 20 21\n"
     ]
    },
    {
     "name": "stdout",
     "output_type": "stream",
     "text": [
      "Processed molecule 7500/50000 in molecule_fingerprints_part_1.parquet\n",
      "Processed molecule 7600/50000 in molecule_fingerprints_part_1.parquet\n",
      "Processed molecule 7700/50000 in molecule_fingerprints_part_1.parquet\n",
      "Processed molecule 7800/50000 in molecule_fingerprints_part_1.parquet\n"
     ]
    },
    {
     "name": "stderr",
     "output_type": "stream",
     "text": [
      "[02:06:03] SMILES Parse Error: unclosed ring for input: 'C1CN(CCC1C2=CC=CC=C2)C3CCN(CC3)C4CCOC5C4'\n"
     ]
    },
    {
     "name": "stdout",
     "output_type": "stream",
     "text": [
      "Processed molecule 7900/50000 in molecule_fingerprints_part_1.parquet\n"
     ]
    },
    {
     "name": "stderr",
     "output_type": "stream",
     "text": [
      "[02:06:27] Can't kekulize mol.  Unkekulized atoms: 2 3 4 5 7 8 19\n"
     ]
    },
    {
     "name": "stdout",
     "output_type": "stream",
     "text": [
      "Processed molecule 8000/50000 in molecule_fingerprints_part_1.parquet\n"
     ]
    },
    {
     "name": "stderr",
     "output_type": "stream",
     "text": [
      "[02:06:45] SMILES Parse Error: unclosed ring for input: 'CC[C@H](C)OC(=O)C1[C@H](C2=NC(=C([C@H](C2)C3=CC(=C(C=C3)OC)OC)C(=O)O[C@H](C)CC)C)C4=CC=C(O4)C'\n",
      "[02:07:08] SMILES Parse Error: unclosed ring for input: 'CC1=C(C(=CC(=C1)C)C)N/C=C\\2/C(=O)NC(=C)N3C2=O'\n"
     ]
    },
    {
     "name": "stdout",
     "output_type": "stream",
     "text": [
      "Processed molecule 8100/50000 in molecule_fingerprints_part_1.parquet\n"
     ]
    },
    {
     "name": "stderr",
     "output_type": "stream",
     "text": [
      "[02:07:26] SMILES Parse Error: unclosed ring for input: 'CCC1(N)CCN(CC1)C(=O)C(C)(C)n1cc(cn1)c1nc(nc2N1CCc12)N1CCOCC1'\n",
      "[02:07:38] SMILES Parse Error: extra close parentheses while parsing: FC(F)(F)C(=O)NC1CCN(CC2CC2)C1)Cn1cnc2[nH]ccc2c12\n",
      "[02:07:38] SMILES Parse Error: Failed parsing SMILES 'FC(F)(F)C(=O)NC1CCN(CC2CC2)C1)Cn1cnc2[nH]ccc2c12' for input: 'FC(F)(F)C(=O)NC1CCN(CC2CC2)C1)Cn1cnc2[nH]ccc2c12'\n"
     ]
    },
    {
     "name": "stdout",
     "output_type": "stream",
     "text": [
      "Processed molecule 8200/50000 in molecule_fingerprints_part_1.parquet\n"
     ]
    },
    {
     "name": "stderr",
     "output_type": "stream",
     "text": [
      "[02:07:51] SMILES Parse Error: unclosed ring for input: 'C[C@@]12CCC3[C@]4(C[C@]5(C(=CC(=O)O[C@H]5C6=COC=C6)[C@@](C4=O)(C(C3(C)C)CC(=O)OC)O5)Cl)C'\n"
     ]
    },
    {
     "name": "stdout",
     "output_type": "stream",
     "text": [
      "Processed molecule 8300/50000 in molecule_fingerprints_part_1.parquet\n",
      "Processed molecule 8400/50000 in molecule_fingerprints_part_1.parquet\n",
      "Processed molecule 8500/50000 in molecule_fingerprints_part_1.parquet\n"
     ]
    },
    {
     "name": "stderr",
     "output_type": "stream",
     "text": [
      "[02:09:15] SMILES Parse Error: unclosed ring for input: 'CC1=CC=C(C=C1)N2C(=O)N3C4=C5C=C(C=CC5=NC(=O)N4C3=O)CCC6=CN=CC=C6'\n"
     ]
    },
    {
     "name": "stdout",
     "output_type": "stream",
     "text": [
      "Processed molecule 8600/50000 in molecule_fingerprints_part_1.parquet\n"
     ]
    },
    {
     "name": "stderr",
     "output_type": "stream",
     "text": [
      "[02:09:40] Can't kekulize mol.  Unkekulized atoms: 1 2 3 4 5 18 19\n"
     ]
    },
    {
     "name": "stdout",
     "output_type": "stream",
     "text": [
      "Processed molecule 8700/50000 in molecule_fingerprints_part_1.parquet\n"
     ]
    },
    {
     "name": "stderr",
     "output_type": "stream",
     "text": [
      "[02:09:54] SMILES Parse Error: unclosed ring for input: 'CCOC(=O)C1=CC=CC=C1NC(=O)C2=NC3=C(C=CC4=CC=CNC4=C3N=C(C=C2)C(=O)NC5=CC=CC=C5C(=O)OCC)C=C4'\n"
     ]
    },
    {
     "name": "stdout",
     "output_type": "stream",
     "text": [
      "Processed molecule 8800/50000 in molecule_fingerprints_part_1.parquet\n"
     ]
    },
    {
     "name": "stderr",
     "output_type": "stream",
     "text": [
      "[02:10:30] Can't kekulize mol.  Unkekulized atoms: 16 17 18 19 20 23 24 25 26\n",
      "[02:10:36] SMILES Parse Error: unclosed ring for input: 'C[C@@H]1CC[C@@]23CC[C@@]4(C5[C@@H](C[C@@H]([C@](C5CC[C@]4([C@@]2([C@@H]1C)C)C)(C)CO)F)O)C(=O)O[C@@]4(C3)C6(C[C@H]([C@@H]([C@]([C@@H]6CC3)(C)CO)O)O)C'\n"
     ]
    },
    {
     "name": "stdout",
     "output_type": "stream",
     "text": [
      "Processed molecule 8900/50000 in molecule_fingerprints_part_1.parquet\n",
      "Processed molecule 9000/50000 in molecule_fingerprints_part_1.parquet\n",
      "Processed molecule 9100/50000 in molecule_fingerprints_part_1.parquet\n"
     ]
    },
    {
     "name": "stderr",
     "output_type": "stream",
     "text": [
      "[02:11:54] SMILES Parse Error: unclosed ring for input: 'CCOC1=C2C(=CC3=C1OCO3)C4=C[C@@H]([C@H]([C@H]5C4NC2=O)O)O'\n",
      "[02:11:58] Can't kekulize mol.  Unkekulized atoms: 20 21 22 23 24 25 26 27 33 34 35\n"
     ]
    },
    {
     "name": "stdout",
     "output_type": "stream",
     "text": [
      "Processed molecule 9200/50000 in molecule_fingerprints_part_1.parquet\n"
     ]
    },
    {
     "name": "stderr",
     "output_type": "stream",
     "text": [
      "[02:12:16] Can't kekulize mol.  Unkekulized atoms: 8 20 22 23\n",
      "[02:12:19] Can't kekulize mol.  Unkekulized atoms: 2 3 20 21 22\n"
     ]
    },
    {
     "name": "stdout",
     "output_type": "stream",
     "text": [
      "Processed molecule 9300/50000 in molecule_fingerprints_part_1.parquet\n",
      "Processed molecule 9400/50000 in molecule_fingerprints_part_1.parquet\n",
      "Processed molecule 9500/50000 in molecule_fingerprints_part_1.parquet\n",
      "Processed molecule 9600/50000 in molecule_fingerprints_part_1.parquet\n",
      "Processed molecule 9700/50000 in molecule_fingerprints_part_1.parquet\n",
      "Processed molecule 9800/50000 in molecule_fingerprints_part_1.parquet\n",
      "Processed molecule 9900/50000 in molecule_fingerprints_part_1.parquet\n",
      "Processed molecule 10000/50000 in molecule_fingerprints_part_1.parquet\n"
     ]
    },
    {
     "name": "stderr",
     "output_type": "stream",
     "text": [
      "[02:16:05] SMILES Parse Error: unclosed ring for input: 'CC1=CC=C(N1C2=CC=CC=C2C3C=CN4C5=C3C(=C6C(=C5O)OC(=O)O6)OC(C)C)C'\n"
     ]
    },
    {
     "name": "stdout",
     "output_type": "stream",
     "text": [
      "Processed molecule 10100/50000 in molecule_fingerprints_part_1.parquet\n",
      "Processed molecule 10200/50000 in molecule_fingerprints_part_1.parquet\n"
     ]
    },
    {
     "name": "stderr",
     "output_type": "stream",
     "text": [
      "[02:16:43] SMILES Parse Error: unclosed ring for input: 'CC(C)(C)S(=O)(=O)CC1=NC(=CS1)C2=CC3=C(C=C2)NC4=C(NC5=CCC=C35)O'\n"
     ]
    },
    {
     "name": "stdout",
     "output_type": "stream",
     "text": [
      "Processed molecule 10300/50000 in molecule_fingerprints_part_1.parquet\n"
     ]
    },
    {
     "name": "stderr",
     "output_type": "stream",
     "text": [
      "[02:17:08] SMILES Parse Error: extra open parentheses for input: 'CN1CCC2=C(C(=C(C3=C2[C@@H]1[C@@H](C4=CC(=C(C=C43)OC)OC)O)OC)OC)C5=CC(=C(C=C5C6=C(C(=C(C7=C6[C@H]([C@@H](C8=CC(=C(C=C78)OC)OC)O)O)OC)OC)OC)OC'\n",
      "[02:17:20] Can't kekulize mol.  Unkekulized atoms: 27 28 29 30 32\n"
     ]
    },
    {
     "name": "stdout",
     "output_type": "stream",
     "text": [
      "Processed molecule 10400/50000 in molecule_fingerprints_part_1.parquet\n",
      "Processed molecule 10500/50000 in molecule_fingerprints_part_1.parquet\n"
     ]
    },
    {
     "name": "stderr",
     "output_type": "stream",
     "text": [
      "[02:18:10] SMILES Parse Error: unclosed ring for input: 'C1=CC=C2C(=C1)C(=O)[C@]34[C@@H](O3)[C@H]5[C@H](O5)[C@@]6(O4)[C@]7(O2)C(=O)C8=CC=CC9=C8C(=CC=C9)O7'\n",
      "[02:18:15] SMILES Parse Error: unclosed ring for input: 'CCN1C2=C(C(C3=C(N2)N(C=C3NC1=O)C)C4=CC=C(C=C4)C)C(=O)NC5=O'\n"
     ]
    },
    {
     "name": "stdout",
     "output_type": "stream",
     "text": [
      "Processed molecule 10600/50000 in molecule_fingerprints_part_1.parquet\n"
     ]
    },
    {
     "name": "stderr",
     "output_type": "stream",
     "text": [
      "[02:18:38] SMILES Parse Error: unclosed ring for input: 'CN1C=C2C(=O)C3=C(C4=CC=CC=C4N3)N(C2=C5C1=CC=CC=C5N5)C'\n"
     ]
    },
    {
     "name": "stdout",
     "output_type": "stream",
     "text": [
      "Processed molecule 10700/50000 in molecule_fingerprints_part_1.parquet\n",
      "Processed molecule 10800/50000 in molecule_fingerprints_part_1.parquet\n",
      "Processed molecule 10900/50000 in molecule_fingerprints_part_1.parquet\n"
     ]
    },
    {
     "name": "stderr",
     "output_type": "stream",
     "text": [
      "[02:20:04] SMILES Parse Error: unclosed ring for input: 'CC(=O)[C@]1(CC[C@@H]2[C@@]1(CC[C@H]3C2=CC4=C5[C@@]3(CCC(=O)C5)C)C)OC(=O)C'\n",
      "[02:20:04] SMILES Parse Error: unclosed ring for input: 'C[C@@]12COC(O1)(C)C'\n"
     ]
    },
    {
     "name": "stdout",
     "output_type": "stream",
     "text": [
      "Processed molecule 11000/50000 in molecule_fingerprints_part_1.parquet\n"
     ]
    },
    {
     "name": "stderr",
     "output_type": "stream",
     "text": [
      "[02:20:38] Can't kekulize mol.  Unkekulized atoms: 1 2 3 4 5 21 22\n"
     ]
    },
    {
     "name": "stdout",
     "output_type": "stream",
     "text": [
      "Processed molecule 11100/50000 in molecule_fingerprints_part_1.parquet\n",
      "Processed molecule 11200/50000 in molecule_fingerprints_part_1.parquet\n",
      "Processed molecule 11300/50000 in molecule_fingerprints_part_1.parquet\n",
      "Processed molecule 11400/50000 in molecule_fingerprints_part_1.parquet\n",
      "Processed molecule 11500/50000 in molecule_fingerprints_part_1.parquet\n",
      "Processed molecule 11600/50000 in molecule_fingerprints_part_1.parquet\n"
     ]
    },
    {
     "name": "stderr",
     "output_type": "stream",
     "text": [
      "[02:23:12] Can't kekulize mol.  Unkekulized atoms: 0 1 2 3 4 5 15\n"
     ]
    },
    {
     "name": "stdout",
     "output_type": "stream",
     "text": [
      "Processed molecule 11700/50000 in molecule_fingerprints_part_1.parquet\n",
      "Processed molecule 11800/50000 in molecule_fingerprints_part_1.parquet\n",
      "Processed molecule 11900/50000 in molecule_fingerprints_part_1.parquet\n"
     ]
    },
    {
     "name": "stderr",
     "output_type": "stream",
     "text": [
      "[02:24:44] Can't kekulize mol.  Unkekulized atoms: 25 26 27 28 29 30 31\n"
     ]
    },
    {
     "name": "stdout",
     "output_type": "stream",
     "text": [
      "Processed molecule 12000/50000 in molecule_fingerprints_part_1.parquet\n",
      "Processed molecule 12100/50000 in molecule_fingerprints_part_1.parquet\n",
      "Processed molecule 12200/50000 in molecule_fingerprints_part_1.parquet\n",
      "Processed molecule 12300/50000 in molecule_fingerprints_part_1.parquet\n"
     ]
    },
    {
     "name": "stderr",
     "output_type": "stream",
     "text": [
      "[02:26:10] Can't kekulize mol.  Unkekulized atoms: 16\n",
      "[02:26:19] SMILES Parse Error: unclosed ring for input: 'C1C(C2N3C4=CC=CC=C4C5=C6C(=C7C8=CC=CC=C8N2C7=C53)C(=O)NC6=O)C(=O)O'\n"
     ]
    },
    {
     "name": "stdout",
     "output_type": "stream",
     "text": [
      "Processed molecule 12400/50000 in molecule_fingerprints_part_1.parquet\n"
     ]
    },
    {
     "name": "stderr",
     "output_type": "stream",
     "text": [
      "[02:27:02] Can't kekulize mol.  Unkekulized atoms: 0 1 2 3 4 7 8\n"
     ]
    },
    {
     "name": "stdout",
     "output_type": "stream",
     "text": [
      "Processed molecule 12500/50000 in molecule_fingerprints_part_1.parquet\n",
      "Processed molecule 12600/50000 in molecule_fingerprints_part_1.parquet\n"
     ]
    },
    {
     "name": "stderr",
     "output_type": "stream",
     "text": [
      "[02:27:56] Explicit valence for atom # 19 C, 5, is greater than permitted\n",
      "[02:28:00] SMILES Parse Error: unclosed ring for input: 'C1=CC(=CC=C1C2=NN3C4=C(C=CC(=C4)Cl)NC3=O)Cl'\n"
     ]
    },
    {
     "name": "stdout",
     "output_type": "stream",
     "text": [
      "Processed molecule 12700/50000 in molecule_fingerprints_part_1.parquet\n",
      "Processed molecule 12800/50000 in molecule_fingerprints_part_1.parquet\n",
      "Processed molecule 12900/50000 in molecule_fingerprints_part_1.parquet\n"
     ]
    },
    {
     "name": "stderr",
     "output_type": "stream",
     "text": [
      "[02:29:12] SMILES Parse Error: unclosed ring for input: 'CN(C[C@@H]1C[C@@H](CN1)N2C[C@H]3CC4=C2C=CC=N4)[C@H]5CCCC6=C5N=CC=C6'\n"
     ]
    },
    {
     "name": "stdout",
     "output_type": "stream",
     "text": [
      "Processed molecule 13000/50000 in molecule_fingerprints_part_1.parquet\n",
      "Processed molecule 13100/50000 in molecule_fingerprints_part_1.parquet\n"
     ]
    },
    {
     "name": "stderr",
     "output_type": "stream",
     "text": [
      "[02:29:52] Can't kekulize mol.  Unkekulized atoms: 0 1 4 5 6 8\n"
     ]
    },
    {
     "name": "stdout",
     "output_type": "stream",
     "text": [
      "Processed molecule 13200/50000 in molecule_fingerprints_part_1.parquet\n"
     ]
    },
    {
     "name": "stderr",
     "output_type": "stream",
     "text": [
      "[02:30:22] SMILES Parse Error: unclosed ring for input: 'COC1=CC=CC2=C1C3C(C(=CN=C3OC)OC)N4C2=O'\n"
     ]
    },
    {
     "name": "stdout",
     "output_type": "stream",
     "text": [
      "Processed molecule 13300/50000 in molecule_fingerprints_part_1.parquet\n"
     ]
    },
    {
     "name": "stderr",
     "output_type": "stream",
     "text": [
      "[02:31:04] SMILES Parse Error: unclosed ring for input: 'CN1C(=N)N[C@@]2(CS1(=O)=O)c1cc(NC(=O)c3ncc(cc3C3CC3)C#N)ccc1F'\n"
     ]
    },
    {
     "name": "stdout",
     "output_type": "stream",
     "text": [
      "Processed molecule 13400/50000 in molecule_fingerprints_part_1.parquet\n"
     ]
    },
    {
     "name": "stderr",
     "output_type": "stream",
     "text": [
      "[02:31:16] SMILES Parse Error: unclosed ring for input: 'C1=CN=C2C3=C1C=COC3=C(C(=O)C4=C(C2=O)C=CO4)C5=NC=CC6=C5C(=NC=C6)C7=C(C(=O)C8=C(C7=O)C=CO8)OC=C6'\n"
     ]
    },
    {
     "name": "stdout",
     "output_type": "stream",
     "text": [
      "Processed molecule 13500/50000 in molecule_fingerprints_part_1.parquet\n",
      "Processed molecule 13600/50000 in molecule_fingerprints_part_1.parquet\n",
      "Processed molecule 13700/50000 in molecule_fingerprints_part_1.parquet\n"
     ]
    },
    {
     "name": "stderr",
     "output_type": "stream",
     "text": [
      "[02:32:52] Can't kekulize mol.  Unkekulized atoms: 19 23 24\n"
     ]
    },
    {
     "name": "stdout",
     "output_type": "stream",
     "text": [
      "Processed molecule 13800/50000 in molecule_fingerprints_part_1.parquet\n",
      "Processed molecule 13900/50000 in molecule_fingerprints_part_1.parquet\n"
     ]
    },
    {
     "name": "stderr",
     "output_type": "stream",
     "text": [
      "[02:33:31] SMILES Parse Error: extra close parentheses while parsing: CN1C(=NC(C)(C)CS1(=O)=O)N)c1cccc2c(sc3ncc(cc3c12)c1ccc(nc1)N1CCOCC1\n",
      "[02:33:31] SMILES Parse Error: Failed parsing SMILES 'CN1C(=NC(C)(C)CS1(=O)=O)N)c1cccc2c(sc3ncc(cc3c12)c1ccc(nc1)N1CCOCC1' for input: 'CN1C(=NC(C)(C)CS1(=O)=O)N)c1cccc2c(sc3ncc(cc3c12)c1ccc(nc1)N1CCOCC1'\n",
      "[02:33:46] Can't kekulize mol.  Unkekulized atoms: 18 19 20\n"
     ]
    },
    {
     "name": "stdout",
     "output_type": "stream",
     "text": [
      "Processed molecule 14000/50000 in molecule_fingerprints_part_1.parquet\n",
      "Processed molecule 14100/50000 in molecule_fingerprints_part_1.parquet\n",
      "Processed molecule 14200/50000 in molecule_fingerprints_part_1.parquet\n"
     ]
    },
    {
     "name": "stderr",
     "output_type": "stream",
     "text": [
      "[02:35:00] SMILES Parse Error: unclosed ring for input: 'CC1=NOC(=C1)C2=C(CC3CCC(=C3C4=CC(=NO4)C)C5=CC=C(C=C5)F)C6=CC=C(C=C6)F'\n"
     ]
    },
    {
     "name": "stdout",
     "output_type": "stream",
     "text": [
      "Processed molecule 14300/50000 in molecule_fingerprints_part_1.parquet\n",
      "Processed molecule 14400/50000 in molecule_fingerprints_part_1.parquet\n",
      "Processed molecule 14500/50000 in molecule_fingerprints_part_1.parquet\n",
      "Processed molecule 14600/50000 in molecule_fingerprints_part_1.parquet\n",
      "Processed molecule 14700/50000 in molecule_fingerprints_part_1.parquet\n"
     ]
    },
    {
     "name": "stderr",
     "output_type": "stream",
     "text": [
      "[02:37:29] SMILES Parse Error: unclosed ring for input: 'CC1=NC2=CC=CC(=C2C=C1)C3=NN=C(N3C)SCCCN4CCC(=CC5C4)C6=CC7C(C=C6)OC(=N7)C'\n"
     ]
    },
    {
     "name": "stdout",
     "output_type": "stream",
     "text": [
      "Processed molecule 14800/50000 in molecule_fingerprints_part_1.parquet\n"
     ]
    },
    {
     "name": "stderr",
     "output_type": "stream",
     "text": [
      "[02:37:58] SMILES Parse Error: unclosed ring for input: 'C[C@H]1[C@H]2[C@H](C(OC3=C2C(=O)NC4=CC=CC=C43)(C)C)C5=CC(=C(C=C5)OCC6=CC=CC=C6)OC'\n"
     ]
    },
    {
     "name": "stdout",
     "output_type": "stream",
     "text": [
      "Processed molecule 14900/50000 in molecule_fingerprints_part_1.parquet\n"
     ]
    },
    {
     "name": "stderr",
     "output_type": "stream",
     "text": [
      "[02:38:22] SMILES Parse Error: extra close parentheses while parsing: CC1(O)CC(C)(O)C1)c1ccc(cc1)c1nc2c3cc(ccc3OCn2c1c1ccccc1\n",
      "[02:38:22] SMILES Parse Error: Failed parsing SMILES 'CC1(O)CC(C)(O)C1)c1ccc(cc1)c1nc2c3cc(ccc3OCn2c1c1ccccc1' for input: 'CC1(O)CC(C)(O)C1)c1ccc(cc1)c1nc2c3cc(ccc3OCn2c1c1ccccc1'\n"
     ]
    },
    {
     "name": "stdout",
     "output_type": "stream",
     "text": [
      "Processed molecule 15000/50000 in molecule_fingerprints_part_1.parquet\n",
      "Processed molecule 15100/50000 in molecule_fingerprints_part_1.parquet\n",
      "Processed molecule 15200/50000 in molecule_fingerprints_part_1.parquet\n"
     ]
    },
    {
     "name": "stderr",
     "output_type": "stream",
     "text": [
      "[02:39:39] Can't kekulize mol.  Unkekulized atoms: 2 3 5 7 8 9 20\n",
      "[02:39:41] SMILES Parse Error: unclosed ring for input: 'COC1=C(C=C2C3=C1OCC4=CSC(=C(C(=O)C(=C4N3C(=C(C2=O)C(=O)O)OC)C(=O)O)C(=O)O)N5C(=CSC5=C(C2=O)C(=O)O)C(=O)O)F'\n"
     ]
    },
    {
     "name": "stdout",
     "output_type": "stream",
     "text": [
      "Processed molecule 15300/50000 in molecule_fingerprints_part_1.parquet\n",
      "Processed molecule 15400/50000 in molecule_fingerprints_part_1.parquet\n",
      "Processed molecule 15500/50000 in molecule_fingerprints_part_1.parquet\n",
      "Processed molecule 15600/50000 in molecule_fingerprints_part_1.parquet\n"
     ]
    },
    {
     "name": "stderr",
     "output_type": "stream",
     "text": [
      "[02:41:22] Can't kekulize mol.  Unkekulized atoms: 13 14 16\n"
     ]
    },
    {
     "name": "stdout",
     "output_type": "stream",
     "text": [
      "Processed molecule 15700/50000 in molecule_fingerprints_part_1.parquet\n"
     ]
    },
    {
     "name": "stderr",
     "output_type": "stream",
     "text": [
      "[02:41:43] Can't kekulize mol.  Unkekulized atoms: 8 21 23 24\n"
     ]
    },
    {
     "name": "stdout",
     "output_type": "stream",
     "text": [
      "Processed molecule 15800/50000 in molecule_fingerprints_part_1.parquet\n",
      "Processed molecule 15900/50000 in molecule_fingerprints_part_1.parquet\n"
     ]
    },
    {
     "name": "stderr",
     "output_type": "stream",
     "text": [
      "[02:43:02] Can't kekulize mol.  Unkekulized atoms: 3 4 6 7 8 9 13 15 16\n"
     ]
    },
    {
     "name": "stdout",
     "output_type": "stream",
     "text": [
      "Processed molecule 16000/50000 in molecule_fingerprints_part_1.parquet\n",
      "Processed molecule 16100/50000 in molecule_fingerprints_part_1.parquet\n",
      "Processed molecule 16200/50000 in molecule_fingerprints_part_1.parquet\n",
      "Processed molecule 16300/50000 in molecule_fingerprints_part_1.parquet\n",
      "Processed molecule 16400/50000 in molecule_fingerprints_part_1.parquet\n"
     ]
    },
    {
     "name": "stderr",
     "output_type": "stream",
     "text": [
      "[02:45:07] SMILES Parse Error: unclosed ring for input: 'CC1(C)[C@H](CC[C@]2([C@H]1CC[C@@]1([C@@H]2C[C@H]([C@H]2[C@]1(CC[C@@H]2[C@@](CCCC(=C)[C@@H]1CCCC(C)(C)O)(C)O)C)O)C)C)OS(=O)(=O)N'\n"
     ]
    },
    {
     "name": "stdout",
     "output_type": "stream",
     "text": [
      "Processed molecule 16500/50000 in molecule_fingerprints_part_1.parquet\n"
     ]
    },
    {
     "name": "stderr",
     "output_type": "stream",
     "text": [
      "[02:45:39] SMILES Parse Error: unclosed ring for input: 'C1CC12C3=CC=CC=C3N4C(N2)N5C(C4=O)NC6(C5=O)C7NC(=O)C8C(=O)NCC9=NC1=CC=CC=C1C(=O)N79'\n"
     ]
    },
    {
     "name": "stdout",
     "output_type": "stream",
     "text": [
      "Processed molecule 16600/50000 in molecule_fingerprints_part_1.parquet\n"
     ]
    },
    {
     "name": "stderr",
     "output_type": "stream",
     "text": [
      "[02:45:54] SMILES Parse Error: unclosed ring for input: 'CN1C(=C(C(=C1O)C2C(=O)NC3=CC=CC=C3C(=O)N2C4C5=CC(=CC=C5)Br)C6C(=O)NC7=CC=CC=C7C(=O)N6C)O'\n"
     ]
    },
    {
     "name": "stdout",
     "output_type": "stream",
     "text": [
      "Processed molecule 16700/50000 in molecule_fingerprints_part_1.parquet\n",
      "Processed molecule 16800/50000 in molecule_fingerprints_part_1.parquet\n",
      "Processed molecule 16900/50000 in molecule_fingerprints_part_1.parquet\n"
     ]
    },
    {
     "name": "stderr",
     "output_type": "stream",
     "text": [
      "[02:47:34] Can't kekulize mol.  Unkekulized atoms: 0 1 2 3 4 5 28\n"
     ]
    },
    {
     "name": "stdout",
     "output_type": "stream",
     "text": [
      "Processed molecule 17000/50000 in molecule_fingerprints_part_1.parquet\n",
      "Processed molecule 17100/50000 in molecule_fingerprints_part_1.parquet\n"
     ]
    },
    {
     "name": "stderr",
     "output_type": "stream",
     "text": [
      "[02:48:26] SMILES Parse Error: unclosed ring for input: 'c1ccc2c(c1O)C1=NN(C(C1)c1cccc3c1cccc3)C(=S)Nc1ccccc1OC'\n",
      "[02:48:31] SMILES Parse Error: unclosed ring for input: 'C1CC1CN2CC[C@]34[C@@H]5[C@H]([C@H](C[C@]3([C@H]2CC6=CC=CC=C46)O)C7=CC=CC=C7O5)NC8=CC=CC=C78'\n"
     ]
    },
    {
     "name": "stdout",
     "output_type": "stream",
     "text": [
      "Processed molecule 17200/50000 in molecule_fingerprints_part_1.parquet\n"
     ]
    },
    {
     "name": "stderr",
     "output_type": "stream",
     "text": [
      "[02:48:56] Can't kekulize mol.  Unkekulized atoms: 0 1 2 3 4 5 21 22 28 29 30\n"
     ]
    },
    {
     "name": "stdout",
     "output_type": "stream",
     "text": [
      "Processed molecule 17300/50000 in molecule_fingerprints_part_1.parquet\n",
      "Processed molecule 17400/50000 in molecule_fingerprints_part_1.parquet\n"
     ]
    },
    {
     "name": "stderr",
     "output_type": "stream",
     "text": [
      "[02:49:38] Can't kekulize mol.  Unkekulized atoms: 0 1 2 3 4 5 6 7 8 12 13\n",
      "[02:49:50] SMILES Parse Error: extra close parentheses while parsing: CS(=O)(=O)NC1CCCC1)NC2=NC=CC(=N2)C3=C(NN=C3)C4CC4\n",
      "[02:49:50] SMILES Parse Error: Failed parsing SMILES 'CS(=O)(=O)NC1CCCC1)NC2=NC=CC(=N2)C3=C(NN=C3)C4CC4' for input: 'CS(=O)(=O)NC1CCCC1)NC2=NC=CC(=N2)C3=C(NN=C3)C4CC4'\n",
      "[02:49:54] SMILES Parse Error: unclosed ring for input: 'C1CC([C@@H]2[C@@]3([C@H]1O)[C@H]1[C@@]4([C@]([C@H]2OC(=O)CCCC(=O)OCc2cn(c3C(=O)C(=C2)OC)C)(OC3)O)[C@@H](CC1)C(=C)C4=O)(C)C'\n"
     ]
    },
    {
     "name": "stdout",
     "output_type": "stream",
     "text": [
      "Processed molecule 17500/50000 in molecule_fingerprints_part_1.parquet\n"
     ]
    },
    {
     "name": "stderr",
     "output_type": "stream",
     "text": [
      "[02:50:07] SMILES Parse Error: unclosed ring for input: 'C/C=C(\\C)/C(=O)O[C@@H]1C2=C[C@H](C[C@@H]2[C@@]3(CC[C@H]4[C@H]([C@@H]3C1(C)C)C=C5[C@@H](OC(=O)C[C@@H]5O)[C@@H](C(=O)OC)O)C)O'\n"
     ]
    },
    {
     "name": "stdout",
     "output_type": "stream",
     "text": [
      "Processed molecule 17600/50000 in molecule_fingerprints_part_1.parquet\n"
     ]
    },
    {
     "name": "stderr",
     "output_type": "stream",
     "text": [
      "[02:50:38] SMILES Parse Error: unclosed ring for input: 'O=S(=O)(c1ccc(N2N=C(c3c4ccc(c5c4oc(=O)cc5C)O)CC2c2cccc(c2)O)cc1)N'\n",
      "[02:50:38] SMILES Parse Error: unclosed ring for input: 'c1c(ccc(c1)NC(=O)Nc1cccnc1)c1nn2c(c1)N1[C@@H](COCC1)C'\n"
     ]
    },
    {
     "name": "stdout",
     "output_type": "stream",
     "text": [
      "Processed molecule 17700/50000 in molecule_fingerprints_part_1.parquet\n",
      "Processed molecule 17800/50000 in molecule_fingerprints_part_1.parquet\n"
     ]
    },
    {
     "name": "stderr",
     "output_type": "stream",
     "text": [
      "[02:51:43] Can't kekulize mol.  Unkekulized atoms: 0 1 2 3 4 5 6 7 8 9 10 11 13 22 23 24 25\n"
     ]
    },
    {
     "name": "stdout",
     "output_type": "stream",
     "text": [
      "Processed molecule 17900/50000 in molecule_fingerprints_part_1.parquet\n"
     ]
    },
    {
     "name": "stderr",
     "output_type": "stream",
     "text": [
      "[02:51:52] SMILES Parse Error: unclosed ring for input: 'CC1=C(C2=C(C(=C1O)C)O/C(=C\\C3=CC=CO3)/C2=O)[C@]4(C(=CC(=O)C(C4=O)C(=O)C)O/C(=C\\C5=CC=CO5)/C2=O)C'\n"
     ]
    },
    {
     "name": "stdout",
     "output_type": "stream",
     "text": [
      "Processed molecule 18000/50000 in molecule_fingerprints_part_1.parquet\n",
      "Processed molecule 18100/50000 in molecule_fingerprints_part_1.parquet\n",
      "Processed molecule 18200/50000 in molecule_fingerprints_part_1.parquet\n"
     ]
    },
    {
     "name": "stderr",
     "output_type": "stream",
     "text": [
      "[02:53:27] Can't kekulize mol.  Unkekulized atoms: 0 1 2 3 4 5 6\n"
     ]
    },
    {
     "name": "stdout",
     "output_type": "stream",
     "text": [
      "Processed molecule 18300/50000 in molecule_fingerprints_part_1.parquet\n"
     ]
    },
    {
     "name": "stderr",
     "output_type": "stream",
     "text": [
      "[02:54:08] SMILES Parse Error: unclosed ring for input: 'CC(=C)[C@@H]1C[C@@H]2[C@H]3[C@@H](C1)OC(=O)[C@@H]4[C@H]3C(=O)C[C@]5([C@@H]4C(=O)C[C@H](O5)C(=C)C)C'\n"
     ]
    },
    {
     "name": "stdout",
     "output_type": "stream",
     "text": [
      "Processed molecule 18400/50000 in molecule_fingerprints_part_1.parquet\n",
      "Processed molecule 18500/50000 in molecule_fingerprints_part_1.parquet\n",
      "Processed molecule 18600/50000 in molecule_fingerprints_part_1.parquet\n",
      "Processed molecule 18700/50000 in molecule_fingerprints_part_1.parquet\n"
     ]
    },
    {
     "name": "stderr",
     "output_type": "stream",
     "text": [
      "[02:55:47] Can't kekulize mol.  Unkekulized atoms: 8 9 10 12 13 17 28\n",
      "[02:55:49] Can't kekulize mol.  Unkekulized atoms: 6 7 8 9 10 11 12 13 14 17 18\n"
     ]
    },
    {
     "name": "stdout",
     "output_type": "stream",
     "text": [
      "Processed molecule 18800/50000 in molecule_fingerprints_part_1.parquet\n"
     ]
    },
    {
     "name": "stderr",
     "output_type": "stream",
     "text": [
      "[02:56:19] SMILES Parse Error: unclosed ring for input: 'Cn1c(=O)n(c2ccc(nc2)c2ccc3ncc4n(C)c(=O)n(c4c3n2)c2ccc(cc2)C(C)(C)C#N)c2ccc(C)nc2'\n"
     ]
    },
    {
     "name": "stdout",
     "output_type": "stream",
     "text": [
      "Processed molecule 18900/50000 in molecule_fingerprints_part_1.parquet\n"
     ]
    },
    {
     "name": "stderr",
     "output_type": "stream",
     "text": [
      "[02:56:36] SMILES Parse Error: unclosed ring for input: 'Fc1cnc(C(=O)Nc2cccc(c2)[C@@]23CN(C[C@H]2CSC(=N)N3)C3=N)c(F)c1'\n",
      "[02:56:41] SMILES Parse Error: unclosed ring for input: 'CCOC(=O)C1=NC2=CC=CC=C2N(C1=O)C3CCCC(C3)N4C5CCCC4/C=C/C6CC7CC(C6(C)C)C7(C)C'\n",
      "[02:56:41] SMILES Parse Error: unclosed ring for input: 'C[C@@H]([C@H]1CC[C@@H]2[C@@]1(C[C@H]3[C@H]([C@H]2CCC4[C@@]3(CC[C@H](C4)O)C)CC[C@@H]5[C@@]3(CC[C@@H](C5)O)C)C)O'\n"
     ]
    },
    {
     "name": "stdout",
     "output_type": "stream",
     "text": [
      "Processed molecule 19000/50000 in molecule_fingerprints_part_1.parquet\n",
      "Processed molecule 19100/50000 in molecule_fingerprints_part_1.parquet\n",
      "Processed molecule 19200/50000 in molecule_fingerprints_part_1.parquet\n",
      "Processed molecule 19300/50000 in molecule_fingerprints_part_1.parquet\n"
     ]
    },
    {
     "name": "stderr",
     "output_type": "stream",
     "text": [
      "[02:58:31] SMILES Parse Error: unclosed ring for input: 'C1C2C=CC1C3=C2C(=C(N(C3=C4C5CC(C4=C(N5C6=CC=C(C=C6)C(=O)NCC7=CC=CC=C7)O)C=C5)C8=CC=C(C=C8)C(=O)NCC9=CC=CC=C9)O)O'\n"
     ]
    },
    {
     "name": "stdout",
     "output_type": "stream",
     "text": [
      "Processed molecule 19400/50000 in molecule_fingerprints_part_1.parquet\n",
      "Processed molecule 19500/50000 in molecule_fingerprints_part_1.parquet\n"
     ]
    },
    {
     "name": "stderr",
     "output_type": "stream",
     "text": [
      "[02:59:38] SMILES Parse Error: unclosed ring for input: 'CCC1=NC2=CC=CC=C2N=C(C1C3=O)CC'\n",
      "[02:59:40] Can't kekulize mol.  Unkekulized atoms: 0 1 2 3 4 5 6 7 9 10 11 16 23 24 25 26\n"
     ]
    },
    {
     "name": "stdout",
     "output_type": "stream",
     "text": [
      "Processed molecule 19600/50000 in molecule_fingerprints_part_1.parquet\n",
      "Processed molecule 19700/50000 in molecule_fingerprints_part_1.parquet\n"
     ]
    },
    {
     "name": "stderr",
     "output_type": "stream",
     "text": [
      "[03:00:16] SMILES Parse Error: unclosed ring for input: 'CN1CC[C@H]2C[C@@H]3CC4=C(C=C(C(=C4C(=O)C3C(=O)[C@@]2(C(=O)C1C(=O)N)O)O)NC(=O)[C@@H]5C[C@@H]6C[C@@H]7[C@H](C(=O)C(C(=O)[C@@]7(C(=O)N)O)C(=O)N)N(C)C)F'\n"
     ]
    },
    {
     "name": "stdout",
     "output_type": "stream",
     "text": [
      "Processed molecule 19800/50000 in molecule_fingerprints_part_1.parquet\n"
     ]
    },
    {
     "name": "stderr",
     "output_type": "stream",
     "text": [
      "[03:01:03] SMILES Parse Error: extra open parentheses for input: 'C1=CC=C(C=C1)N2C3C(N(N=C2N3C4=CC=CC=C4)C5=CC=CC=C5)N6C(=NN(N=C6C7N(N=C(N7C8=CC=CC=C8)C9=CC=CC=C9)C1=CC=CC=C1)C1=CC=CCCC=C1'\n"
     ]
    },
    {
     "name": "stdout",
     "output_type": "stream",
     "text": [
      "Processed molecule 19900/50000 in molecule_fingerprints_part_1.parquet\n",
      "Processed molecule 20000/50000 in molecule_fingerprints_part_1.parquet\n",
      "Processed molecule 20100/50000 in molecule_fingerprints_part_1.parquet\n",
      "Processed molecule 20200/50000 in molecule_fingerprints_part_1.parquet\n",
      "Processed molecule 20300/50000 in molecule_fingerprints_part_1.parquet\n",
      "Processed molecule 20400/50000 in molecule_fingerprints_part_1.parquet\n",
      "Processed molecule 20500/50000 in molecule_fingerprints_part_1.parquet\n"
     ]
    },
    {
     "name": "stderr",
     "output_type": "stream",
     "text": [
      "[03:03:58] SMILES Parse Error: unclosed ring for input: 'CCCC1(C(=O)C(SC(=NC23CC4CC(C2)CC3C4)NC1=O)(C)C)C56C7CC8CC(C7)CC5C6'\n"
     ]
    },
    {
     "name": "stdout",
     "output_type": "stream",
     "text": [
      "Processed molecule 20600/50000 in molecule_fingerprints_part_1.parquet\n"
     ]
    },
    {
     "name": "stderr",
     "output_type": "stream",
     "text": [
      "[03:04:37] SMILES Parse Error: unclosed ring for input: 'C[C@]12C[C@@H]3[C@]4([C@]56[C@H]1C(=O)[C@](O5)([C@@H]7C[C@H]8[C@]9(C=CCC(=O)[C@@]9([C@H]7CC[C@]6(C(=O)O4)O)C)OC[C@@H]2C(=O)O3)O)C'\n"
     ]
    },
    {
     "name": "stdout",
     "output_type": "stream",
     "text": [
      "Processed molecule 20700/50000 in molecule_fingerprints_part_1.parquet\n",
      "Processed molecule 20800/50000 in molecule_fingerprints_part_1.parquet\n",
      "Processed molecule 20900/50000 in molecule_fingerprints_part_1.parquet\n"
     ]
    },
    {
     "name": "stderr",
     "output_type": "stream",
     "text": [
      "[03:06:04] SMILES Parse Error: extra close parentheses while parsing: CN1C(=NC(C)(C)CS1(=O)=O)N)c1ccc(cc1)c1cccc2c(sc3nccc(c4ccc(cc4)n4nccn4)c1F\n",
      "[03:06:04] SMILES Parse Error: Failed parsing SMILES 'CN1C(=NC(C)(C)CS1(=O)=O)N)c1ccc(cc1)c1cccc2c(sc3nccc(c4ccc(cc4)n4nccn4)c1F' for input: 'CN1C(=NC(C)(C)CS1(=O)=O)N)c1ccc(cc1)c1cccc2c(sc3nccc(c4ccc(cc4)n4nccn4)c1F'\n"
     ]
    },
    {
     "name": "stdout",
     "output_type": "stream",
     "text": [
      "Processed molecule 21000/50000 in molecule_fingerprints_part_1.parquet\n"
     ]
    },
    {
     "name": "stderr",
     "output_type": "stream",
     "text": [
      "[03:06:30] SMILES Parse Error: unclosed ring for input: 'CC1(CCC=C1C23CCC(C2)C(C3=CCCC3(C)C)(C)C)C'\n"
     ]
    },
    {
     "name": "stdout",
     "output_type": "stream",
     "text": [
      "Processed molecule 21100/50000 in molecule_fingerprints_part_1.parquet\n"
     ]
    },
    {
     "name": "stderr",
     "output_type": "stream",
     "text": [
      "[03:07:04] SMILES Parse Error: unclosed ring for input: 'C1C(=O)[C@@]2([C@@H](C1)[C@H]1C/C(=N\\OCCN)/[C@H]3[C@](CC1)([C@H]1CCC(=O)[C@@]1(CC3)C)C)C'\n"
     ]
    },
    {
     "name": "stdout",
     "output_type": "stream",
     "text": [
      "Processed molecule 21200/50000 in molecule_fingerprints_part_1.parquet\n",
      "Processed molecule 21300/50000 in molecule_fingerprints_part_1.parquet\n",
      "Processed molecule 21400/50000 in molecule_fingerprints_part_1.parquet\n"
     ]
    },
    {
     "name": "stderr",
     "output_type": "stream",
     "text": [
      "[03:08:13] SMILES Parse Error: unclosed ring for input: 'CN1C(=N)N[C@@]2(CS1(=O)=O)c1cc(NC(=O)c3ccc(OCF)cn3)ccc1F'\n"
     ]
    },
    {
     "name": "stdout",
     "output_type": "stream",
     "text": [
      "Processed molecule 21500/50000 in molecule_fingerprints_part_1.parquet\n",
      "Processed molecule 21600/50000 in molecule_fingerprints_part_1.parquet\n"
     ]
    },
    {
     "name": "stderr",
     "output_type": "stream",
     "text": [
      "[03:09:12] Can't kekulize mol.  Unkekulized atoms: 2 3 4 11 17\n"
     ]
    },
    {
     "name": "stdout",
     "output_type": "stream",
     "text": [
      "Processed molecule 21700/50000 in molecule_fingerprints_part_1.parquet\n"
     ]
    },
    {
     "name": "stderr",
     "output_type": "stream",
     "text": [
      "[03:09:35] SMILES Parse Error: unclosed ring for input: 'C1=CC=C2C(=C1)N=C3C4=C(C(=O)C=C(N4)C(=O)O)C5=C3C(=O)C=C(N5)C(=O)O'\n",
      "[03:09:49] Can't kekulize mol.  Unkekulized atoms: 12 14 15 16 17 18 19\n"
     ]
    },
    {
     "name": "stdout",
     "output_type": "stream",
     "text": [
      "Processed molecule 21800/50000 in molecule_fingerprints_part_1.parquet\n"
     ]
    },
    {
     "name": "stderr",
     "output_type": "stream",
     "text": [
      "[03:10:21] Can't kekulize mol.  Unkekulized atoms: 6 7 8 24 25 27 29 30 31\n",
      "[03:10:23] Can't kekulize mol.  Unkekulized atoms: 1 2 3 5 6 7 17\n"
     ]
    },
    {
     "name": "stdout",
     "output_type": "stream",
     "text": [
      "Processed molecule 21900/50000 in molecule_fingerprints_part_1.parquet\n",
      "Processed molecule 22000/50000 in molecule_fingerprints_part_1.parquet\n",
      "Processed molecule 22100/50000 in molecule_fingerprints_part_1.parquet\n",
      "Processed molecule 22200/50000 in molecule_fingerprints_part_1.parquet\n"
     ]
    },
    {
     "name": "stderr",
     "output_type": "stream",
     "text": [
      "[03:12:09] SMILES Parse Error: extra close parentheses while parsing: Cc1ncns1)N1CCC2(CCN(C[C@@H](O)c3ccc4C(=O)OCc4c3C)C2=O\n",
      "[03:12:09] SMILES Parse Error: Failed parsing SMILES 'Cc1ncns1)N1CCC2(CCN(C[C@@H](O)c3ccc4C(=O)OCc4c3C)C2=O' for input: 'Cc1ncns1)N1CCC2(CCN(C[C@@H](O)c3ccc4C(=O)OCc4c3C)C2=O'\n"
     ]
    },
    {
     "name": "stdout",
     "output_type": "stream",
     "text": [
      "Processed molecule 22300/50000 in molecule_fingerprints_part_1.parquet\n",
      "Processed molecule 22400/50000 in molecule_fingerprints_part_1.parquet\n",
      "Processed molecule 22500/50000 in molecule_fingerprints_part_1.parquet\n"
     ]
    },
    {
     "name": "stderr",
     "output_type": "stream",
     "text": [
      "[03:13:24] Can't kekulize mol.  Unkekulized atoms: 7 8 11 12 17 19 20\n",
      "[03:13:34] Can't kekulize mol.  Unkekulized atoms: 20 21 22\n"
     ]
    },
    {
     "name": "stdout",
     "output_type": "stream",
     "text": [
      "Processed molecule 22600/50000 in molecule_fingerprints_part_1.parquet\n",
      "Processed molecule 22700/50000 in molecule_fingerprints_part_1.parquet\n",
      "Processed molecule 22800/50000 in molecule_fingerprints_part_1.parquet\n",
      "Processed molecule 22900/50000 in molecule_fingerprints_part_1.parquet\n",
      "Processed molecule 23000/50000 in molecule_fingerprints_part_1.parquet\n",
      "Processed molecule 23100/50000 in molecule_fingerprints_part_1.parquet\n",
      "Processed molecule 23200/50000 in molecule_fingerprints_part_1.parquet\n"
     ]
    },
    {
     "name": "stderr",
     "output_type": "stream",
     "text": [
      "[03:16:51] Can't kekulize mol.  Unkekulized atoms: 18 19 20\n"
     ]
    },
    {
     "name": "stdout",
     "output_type": "stream",
     "text": [
      "Processed molecule 23300/50000 in molecule_fingerprints_part_1.parquet\n",
      "Processed molecule 23400/50000 in molecule_fingerprints_part_1.parquet\n"
     ]
    },
    {
     "name": "stderr",
     "output_type": "stream",
     "text": [
      "[03:17:27] SMILES Parse Error: unclosed ring for input: 'C1C[C@@]23C[C@]4(CCN([C@@H]2CC5=C3C=C(C=C5)O)CC6=CC=CC=C6)C(O4)(CNC(=O)C7=CC=CC=C7)CNC(=O)C8=CC=CC=C8'\n",
      "[03:17:51] SMILES Parse Error: unclosed ring for input: 'COCC1CCN(CC1)S(=O)(=O)N1CC[C@H]2CN(C[C@]2(O)C2CC2)S(=O)(=O)N2CCC(COC)CC2'\n"
     ]
    },
    {
     "name": "stdout",
     "output_type": "stream",
     "text": [
      "Processed molecule 23500/50000 in molecule_fingerprints_part_1.parquet\n",
      "Processed molecule 23600/50000 in molecule_fingerprints_part_1.parquet\n"
     ]
    },
    {
     "name": "stderr",
     "output_type": "stream",
     "text": [
      "[03:18:36] SMILES Parse Error: unclosed ring for input: 'CCCCN(C1=C(N(C(=O)NC1=O)CCC)N)C(=O)CN2C(=C3CCCCC3=O)O'\n"
     ]
    },
    {
     "name": "stdout",
     "output_type": "stream",
     "text": [
      "Processed molecule 23700/50000 in molecule_fingerprints_part_1.parquet\n",
      "Processed molecule 23800/50000 in molecule_fingerprints_part_1.parquet\n"
     ]
    },
    {
     "name": "stderr",
     "output_type": "stream",
     "text": [
      "[03:19:27] SMILES Parse Error: unclosed ring for input: 'C[C@@H]1CC[C@@]2(CC[C@@]3(C(=C[C@H]([C@H]4[C@]3(CC[C@@H]5[C@@]4(C(=O)C[C@H]([C@]5(C)C6C[C@](C=CC6(C)C)(C)OO6)O)C)C)O)[C@@H]2[C@H]1C)C)C'\n"
     ]
    },
    {
     "name": "stdout",
     "output_type": "stream",
     "text": [
      "Processed molecule 23900/50000 in molecule_fingerprints_part_1.parquet\n"
     ]
    },
    {
     "name": "stderr",
     "output_type": "stream",
     "text": [
      "[03:19:51] Explicit valence for atom # 7 N, 4, is greater than permitted\n"
     ]
    },
    {
     "name": "stdout",
     "output_type": "stream",
     "text": [
      "Processed molecule 24000/50000 in molecule_fingerprints_part_1.parquet\n",
      "Processed molecule 24100/50000 in molecule_fingerprints_part_1.parquet\n"
     ]
    },
    {
     "name": "stderr",
     "output_type": "stream",
     "text": [
      "[03:21:05] SMILES Parse Error: unclosed ring for input: 'O=c1n(c2nc(ncc2nc1c1c2c(n(c1)C)cccc2)N1CCN(CC1)C)c1ccc(n2c(=O)c3c(n(c1)C)cccc3)cc1'\n"
     ]
    },
    {
     "name": "stdout",
     "output_type": "stream",
     "text": [
      "Processed molecule 24200/50000 in molecule_fingerprints_part_1.parquet\n"
     ]
    },
    {
     "name": "stderr",
     "output_type": "stream",
     "text": [
      "[03:21:33] Can't kekulize mol.  Unkekulized atoms: 0 1 5 6 8\n"
     ]
    },
    {
     "name": "stdout",
     "output_type": "stream",
     "text": [
      "Processed molecule 24300/50000 in molecule_fingerprints_part_1.parquet\n",
      "Processed molecule 24400/50000 in molecule_fingerprints_part_1.parquet\n",
      "Processed molecule 24500/50000 in molecule_fingerprints_part_1.parquet\n"
     ]
    },
    {
     "name": "stderr",
     "output_type": "stream",
     "text": [
      "[03:22:47] Can't kekulize mol.  Unkekulized atoms: 0 5 6 8 9 25 26 27\n"
     ]
    },
    {
     "name": "stdout",
     "output_type": "stream",
     "text": [
      "Processed molecule 24600/50000 in molecule_fingerprints_part_1.parquet\n"
     ]
    },
    {
     "name": "stderr",
     "output_type": "stream",
     "text": [
      "[03:23:17] SMILES Parse Error: unclosed ring for input: 'CC1=CC=C(C=C1)C2=CSC3=NN=C(N23)C4=NC=C(N4C5=NC=C(N55)C)C'\n",
      "[03:23:24] SMILES Parse Error: unclosed ring for input: 'CC[C@@H]1[C@@H]2C=C([C@H]([C@@H]2C3(O1)C4=CC=CC=C4NC3=O)[C@]5(C6=CC=CC=C6O4)C7=CC=CC=C7NC5=O)C=O'\n"
     ]
    },
    {
     "name": "stdout",
     "output_type": "stream",
     "text": [
      "Processed molecule 24700/50000 in molecule_fingerprints_part_1.parquet\n"
     ]
    },
    {
     "name": "stderr",
     "output_type": "stream",
     "text": [
      "[03:23:45] SMILES Parse Error: unclosed ring for input: 'CN(C)C(=O)/C=C/C1=CC2C(C1)N3C=C(C4=CC5=C(C=C4C3=O)OCO5)S(=O)(=O)O'\n",
      "[03:23:47] SMILES Parse Error: unclosed ring for input: 'CS[C@@]12C[C@@H]3[C@@H]4N1C(=O)[C@@](N4C2=O)(SS3)C5CCC(=O)[C@@H]6CC(=O)[C@H]7CC(=O)[C@@H](CC[C@@H]7SS5)O'\n"
     ]
    },
    {
     "name": "stdout",
     "output_type": "stream",
     "text": [
      "Processed molecule 24800/50000 in molecule_fingerprints_part_1.parquet\n",
      "Processed molecule 24900/50000 in molecule_fingerprints_part_1.parquet\n"
     ]
    },
    {
     "name": "stderr",
     "output_type": "stream",
     "text": [
      "[03:24:27] SMILES Parse Error: unclosed ring for input: 'CC(C)(C=C)C1=C(C2=CC=CC=C2N1)C[C@H]3C(=O)N4[C@H]5[C@@](C[C@H](C4=O)N5C(=O)[C@H](N3)CC6=C(NC7=CC=CC=C76)C(C)(C)C=C)(C8=CC=CC=C8N5)O'\n"
     ]
    },
    {
     "name": "stdout",
     "output_type": "stream",
     "text": [
      "Processed molecule 25000/50000 in molecule_fingerprints_part_1.parquet\n"
     ]
    },
    {
     "name": "stderr",
     "output_type": "stream",
     "text": [
      "[03:24:58] Can't kekulize mol.  Unkekulized atoms: 0 1 2 3 4 5 6 11 12 14 15\n"
     ]
    },
    {
     "name": "stdout",
     "output_type": "stream",
     "text": [
      "Processed molecule 25100/50000 in molecule_fingerprints_part_1.parquet\n"
     ]
    },
    {
     "name": "stderr",
     "output_type": "stream",
     "text": [
      "[03:25:38] Can't kekulize mol.  Unkekulized atoms: 1 2 3 4 6 29 30 31 32\n"
     ]
    },
    {
     "name": "stdout",
     "output_type": "stream",
     "text": [
      "Processed molecule 25200/50000 in molecule_fingerprints_part_1.parquet\n",
      "Processed molecule 25300/50000 in molecule_fingerprints_part_1.parquet\n",
      "Processed molecule 25400/50000 in molecule_fingerprints_part_1.parquet\n",
      "Processed molecule 25500/50000 in molecule_fingerprints_part_1.parquet\n"
     ]
    },
    {
     "name": "stderr",
     "output_type": "stream",
     "text": [
      "[03:27:19] SMILES Parse Error: unclosed ring for input: 'C1C=C2C=NC3=C(C4=C(C(=C3O)O)NC5N41)C6=CC(=O)C(CC65)NCC(=O)O'\n"
     ]
    },
    {
     "name": "stdout",
     "output_type": "stream",
     "text": [
      "Processed molecule 25600/50000 in molecule_fingerprints_part_1.parquet\n",
      "Processed molecule 25700/50000 in molecule_fingerprints_part_1.parquet\n"
     ]
    },
    {
     "name": "stderr",
     "output_type": "stream",
     "text": [
      "[03:28:28] SMILES Parse Error: unclosed ring for input: 'CC1CN2C(=C3C=CC(=O)C4=C3C1=C(C=C4)C5=NC6=C(N5CC(C7=C6C=CC8=CC=CC=C87)C)C(=O)C=CC6=O)N=C9C2=C(C=CC9=O)C'\n"
     ]
    },
    {
     "name": "stdout",
     "output_type": "stream",
     "text": [
      "Processed molecule 25800/50000 in molecule_fingerprints_part_1.parquet\n",
      "Processed molecule 25900/50000 in molecule_fingerprints_part_1.parquet\n",
      "Processed molecule 26000/50000 in molecule_fingerprints_part_1.parquet\n"
     ]
    },
    {
     "name": "stderr",
     "output_type": "stream",
     "text": [
      "[03:30:01] SMILES Parse Error: unclosed ring for input: 'C/C(=C\\1/[C@@H]2[C@H]3C[C@H]3[C@@]2(C(=O)C1=O)C)/[C@H]4[C@@H]([C@]5([C@@H]6CC7=C(C(=O)O[C@@]7([C@@]6(O5)C)CO)CO)C)O'\n"
     ]
    },
    {
     "name": "stdout",
     "output_type": "stream",
     "text": [
      "Processed molecule 26100/50000 in molecule_fingerprints_part_1.parquet\n"
     ]
    },
    {
     "name": "stderr",
     "output_type": "stream",
     "text": [
      "[03:30:20] SMILES Parse Error: unclosed ring for input: 'CC1=CC(=O)[C@@]2(C[C@]1(C)CCC(=O)NC3=C(C=CC(=C3O)C(=O)O)O)[C@H]4C[C@H]5C[C@@]4(O5)C'\n"
     ]
    },
    {
     "name": "stdout",
     "output_type": "stream",
     "text": [
      "Processed molecule 26200/50000 in molecule_fingerprints_part_1.parquet\n"
     ]
    },
    {
     "name": "stderr",
     "output_type": "stream",
     "text": [
      "[03:30:48] SMILES Parse Error: unclosed ring for input: 'CC1=C[C@@H]2[C@H](C[C@H]1C3=C([C@@H]2CN=C4N(CCCCS4)N5CCCCSC5=NCC=C)C6=C([C@H]7C[C@H]([C@@H]6C=C7C)C(C)C)O)C(C)C'\n"
     ]
    },
    {
     "name": "stdout",
     "output_type": "stream",
     "text": [
      "Processed molecule 26300/50000 in molecule_fingerprints_part_1.parquet\n"
     ]
    },
    {
     "name": "stderr",
     "output_type": "stream",
     "text": [
      "[03:31:26] Can't kekulize mol.  Unkekulized atoms: 3 4 15 16 17 18 19 20 21\n"
     ]
    },
    {
     "name": "stdout",
     "output_type": "stream",
     "text": [
      "Processed molecule 26400/50000 in molecule_fingerprints_part_1.parquet\n",
      "Processed molecule 26500/50000 in molecule_fingerprints_part_1.parquet\n"
     ]
    },
    {
     "name": "stderr",
     "output_type": "stream",
     "text": [
      "[03:32:01] Can't kekulize mol.  Unkekulized atoms: 0 1 3 4 5\n"
     ]
    },
    {
     "name": "stdout",
     "output_type": "stream",
     "text": [
      "Processed molecule 26600/50000 in molecule_fingerprints_part_1.parquet\n",
      "Processed molecule 26700/50000 in molecule_fingerprints_part_1.parquet\n",
      "Processed molecule 26800/50000 in molecule_fingerprints_part_1.parquet\n",
      "Processed molecule 26900/50000 in molecule_fingerprints_part_1.parquet\n",
      "Processed molecule 27000/50000 in molecule_fingerprints_part_1.parquet\n",
      "Processed molecule 27100/50000 in molecule_fingerprints_part_1.parquet\n"
     ]
    },
    {
     "name": "stderr",
     "output_type": "stream",
     "text": [
      "[03:35:10] SMILES Parse Error: unclosed ring for input: 'C=CCO/N=C/1\\[C@@H]2C[C@@H]3[C@@]45CCN3CC4=CCO[C@H]5C2[C@@H]6C[C@H]7[C@@]8([C@H]6N(C1=O)C9=CC=CC=C89)CCN7CC8=CCO6'\n",
      "[03:35:12] SMILES Parse Error: unclosed ring for input: 'CC1=C[C@@H](OC1=O)[C@@H]([C@H](C)[C@@]2(CC[C@@]3([C@@]2(CC[C@]45[C@H]3CC[C@@H]6[C@]4(C5)[C@@H](CC(=O)OC6(C)C)OC5(C)C)O)C)O)O'\n"
     ]
    },
    {
     "name": "stdout",
     "output_type": "stream",
     "text": [
      "Processed molecule 27200/50000 in molecule_fingerprints_part_1.parquet\n"
     ]
    },
    {
     "name": "stderr",
     "output_type": "stream",
     "text": [
      "[03:35:28] SMILES Parse Error: unclosed ring for input: 'CC(=O)C1=CC(=CC=C1)N/C=C\\2/C(=O)NC(=C)N3C2=O'\n"
     ]
    },
    {
     "name": "stdout",
     "output_type": "stream",
     "text": [
      "Processed molecule 27300/50000 in molecule_fingerprints_part_1.parquet\n",
      "Processed molecule 27400/50000 in molecule_fingerprints_part_1.parquet\n",
      "Processed molecule 27500/50000 in molecule_fingerprints_part_1.parquet\n",
      "Processed molecule 27600/50000 in molecule_fingerprints_part_1.parquet\n"
     ]
    },
    {
     "name": "stderr",
     "output_type": "stream",
     "text": [
      "[03:37:11] SMILES Parse Error: unclosed ring for input: 'C[C@@]12CCC[C@@]([C@H]1CC[C@]3([C@H]2CC[C@@H](C3)C(=C)C4)C(=O)O)(C)C(=O)OC'\n",
      "[03:37:16] Can't kekulize mol.  Unkekulized atoms: 0 2 3 4 5 7 8\n"
     ]
    },
    {
     "name": "stdout",
     "output_type": "stream",
     "text": [
      "Processed molecule 27700/50000 in molecule_fingerprints_part_1.parquet\n"
     ]
    },
    {
     "name": "stderr",
     "output_type": "stream",
     "text": [
      "[03:38:04] Can't kekulize mol.  Unkekulized atoms: 0 1 2 3 4\n"
     ]
    },
    {
     "name": "stdout",
     "output_type": "stream",
     "text": [
      "Processed molecule 27800/50000 in molecule_fingerprints_part_1.parquet\n",
      "Processed molecule 27900/50000 in molecule_fingerprints_part_1.parquet\n",
      "Processed molecule 28000/50000 in molecule_fingerprints_part_1.parquet\n",
      "Processed molecule 28100/50000 in molecule_fingerprints_part_1.parquet\n",
      "Processed molecule 28200/50000 in molecule_fingerprints_part_1.parquet\n"
     ]
    },
    {
     "name": "stderr",
     "output_type": "stream",
     "text": [
      "[03:40:08] Can't kekulize mol.  Unkekulized atoms: 1 3 4\n"
     ]
    },
    {
     "name": "stdout",
     "output_type": "stream",
     "text": [
      "Processed molecule 28300/50000 in molecule_fingerprints_part_1.parquet\n"
     ]
    },
    {
     "name": "stderr",
     "output_type": "stream",
     "text": [
      "[03:40:38] SMILES Parse Error: unclosed ring for input: 'CC(C)C[C@H]1C(=O)N2[C@@H](CN([C@@H]([C@@]2(O1)O)CC3=CC=CC=C3)C)C(=O)N[C@]4(C(=O)N5[C@H](CC6=CNC7=CC=CC(=C67)C5=O)CC8=CC=CC=C8)C'\n"
     ]
    },
    {
     "name": "stdout",
     "output_type": "stream",
     "text": [
      "Processed molecule 28400/50000 in molecule_fingerprints_part_1.parquet\n"
     ]
    },
    {
     "name": "stderr",
     "output_type": "stream",
     "text": [
      "[03:41:01] SMILES Parse Error: unclosed ring for input: 'C1[C@@H]2C[C@@]3(C(=O)Nc4csc(n4)NC(=O)C45COC(C)CC4C5)C1C2'\n",
      "[03:41:04] Can't kekulize mol.  Unkekulized atoms: 1 8 19\n",
      "[03:41:10] Can't kekulize mol.  Unkekulized atoms: 23 24 25\n"
     ]
    },
    {
     "name": "stdout",
     "output_type": "stream",
     "text": [
      "Processed molecule 28500/50000 in molecule_fingerprints_part_1.parquet\n",
      "Processed molecule 28600/50000 in molecule_fingerprints_part_1.parquet\n"
     ]
    },
    {
     "name": "stderr",
     "output_type": "stream",
     "text": [
      "[03:42:11] Can't kekulize mol.  Unkekulized atoms: 12 14 15\n"
     ]
    },
    {
     "name": "stdout",
     "output_type": "stream",
     "text": [
      "Processed molecule 28700/50000 in molecule_fingerprints_part_1.parquet\n"
     ]
    },
    {
     "name": "stderr",
     "output_type": "stream",
     "text": [
      "[03:42:35] SMILES Parse Error: unclosed ring for input: 'C12(CCN(CC1)c1nc(cc(n1)c1cnc(nc1)N)N1[C@@H]3CO[C@H](C1)C3)C[C@H]1C[C@@H](C2)F'\n"
     ]
    },
    {
     "name": "stdout",
     "output_type": "stream",
     "text": [
      "Processed molecule 28800/50000 in molecule_fingerprints_part_1.parquet\n",
      "Processed molecule 28900/50000 in molecule_fingerprints_part_1.parquet\n"
     ]
    },
    {
     "name": "stderr",
     "output_type": "stream",
     "text": [
      "[03:43:28] SMILES Parse Error: unclosed ring for input: 'C1CN(CCC12C3=CC4CC3C=C4)C5=C6C=CC(=CC6=NC=C5)Cl'\n",
      "[03:43:38] SMILES Parse Error: unclosed ring for input: 'CC1C=CC2(C3=C(N(C(=C1C4=C(N(C(=C14)O)C5=CC=C(C=C5)Cl)O)C=C2)C6=CC=C(C=C6)Cl)O)CNC(=O)OCC(C)C'\n",
      "[03:43:43] SMILES Parse Error: unclosed ring for input: 'C1=CC=C2C(=C1)C=C3C(=C2SC4=C(N3)C=CC5=C4C=CC=N5)C6=CC=CC=C6N=C7C=CC8=C(C7=C8)SC9=C(N8)C=CC1=C9C=CC=N1'\n"
     ]
    },
    {
     "name": "stdout",
     "output_type": "stream",
     "text": [
      "Processed molecule 29000/50000 in molecule_fingerprints_part_1.parquet\n"
     ]
    },
    {
     "name": "stderr",
     "output_type": "stream",
     "text": [
      "[03:44:00] SMILES Parse Error: unclosed ring for input: 'CCCN=C1N(CC2N1C(C3=C2C(=C(N3CC4=CC=CC=C4)O)C5(C6=C(N(C(=C6C(N5C)CN7C)O)CC8=CC=CC=C8)O)C(=O)OC)(CC9=CC=CC=C9)C(=O)OC)C'\n"
     ]
    },
    {
     "name": "stdout",
     "output_type": "stream",
     "text": [
      "Processed molecule 29100/50000 in molecule_fingerprints_part_1.parquet\n",
      "Processed molecule 29200/50000 in molecule_fingerprints_part_1.parquet\n",
      "Processed molecule 29300/50000 in molecule_fingerprints_part_1.parquet\n",
      "Processed molecule 29400/50000 in molecule_fingerprints_part_1.parquet\n",
      "Processed molecule 29500/50000 in molecule_fingerprints_part_1.parquet\n",
      "Processed molecule 29600/50000 in molecule_fingerprints_part_1.parquet\n"
     ]
    },
    {
     "name": "stderr",
     "output_type": "stream",
     "text": [
      "[03:46:50] SMILES Parse Error: unclosed ring for input: 'C[C@]12CC[C@@]([C@@H]1C[C@H]3[C@@]24CC[C@@]5([C@@H](C4)C[C@H]([C@@H]6[C@@]5(C[C@@H](C6)O)C)O)O)(C)O'\n"
     ]
    },
    {
     "name": "stdout",
     "output_type": "stream",
     "text": [
      "Processed molecule 29700/50000 in molecule_fingerprints_part_1.parquet\n"
     ]
    },
    {
     "name": "stderr",
     "output_type": "stream",
     "text": [
      "[03:47:31] Can't kekulize mol.  Unkekulized atoms: 0 1 2 3 4 5 7\n"
     ]
    },
    {
     "name": "stdout",
     "output_type": "stream",
     "text": [
      "Processed molecule 29800/50000 in molecule_fingerprints_part_1.parquet\n"
     ]
    },
    {
     "name": "stderr",
     "output_type": "stream",
     "text": [
      "[03:47:42] Can't kekulize mol.  Unkekulized atoms: 10 11 14 15 16\n"
     ]
    },
    {
     "name": "stdout",
     "output_type": "stream",
     "text": [
      "Processed molecule 29900/50000 in molecule_fingerprints_part_1.parquet\n"
     ]
    },
    {
     "name": "stderr",
     "output_type": "stream",
     "text": [
      "[03:48:13] SMILES Parse Error: unclosed ring for input: 'NC(=O)c1cnn2cc(nc12)c1cn(nc1)C(=O)C1(CC1)N[C@@H]1CF'\n",
      "[03:48:18] Can't kekulize mol.  Unkekulized atoms: 14 15 16 18 19 21 22\n",
      "[03:48:34] Can't kekulize mol.  Unkekulized atoms: 1 6 8\n"
     ]
    },
    {
     "name": "stdout",
     "output_type": "stream",
     "text": [
      "Processed molecule 30000/50000 in molecule_fingerprints_part_1.parquet\n",
      "Processed molecule 30100/50000 in molecule_fingerprints_part_1.parquet\n",
      "Processed molecule 30200/50000 in molecule_fingerprints_part_1.parquet\n",
      "Processed molecule 30300/50000 in molecule_fingerprints_part_1.parquet\n"
     ]
    },
    {
     "name": "stderr",
     "output_type": "stream",
     "text": [
      "[03:50:16] Can't kekulize mol.  Unkekulized atoms: 0 1 3 4 5\n"
     ]
    },
    {
     "name": "stdout",
     "output_type": "stream",
     "text": [
      "Processed molecule 30400/50000 in molecule_fingerprints_part_1.parquet\n",
      "Processed molecule 30500/50000 in molecule_fingerprints_part_1.parquet\n",
      "Processed molecule 30600/50000 in molecule_fingerprints_part_1.parquet\n",
      "Processed molecule 30700/50000 in molecule_fingerprints_part_1.parquet\n"
     ]
    },
    {
     "name": "stderr",
     "output_type": "stream",
     "text": [
      "[03:52:04] SMILES Parse Error: unclosed ring for input: 'COc1cc(CN(CC2CC2)C(CC(=O)O)c2ccc(Cl)c(F)c2)ccc1OCCN1CC1CC1'\n",
      "[03:52:13] SMILES Parse Error: unclosed ring for input: 'C1C=CC23N1CC=C2C4=CC5=C(C=C4N6C3(CC(=O)C6=O)C(C(=O)N57)O)OCO4'\n"
     ]
    },
    {
     "name": "stdout",
     "output_type": "stream",
     "text": [
      "Processed molecule 30800/50000 in molecule_fingerprints_part_1.parquet\n"
     ]
    },
    {
     "name": "stderr",
     "output_type": "stream",
     "text": [
      "[03:52:37] Can't kekulize mol.  Unkekulized atoms: 0 1 2 3 4 6 19\n"
     ]
    },
    {
     "name": "stdout",
     "output_type": "stream",
     "text": [
      "Processed molecule 30900/50000 in molecule_fingerprints_part_1.parquet\n",
      "Processed molecule 31000/50000 in molecule_fingerprints_part_1.parquet\n",
      "Processed molecule 31100/50000 in molecule_fingerprints_part_1.parquet\n",
      "Processed molecule 31200/50000 in molecule_fingerprints_part_1.parquet\n"
     ]
    },
    {
     "name": "stderr",
     "output_type": "stream",
     "text": [
      "[03:54:20] Can't kekulize mol.  Unkekulized atoms: 0 2 3 4 21 22\n",
      "[03:54:22] Can't kekulize mol.  Unkekulized atoms: 14 15 16 17 28\n",
      "[03:54:38] SMILES Parse Error: unclosed ring for input: 'C1C[C@@]23CCN([C@@H]([C@@]24CNC(=O)C5=CC=CC=C5)CC6=C3C=C(C=C6)O)CCC7=CC=CC=C7'\n",
      "[03:54:44] SMILES Parse Error: unclosed ring for input: 'OP(=O)(O)OC[C@@]12C(=O)NC=Nc3c(=O)[nH]cnc1[C@@H](O)[C@H](n1cnc4c1nc[nH]c4=O)[C@@H]2O'\n"
     ]
    },
    {
     "name": "stdout",
     "output_type": "stream",
     "text": [
      "Processed molecule 31300/50000 in molecule_fingerprints_part_1.parquet\n"
     ]
    },
    {
     "name": "stderr",
     "output_type": "stream",
     "text": [
      "[03:55:11] SMILES Parse Error: unclosed ring for input: 'C[C@@H]1[C@H]2[C@H]3CC[C@@H]4[C@]5(CC[C@@H](C([C@@H]5CC[C@]4([C@@]3(CC[C@]26C=C[C@]1(C)[C@H]7CC[C@]8([C@@H]7[C@H](CC8)[C@@]9(CO9)C)C)C)C)(C)C)O)C'\n"
     ]
    },
    {
     "name": "stdout",
     "output_type": "stream",
     "text": [
      "Processed molecule 31400/50000 in molecule_fingerprints_part_1.parquet\n",
      "Processed molecule 31500/50000 in molecule_fingerprints_part_1.parquet\n"
     ]
    },
    {
     "name": "stderr",
     "output_type": "stream",
     "text": [
      "[03:55:55] SMILES Parse Error: unclosed ring for input: 'CC12C3=CC=CC=C3C(C4=CC=CC=C41)C5=C2C(=C(N5CC6=CN=CC=C6)O)C7C8=CC=CC=C8C(C9=CC=CC=C79)(C1=CC=CC=C71)C'\n"
     ]
    },
    {
     "name": "stdout",
     "output_type": "stream",
     "text": [
      "Processed molecule 31600/50000 in molecule_fingerprints_part_1.parquet\n"
     ]
    },
    {
     "name": "stderr",
     "output_type": "stream",
     "text": [
      "[03:56:21] SMILES Parse Error: unclosed ring for input: 'C1CN(CCN1C2=CC(=C(N(C2=C3C=C(C(=C3)N4C5=NC6=CC=CC=C6S5)F)C7=CC=C(C=C7)F)O)N8CCN(CC8)C9=NC1=CC=CC=C1S9)C1=NC2=CC=CC1'\n",
      "[03:56:32] SMILES Parse Error: unclosed ring for input: 'CC1(C2=CC=CC=C2C3=CC(=O)OC4=CC(=C(C=C3O1)O)O)C'\n"
     ]
    },
    {
     "name": "stdout",
     "output_type": "stream",
     "text": [
      "Processed molecule 31700/50000 in molecule_fingerprints_part_1.parquet\n"
     ]
    },
    {
     "name": "stderr",
     "output_type": "stream",
     "text": [
      "[03:56:50] Can't kekulize mol.  Unkekulized atoms: 1 2 3 24 25 26 27\n",
      "[03:57:04] SMILES Parse Error: unclosed ring for input: 'C1CC2C3(C4=CC=CC=C4NC3=O)N5CCCC5C2(C1)C6=CC=CC=C6NC5=O'\n"
     ]
    },
    {
     "name": "stdout",
     "output_type": "stream",
     "text": [
      "Processed molecule 31800/50000 in molecule_fingerprints_part_1.parquet\n"
     ]
    },
    {
     "name": "stderr",
     "output_type": "stream",
     "text": [
      "[03:57:10] SMILES Parse Error: unclosed ring for input: 'C12(S/C(=N\\C(=O)C)/NC(C1CCCC2/C(=N/C(=O)C)/NN1C(=O)C)c1ccc(cc1)C)/N=C/1\\SC2(N(N1)C(=O)C)C1C2CCC1'\n"
     ]
    },
    {
     "name": "stdout",
     "output_type": "stream",
     "text": [
      "Processed molecule 31900/50000 in molecule_fingerprints_part_1.parquet\n"
     ]
    },
    {
     "name": "stderr",
     "output_type": "stream",
     "text": [
      "[03:58:06] SMILES Parse Error: unclosed ring for input: 'CN(C)CCCNC(=O)CCC(=O)N1CCC2=CC3=CC(=C(C4=C3C1=CC5=CC(=C(C=C54)OC)OC)OC)OC'\n"
     ]
    },
    {
     "name": "stdout",
     "output_type": "stream",
     "text": [
      "Processed molecule 32000/50000 in molecule_fingerprints_part_1.parquet\n"
     ]
    },
    {
     "name": "stderr",
     "output_type": "stream",
     "text": [
      "[03:58:26] SMILES Parse Error: unclosed ring for input: 'CC1=CC(=CC=C1)N2C(=O)[C@@]3(C(=O)N(C(=O)N3[C@@H](C4=C(N(C(=C4[C@@H](N3C2=O)C5=CC=C(C=C5)OC)C(C)(C)C)C(C)(C)C)O)C6=CC=C(C=C6)OC)O)CC7=CC=CCC=CCC'\n"
     ]
    },
    {
     "name": "stdout",
     "output_type": "stream",
     "text": [
      "Processed molecule 32100/50000 in molecule_fingerprints_part_1.parquet\n"
     ]
    },
    {
     "name": "stderr",
     "output_type": "stream",
     "text": [
      "[03:58:41] SMILES Parse Error: unclosed ring for input: 'C[C@@]1(CC[C@@H]2[C@@H]([C@@H]3[C@@]14[C@@H](O4)[C@@H]5[C@](O5)(C)[C@H]6[C@H]7[C@@H]([C@@]6(CC[C@@H]8[C@H]([C@@H]7OC(=O)C8=C)OC(=O)C8=C)O)O7)OC(=O)C2=C)O'\n"
     ]
    },
    {
     "name": "stdout",
     "output_type": "stream",
     "text": [
      "Processed molecule 32200/50000 in molecule_fingerprints_part_1.parquet\n",
      "Processed molecule 32300/50000 in molecule_fingerprints_part_1.parquet\n"
     ]
    },
    {
     "name": "stderr",
     "output_type": "stream",
     "text": [
      "[03:59:39] Can't kekulize mol.  Unkekulized atoms: 7 9 10\n"
     ]
    },
    {
     "name": "stdout",
     "output_type": "stream",
     "text": [
      "Processed molecule 32400/50000 in molecule_fingerprints_part_1.parquet\n",
      "Processed molecule 32500/50000 in molecule_fingerprints_part_1.parquet\n",
      "Processed molecule 32600/50000 in molecule_fingerprints_part_1.parquet\n",
      "Processed molecule 32700/50000 in molecule_fingerprints_part_1.parquet\n",
      "Processed molecule 32800/50000 in molecule_fingerprints_part_1.parquet\n",
      "Processed molecule 32900/50000 in molecule_fingerprints_part_1.parquet\n",
      "Processed molecule 33000/50000 in molecule_fingerprints_part_1.parquet\n",
      "Processed molecule 33100/50000 in molecule_fingerprints_part_1.parquet\n"
     ]
    },
    {
     "name": "stderr",
     "output_type": "stream",
     "text": [
      "[04:03:37] SMILES Parse Error: unclosed ring for input: 'CN(C)CCN1C(=O)C2=CC=CC3=C4C=C5C6=C(C=CC=C6O)C7=C5C(=CC(=C74)C3=C2C1=O)C=CC=C7O'\n",
      "[04:03:48] SMILES Parse Error: unclosed ring for input: 'CC(=O)NCCC1=CC(=C2C3=C1CC=N3)O'\n"
     ]
    },
    {
     "name": "stdout",
     "output_type": "stream",
     "text": [
      "Processed molecule 33200/50000 in molecule_fingerprints_part_1.parquet\n",
      "Processed molecule 33300/50000 in molecule_fingerprints_part_1.parquet\n"
     ]
    },
    {
     "name": "stderr",
     "output_type": "stream",
     "text": [
      "[04:04:21] SMILES Parse Error: unclosed ring for input: 'C[C@@H]1[C@H]2[C@@]3(CC[C@H]4[C@]2(CC[C@@H]5[C@@H]4CC[C@H]6[C@@]5(CC[C@@H](C6)O)C)C(=O)O1)C'\n"
     ]
    },
    {
     "name": "stdout",
     "output_type": "stream",
     "text": [
      "Processed molecule 33400/50000 in molecule_fingerprints_part_1.parquet\n",
      "Processed molecule 33500/50000 in molecule_fingerprints_part_1.parquet\n",
      "Processed molecule 33600/50000 in molecule_fingerprints_part_1.parquet\n",
      "Processed molecule 33700/50000 in molecule_fingerprints_part_1.parquet\n",
      "Processed molecule 33800/50000 in molecule_fingerprints_part_1.parquet\n",
      "Processed molecule 33900/50000 in molecule_fingerprints_part_1.parquet\n",
      "Processed molecule 34000/50000 in molecule_fingerprints_part_1.parquet\n"
     ]
    },
    {
     "name": "stderr",
     "output_type": "stream",
     "text": [
      "[04:07:58] Explicit valence for atom # 7 N, 4, is greater than permitted\n"
     ]
    },
    {
     "name": "stdout",
     "output_type": "stream",
     "text": [
      "Processed molecule 34100/50000 in molecule_fingerprints_part_1.parquet\n",
      "Processed molecule 34200/50000 in molecule_fingerprints_part_1.parquet\n"
     ]
    },
    {
     "name": "stderr",
     "output_type": "stream",
     "text": [
      "[04:08:40] Can't kekulize mol.  Unkekulized atoms: 0 8 9\n",
      "[04:08:51] SMILES Parse Error: unclosed ring for input: 'CCCC(=O)O[C@@]1(CC[C@@H]2[C@@]([C@H]3CC(=C)[C@H](C[C@H]4[C@H]3[C@H]1O4)OO)(C)O)C'\n"
     ]
    },
    {
     "name": "stdout",
     "output_type": "stream",
     "text": [
      "Processed molecule 34300/50000 in molecule_fingerprints_part_1.parquet\n",
      "Processed molecule 34400/50000 in molecule_fingerprints_part_1.parquet\n",
      "Processed molecule 34500/50000 in molecule_fingerprints_part_1.parquet\n"
     ]
    },
    {
     "name": "stderr",
     "output_type": "stream",
     "text": [
      "[04:10:13] SMILES Parse Error: unclosed ring for input: 'CN(CC1CC1)[C@H]2CC3=C4[C@@]56CCC(=O)[C@H]5OC4=C(C=C3)O'\n"
     ]
    },
    {
     "name": "stdout",
     "output_type": "stream",
     "text": [
      "Processed molecule 34600/50000 in molecule_fingerprints_part_1.parquet\n",
      "Processed molecule 34700/50000 in molecule_fingerprints_part_1.parquet\n",
      "Processed molecule 34800/50000 in molecule_fingerprints_part_1.parquet\n"
     ]
    },
    {
     "name": "stderr",
     "output_type": "stream",
     "text": [
      "[04:11:40] Can't kekulize mol.  Unkekulized atoms: 9 10 11 12 15\n"
     ]
    },
    {
     "name": "stdout",
     "output_type": "stream",
     "text": [
      "Processed molecule 34900/50000 in molecule_fingerprints_part_1.parquet\n",
      "Processed molecule 35000/50000 in molecule_fingerprints_part_1.parquet\n",
      "Processed molecule 35100/50000 in molecule_fingerprints_part_1.parquet\n",
      "Processed molecule 35200/50000 in molecule_fingerprints_part_1.parquet\n",
      "Processed molecule 35300/50000 in molecule_fingerprints_part_1.parquet\n"
     ]
    },
    {
     "name": "stderr",
     "output_type": "stream",
     "text": [
      "[04:14:00] Can't kekulize mol.  Unkekulized atoms: 0 1 2 3 4 5 6 7 8 9 10 11 12\n",
      "[04:14:06] SMILES Parse Error: unclosed ring for input: 'CN1CC[C@@]23CC4=C(C=C(C=C4)F)[C@]([C@H]2CC5=C3C=C(C=C5)O)(C1CC6=C3C=C(C=C6)O)O'\n"
     ]
    },
    {
     "name": "stdout",
     "output_type": "stream",
     "text": [
      "Processed molecule 35400/50000 in molecule_fingerprints_part_1.parquet\n",
      "Processed molecule 35500/50000 in molecule_fingerprints_part_1.parquet\n"
     ]
    },
    {
     "name": "stderr",
     "output_type": "stream",
     "text": [
      "[04:15:05] SMILES Parse Error: unclosed ring for input: 'C[C@@]12CC(=O)CC(C1)(C)C'\n",
      "[04:15:17] SMILES Parse Error: unclosed ring for input: 'CC[C@@]12C(=O)N(C(=O)N1[C@H](C3=C(N(C(=O)N(C3=O)C(C)(C)C)C(C)(C)C)O)C4=CC=C(C=C4)Br)C5=CC(=CC=C5)Br'\n"
     ]
    },
    {
     "name": "stdout",
     "output_type": "stream",
     "text": [
      "Processed molecule 35600/50000 in molecule_fingerprints_part_1.parquet\n",
      "Processed molecule 35700/50000 in molecule_fingerprints_part_1.parquet\n",
      "Processed molecule 35800/50000 in molecule_fingerprints_part_1.parquet\n",
      "Processed molecule 35900/50000 in molecule_fingerprints_part_1.parquet\n"
     ]
    },
    {
     "name": "stderr",
     "output_type": "stream",
     "text": [
      "[04:17:06] SMILES Parse Error: unclosed ring for input: 'C1C(C2=C(C(=O)O)N(C=N2)CCCCC(=O)O)O'\n",
      "[04:17:06] Can't kekulize mol.  Unkekulized atoms: 12 13 14 15 17 19 20\n"
     ]
    },
    {
     "name": "stdout",
     "output_type": "stream",
     "text": [
      "Processed molecule 36000/50000 in molecule_fingerprints_part_1.parquet\n",
      "Processed molecule 36100/50000 in molecule_fingerprints_part_1.parquet\n"
     ]
    },
    {
     "name": "stderr",
     "output_type": "stream",
     "text": [
      "[04:18:06] SMILES Parse Error: unclosed ring for input: 'CN1CCN(CC1)CC2(CC3CC4CC(C3)CC2C4)C5(CC6CC7CC(C6)CC5C(C7)C5(CN8CCN(CC8)C)O)O'\n"
     ]
    },
    {
     "name": "stdout",
     "output_type": "stream",
     "text": [
      "Processed molecule 36200/50000 in molecule_fingerprints_part_1.parquet\n",
      "Processed molecule 36300/50000 in molecule_fingerprints_part_1.parquet\n"
     ]
    },
    {
     "name": "stderr",
     "output_type": "stream",
     "text": [
      "[04:18:52] SMILES Parse Error: unclosed ring for input: 'CN1C(=C(C(=C1O)C2(CCCN2C)C(=O)OC)C3C4=CC=C(C=C4)C5=CC6=C(C=C5)OCO6)O'\n"
     ]
    },
    {
     "name": "stdout",
     "output_type": "stream",
     "text": [
      "Processed molecule 36400/50000 in molecule_fingerprints_part_1.parquet\n",
      "Processed molecule 36500/50000 in molecule_fingerprints_part_1.parquet\n",
      "Processed molecule 36600/50000 in molecule_fingerprints_part_1.parquet\n",
      "Processed molecule 36700/50000 in molecule_fingerprints_part_1.parquet\n",
      "Processed molecule 36800/50000 in molecule_fingerprints_part_1.parquet\n",
      "Processed molecule 36900/50000 in molecule_fingerprints_part_1.parquet\n",
      "Processed molecule 37000/50000 in molecule_fingerprints_part_1.parquet\n"
     ]
    },
    {
     "name": "stderr",
     "output_type": "stream",
     "text": [
      "[04:22:37] SMILES Parse Error: unclosed ring for input: 'C1CC1CN2CC[C@]34[C@@H]5[C@]6(CC[C@]3([C@@H]2CC7=C4C=C(C=C7)O)O5)CO'\n"
     ]
    },
    {
     "name": "stdout",
     "output_type": "stream",
     "text": [
      "Processed molecule 37100/50000 in molecule_fingerprints_part_1.parquet\n",
      "Processed molecule 37200/50000 in molecule_fingerprints_part_1.parquet\n",
      "Processed molecule 37300/50000 in molecule_fingerprints_part_1.parquet\n"
     ]
    },
    {
     "name": "stderr",
     "output_type": "stream",
     "text": [
      "[04:23:50] SMILES Parse Error: unclosed ring for input: 'CC1=CC(=NO1)N2[C@@]34CC[C@@H](C[C@]3(CC[C@@H]5[C@]46C=C[C@@]7([C@@]5(CC[C@@H]7[C@H](C)/C=C/[C@H](C)C(C)C)C)O2)C)O'\n"
     ]
    },
    {
     "name": "stdout",
     "output_type": "stream",
     "text": [
      "Processed molecule 37400/50000 in molecule_fingerprints_part_1.parquet\n"
     ]
    },
    {
     "name": "stderr",
     "output_type": "stream",
     "text": [
      "[04:24:19] Can't kekulize mol.  Unkekulized atoms: 0 1 2 3 4\n",
      "[04:24:24] SMILES Parse Error: unclosed ring for input: '[C@@]12(C(=O)c3c4c(C1=O)[nH]c1c4cccc1)[C@@]1(c3ccc(cc3)C)N(C[C@H]2c2ccc(cc2)C)C'\n",
      "[04:24:25] SMILES Parse Error: unclosed ring for input: '[C@]12(C(=O)c3c4c(C1=O)[nH]c1c4cccc1)[C@@]1(c3ccccc3)N(C[C@H]2c2ccccc2)C'\n"
     ]
    },
    {
     "name": "stdout",
     "output_type": "stream",
     "text": [
      "Processed molecule 37500/50000 in molecule_fingerprints_part_1.parquet\n"
     ]
    },
    {
     "name": "stderr",
     "output_type": "stream",
     "text": [
      "[04:24:56] SMILES Parse Error: unclosed ring for input: 'C[C@H]1C2CC3=C4[C@@]1(CCN2CC5CC5)C6=C(C=C3)C(=O)NC=N6'\n"
     ]
    },
    {
     "name": "stdout",
     "output_type": "stream",
     "text": [
      "Processed molecule 37600/50000 in molecule_fingerprints_part_1.parquet\n",
      "Processed molecule 37700/50000 in molecule_fingerprints_part_1.parquet\n",
      "Processed molecule 37800/50000 in molecule_fingerprints_part_1.parquet\n"
     ]
    },
    {
     "name": "stderr",
     "output_type": "stream",
     "text": [
      "[04:26:12] SMILES Parse Error: unclosed ring for input: 'CN1CC[C@@]23[C@@H]4CC[C@H]2C5=C(C[C@H]3[C@@H]1CC6=C3C=C(C=C6)OC)C=CC(=C5)OC'\n",
      "[04:26:31] SMILES Parse Error: unclosed ring for input: 'C[C@H]1[C@@H]2CC[C@@H]3[C@H](CO[C@]3(C[C@H](/C(=C\\C=C\\C(=O)O[C@H]4C[C@]2(OC4=O)C)/[C@@H]5C1=C)O)C)O'\n"
     ]
    },
    {
     "name": "stdout",
     "output_type": "stream",
     "text": [
      "Processed molecule 37900/50000 in molecule_fingerprints_part_1.parquet\n"
     ]
    },
    {
     "name": "stderr",
     "output_type": "stream",
     "text": [
      "[04:26:42] SMILES Parse Error: unclosed ring for input: 'CC(=CC(=O)NC1=CC(=C2C3=C4N1C5=CC=CC=C5C4=NC=C3)O)C'\n"
     ]
    },
    {
     "name": "stdout",
     "output_type": "stream",
     "text": [
      "Processed molecule 38000/50000 in molecule_fingerprints_part_1.parquet\n",
      "Processed molecule 38100/50000 in molecule_fingerprints_part_1.parquet\n",
      "Processed molecule 38200/50000 in molecule_fingerprints_part_1.parquet\n",
      "Processed molecule 38300/50000 in molecule_fingerprints_part_1.parquet\n"
     ]
    },
    {
     "name": "stderr",
     "output_type": "stream",
     "text": [
      "[04:28:38] SMILES Parse Error: unclosed ring for input: 'CC(C)CN1CC[C@]23[C@@H]4N5[C@H](C(O4)(C)C)O[C@@]6([C@]2([C@H]1CC7=C3C(=C(C=C7)O)O4)CCN6CC(C)C)O'\n"
     ]
    },
    {
     "name": "stdout",
     "output_type": "stream",
     "text": [
      "Processed molecule 38400/50000 in molecule_fingerprints_part_1.parquet\n"
     ]
    },
    {
     "name": "stderr",
     "output_type": "stream",
     "text": [
      "[04:29:07] SMILES Parse Error: unclosed ring for input: 'C[C@H]1CC[C@@]2([C@@]3(C[C@]4([C@]([C@H]([C@H]5[C@]2([C@@H]1O)O5)OC(=O)C6=CC=CN6)(C(C)C)O)C)O[C@H]([C@@]3(C(C)C)O)O)O'\n",
      "[04:29:27] Can't kekulize mol.  Unkekulized atoms: 12 14 15\n"
     ]
    },
    {
     "name": "stdout",
     "output_type": "stream",
     "text": [
      "Processed molecule 38500/50000 in molecule_fingerprints_part_1.parquet\n",
      "Processed molecule 38600/50000 in molecule_fingerprints_part_1.parquet\n"
     ]
    },
    {
     "name": "stderr",
     "output_type": "stream",
     "text": [
      "[04:30:23] SMILES Parse Error: unclosed ring for input: 'C[C@@]1(CC[C@]2([C@@H](C1)CC[C@@]3([C@@]2(CC[C@H]4[C@]35C(=O)C(=O)C(=O)C4)C)C)C)C=C'\n"
     ]
    },
    {
     "name": "stdout",
     "output_type": "stream",
     "text": [
      "Processed molecule 38700/50000 in molecule_fingerprints_part_1.parquet\n",
      "Processed molecule 38800/50000 in molecule_fingerprints_part_1.parquet\n",
      "Processed molecule 38900/50000 in molecule_fingerprints_part_1.parquet\n"
     ]
    },
    {
     "name": "stderr",
     "output_type": "stream",
     "text": [
      "[04:31:38] SMILES Parse Error: unclosed ring for input: 'CCN(CC)C(=O)[C@@]12C[C@@H]1CN'\n"
     ]
    },
    {
     "name": "stdout",
     "output_type": "stream",
     "text": [
      "Processed molecule 39000/50000 in molecule_fingerprints_part_1.parquet\n",
      "Processed molecule 39100/50000 in molecule_fingerprints_part_1.parquet\n",
      "Processed molecule 39200/50000 in molecule_fingerprints_part_1.parquet\n",
      "Processed molecule 39300/50000 in molecule_fingerprints_part_1.parquet\n",
      "Processed molecule 39400/50000 in molecule_fingerprints_part_1.parquet\n",
      "Processed molecule 39500/50000 in molecule_fingerprints_part_1.parquet\n"
     ]
    },
    {
     "name": "stderr",
     "output_type": "stream",
     "text": [
      "[04:34:53] SMILES Parse Error: unclosed ring for input: 'C1CCC2=NC3=C(C=C(C=C3)NC(=O)CCCCCCCCCCCCCCCCCCCCCCCCCC2)C(=C2C1)N'\n"
     ]
    },
    {
     "name": "stdout",
     "output_type": "stream",
     "text": [
      "Processed molecule 39600/50000 in molecule_fingerprints_part_1.parquet\n"
     ]
    },
    {
     "name": "stderr",
     "output_type": "stream",
     "text": [
      "[04:35:16] Can't kekulize mol.  Unkekulized atoms: 0 2 3 4 5 9 10 29 30\n"
     ]
    },
    {
     "name": "stdout",
     "output_type": "stream",
     "text": [
      "Processed molecule 39700/50000 in molecule_fingerprints_part_1.parquet\n"
     ]
    },
    {
     "name": "stderr",
     "output_type": "stream",
     "text": [
      "[04:35:30] Can't kekulize mol.  Unkekulized atoms: 0 1 13 14 15\n"
     ]
    },
    {
     "name": "stdout",
     "output_type": "stream",
     "text": [
      "Processed molecule 39800/50000 in molecule_fingerprints_part_1.parquet\n"
     ]
    },
    {
     "name": "stderr",
     "output_type": "stream",
     "text": [
      "[04:36:10] SMILES Parse Error: unclosed ring for input: 'C[C@@]12CCC[C@@]([C@H]1CC[C@]34[C@H]2C[C@@H](C(=C)C3)Cl)(C)CC#N'\n"
     ]
    },
    {
     "name": "stdout",
     "output_type": "stream",
     "text": [
      "Processed molecule 39900/50000 in molecule_fingerprints_part_1.parquet\n"
     ]
    },
    {
     "name": "stderr",
     "output_type": "stream",
     "text": [
      "[04:36:44] SMILES Parse Error: unclosed ring for input: 'c1ccc2c3c1C(=O)C(=O)C(=C3OCC2n1nnc(c1ncccc1)c1ncccc1)Cl'\n"
     ]
    },
    {
     "name": "stdout",
     "output_type": "stream",
     "text": [
      "Processed molecule 40000/50000 in molecule_fingerprints_part_1.parquet\n",
      "Processed molecule 40100/50000 in molecule_fingerprints_part_1.parquet\n",
      "Processed molecule 40200/50000 in molecule_fingerprints_part_1.parquet\n",
      "Processed molecule 40300/50000 in molecule_fingerprints_part_1.parquet\n"
     ]
    },
    {
     "name": "stderr",
     "output_type": "stream",
     "text": [
      "[04:38:42] SMILES Parse Error: ring closure 2 duplicates bond between atom 2 and atom 35 for input: 'C1C[C@]2([C@@H]3C[C@@H]4[C@H]([C@]5([C@](CC[C@]3(C)[C@@H]1[C@@H](CC(=O)C=C(C)C)C)(C5)CCC(=O)O)C)C(=C)C(=O)O4)C2'\n"
     ]
    },
    {
     "name": "stdout",
     "output_type": "stream",
     "text": [
      "Processed molecule 40400/50000 in molecule_fingerprints_part_1.parquet\n"
     ]
    },
    {
     "name": "stderr",
     "output_type": "stream",
     "text": [
      "[04:39:02] SMILES Parse Error: unclosed ring for input: 'C1CCN(C(C1)CCN)C2N=C(C3=C(O2)C=CC=C3O)C4=C(C(=CC=C4)O)C5=NC(OC6=CC=CC(=C65)C5=O)N7CCCCC7CCN'\n",
      "[04:39:03] SMILES Parse Error: unclosed ring for input: 'C1=CC2=C(C(=C1)O)C(=O)C3=C(C2=O)C(=CC=C3)OC(N=C4C5=C(C=CC=C5OC4CCCCO)C6=C(C=CC=C6O)C(=O)C7=C(C6=O)C(=CC=C7)O)CCCCCO'\n",
      "[04:39:13] Can't kekulize mol.  Unkekulized atoms: 0 3 4 5 9 10\n"
     ]
    },
    {
     "name": "stdout",
     "output_type": "stream",
     "text": [
      "Processed molecule 40500/50000 in molecule_fingerprints_part_1.parquet\n",
      "Processed molecule 40600/50000 in molecule_fingerprints_part_1.parquet\n",
      "Processed molecule 40700/50000 in molecule_fingerprints_part_1.parquet\n",
      "Processed molecule 40800/50000 in molecule_fingerprints_part_1.parquet\n"
     ]
    },
    {
     "name": "stderr",
     "output_type": "stream",
     "text": [
      "[04:41:18] SMILES Parse Error: unclosed ring for input: 'C1CN2CC3CC2C(N1CCCC(=O)C4=CC=C(C=C4)F)CN3C5=CC=CC=C5C6CC6N(C7=CC=CC=C67)CCCC(=O)C8=CC=C(C=C8)F'\n"
     ]
    },
    {
     "name": "stdout",
     "output_type": "stream",
     "text": [
      "Processed molecule 40900/50000 in molecule_fingerprints_part_1.parquet\n",
      "Processed molecule 41000/50000 in molecule_fingerprints_part_1.parquet\n"
     ]
    },
    {
     "name": "stderr",
     "output_type": "stream",
     "text": [
      "[04:42:16] SMILES Parse Error: unclosed ring for input: 'C1CC1CN2CC[C@]34[C@@H]5N6[C@H](CO5)OC[C@H]3N7[C@H](CC[C@]6([C@H]2CC8=C4C(=C(C=C8)O)O5)O)C9CO9'\n"
     ]
    },
    {
     "name": "stdout",
     "output_type": "stream",
     "text": [
      "Processed molecule 41100/50000 in molecule_fingerprints_part_1.parquet\n",
      "Processed molecule 41200/50000 in molecule_fingerprints_part_1.parquet\n",
      "Processed molecule 41300/50000 in molecule_fingerprints_part_1.parquet\n"
     ]
    },
    {
     "name": "stderr",
     "output_type": "stream",
     "text": [
      "[04:43:37] SMILES Parse Error: unclosed ring for input: 'CC(=O)C1CCC2=C(C1)C3=C4C(=CC=C3)C5=C(C(=O)NC4=N2)C(=O)NC(=O)C(=C(C)C)C(=O)C'\n"
     ]
    },
    {
     "name": "stdout",
     "output_type": "stream",
     "text": [
      "Processed molecule 41400/50000 in molecule_fingerprints_part_1.parquet\n",
      "Processed molecule 41500/50000 in molecule_fingerprints_part_1.parquet\n"
     ]
    },
    {
     "name": "stderr",
     "output_type": "stream",
     "text": [
      "[04:44:34] SMILES Parse Error: unclosed ring for input: 'C=CCOCCOCCOCCOCCOCCOCCOCCOCCOCCOCCOCCOCCOCCOCCOCCOCCOCCOCCOCCOCCOC(C(C(O1)CO)O)O'\n"
     ]
    },
    {
     "name": "stdout",
     "output_type": "stream",
     "text": [
      "Processed molecule 41600/50000 in molecule_fingerprints_part_1.parquet\n",
      "Processed molecule 41700/50000 in molecule_fingerprints_part_1.parquet\n",
      "Processed molecule 41800/50000 in molecule_fingerprints_part_1.parquet\n",
      "Processed molecule 41900/50000 in molecule_fingerprints_part_1.parquet\n",
      "Processed molecule 42000/50000 in molecule_fingerprints_part_1.parquet\n",
      "Processed molecule 42100/50000 in molecule_fingerprints_part_1.parquet\n",
      "Processed molecule 42200/50000 in molecule_fingerprints_part_1.parquet\n",
      "Processed molecule 42300/50000 in molecule_fingerprints_part_1.parquet\n"
     ]
    },
    {
     "name": "stderr",
     "output_type": "stream",
     "text": [
      "[04:48:46] SMILES Parse Error: unclosed ring for input: 'CCOC(=O)C1=C(N(C2=C1C=CC(=C2)OC)S(=O)(=O)C(F)(F)F)CS(=O)(=O)CC3=C4CCCCC4'\n"
     ]
    },
    {
     "name": "stdout",
     "output_type": "stream",
     "text": [
      "Processed molecule 42400/50000 in molecule_fingerprints_part_1.parquet\n",
      "Processed molecule 42500/50000 in molecule_fingerprints_part_1.parquet\n"
     ]
    },
    {
     "name": "stderr",
     "output_type": "stream",
     "text": [
      "[04:49:22] SMILES Parse Error: unclosed ring for input: 'C1=CC=C(C=C1)C2=C(N=NC3=C2C(=NN3COCCO)N)C4=CC=C(C=C4)C5=C6C(=NN=C5C7=CC=CC=C7)N'\n"
     ]
    },
    {
     "name": "stdout",
     "output_type": "stream",
     "text": [
      "Processed molecule 42600/50000 in molecule_fingerprints_part_1.parquet\n",
      "Processed molecule 42700/50000 in molecule_fingerprints_part_1.parquet\n"
     ]
    },
    {
     "name": "stderr",
     "output_type": "stream",
     "text": [
      "[04:50:19] SMILES Parse Error: unclosed ring for input: 'C1CN=C(N1)NC/C=C/C2=CC3=C(C=C2)N4CC(CN5C6=CC=CC=C6C4=C7C3=C3CNC7=O)CO'\n"
     ]
    },
    {
     "name": "stdout",
     "output_type": "stream",
     "text": [
      "Processed molecule 42800/50000 in molecule_fingerprints_part_1.parquet\n"
     ]
    },
    {
     "name": "stderr",
     "output_type": "stream",
     "text": [
      "[04:51:06] Can't kekulize mol.  Unkekulized atoms: 0 2 3 4 5\n"
     ]
    },
    {
     "name": "stdout",
     "output_type": "stream",
     "text": [
      "Processed molecule 42900/50000 in molecule_fingerprints_part_1.parquet\n",
      "Processed molecule 43000/50000 in molecule_fingerprints_part_1.parquet\n",
      "Processed molecule 43100/50000 in molecule_fingerprints_part_1.parquet\n"
     ]
    },
    {
     "name": "stderr",
     "output_type": "stream",
     "text": [
      "[04:52:22] Can't kekulize mol.  Unkekulized atoms: 0 1 3 4 14 15 16\n"
     ]
    },
    {
     "name": "stdout",
     "output_type": "stream",
     "text": [
      "Processed molecule 43200/50000 in molecule_fingerprints_part_1.parquet\n",
      "Processed molecule 43300/50000 in molecule_fingerprints_part_1.parquet\n"
     ]
    },
    {
     "name": "stderr",
     "output_type": "stream",
     "text": [
      "[04:53:33] SMILES Parse Error: unclosed ring for input: 'Fc1ccc(c2nc(on2)Cn2nnc3c2c(O)n(c2ccccc2)c2ccccc2)cc1'\n"
     ]
    },
    {
     "name": "stdout",
     "output_type": "stream",
     "text": [
      "Processed molecule 43400/50000 in molecule_fingerprints_part_1.parquet\n",
      "Processed molecule 43500/50000 in molecule_fingerprints_part_1.parquet\n",
      "Processed molecule 43600/50000 in molecule_fingerprints_part_1.parquet\n",
      "Processed molecule 43700/50000 in molecule_fingerprints_part_1.parquet\n"
     ]
    },
    {
     "name": "stderr",
     "output_type": "stream",
     "text": [
      "[04:55:47] SMILES Parse Error: unclosed ring for input: 'c1(c2ccc(n2CC(=O)NC(=N)N)c2cc(ccc2Cl)Cl)c2cccc3c2cccc3'\n"
     ]
    },
    {
     "name": "stdout",
     "output_type": "stream",
     "text": [
      "Processed molecule 43800/50000 in molecule_fingerprints_part_1.parquet\n"
     ]
    },
    {
     "name": "stderr",
     "output_type": "stream",
     "text": [
      "[04:56:06] SMILES Parse Error: unclosed ring for input: 'CC1=CC(=CC=C1)N2C(=C(C(=C2O)C3C4=CC=CC=C4C(=O)C5(O3)C(=O)C6=CC=CC=C6C5=O)C7C8=CC=CC=C8)O'\n"
     ]
    },
    {
     "name": "stdout",
     "output_type": "stream",
     "text": [
      "Processed molecule 43900/50000 in molecule_fingerprints_part_1.parquet\n",
      "Processed molecule 44000/50000 in molecule_fingerprints_part_1.parquet\n",
      "Processed molecule 44100/50000 in molecule_fingerprints_part_1.parquet\n",
      "Processed molecule 44200/50000 in molecule_fingerprints_part_1.parquet\n",
      "Processed molecule 44300/50000 in molecule_fingerprints_part_1.parquet\n"
     ]
    },
    {
     "name": "stderr",
     "output_type": "stream",
     "text": [
      "[04:58:31] SMILES Parse Error: unclosed ring for input: 'C1CC2CN3C(CC4CCCN5C4C3CC2C1)OCC6=CC=CC=C6'\n"
     ]
    },
    {
     "name": "stdout",
     "output_type": "stream",
     "text": [
      "Processed molecule 44400/50000 in molecule_fingerprints_part_1.parquet\n",
      "Processed molecule 44500/50000 in molecule_fingerprints_part_1.parquet\n",
      "Processed molecule 44600/50000 in molecule_fingerprints_part_1.parquet\n"
     ]
    },
    {
     "name": "stderr",
     "output_type": "stream",
     "text": [
      "[05:00:00] Can't kekulize mol.  Unkekulized atoms: 1 2 3 4 5 6 7 8 9\n"
     ]
    },
    {
     "name": "stdout",
     "output_type": "stream",
     "text": [
      "Processed molecule 44700/50000 in molecule_fingerprints_part_1.parquet\n",
      "Processed molecule 44800/50000 in molecule_fingerprints_part_1.parquet\n",
      "Processed molecule 44900/50000 in molecule_fingerprints_part_1.parquet\n"
     ]
    },
    {
     "name": "stderr",
     "output_type": "stream",
     "text": [
      "[05:01:13] Can't kekulize mol.  Unkekulized atoms: 0 1 2 3 4 16 17 21 22 23 24\n",
      "[05:01:38] SMILES Parse Error: unclosed ring for input: 'C[C@H]1C2=C(C[C@@H]3N1C(=O)[C@@H](N(C3=O)[C@H](C(=O)N4[C@H](C(=O)N[C@H](C4=O)C)CC5=C([C@H]4C)NC6=CC=CC=C56)C(C)C)C(C)C)C7=CC=CC=C7N2'\n"
     ]
    },
    {
     "name": "stdout",
     "output_type": "stream",
     "text": [
      "Processed molecule 45000/50000 in molecule_fingerprints_part_1.parquet\n"
     ]
    },
    {
     "name": "stderr",
     "output_type": "stream",
     "text": [
      "[05:02:00] SMILES Parse Error: unclosed ring for input: 'C[C@]12CCC3=C([C@@H]1CCC2=O)C=CC4=C(CC(C4)NC)O'\n"
     ]
    },
    {
     "name": "stdout",
     "output_type": "stream",
     "text": [
      "Processed molecule 45100/50000 in molecule_fingerprints_part_1.parquet\n"
     ]
    },
    {
     "name": "stderr",
     "output_type": "stream",
     "text": [
      "[05:02:18] Conflicting single bond directions around double bond at index 18.\n",
      "[05:02:18]   BondStereo set to STEREONONE and single bond directions set to NONE.\n"
     ]
    },
    {
     "name": "stdout",
     "output_type": "stream",
     "text": [
      "Processed molecule 45200/50000 in molecule_fingerprints_part_1.parquet\n",
      "Processed molecule 45300/50000 in molecule_fingerprints_part_1.parquet\n"
     ]
    },
    {
     "name": "stderr",
     "output_type": "stream",
     "text": [
      "[05:03:23] SMILES Parse Error: unclosed ring for input: 'C[C@H]1CC[C@@H]2[C@]([C@@]1(C[C@H]3[C@]4(O3)C(=C)C(=O)O[C@H]4C[C@]5([C@@H](O5)C[C@]1(C)O)C)O)(CC6([C@H](O6)CC[C@@H]2C)C)C'\n"
     ]
    },
    {
     "name": "stdout",
     "output_type": "stream",
     "text": [
      "Processed molecule 45400/50000 in molecule_fingerprints_part_1.parquet\n",
      "Processed molecule 45500/50000 in molecule_fingerprints_part_1.parquet\n"
     ]
    },
    {
     "name": "stderr",
     "output_type": "stream",
     "text": [
      "[05:04:32] SMILES Parse Error: ring closure 3 duplicates bond between atom 9 and atom 37 for input: 'FC(F)(F)c1ccc(C2C3(CC4([C@@H]2CN([C@@H]4c2ccccc2)Cc2cnccc2)c2ccc(cc2)C#N)C3)cc1'\n"
     ]
    },
    {
     "name": "stdout",
     "output_type": "stream",
     "text": [
      "Processed molecule 45600/50000 in molecule_fingerprints_part_1.parquet\n",
      "Processed molecule 45700/50000 in molecule_fingerprints_part_1.parquet\n"
     ]
    },
    {
     "name": "stderr",
     "output_type": "stream",
     "text": [
      "[05:05:20] SMILES Parse Error: unclosed ring for input: 'CC1CC23CC=C4C=CC(C5(CCC6(C(C5CCC4(C1N(C)C)O3)CCC6C(C)CCC7CCN(CC7C)C)C)C)N(C)C'\n"
     ]
    },
    {
     "name": "stdout",
     "output_type": "stream",
     "text": [
      "Processed molecule 45800/50000 in molecule_fingerprints_part_1.parquet\n",
      "Processed molecule 45900/50000 in molecule_fingerprints_part_1.parquet\n",
      "Processed molecule 46000/50000 in molecule_fingerprints_part_1.parquet\n",
      "Processed molecule 46100/50000 in molecule_fingerprints_part_1.parquet\n",
      "Processed molecule 46200/50000 in molecule_fingerprints_part_1.parquet\n",
      "Processed molecule 46300/50000 in molecule_fingerprints_part_1.parquet\n",
      "Processed molecule 46400/50000 in molecule_fingerprints_part_1.parquet\n"
     ]
    },
    {
     "name": "stderr",
     "output_type": "stream",
     "text": [
      "[05:09:08] Can't kekulize mol.  Unkekulized atoms: 6 7 8 12 13\n"
     ]
    },
    {
     "name": "stdout",
     "output_type": "stream",
     "text": [
      "Processed molecule 46500/50000 in molecule_fingerprints_part_1.parquet\n"
     ]
    },
    {
     "name": "stderr",
     "output_type": "stream",
     "text": [
      "[05:09:21] SMILES Parse Error: unclosed ring for input: 'CC(=O)O[C@@H]1C[C@@H]2[C@H](C(=O)[C@]3([C@H]1[C@]45CCCC([C@@H]4[C@H]([C@@]3(OC5)O)O)(C)C)COC)COC'\n"
     ]
    },
    {
     "name": "stdout",
     "output_type": "stream",
     "text": [
      "Processed molecule 46600/50000 in molecule_fingerprints_part_1.parquet\n",
      "Processed molecule 46700/50000 in molecule_fingerprints_part_1.parquet\n",
      "Processed molecule 46800/50000 in molecule_fingerprints_part_1.parquet\n",
      "Processed molecule 46900/50000 in molecule_fingerprints_part_1.parquet\n",
      "Processed molecule 47000/50000 in molecule_fingerprints_part_1.parquet\n",
      "Processed molecule 47100/50000 in molecule_fingerprints_part_1.parquet\n",
      "Processed molecule 47200/50000 in molecule_fingerprints_part_1.parquet\n",
      "Processed molecule 47300/50000 in molecule_fingerprints_part_1.parquet\n",
      "Processed molecule 47400/50000 in molecule_fingerprints_part_1.parquet\n",
      "Processed molecule 47500/50000 in molecule_fingerprints_part_1.parquet\n"
     ]
    },
    {
     "name": "stderr",
     "output_type": "stream",
     "text": [
      "[05:14:10] SMILES Parse Error: unclosed ring for input: 'c12c(ncn1CCN/C/2=N\\Cc1ccccc1)C(=O)C(=C/C/1=N/Cc1ccccc1)N1CCN/C(=N\\Cc2ccccc2)/C1'\n"
     ]
    },
    {
     "name": "stdout",
     "output_type": "stream",
     "text": [
      "Processed molecule 47600/50000 in molecule_fingerprints_part_1.parquet\n",
      "Processed molecule 47700/50000 in molecule_fingerprints_part_1.parquet\n"
     ]
    },
    {
     "name": "stderr",
     "output_type": "stream",
     "text": [
      "[05:15:10] SMILES Parse Error: unclosed ring for input: 'C[C@]12C[C@@]3(C=C[C@]14CCN([C@@H]2CC5=C4C=C(C=C5)O)C)OC'\n",
      "[05:15:14] SMILES Parse Error: unclosed ring for input: 'CN(C)CCN1C(=O)C2=CC=CC3=C4C=C5C6=C(C=CC=C6N)C7=C5C(=CC=C7)C(=O)N(C5=C32)CCN(C)C'\n"
     ]
    },
    {
     "name": "stdout",
     "output_type": "stream",
     "text": [
      "Processed molecule 47800/50000 in molecule_fingerprints_part_1.parquet\n",
      "Processed molecule 47900/50000 in molecule_fingerprints_part_1.parquet\n",
      "Processed molecule 48000/50000 in molecule_fingerprints_part_1.parquet\n",
      "Processed molecule 48100/50000 in molecule_fingerprints_part_1.parquet\n"
     ]
    },
    {
     "name": "stderr",
     "output_type": "stream",
     "text": [
      "[05:17:38] SMILES Parse Error: unclosed ring for input: 'CC1(C=CC(=O)[C@@]23[C@@H]1C[C@]4([C@@H]2CC[C@H](C4)C(=C)C3=O)C(=O)OC3)C'\n"
     ]
    },
    {
     "name": "stdout",
     "output_type": "stream",
     "text": [
      "Processed molecule 48200/50000 in molecule_fingerprints_part_1.parquet\n",
      "Processed molecule 48300/50000 in molecule_fingerprints_part_1.parquet\n",
      "Processed molecule 48400/50000 in molecule_fingerprints_part_1.parquet\n",
      "Processed molecule 48500/50000 in molecule_fingerprints_part_1.parquet\n",
      "Processed molecule 48600/50000 in molecule_fingerprints_part_1.parquet\n"
     ]
    },
    {
     "name": "stderr",
     "output_type": "stream",
     "text": [
      "[05:20:10] SMILES Parse Error: unclosed ring for input: 'CC(=CCC/C(=C/CC/C(=C/CC/C(=C/CC/C(=C/CCC1C2CCC3C2C(OC3OC(=O)C)OC(=O)C)/C)/C)/C)/C)C'\n"
     ]
    },
    {
     "name": "stdout",
     "output_type": "stream",
     "text": [
      "Processed molecule 48700/50000 in molecule_fingerprints_part_1.parquet\n",
      "Processed molecule 48800/50000 in molecule_fingerprints_part_1.parquet\n",
      "Processed molecule 48900/50000 in molecule_fingerprints_part_1.parquet\n",
      "Processed molecule 49000/50000 in molecule_fingerprints_part_1.parquet\n"
     ]
    },
    {
     "name": "stderr",
     "output_type": "stream",
     "text": [
      "[05:22:08] SMILES Parse Error: unclosed ring for input: 'CC(=O)O[C@@H]1C[C@]2([C@@H](CCC2=O)C3=COC=C3)[C@]4([C@H]1[C@]56C=CC(=O)C([C@@H]5C(=O)C(=O)[C@@H]4C7(C=C6)C)(C)C)C'\n"
     ]
    },
    {
     "name": "stdout",
     "output_type": "stream",
     "text": [
      "Processed molecule 49100/50000 in molecule_fingerprints_part_1.parquet\n",
      "Processed molecule 49200/50000 in molecule_fingerprints_part_1.parquet\n",
      "Processed molecule 49300/50000 in molecule_fingerprints_part_1.parquet\n",
      "Processed molecule 49400/50000 in molecule_fingerprints_part_1.parquet\n",
      "Processed molecule 49500/50000 in molecule_fingerprints_part_1.parquet\n",
      "Processed molecule 49600/50000 in molecule_fingerprints_part_1.parquet\n",
      "Processed molecule 49700/50000 in molecule_fingerprints_part_1.parquet\n",
      "Processed molecule 49800/50000 in molecule_fingerprints_part_1.parquet\n",
      "Processed molecule 49900/50000 in molecule_fingerprints_part_1.parquet\n",
      "Processed molecule 50000/50000 in molecule_fingerprints_part_1.parquet\n",
      "Finished processing molecule_fingerprints_part_1.parquet\n",
      "Processed molecule 100/50000 in molecule_fingerprints_part_2.parquet\n",
      "Processed molecule 200/50000 in molecule_fingerprints_part_2.parquet\n",
      "Processed molecule 300/50000 in molecule_fingerprints_part_2.parquet\n"
     ]
    },
    {
     "name": "stderr",
     "output_type": "stream",
     "text": [
      "[05:28:23] SMILES Parse Error: unclosed ring for input: 'C1CC1C(=O)NC2=CC=C(C=C2)CC3=CC=C(C=C3)NC(=O)C4CCC(CC4)N5C(=C(C(=C5O)C6C=CC7C8CC8C9C7C9)C1C=C9)O'\n"
     ]
    },
    {
     "name": "stdout",
     "output_type": "stream",
     "text": [
      "Processed molecule 400/50000 in molecule_fingerprints_part_2.parquet\n",
      "Processed molecule 500/50000 in molecule_fingerprints_part_2.parquet\n",
      "Processed molecule 600/50000 in molecule_fingerprints_part_2.parquet\n",
      "Processed molecule 700/50000 in molecule_fingerprints_part_2.parquet\n",
      "Processed molecule 800/50000 in molecule_fingerprints_part_2.parquet\n",
      "Processed molecule 900/50000 in molecule_fingerprints_part_2.parquet\n",
      "Processed molecule 1000/50000 in molecule_fingerprints_part_2.parquet\n",
      "Processed molecule 1100/50000 in molecule_fingerprints_part_2.parquet\n"
     ]
    },
    {
     "name": "stderr",
     "output_type": "stream",
     "text": [
      "[05:32:53] Can't kekulize mol.  Unkekulized atoms: 0 1 2 9 10 20 21 22 23\n"
     ]
    },
    {
     "name": "stdout",
     "output_type": "stream",
     "text": [
      "Processed molecule 1200/50000 in molecule_fingerprints_part_2.parquet\n",
      "Processed molecule 1300/50000 in molecule_fingerprints_part_2.parquet\n",
      "Processed molecule 1400/50000 in molecule_fingerprints_part_2.parquet\n",
      "Processed molecule 1500/50000 in molecule_fingerprints_part_2.parquet\n",
      "Processed molecule 1600/50000 in molecule_fingerprints_part_2.parquet\n"
     ]
    },
    {
     "name": "stderr",
     "output_type": "stream",
     "text": [
      "[05:35:13] Can't kekulize mol.  Unkekulized atoms: 0 1 2 4 5 7 8 9 10 11 12 13 14 17 18 19 20\n"
     ]
    },
    {
     "name": "stdout",
     "output_type": "stream",
     "text": [
      "Processed molecule 1700/50000 in molecule_fingerprints_part_2.parquet\n",
      "Processed molecule 1800/50000 in molecule_fingerprints_part_2.parquet\n",
      "Processed molecule 1900/50000 in molecule_fingerprints_part_2.parquet\n"
     ]
    },
    {
     "name": "stderr",
     "output_type": "stream",
     "text": [
      "[05:36:51] SMILES Parse Error: unclosed ring for input: 'CC(C)[C@H]1[C@@H]2[C@H]3CCCC([C@H]3C4(C(=O)C2=C)[C@]5(C1=O)CCC(=C)O5)(C)C'\n"
     ]
    },
    {
     "name": "stdout",
     "output_type": "stream",
     "text": [
      "Processed molecule 2000/50000 in molecule_fingerprints_part_2.parquet\n"
     ]
    },
    {
     "name": "stderr",
     "output_type": "stream",
     "text": [
      "[05:37:17] SMILES Parse Error: unclosed ring for input: 'CC1=C[C@@]23CC[C@]4([C@](O2)(CC[C@@H]5[C@]4(O5)CC1=O)C)CO'\n"
     ]
    },
    {
     "name": "stdout",
     "output_type": "stream",
     "text": [
      "Processed molecule 2100/50000 in molecule_fingerprints_part_2.parquet\n",
      "Processed molecule 2200/50000 in molecule_fingerprints_part_2.parquet\n"
     ]
    },
    {
     "name": "stderr",
     "output_type": "stream",
     "text": [
      "[05:38:27] Can't kekulize mol.  Unkekulized atoms: 1 3 4\n"
     ]
    },
    {
     "name": "stdout",
     "output_type": "stream",
     "text": [
      "Processed molecule 2300/50000 in molecule_fingerprints_part_2.parquet\n",
      "Processed molecule 2400/50000 in molecule_fingerprints_part_2.parquet\n",
      "Processed molecule 2500/50000 in molecule_fingerprints_part_2.parquet\n"
     ]
    },
    {
     "name": "stderr",
     "output_type": "stream",
     "text": [
      "[05:39:46] SMILES Parse Error: extra open parentheses for input: 'C1OC2=C(O1)C=C(C=C2)/C=C/C(=O)N(CC3=C(C=CC(=C3)/C=C/C(=O)N(CC4=CC5=C(C=C4Cl)OCO5)[C@@H](CC6=CC=C(C=C6)O)C(=O)O)Cl)[C@@H](CC7=CC=C(C(C=C)O)O'\n"
     ]
    },
    {
     "name": "stdout",
     "output_type": "stream",
     "text": [
      "Processed molecule 2600/50000 in molecule_fingerprints_part_2.parquet\n",
      "Processed molecule 2700/50000 in molecule_fingerprints_part_2.parquet\n"
     ]
    },
    {
     "name": "stderr",
     "output_type": "stream",
     "text": [
      "[05:40:43] Can't kekulize mol.  Unkekulized atoms: 0 1 2 3 4 7 9\n"
     ]
    },
    {
     "name": "stdout",
     "output_type": "stream",
     "text": [
      "Processed molecule 2800/50000 in molecule_fingerprints_part_2.parquet\n",
      "Processed molecule 2900/50000 in molecule_fingerprints_part_2.parquet\n",
      "Processed molecule 3000/50000 in molecule_fingerprints_part_2.parquet\n"
     ]
    },
    {
     "name": "stderr",
     "output_type": "stream",
     "text": [
      "[05:42:34] SMILES Parse Error: unclosed ring for input: 'CC1=C([C@](CCC1)(C)/C=C/C2=C[C@H]3C(=O)CC(=O)[C@@H]2O3)/C=C/C4=C(C5=CC=CC=C5C(=C4O)[C@H]6C=C([C@@H]7C(=O)CCCC7(C)C)C)O'\n"
     ]
    },
    {
     "name": "stdout",
     "output_type": "stream",
     "text": [
      "Processed molecule 3100/50000 in molecule_fingerprints_part_2.parquet\n",
      "Processed molecule 3200/50000 in molecule_fingerprints_part_2.parquet\n"
     ]
    },
    {
     "name": "stderr",
     "output_type": "stream",
     "text": [
      "[05:43:14] Can't kekulize mol.  Unkekulized atoms: 1 2 3 4 5 24 25\n",
      "[05:43:25] Can't kekulize mol.  Unkekulized atoms: 0 1 2 3 4 5 6 8 9\n"
     ]
    },
    {
     "name": "stdout",
     "output_type": "stream",
     "text": [
      "Processed molecule 3300/50000 in molecule_fingerprints_part_2.parquet\n"
     ]
    },
    {
     "name": "stderr",
     "output_type": "stream",
     "text": [
      "[05:43:46] SMILES Parse Error: unclosed ring for input: 'CC(C)[C@H]1CCC(=C)[C@@H]2[C@@H]3CC(=C)[C@H](CC[C@@]([C@H]2O3)(C)OC(=O)C)O'\n",
      "[05:43:52] SMILES Parse Error: unclosed ring for input: 'C[C@@]12CC[C@]34C[C@]3(C[C@H]([C@@H]4[C@]1(CC[C@H]2[C@@]5(CC[C@@H](O5)C(C)(C)O)C)C)O)/C(=N/O)/C=CC4=NO'\n",
      "[05:44:00] SMILES Parse Error: unclosed ring for input: 'COc1ccc(cc1C)C(O)C1CC=CC(=NCn2c(NCC3CC=CC(=N3)C3)ncnc3c(cccc23)C(=O)N)C1'\n"
     ]
    },
    {
     "name": "stdout",
     "output_type": "stream",
     "text": [
      "Processed molecule 3400/50000 in molecule_fingerprints_part_2.parquet\n"
     ]
    },
    {
     "name": "stderr",
     "output_type": "stream",
     "text": [
      "[05:44:31] SMILES Parse Error: unclosed ring for input: 'C[C@@H]1[C@@]2(CC[C@]3([C@@]2(CC=C4[C@H]3C[C@@H]5[C@]6([C@@]4(CC[C@@H](C6)O)O)C)O)C)OC(=O)/C=C/C7=CC=CC=C7'\n"
     ]
    },
    {
     "name": "stdout",
     "output_type": "stream",
     "text": [
      "Processed molecule 3500/50000 in molecule_fingerprints_part_2.parquet\n",
      "Processed molecule 3600/50000 in molecule_fingerprints_part_2.parquet\n"
     ]
    },
    {
     "name": "stderr",
     "output_type": "stream",
     "text": [
      "[05:45:23] SMILES Parse Error: unclosed ring for input: 'C[C@H](NC(=O)C1(F)CC1COc1ccc2CN(Cc3ccc(cc3)[C@H](C)NC(=O)C3(F)CC3C3)CCc2c1)C#N'\n"
     ]
    },
    {
     "name": "stdout",
     "output_type": "stream",
     "text": [
      "Processed molecule 3700/50000 in molecule_fingerprints_part_2.parquet\n"
     ]
    },
    {
     "name": "stderr",
     "output_type": "stream",
     "text": [
      "[05:45:42] SMILES Parse Error: unclosed ring for input: 'C[C@@]12CCC(=O)C([C@H]1CC[C@]34[C@H]2C[C@@H]5[C@H](C3)[C@]56C4)(C)C'\n"
     ]
    },
    {
     "name": "stdout",
     "output_type": "stream",
     "text": [
      "Processed molecule 3800/50000 in molecule_fingerprints_part_2.parquet\n",
      "Processed molecule 3900/50000 in molecule_fingerprints_part_2.parquet\n",
      "Processed molecule 4000/50000 in molecule_fingerprints_part_2.parquet\n",
      "Processed molecule 4100/50000 in molecule_fingerprints_part_2.parquet\n",
      "Processed molecule 4200/50000 in molecule_fingerprints_part_2.parquet\n",
      "Processed molecule 4300/50000 in molecule_fingerprints_part_2.parquet\n",
      "Processed molecule 4400/50000 in molecule_fingerprints_part_2.parquet\n",
      "Processed molecule 4500/50000 in molecule_fingerprints_part_2.parquet\n"
     ]
    },
    {
     "name": "stderr",
     "output_type": "stream",
     "text": [
      "[05:49:49] SMILES Parse Error: unclosed ring for input: 'CC(=O)O[C@@H]1C[C@@H]2[C@@]([C@@H](C1(C)C)CC(=O)OC)([C@H]3[C@H](C[C@@]4(CC(=O)O[C@H]4C5=COC=C5)C3=C)OC(=O)C)C'\n"
     ]
    },
    {
     "name": "stdout",
     "output_type": "stream",
     "text": [
      "Processed molecule 4600/50000 in molecule_fingerprints_part_2.parquet\n",
      "Processed molecule 4700/50000 in molecule_fingerprints_part_2.parquet\n",
      "Processed molecule 4800/50000 in molecule_fingerprints_part_2.parquet\n"
     ]
    },
    {
     "name": "stderr",
     "output_type": "stream",
     "text": [
      "[05:51:39] SMILES Parse Error: unclosed ring for input: 'O=C(N1CCCC1)N1CCCC2(COCc3ccccn3)C1'\n"
     ]
    },
    {
     "name": "stdout",
     "output_type": "stream",
     "text": [
      "Processed molecule 4900/50000 in molecule_fingerprints_part_2.parquet\n",
      "Processed molecule 5000/50000 in molecule_fingerprints_part_2.parquet\n"
     ]
    },
    {
     "name": "stderr",
     "output_type": "stream",
     "text": [
      "[05:52:32] SMILES Parse Error: unclosed ring for input: 'CN(C)CCNC(=C1C2=C3C=C(C=CC3=NN2CCN4CCCCC4)OC)O'\n"
     ]
    },
    {
     "name": "stdout",
     "output_type": "stream",
     "text": [
      "Processed molecule 5100/50000 in molecule_fingerprints_part_2.parquet\n",
      "Processed molecule 5200/50000 in molecule_fingerprints_part_2.parquet\n",
      "Processed molecule 5300/50000 in molecule_fingerprints_part_2.parquet\n",
      "Processed molecule 5400/50000 in molecule_fingerprints_part_2.parquet\n",
      "Processed molecule 5500/50000 in molecule_fingerprints_part_2.parquet\n"
     ]
    },
    {
     "name": "stderr",
     "output_type": "stream",
     "text": [
      "[05:54:47] Can't kekulize mol.  Unkekulized atoms: 12 13 14 16 17 18 19 20 21\n"
     ]
    },
    {
     "name": "stdout",
     "output_type": "stream",
     "text": [
      "Processed molecule 5600/50000 in molecule_fingerprints_part_2.parquet\n"
     ]
    },
    {
     "name": "stderr",
     "output_type": "stream",
     "text": [
      "[05:55:29] Can't kekulize mol.  Unkekulized atoms: 0 18 19 21 22\n"
     ]
    },
    {
     "name": "stdout",
     "output_type": "stream",
     "text": [
      "Processed molecule 5700/50000 in molecule_fingerprints_part_2.parquet\n",
      "Processed molecule 5800/50000 in molecule_fingerprints_part_2.parquet\n",
      "Processed molecule 5900/50000 in molecule_fingerprints_part_2.parquet\n",
      "Processed molecule 6000/50000 in molecule_fingerprints_part_2.parquet\n"
     ]
    },
    {
     "name": "stderr",
     "output_type": "stream",
     "text": [
      "[05:57:34] Can't kekulize mol.  Unkekulized atoms: 1 2 6 7 9 12 13 14 16\n"
     ]
    },
    {
     "name": "stdout",
     "output_type": "stream",
     "text": [
      "Processed molecule 6100/50000 in molecule_fingerprints_part_2.parquet\n",
      "Processed molecule 6200/50000 in molecule_fingerprints_part_2.parquet\n"
     ]
    },
    {
     "name": "stderr",
     "output_type": "stream",
     "text": [
      "[05:58:21] SMILES Parse Error: unclosed ring for input: 'COC(=O)C1=C([C@@]23C=C[C@H]1O2)C(=O)N([C@H]3CCCCN[C@H](C(=O)N4CC5=CC=CC=C5)CC6=CC=CC=C6)CC7=CC=CC=C7'\n"
     ]
    },
    {
     "name": "stdout",
     "output_type": "stream",
     "text": [
      "Processed molecule 6300/50000 in molecule_fingerprints_part_2.parquet\n",
      "Processed molecule 6400/50000 in molecule_fingerprints_part_2.parquet\n",
      "Processed molecule 6500/50000 in molecule_fingerprints_part_2.parquet\n",
      "Processed molecule 6600/50000 in molecule_fingerprints_part_2.parquet\n",
      "Processed molecule 6700/50000 in molecule_fingerprints_part_2.parquet\n",
      "Processed molecule 6800/50000 in molecule_fingerprints_part_2.parquet\n",
      "Processed molecule 6900/50000 in molecule_fingerprints_part_2.parquet\n",
      "Processed molecule 7000/50000 in molecule_fingerprints_part_2.parquet\n",
      "Processed molecule 7100/50000 in molecule_fingerprints_part_2.parquet\n"
     ]
    },
    {
     "name": "stderr",
     "output_type": "stream",
     "text": [
      "[06:03:04] SMILES Parse Error: unclosed ring for input: 'C1[C@@H]2[C@@H](C2(C#N)C3=NC=C(C=C3)C4=C(C=C(C=C4)N5C[C@@H](OC5=O)CN6C=CN=N6)F)CN1C7=CC(=C(C=C7)C8=CN=C(C=C8)C9(C#N)C#N)F'\n",
      "[06:03:29] Can't kekulize mol.  Unkekulized atoms: 22 23 24\n"
     ]
    },
    {
     "name": "stdout",
     "output_type": "stream",
     "text": [
      "Processed molecule 7200/50000 in molecule_fingerprints_part_2.parquet\n",
      "Processed molecule 7300/50000 in molecule_fingerprints_part_2.parquet\n",
      "Processed molecule 7400/50000 in molecule_fingerprints_part_2.parquet\n",
      "Processed molecule 7500/50000 in molecule_fingerprints_part_2.parquet\n"
     ]
    },
    {
     "name": "stderr",
     "output_type": "stream",
     "text": [
      "[06:05:15] Can't kekulize mol.  Unkekulized atoms: 0 1 5 6 8\n"
     ]
    },
    {
     "name": "stdout",
     "output_type": "stream",
     "text": [
      "Processed molecule 7600/50000 in molecule_fingerprints_part_2.parquet\n",
      "Processed molecule 7700/50000 in molecule_fingerprints_part_2.parquet\n"
     ]
    },
    {
     "name": "stderr",
     "output_type": "stream",
     "text": [
      "[06:06:20] SMILES Parse Error: unclosed ring for input: 'CC(C)C12C(O1)C3CC4C5=C(CCC4C26C(O6)OC(=O)CNC7=NC=CC(=N7)C8=CN=CC=C8)C(=O)OC5'\n"
     ]
    },
    {
     "name": "stdout",
     "output_type": "stream",
     "text": [
      "Processed molecule 7800/50000 in molecule_fingerprints_part_2.parquet\n",
      "Processed molecule 7900/50000 in molecule_fingerprints_part_2.parquet\n",
      "Processed molecule 8000/50000 in molecule_fingerprints_part_2.parquet\n"
     ]
    },
    {
     "name": "stderr",
     "output_type": "stream",
     "text": [
      "[06:07:56] SMILES Parse Error: unclosed ring for input: 'C[C@]12CCC[C@@]([C@@H]1CC[C@@]34[C@@H]2CC[C@@H](C3)[C@](C4)(CO)O)(C)[C@H]5CC[C@@]67CC[C@H]8[C@](CCC[C@@]8([C@H]6CC5)C)(CO)O'\n"
     ]
    },
    {
     "name": "stdout",
     "output_type": "stream",
     "text": [
      "Processed molecule 8100/50000 in molecule_fingerprints_part_2.parquet\n",
      "Processed molecule 8200/50000 in molecule_fingerprints_part_2.parquet\n"
     ]
    },
    {
     "name": "stderr",
     "output_type": "stream",
     "text": [
      "[06:08:39] SMILES Parse Error: unclosed ring for input: 'C[C@]12CC[C@H]3[C@H]([C@]14C[C@@H]5[C@](O4)(O5)C)[C@@H](C[C@]6([C@@]3(CC[C@@H]6C7=COC(=O)C=C7)O)C=O)O'\n"
     ]
    },
    {
     "name": "stdout",
     "output_type": "stream",
     "text": [
      "Processed molecule 8300/50000 in molecule_fingerprints_part_2.parquet\n",
      "Processed molecule 8400/50000 in molecule_fingerprints_part_2.parquet\n"
     ]
    },
    {
     "name": "stderr",
     "output_type": "stream",
     "text": [
      "[06:09:44] SMILES Parse Error: unclosed ring for input: 'CC(=O)OC[C@@]1(CC[C@@H]([C@@]2([C@@H]1C(=O)C(=C3C[C@H](OC(=O)C3=O)C4=CN=CC=C4)OC(=O)C)C)OC(=O)C)C'\n"
     ]
    },
    {
     "name": "stdout",
     "output_type": "stream",
     "text": [
      "Processed molecule 8500/50000 in molecule_fingerprints_part_2.parquet\n"
     ]
    },
    {
     "name": "stderr",
     "output_type": "stream",
     "text": [
      "[06:10:12] SMILES Parse Error: unclosed ring for input: 'C[C@@]12CC[C@@H](C1(C)C)C3=C2NC4=CC5=NN=CC(=C5C=C4N3)N=NC=C6[C@@H]7CC[C@](C6(C)C)(C8=NC9=CC2=C(C=C9N8)N=N1)C'\n"
     ]
    },
    {
     "name": "stdout",
     "output_type": "stream",
     "text": [
      "Processed molecule 8600/50000 in molecule_fingerprints_part_2.parquet\n",
      "Processed molecule 8700/50000 in molecule_fingerprints_part_2.parquet\n",
      "Processed molecule 8800/50000 in molecule_fingerprints_part_2.parquet\n",
      "Processed molecule 8900/50000 in molecule_fingerprints_part_2.parquet\n",
      "Processed molecule 9000/50000 in molecule_fingerprints_part_2.parquet\n"
     ]
    },
    {
     "name": "stderr",
     "output_type": "stream",
     "text": [
      "[06:12:54] SMILES Parse Error: unclosed ring for input: 'CC1(C=CC2=C(O1)C=CC3=C2NC(=O)[C@@]3(C[C@H]4C(=O)N5CCC[C@@]5(C(C)(C)C=C)O)O)C'\n",
      "[06:13:11] SMILES Parse Error: unclosed ring for input: 'C[C@@H]1CC[C@@H]2C[C@@H]3CC[C@H]4C(=O)CC[C@@]14[C@@]2(C3(C)C)CCC4=O'\n"
     ]
    },
    {
     "name": "stdout",
     "output_type": "stream",
     "text": [
      "Processed molecule 9100/50000 in molecule_fingerprints_part_2.parquet\n"
     ]
    },
    {
     "name": "stderr",
     "output_type": "stream",
     "text": [
      "[06:13:33] SMILES Parse Error: unclosed ring for input: 'C1CC2=C3C(=C(C=C2)O)CC4(C5CC6=C7C4(C3=C(N6C1)C7OC7=C(C=C6)O)CCN5CC8CC8)O'\n"
     ]
    },
    {
     "name": "stdout",
     "output_type": "stream",
     "text": [
      "Processed molecule 9200/50000 in molecule_fingerprints_part_2.parquet\n",
      "Processed molecule 9300/50000 in molecule_fingerprints_part_2.parquet\n"
     ]
    },
    {
     "name": "stderr",
     "output_type": "stream",
     "text": [
      "[06:14:32] SMILES Parse Error: unclosed ring for input: 'C1=CC=C2C(=C1)N3C4=C(C=C(C=C4Br)S(=O)(=O)N)N=C3C5=CC(=CC=C5)Br'\n"
     ]
    },
    {
     "name": "stdout",
     "output_type": "stream",
     "text": [
      "Processed molecule 9400/50000 in molecule_fingerprints_part_2.parquet\n"
     ]
    },
    {
     "name": "stderr",
     "output_type": "stream",
     "text": [
      "[06:14:50] Explicit valence for atom # 9 N, 4, is greater than permitted\n"
     ]
    },
    {
     "name": "stdout",
     "output_type": "stream",
     "text": [
      "Processed molecule 9500/50000 in molecule_fingerprints_part_2.parquet\n"
     ]
    },
    {
     "name": "stderr",
     "output_type": "stream",
     "text": [
      "[06:15:26] SMILES Parse Error: unclosed ring for input: 'C[C@@]12CC[C@@]34COC(=O)[C@]3([C@@H](C[C@]15C[C@H](OC(=O)C5=CC[C@H]4O2)C6=COC=C6)OC(=O)C5(C)O)O'\n",
      "[06:15:29] Can't kekulize mol.  Unkekulized atoms: 3 4 18 19 20 23 24 25 26\n",
      "[06:15:46] SMILES Parse Error: extra close parentheses while parsing: CCOC(=O)C1=C(N(C2=C1C=C(C=C2)OC(=O)C3=CC=C(C=C3)N4C(=C(C5=C4C=CC(=C5)OC(=O)C6=CC=C(C=C6)N7C(=C(C(=C7C)C(=O)OCC)C)C)C)C)C)C)C\n",
      "[06:15:46] SMILES Parse Error: Failed parsing SMILES 'CCOC(=O)C1=C(N(C2=C1C=C(C=C2)OC(=O)C3=CC=C(C=C3)N4C(=C(C5=C4C=CC(=C5)OC(=O)C6=CC=C(C=C6)N7C(=C(C(=C7C)C(=O)OCC)C)C)C)C)C)C)C' for input: 'CCOC(=O)C1=C(N(C2=C1C=C(C=C2)OC(=O)C3=CC=C(C=C3)N4C(=C(C5=C4C=CC(=C5)OC(=O)C6=CC=C(C=C6)N7C(=C(C(=C7C)C(=O)OCC)C)C)C)C)C)C)C'\n"
     ]
    },
    {
     "name": "stdout",
     "output_type": "stream",
     "text": [
      "Processed molecule 9600/50000 in molecule_fingerprints_part_2.parquet\n",
      "Processed molecule 9700/50000 in molecule_fingerprints_part_2.parquet\n",
      "Processed molecule 9800/50000 in molecule_fingerprints_part_2.parquet\n",
      "Processed molecule 9900/50000 in molecule_fingerprints_part_2.parquet\n",
      "Processed molecule 10000/50000 in molecule_fingerprints_part_2.parquet\n"
     ]
    },
    {
     "name": "stderr",
     "output_type": "stream",
     "text": [
      "[06:18:11] SMILES Parse Error: unclosed ring for input: 'C1CCN2C(C1)C3C4=CC(=NC5=C4C=CC=C5C(F)(F)F)C(F)(F)F'\n"
     ]
    },
    {
     "name": "stdout",
     "output_type": "stream",
     "text": [
      "Processed molecule 10100/50000 in molecule_fingerprints_part_2.parquet\n"
     ]
    },
    {
     "name": "stderr",
     "output_type": "stream",
     "text": [
      "[06:18:49] SMILES Parse Error: unclosed ring for input: 'CC(=O)C1C(=O)C=C2C3(CCCC3)NC(=O)C4=C(O2)C5=C(C=C4O)OC6(C(O5)C(=O)C=C(N6)O)C'\n",
      "[06:18:53] SMILES Parse Error: unclosed ring for input: 'C1C[C@]2([C@H](C[C@H]([C@@H]([C@@H]2O)O)O)N)OC[C@@H]1N[C@H]3C[C@H]([C@@H](CO2)O)N'\n"
     ]
    },
    {
     "name": "stdout",
     "output_type": "stream",
     "text": [
      "Processed molecule 10200/50000 in molecule_fingerprints_part_2.parquet\n",
      "Processed molecule 10300/50000 in molecule_fingerprints_part_2.parquet\n"
     ]
    },
    {
     "name": "stderr",
     "output_type": "stream",
     "text": [
      "[06:20:00] SMILES Parse Error: unclosed ring for input: 'C1[C@H](C2=C([C@@H]1O)C(=O)C[C@H]3C4=C(C=CC(=C34)O)[C@@H]5C[C@H](C6=C(C=CC=C56)C7=C(C(=CC=C7)O)C8=C5C(=CC=C8)O)O)O'\n"
     ]
    },
    {
     "name": "stdout",
     "output_type": "stream",
     "text": [
      "Processed molecule 10400/50000 in molecule_fingerprints_part_2.parquet\n",
      "Processed molecule 10500/50000 in molecule_fingerprints_part_2.parquet\n",
      "Processed molecule 10600/50000 in molecule_fingerprints_part_2.parquet\n"
     ]
    },
    {
     "name": "stderr",
     "output_type": "stream",
     "text": [
      "[06:21:20] SMILES Parse Error: unclosed ring for input: 'CC(=O)NC1C2=CC=CC3=C2C4=C(CC(C3)N(CCC5=C4C1=CC=C5)C)C=C5'\n"
     ]
    },
    {
     "name": "stdout",
     "output_type": "stream",
     "text": [
      "Processed molecule 10700/50000 in molecule_fingerprints_part_2.parquet\n"
     ]
    },
    {
     "name": "stderr",
     "output_type": "stream",
     "text": [
      "[06:21:43] SMILES Parse Error: unclosed ring for input: 'CC(=CC[C@@]12C(=O)C(=C3C[C@@H]1C(OC2(C)C)(C)C)CC=C(C)C)C'\n"
     ]
    },
    {
     "name": "stdout",
     "output_type": "stream",
     "text": [
      "Processed molecule 10800/50000 in molecule_fingerprints_part_2.parquet\n",
      "Processed molecule 10900/50000 in molecule_fingerprints_part_2.parquet\n",
      "Processed molecule 11000/50000 in molecule_fingerprints_part_2.parquet\n",
      "Processed molecule 11100/50000 in molecule_fingerprints_part_2.parquet\n",
      "Processed molecule 11200/50000 in molecule_fingerprints_part_2.parquet\n",
      "Processed molecule 11300/50000 in molecule_fingerprints_part_2.parquet\n",
      "Processed molecule 11400/50000 in molecule_fingerprints_part_2.parquet\n",
      "Processed molecule 11500/50000 in molecule_fingerprints_part_2.parquet\n",
      "Processed molecule 11600/50000 in molecule_fingerprints_part_2.parquet\n"
     ]
    },
    {
     "name": "stderr",
     "output_type": "stream",
     "text": [
      "[06:26:39] Can't kekulize mol.  Unkekulized atoms: 0 1 5 6 7 9 10\n"
     ]
    },
    {
     "name": "stdout",
     "output_type": "stream",
     "text": [
      "Processed molecule 11700/50000 in molecule_fingerprints_part_2.parquet\n",
      "Processed molecule 11800/50000 in molecule_fingerprints_part_2.parquet\n",
      "Processed molecule 11900/50000 in molecule_fingerprints_part_2.parquet\n"
     ]
    },
    {
     "name": "stderr",
     "output_type": "stream",
     "text": [
      "[06:28:16] SMILES Parse Error: unclosed ring for input: 'c12c(n(cc1CCN/C/2=N\\CCc1ccc(cc1)O)C)C1=C/C(=N\\CCc2ccc(cc2)O)/C(=O)c2c1c(cn2C)CCN1'\n"
     ]
    },
    {
     "name": "stdout",
     "output_type": "stream",
     "text": [
      "Processed molecule 12000/50000 in molecule_fingerprints_part_2.parquet\n"
     ]
    },
    {
     "name": "stderr",
     "output_type": "stream",
     "text": [
      "[06:28:29] SMILES Parse Error: unclosed ring for input: 'CC(C)[C@@]12CC[C@@]3([C@H]1[C@@H]([C@H]4[C@@H]([C@H]3O)O4)[C@]5(CC[C@@H](C6=C5[C@H]([C@@H]([C@@H]([C@@H]6O)O)O)O)O)C)C'\n"
     ]
    },
    {
     "name": "stdout",
     "output_type": "stream",
     "text": [
      "Processed molecule 12100/50000 in molecule_fingerprints_part_2.parquet\n"
     ]
    },
    {
     "name": "stderr",
     "output_type": "stream",
     "text": [
      "[06:28:59] SMILES Parse Error: unclosed ring for input: 'C1C(C2=C(C(=O)O)N(C=N2)CCCCC(CC3=CC=CC=C3Br)C(=O)O)O'\n"
     ]
    },
    {
     "name": "stdout",
     "output_type": "stream",
     "text": [
      "Processed molecule 12200/50000 in molecule_fingerprints_part_2.parquet\n",
      "Processed molecule 12300/50000 in molecule_fingerprints_part_2.parquet\n",
      "Processed molecule 12400/50000 in molecule_fingerprints_part_2.parquet\n",
      "Processed molecule 12500/50000 in molecule_fingerprints_part_2.parquet\n"
     ]
    },
    {
     "name": "stderr",
     "output_type": "stream",
     "text": [
      "[06:31:11] SMILES Parse Error: unclosed ring for input: 'CC1([C@@H]2CC[C@]1([C@](C2)(CCNC(=O)CC3CN4CCC3(CC4)C=CC5=CC=CC=C5C=C4)O)CS(=O)(=O)N6CCC7(CC6)C=CC8=CC=CC=C78)C'\n"
     ]
    },
    {
     "name": "stdout",
     "output_type": "stream",
     "text": [
      "Processed molecule 12600/50000 in molecule_fingerprints_part_2.parquet\n",
      "Processed molecule 12700/50000 in molecule_fingerprints_part_2.parquet\n",
      "Processed molecule 12800/50000 in molecule_fingerprints_part_2.parquet\n",
      "Processed molecule 12900/50000 in molecule_fingerprints_part_2.parquet\n"
     ]
    },
    {
     "name": "stderr",
     "output_type": "stream",
     "text": [
      "[06:33:05] SMILES Parse Error: unclosed ring for input: 'CO[C@]12CCC(=O)C[C@H]1N(C)CCc1ccc(cc1)c1c[nH]c(=O)[nH]c1=O'\n"
     ]
    },
    {
     "name": "stdout",
     "output_type": "stream",
     "text": [
      "Processed molecule 13000/50000 in molecule_fingerprints_part_2.parquet\n"
     ]
    },
    {
     "name": "stderr",
     "output_type": "stream",
     "text": [
      "[06:33:47] SMILES Parse Error: extra close parentheses while parsing: CC1=CC2=NNC=C2C=C1)C(=O)C3=CC=CC=C3NCC4=CC5=C(C=C4)C=CN5\n",
      "[06:33:47] SMILES Parse Error: Failed parsing SMILES 'CC1=CC2=NNC=C2C=C1)C(=O)C3=CC=CC=C3NCC4=CC5=C(C=C4)C=CN5' for input: 'CC1=CC2=NNC=C2C=C1)C(=O)C3=CC=CC=C3NCC4=CC5=C(C=C4)C=CN5'\n",
      "[06:33:59] SMILES Parse Error: unclosed ring for input: 'C[C@]12CCC(=O)C=C1CC[C@@H]3[C@@]2([C@H]4C[C@]5(COC5(CO4)C)C)F'\n"
     ]
    },
    {
     "name": "stdout",
     "output_type": "stream",
     "text": [
      "Processed molecule 13100/50000 in molecule_fingerprints_part_2.parquet\n",
      "Processed molecule 13200/50000 in molecule_fingerprints_part_2.parquet\n"
     ]
    },
    {
     "name": "stderr",
     "output_type": "stream",
     "text": [
      "[06:34:48] SMILES Parse Error: unclosed ring for input: 'CC(C)(/C=C/C1=CC(=C2OC3=C(C=C(C(=C3O)O)/C=C/C(C)(C)O)O)O)O'\n",
      "[06:34:55] SMILES Parse Error: unclosed ring for input: 'CN(C)C(=O)CN1CC2CCCCC2N(CCC2)c2ncc(C)cn2'\n",
      "[06:35:03] SMILES Parse Error: unclosed ring for input: 'CCCNC1=NC2=C(S1)C=C3C[C@@H]4[C@@H]5[C@]3(CCCC5)CCN4CCCF'\n",
      "[06:35:05] SMILES Parse Error: unclosed ring for input: 'CN(C)C1=NC2=C(S1)C=C3C[C@@H]4[C@H]5[C@]3(C2)CCCC5'\n"
     ]
    },
    {
     "name": "stdout",
     "output_type": "stream",
     "text": [
      "Processed molecule 13300/50000 in molecule_fingerprints_part_2.parquet\n"
     ]
    },
    {
     "name": "stderr",
     "output_type": "stream",
     "text": [
      "[06:35:20] SMILES Parse Error: unclosed ring for input: 'CC1=C(N(C(=C1)O)C2=CC=CC=C2C(=O)O[C@@H]3C[C@@H]4[C@H]5[C@@H]([C@H]3OC(=O)C6=CC=CC=C6N7C(=CC(=C7O)C)O)OC(O5)(C)C)O'\n"
     ]
    },
    {
     "name": "stdout",
     "output_type": "stream",
     "text": [
      "Processed molecule 13400/50000 in molecule_fingerprints_part_2.parquet\n",
      "Processed molecule 13500/50000 in molecule_fingerprints_part_2.parquet\n",
      "Processed molecule 13600/50000 in molecule_fingerprints_part_2.parquet\n"
     ]
    },
    {
     "name": "stderr",
     "output_type": "stream",
     "text": [
      "[06:36:51] SMILES Parse Error: unclosed ring for input: 'CC1(C=COC2=C(O1)C=CC3=C2NC(=O)[C@@]34C[C@@]56CN7CC[C@@](C7(C)C)(C(=O)N5C4)OC(=O)N(C)C(=O)NC)C'\n"
     ]
    },
    {
     "name": "stdout",
     "output_type": "stream",
     "text": [
      "Processed molecule 13700/50000 in molecule_fingerprints_part_2.parquet\n"
     ]
    },
    {
     "name": "stderr",
     "output_type": "stream",
     "text": [
      "[06:37:39] Can't kekulize mol.  Unkekulized atoms: 2 3 4\n"
     ]
    },
    {
     "name": "stdout",
     "output_type": "stream",
     "text": [
      "Processed molecule 13800/50000 in molecule_fingerprints_part_2.parquet\n",
      "Processed molecule 13900/50000 in molecule_fingerprints_part_2.parquet\n",
      "Processed molecule 14000/50000 in molecule_fingerprints_part_2.parquet\n"
     ]
    },
    {
     "name": "stderr",
     "output_type": "stream",
     "text": [
      "[06:39:03] SMILES Parse Error: unclosed ring for input: 'CC1=CC(=C2[C@@H]3[C@@H]4[C@@]5(CCCC([C@@H]5CC[C@@]4(OC6=CC(=CC(=C6[C@@H]5OC[C@@]3(OC2=C1)C)O)C)C)(C)C)C)O'\n",
      "[06:39:10] SMILES Parse Error: unclosed ring for input: 'COc1ccc2C(=O)NCC(C)(C)Cc3c2cc2C(=O)NCC(C)(C)Cc32'\n"
     ]
    },
    {
     "name": "stdout",
     "output_type": "stream",
     "text": [
      "Processed molecule 14100/50000 in molecule_fingerprints_part_2.parquet\n",
      "Processed molecule 14200/50000 in molecule_fingerprints_part_2.parquet\n"
     ]
    },
    {
     "name": "stderr",
     "output_type": "stream",
     "text": [
      "[06:39:54] SMILES Parse Error: unclosed ring for input: 'C[C@@]12CCC3C(=C1)CCC4[C@@]3(CC(=O)C(=O)C4(C)C)C=C3CC[C@H]2C(=O)CO'\n"
     ]
    },
    {
     "name": "stdout",
     "output_type": "stream",
     "text": [
      "Processed molecule 14300/50000 in molecule_fingerprints_part_2.parquet\n",
      "Processed molecule 14400/50000 in molecule_fingerprints_part_2.parquet\n",
      "Processed molecule 14500/50000 in molecule_fingerprints_part_2.parquet\n",
      "Processed molecule 14600/50000 in molecule_fingerprints_part_2.parquet\n",
      "Processed molecule 14700/50000 in molecule_fingerprints_part_2.parquet\n",
      "Processed molecule 14800/50000 in molecule_fingerprints_part_2.parquet\n"
     ]
    },
    {
     "name": "stderr",
     "output_type": "stream",
     "text": [
      "[06:43:13] SMILES Parse Error: unclosed ring for input: 'CCCCN1CN(C2=C(C1=O)SC3=NC(=NC(=C23)N4CN(C5=C(C4=O)C(=C(S5)C6=C(C7=C(S6)N=C(N=C7N(C1)CCCC)SC)O)C(=O)OCC)CCCC)SC)CCCCCCC'\n"
     ]
    },
    {
     "name": "stdout",
     "output_type": "stream",
     "text": [
      "Processed molecule 14900/50000 in molecule_fingerprints_part_2.parquet\n",
      "Processed molecule 15000/50000 in molecule_fingerprints_part_2.parquet\n"
     ]
    },
    {
     "name": "stderr",
     "output_type": "stream",
     "text": [
      "[06:44:15] SMILES Parse Error: unclosed ring for input: 'CC[C@@H]1C[C@H]2C[C@H]([C@@H]([C@H]3N2C[C@@H]([C@H]([C@@H]3O)O)O)N(C1)C[C@H]4C[C@H](CN5C4)CC)O'\n"
     ]
    },
    {
     "name": "stdout",
     "output_type": "stream",
     "text": [
      "Processed molecule 15100/50000 in molecule_fingerprints_part_2.parquet\n"
     ]
    },
    {
     "name": "stderr",
     "output_type": "stream",
     "text": [
      "[06:45:03] Can't kekulize mol.  Unkekulized atoms: 0 1 2 3 5\n"
     ]
    },
    {
     "name": "stdout",
     "output_type": "stream",
     "text": [
      "Processed molecule 15200/50000 in molecule_fingerprints_part_2.parquet\n"
     ]
    },
    {
     "name": "stderr",
     "output_type": "stream",
     "text": [
      "[06:45:25] Can't kekulize mol.  Unkekulized atoms: 0 1 2 3 4\n"
     ]
    },
    {
     "name": "stdout",
     "output_type": "stream",
     "text": [
      "Processed molecule 15300/50000 in molecule_fingerprints_part_2.parquet\n",
      "Processed molecule 15400/50000 in molecule_fingerprints_part_2.parquet\n"
     ]
    },
    {
     "name": "stderr",
     "output_type": "stream",
     "text": [
      "[06:46:13] SMILES Parse Error: unclosed ring for input: 'CC(C)C1=C2[C@H]([C@H]3[C@@]4(C[C@@H]5[C@H](O5)[C@@]([C@H]4[C@@H](C6=C2C(=CC(=O)O6)[C@]3([C@H](O1)O)C)O)(C(=O)O5)C)C)O'\n"
     ]
    },
    {
     "name": "stdout",
     "output_type": "stream",
     "text": [
      "Processed molecule 15500/50000 in molecule_fingerprints_part_2.parquet\n",
      "Processed molecule 15600/50000 in molecule_fingerprints_part_2.parquet\n"
     ]
    },
    {
     "name": "stderr",
     "output_type": "stream",
     "text": [
      "[06:47:25] Can't kekulize mol.  Unkekulized atoms: 7 21 22\n"
     ]
    },
    {
     "name": "stdout",
     "output_type": "stream",
     "text": [
      "Processed molecule 15700/50000 in molecule_fingerprints_part_2.parquet\n",
      "Processed molecule 15800/50000 in molecule_fingerprints_part_2.parquet\n",
      "Processed molecule 15900/50000 in molecule_fingerprints_part_2.parquet\n"
     ]
    },
    {
     "name": "stderr",
     "output_type": "stream",
     "text": [
      "[06:49:07] SMILES Parse Error: unclosed ring for input: 'CSC1=C2C3=CC=CC=C3C4=C5C(=CC=NC5=NC2=C(C6=CC=CC=C61)O)C4=NC=C3'\n",
      "[06:49:08] SMILES Parse Error: unclosed ring for input: 'CN1CC(C(CC1C2=C(CCN3C2C4=C(CC3)C5=CC=CC=C5N4)C6=CC=CC=C6N4)C=C)C=C'\n"
     ]
    },
    {
     "name": "stdout",
     "output_type": "stream",
     "text": [
      "Processed molecule 16000/50000 in molecule_fingerprints_part_2.parquet\n"
     ]
    },
    {
     "name": "stderr",
     "output_type": "stream",
     "text": [
      "[06:49:19] Can't kekulize mol.  Unkekulized atoms: 15 16 17 19 20\n",
      "[06:49:32] SMILES Parse Error: unclosed ring for input: 'C1CN(CC2=C1C3=C(NN=C3N=C2NCC4=CC=C(C=C4)CNC5=NNC6=NC7=NNC(=C7C8=C5CCN(C8)CC9=CC=CC=C9)N)N)CC1=CC=CC=C1'\n"
     ]
    },
    {
     "name": "stdout",
     "output_type": "stream",
     "text": [
      "Processed molecule 16100/50000 in molecule_fingerprints_part_2.parquet\n",
      "Processed molecule 16200/50000 in molecule_fingerprints_part_2.parquet\n",
      "Processed molecule 16300/50000 in molecule_fingerprints_part_2.parquet\n",
      "Processed molecule 16400/50000 in molecule_fingerprints_part_2.parquet\n"
     ]
    },
    {
     "name": "stderr",
     "output_type": "stream",
     "text": [
      "[06:51:42] Can't kekulize mol.  Unkekulized atoms: 7 9 10 11 12\n"
     ]
    },
    {
     "name": "stdout",
     "output_type": "stream",
     "text": [
      "Processed molecule 16500/50000 in molecule_fingerprints_part_2.parquet\n",
      "Processed molecule 16600/50000 in molecule_fingerprints_part_2.parquet\n",
      "Processed molecule 16700/50000 in molecule_fingerprints_part_2.parquet\n",
      "Processed molecule 16800/50000 in molecule_fingerprints_part_2.parquet\n",
      "Processed molecule 16900/50000 in molecule_fingerprints_part_2.parquet\n",
      "Processed molecule 17000/50000 in molecule_fingerprints_part_2.parquet\n",
      "Processed molecule 17100/50000 in molecule_fingerprints_part_2.parquet\n",
      "Processed molecule 17200/50000 in molecule_fingerprints_part_2.parquet\n"
     ]
    },
    {
     "name": "stderr",
     "output_type": "stream",
     "text": [
      "[06:56:05] SMILES Parse Error: unclosed ring for input: 'COC1=CC2=C(C=C1)C3=CCC4(C3(CC(=O)CC4=O)C(=O)OC)C(=O)OC'\n"
     ]
    },
    {
     "name": "stdout",
     "output_type": "stream",
     "text": [
      "Processed molecule 17300/50000 in molecule_fingerprints_part_2.parquet\n"
     ]
    },
    {
     "name": "stderr",
     "output_type": "stream",
     "text": [
      "[06:56:15] SMILES Parse Error: unclosed ring for input: 'CC[C@@H]1[C@H]2[C@H]3CC(=C(N(C3)C1=O)C(=O)O)OC'\n"
     ]
    },
    {
     "name": "stdout",
     "output_type": "stream",
     "text": [
      "Processed molecule 17400/50000 in molecule_fingerprints_part_2.parquet\n",
      "Processed molecule 17500/50000 in molecule_fingerprints_part_2.parquet\n"
     ]
    },
    {
     "name": "stderr",
     "output_type": "stream",
     "text": [
      "[06:57:21] SMILES Parse Error: unclosed ring for input: 'CN(C1CCOC1)C1CCOc2ccc(cc2C2(C)N=C(N)N(C)C2=O)c2cccnc2F'\n"
     ]
    },
    {
     "name": "stdout",
     "output_type": "stream",
     "text": [
      "Processed molecule 17600/50000 in molecule_fingerprints_part_2.parquet\n",
      "Processed molecule 17700/50000 in molecule_fingerprints_part_2.parquet\n"
     ]
    },
    {
     "name": "stderr",
     "output_type": "stream",
     "text": [
      "[06:58:30] SMILES Parse Error: unclosed ring for input: 'CCCS(=O)(=O)O[C@H]1CCC([C@H]2[C@]1([C@]3([C@@H]4CC[C@H]5[C@H]([C@@]4(CO3)C(=O)C5=C)O)O)O)(C)C'\n"
     ]
    },
    {
     "name": "stdout",
     "output_type": "stream",
     "text": [
      "Processed molecule 17800/50000 in molecule_fingerprints_part_2.parquet\n"
     ]
    },
    {
     "name": "stderr",
     "output_type": "stream",
     "text": [
      "[06:58:56] SMILES Parse Error: unclosed ring for input: 'CCOC(=O)N[C@@H](C1=CSC=C1)[C@H](C(=O)O[C@@H]2C[C@@H]3[C@]4(C5=CC=CC=C5C(=C)C[C@@]4(C2(C3(C)C)C)O5)C)O'\n"
     ]
    },
    {
     "name": "stdout",
     "output_type": "stream",
     "text": [
      "Processed molecule 17900/50000 in molecule_fingerprints_part_2.parquet\n"
     ]
    },
    {
     "name": "stderr",
     "output_type": "stream",
     "text": [
      "[06:59:37] SMILES Parse Error: unclosed ring for input: 'C[C@H]1[C@@H]2CC(=O)[C@@H]3C([C@]2(CCC1=O)C)CC=C4[C@@]3(CCC(=C)[C@H](C)CCC(=C)[C@H](C)C(=O)O)C'\n"
     ]
    },
    {
     "name": "stdout",
     "output_type": "stream",
     "text": [
      "Processed molecule 18000/50000 in molecule_fingerprints_part_2.parquet\n",
      "Processed molecule 18100/50000 in molecule_fingerprints_part_2.parquet\n",
      "Processed molecule 18200/50000 in molecule_fingerprints_part_2.parquet\n",
      "Processed molecule 18300/50000 in molecule_fingerprints_part_2.parquet\n"
     ]
    },
    {
     "name": "stderr",
     "output_type": "stream",
     "text": [
      "[07:01:52] SMILES Parse Error: unclosed ring for input: 'CC1=CC=C(O1)C2C3=C(N(C(=O)CN(C3=O)CC4=CC=CC=N4)CC(=O)OC)O'\n"
     ]
    },
    {
     "name": "stdout",
     "output_type": "stream",
     "text": [
      "Processed molecule 18400/50000 in molecule_fingerprints_part_2.parquet\n",
      "Processed molecule 18500/50000 in molecule_fingerprints_part_2.parquet\n",
      "Processed molecule 18600/50000 in molecule_fingerprints_part_2.parquet\n",
      "Processed molecule 18700/50000 in molecule_fingerprints_part_2.parquet\n",
      "Processed molecule 18800/50000 in molecule_fingerprints_part_2.parquet\n",
      "Processed molecule 18900/50000 in molecule_fingerprints_part_2.parquet\n",
      "Processed molecule 19000/50000 in molecule_fingerprints_part_2.parquet\n",
      "Processed molecule 19100/50000 in molecule_fingerprints_part_2.parquet\n"
     ]
    },
    {
     "name": "stderr",
     "output_type": "stream",
     "text": [
      "[07:06:12] Can't kekulize mol.  Unkekulized atoms: 0 1 3 4 5 10 11\n"
     ]
    },
    {
     "name": "stdout",
     "output_type": "stream",
     "text": [
      "Processed molecule 19200/50000 in molecule_fingerprints_part_2.parquet\n",
      "Processed molecule 19300/50000 in molecule_fingerprints_part_2.parquet\n"
     ]
    },
    {
     "name": "stderr",
     "output_type": "stream",
     "text": [
      "[07:07:37] SMILES Parse Error: unclosed ring for input: 'COC1=CC(=CC(=C1OC)OC)CN2C=CC3=CC(=C4C5=C(C=CN=C35)N(C=C4)CC6=CC(=C(C(=C6)OC)OC)OC)OC'\n"
     ]
    },
    {
     "name": "stdout",
     "output_type": "stream",
     "text": [
      "Processed molecule 19400/50000 in molecule_fingerprints_part_2.parquet\n"
     ]
    },
    {
     "name": "stderr",
     "output_type": "stream",
     "text": [
      "[07:07:46] SMILES Parse Error: unclosed ring for input: 'CCCCCOC1=C(C=C2CC3C4=C(C2=C1OC)C5=CC6=C(C=C5CCN3C)OCO6)OC'\n"
     ]
    },
    {
     "name": "stdout",
     "output_type": "stream",
     "text": [
      "Processed molecule 19500/50000 in molecule_fingerprints_part_2.parquet\n"
     ]
    },
    {
     "name": "stderr",
     "output_type": "stream",
     "text": [
      "[07:08:33] SMILES Parse Error: unclosed ring for input: 'CC1=CC(=C(C=C1Cl)OC)NC(=O)C2=NC3=C(C=CC4=CC=CNC4=C3N=C(C=C2)C(=O)NC5=C(C=C(C(=C5)C)Cl)OC)C=C4'\n"
     ]
    },
    {
     "name": "stdout",
     "output_type": "stream",
     "text": [
      "Processed molecule 19600/50000 in molecule_fingerprints_part_2.parquet\n",
      "Processed molecule 19700/50000 in molecule_fingerprints_part_2.parquet\n",
      "Processed molecule 19800/50000 in molecule_fingerprints_part_2.parquet\n",
      "Processed molecule 19900/50000 in molecule_fingerprints_part_2.parquet\n",
      "Processed molecule 20000/50000 in molecule_fingerprints_part_2.parquet\n",
      "Processed molecule 20100/50000 in molecule_fingerprints_part_2.parquet\n",
      "Processed molecule 20200/50000 in molecule_fingerprints_part_2.parquet\n",
      "Processed molecule 20300/50000 in molecule_fingerprints_part_2.parquet\n",
      "Processed molecule 20400/50000 in molecule_fingerprints_part_2.parquet\n",
      "Processed molecule 20500/50000 in molecule_fingerprints_part_2.parquet\n",
      "Processed molecule 20600/50000 in molecule_fingerprints_part_2.parquet\n",
      "Processed molecule 20700/50000 in molecule_fingerprints_part_2.parquet\n",
      "Processed molecule 20800/50000 in molecule_fingerprints_part_2.parquet\n",
      "Processed molecule 20900/50000 in molecule_fingerprints_part_2.parquet\n",
      "Processed molecule 21000/50000 in molecule_fingerprints_part_2.parquet\n",
      "Processed molecule 21100/50000 in molecule_fingerprints_part_2.parquet\n",
      "Processed molecule 21200/50000 in molecule_fingerprints_part_2.parquet\n",
      "Processed molecule 21300/50000 in molecule_fingerprints_part_2.parquet\n",
      "Processed molecule 21400/50000 in molecule_fingerprints_part_2.parquet\n"
     ]
    },
    {
     "name": "stderr",
     "output_type": "stream",
     "text": [
      "[07:18:57] SMILES Parse Error: unclosed ring for input: 'C1CC1S(=O)(=O)NC23CCC(CC2)(CC3)C4=C5C=CNC5=NC=C4N6C7=C(C89CCC(C1)(CC8)CC9)C1=NN=CC2=NN=CC=CN21'\n"
     ]
    },
    {
     "name": "stdout",
     "output_type": "stream",
     "text": [
      "Processed molecule 21500/50000 in molecule_fingerprints_part_2.parquet\n"
     ]
    },
    {
     "name": "stderr",
     "output_type": "stream",
     "text": [
      "[07:19:33] Can't kekulize mol.  Unkekulized atoms: 17 18 19 20 21 22 25 26 27\n"
     ]
    },
    {
     "name": "stdout",
     "output_type": "stream",
     "text": [
      "Processed molecule 21600/50000 in molecule_fingerprints_part_2.parquet\n"
     ]
    },
    {
     "name": "stderr",
     "output_type": "stream",
     "text": [
      "[07:19:42] SMILES Parse Error: unclosed ring for input: 'C[C@]12[C@H]3CC[C@@H]4[C@H]1C[C@@H]([C@@H](C4)N5C=NC6=C5N=CN=C6Cl)[C@@](O2)([C@H]7C[C@@H]8C[C@H]9[C@@]8(O[C@@]9([C@H]1CC1)C)C)C'\n",
      "[07:19:47] Can't kekulize mol.  Unkekulized atoms: 0 1 2 3 5\n"
     ]
    },
    {
     "name": "stdout",
     "output_type": "stream",
     "text": [
      "Processed molecule 21700/50000 in molecule_fingerprints_part_2.parquet\n"
     ]
    },
    {
     "name": "stderr",
     "output_type": "stream",
     "text": [
      "[07:20:37] SMILES Parse Error: unclosed ring for input: 'n1cc(cc(c1N)OC(F)F)c1cc(nc(n1)N1CC(CC1)(F)F)C1CC2N(C1)C1CO2'\n"
     ]
    },
    {
     "name": "stdout",
     "output_type": "stream",
     "text": [
      "Processed molecule 21800/50000 in molecule_fingerprints_part_2.parquet\n",
      "Processed molecule 21900/50000 in molecule_fingerprints_part_2.parquet\n"
     ]
    },
    {
     "name": "stderr",
     "output_type": "stream",
     "text": [
      "[07:21:25] SMILES Parse Error: unclosed ring for input: 'CC(=O)O[C@H]1CC[C@]2(CN(C3C4C5CC(C6C4C(C3(C2C1)CO6)O)OC(=O)C)C)C'\n",
      "[07:21:26] SMILES Parse Error: unclosed ring for input: 'C[C@@]12CCC[C@]34[C@@H]1[C@H]5[C@H](C(C[C@H]3[C@H]4N(C2)C5)C(=C)[C@H]2O)OC(=O)C6=CC(=C(C=C6)OC)OC'\n",
      "[07:21:43] SMILES Parse Error: unclosed ring for input: 'C/C=C\\1/[C@@H]2C=C[C@@]3([C@H]4[C@@H](O2)OC=C4C(=O)OC)OC1=O'\n",
      "[07:21:43] Explicit valence for atom # 14 N, 4, is greater than permitted\n"
     ]
    },
    {
     "name": "stdout",
     "output_type": "stream",
     "text": [
      "Processed molecule 22000/50000 in molecule_fingerprints_part_2.parquet\n"
     ]
    },
    {
     "name": "stderr",
     "output_type": "stream",
     "text": [
      "[07:22:13] SMILES Parse Error: unclosed ring for input: 'C[C@]12CC[C@H]3[C@H]([C@@H]1CC[C@@]24N(CCCl)CCCl)CCC5=C3C=CC(=C5)OC'\n",
      "[07:22:15] SMILES Parse Error: unclosed ring for input: 'CC1=C(C(=CC=C1)N(CC(=O)NC2CCCC2)C(=O)C3=CC4=CC=CC(=C4N=C4S3)C)C'\n"
     ]
    },
    {
     "name": "stdout",
     "output_type": "stream",
     "text": [
      "Processed molecule 22100/50000 in molecule_fingerprints_part_2.parquet\n",
      "Processed molecule 22200/50000 in molecule_fingerprints_part_2.parquet\n",
      "Processed molecule 22300/50000 in molecule_fingerprints_part_2.parquet\n"
     ]
    },
    {
     "name": "stderr",
     "output_type": "stream",
     "text": [
      "[07:23:50] Explicit valence for atom # 14 C, 5, is greater than permitted\n"
     ]
    },
    {
     "name": "stdout",
     "output_type": "stream",
     "text": [
      "Processed molecule 22400/50000 in molecule_fingerprints_part_2.parquet\n"
     ]
    },
    {
     "name": "stderr",
     "output_type": "stream",
     "text": [
      "[07:24:16] SMILES Parse Error: unclosed ring for input: 'CCCCCC1=C2C=C[C@@]3([C@H](CC[C@H]3[C@@H]4CCC(=O)[C@]4(CC[C@@H]3[C@]2(C=CC(=O)C1)C)C)[C@H]5CCC(=O)[C@]5(C)CC6CC(=O)C=CC6)C'\n"
     ]
    },
    {
     "name": "stdout",
     "output_type": "stream",
     "text": [
      "Processed molecule 22500/50000 in molecule_fingerprints_part_2.parquet\n",
      "Processed molecule 22600/50000 in molecule_fingerprints_part_2.parquet\n",
      "Processed molecule 22700/50000 in molecule_fingerprints_part_2.parquet\n",
      "Processed molecule 22800/50000 in molecule_fingerprints_part_2.parquet\n",
      "Processed molecule 22900/50000 in molecule_fingerprints_part_2.parquet\n"
     ]
    },
    {
     "name": "stderr",
     "output_type": "stream",
     "text": [
      "[07:26:55] SMILES Parse Error: unclosed ring for input: 'C1=CC=C(C=C1)C2=NN3C4=CC=CC=C4N=C3NC(=O)C5=CC(=CC=C5)Cl'\n"
     ]
    },
    {
     "name": "stdout",
     "output_type": "stream",
     "text": [
      "Processed molecule 23000/50000 in molecule_fingerprints_part_2.parquet\n",
      "Processed molecule 23100/50000 in molecule_fingerprints_part_2.parquet\n",
      "Processed molecule 23200/50000 in molecule_fingerprints_part_2.parquet\n"
     ]
    },
    {
     "name": "stderr",
     "output_type": "stream",
     "text": [
      "[07:28:56] SMILES Parse Error: unclosed ring for input: 'C/C=C(\\C)/C(=O)O[C@H]1C2=C(C[C@]3([C@]1([C@H](CC[C@@H]3C)C)C)O2)OC=C2C'\n"
     ]
    },
    {
     "name": "stdout",
     "output_type": "stream",
     "text": [
      "Processed molecule 23300/50000 in molecule_fingerprints_part_2.parquet\n",
      "Processed molecule 23400/50000 in molecule_fingerprints_part_2.parquet\n"
     ]
    },
    {
     "name": "stderr",
     "output_type": "stream",
     "text": [
      "[07:29:59] SMILES Parse Error: unclosed ring for input: 'c12c(Nc3c(C1c1cc(Cl)ccc1)c1c(nccc1)c1c2nco1)coc1O'\n"
     ]
    },
    {
     "name": "stdout",
     "output_type": "stream",
     "text": [
      "Processed molecule 23500/50000 in molecule_fingerprints_part_2.parquet\n",
      "Processed molecule 23600/50000 in molecule_fingerprints_part_2.parquet\n",
      "Processed molecule 23700/50000 in molecule_fingerprints_part_2.parquet\n",
      "Processed molecule 23800/50000 in molecule_fingerprints_part_2.parquet\n",
      "Processed molecule 23900/50000 in molecule_fingerprints_part_2.parquet\n",
      "Processed molecule 24000/50000 in molecule_fingerprints_part_2.parquet\n"
     ]
    },
    {
     "name": "stderr",
     "output_type": "stream",
     "text": [
      "[07:33:27] SMILES Parse Error: unclosed ring for input: 'CC(=O)C1=COC[C@@H]2[C@H]1C[C@H]3[C@@]4(C2)C5=CC=CC=C5N(C4=O)C'\n"
     ]
    },
    {
     "name": "stdout",
     "output_type": "stream",
     "text": [
      "Processed molecule 24100/50000 in molecule_fingerprints_part_2.parquet\n",
      "Processed molecule 24200/50000 in molecule_fingerprints_part_2.parquet\n",
      "Processed molecule 24300/50000 in molecule_fingerprints_part_2.parquet\n",
      "Processed molecule 24400/50000 in molecule_fingerprints_part_2.parquet\n"
     ]
    },
    {
     "name": "stderr",
     "output_type": "stream",
     "text": [
      "[07:35:09] SMILES Parse Error: unclosed ring for input: 'C[C@@]1(CCC[C@@]2([C@@H]1CC[C@]34[C@H]2CC[C@H](C3)[C@]5([C@@H]4CC[C@@H]6[C@@](O6)(C)CO)C)C)CO'\n",
      "[07:35:39] SMILES Parse Error: unclosed ring for input: 'CC(=CC(=O)O/C=C/[C@H]1C2=C(CO1)[C@H]3C[C@@](CC[C@H]3C(C)(C)O)(C)OCC(=O)C)C'\n"
     ]
    },
    {
     "name": "stdout",
     "output_type": "stream",
     "text": [
      "Processed molecule 24500/50000 in molecule_fingerprints_part_2.parquet\n",
      "Processed molecule 24600/50000 in molecule_fingerprints_part_2.parquet\n",
      "Processed molecule 24700/50000 in molecule_fingerprints_part_2.parquet\n"
     ]
    },
    {
     "name": "stderr",
     "output_type": "stream",
     "text": [
      "[07:37:16] SMILES Parse Error: unclosed ring for input: 'n1([C@H]2[C@@H]([C@@H]3CC[C@H]([C@H]4[C@@]3([C@H](O2)O[C@@](CC4)(OO2)C)CC1)C)C)c1cc(c2cccc(c2)Cl)ccc1'\n"
     ]
    },
    {
     "name": "stdout",
     "output_type": "stream",
     "text": [
      "Processed molecule 24800/50000 in molecule_fingerprints_part_2.parquet\n",
      "Processed molecule 24900/50000 in molecule_fingerprints_part_2.parquet\n",
      "Processed molecule 25000/50000 in molecule_fingerprints_part_2.parquet\n",
      "Processed molecule 25100/50000 in molecule_fingerprints_part_2.parquet\n",
      "Processed molecule 25200/50000 in molecule_fingerprints_part_2.parquet\n",
      "Processed molecule 25300/50000 in molecule_fingerprints_part_2.parquet\n",
      "Processed molecule 25400/50000 in molecule_fingerprints_part_2.parquet\n"
     ]
    },
    {
     "name": "stderr",
     "output_type": "stream",
     "text": [
      "[07:41:10] SMILES Parse Error: unclosed ring for input: 'CCCCN1C(=C(N(C1=O)CC2=CC=C(C=C2)C(=O)OC)C(=O)CC/C=C/3\\N=CC4=CSC(=N4)C)O'\n"
     ]
    },
    {
     "name": "stdout",
     "output_type": "stream",
     "text": [
      "Processed molecule 25500/50000 in molecule_fingerprints_part_2.parquet\n",
      "Processed molecule 25600/50000 in molecule_fingerprints_part_2.parquet\n",
      "Processed molecule 25700/50000 in molecule_fingerprints_part_2.parquet\n",
      "Processed molecule 25800/50000 in molecule_fingerprints_part_2.parquet\n"
     ]
    },
    {
     "name": "stderr",
     "output_type": "stream",
     "text": [
      "[07:43:04] Can't kekulize mol.  Unkekulized atoms: 3 4 5 17 18\n"
     ]
    },
    {
     "name": "stdout",
     "output_type": "stream",
     "text": [
      "Processed molecule 25900/50000 in molecule_fingerprints_part_2.parquet\n",
      "Processed molecule 26000/50000 in molecule_fingerprints_part_2.parquet\n"
     ]
    },
    {
     "name": "stderr",
     "output_type": "stream",
     "text": [
      "[07:44:09] SMILES Parse Error: extra open parentheses for input: 'CC1=C(C=CC(=C1)Cl)COC2=CC=C(C=C2)S(=O)(=O)N3CCCC(C3/C(=N/O)/C4C(CCCN4S(=O)(=O)C5=CC=C(C=C5)OCC6=C(C=C(C=C6)Cl)C)(C)O'\n"
     ]
    },
    {
     "name": "stdout",
     "output_type": "stream",
     "text": [
      "Processed molecule 26100/50000 in molecule_fingerprints_part_2.parquet\n"
     ]
    },
    {
     "name": "stderr",
     "output_type": "stream",
     "text": [
      "[07:44:40] SMILES Parse Error: unclosed ring for input: 'C[C@@H]1CC(=O)[C@@]23[C@]1(O[C@@H]4CCC([C@@]2(C[C@H](OC3=O)C5=COC=C5)O)(C)C)C'\n"
     ]
    },
    {
     "name": "stdout",
     "output_type": "stream",
     "text": [
      "Processed molecule 26200/50000 in molecule_fingerprints_part_2.parquet\n"
     ]
    },
    {
     "name": "stderr",
     "output_type": "stream",
     "text": [
      "[07:45:21] SMILES Parse Error: unclosed ring for input: 'CC[C@@]12CCC(=O)[C@H]3[C@@]14CCC5=C2C(=C(C=C5)O)O[C@H]3N(C)CC6CC6'\n"
     ]
    },
    {
     "name": "stdout",
     "output_type": "stream",
     "text": [
      "Processed molecule 26300/50000 in molecule_fingerprints_part_2.parquet\n",
      "Processed molecule 26400/50000 in molecule_fingerprints_part_2.parquet\n",
      "Processed molecule 26500/50000 in molecule_fingerprints_part_2.parquet\n",
      "Processed molecule 26600/50000 in molecule_fingerprints_part_2.parquet\n",
      "Processed molecule 26700/50000 in molecule_fingerprints_part_2.parquet\n"
     ]
    },
    {
     "name": "stderr",
     "output_type": "stream",
     "text": [
      "[07:47:48] SMILES Parse Error: unclosed ring for input: 'O=C1N([C@H](CN2[C@H](CNC(=O)C2=O)Cc2ccccc2)C)C[C@@H](NC(=O)Cc2ccc(O)cc2)C'\n",
      "[07:47:52] SMILES Parse Error: unclosed ring for input: 'C[C@@H]1C[C@@]2(CC[C@@]3([C@@H]4CC[C@H]5[C@]6(C4CCC3C(O2)(C)C)CCC(=O)O6)C)OC1=O'\n"
     ]
    },
    {
     "name": "stdout",
     "output_type": "stream",
     "text": [
      "Processed molecule 26800/50000 in molecule_fingerprints_part_2.parquet\n",
      "Processed molecule 26900/50000 in molecule_fingerprints_part_2.parquet\n",
      "Processed molecule 27000/50000 in molecule_fingerprints_part_2.parquet\n",
      "Processed molecule 27100/50000 in molecule_fingerprints_part_2.parquet\n",
      "Processed molecule 27200/50000 in molecule_fingerprints_part_2.parquet\n",
      "Processed molecule 27300/50000 in molecule_fingerprints_part_2.parquet\n",
      "Processed molecule 27400/50000 in molecule_fingerprints_part_2.parquet\n",
      "Processed molecule 27500/50000 in molecule_fingerprints_part_2.parquet\n",
      "Processed molecule 27600/50000 in molecule_fingerprints_part_2.parquet\n",
      "Processed molecule 27700/50000 in molecule_fingerprints_part_2.parquet\n",
      "Processed molecule 27800/50000 in molecule_fingerprints_part_2.parquet\n",
      "Processed molecule 27900/50000 in molecule_fingerprints_part_2.parquet\n"
     ]
    },
    {
     "name": "stderr",
     "output_type": "stream",
     "text": [
      "[07:54:45] Can't kekulize mol.  Unkekulized atoms: 0 20 21\n"
     ]
    },
    {
     "name": "stdout",
     "output_type": "stream",
     "text": [
      "Processed molecule 28000/50000 in molecule_fingerprints_part_2.parquet\n"
     ]
    },
    {
     "name": "stderr",
     "output_type": "stream",
     "text": [
      "[07:55:16] SMILES Parse Error: unclosed ring for input: 'CC1(C2(O1)CC3[C@@]45CCN([C@@H]([C@@]46CC[C@@]3([C@H]2OC7=C(C=CC(=C67)C[C@H]5N(CC8CC8)CC9CC9)O)C)CC1=C5C(=C(C=C1)O)O3)CC1CC1)C'\n"
     ]
    },
    {
     "name": "stdout",
     "output_type": "stream",
     "text": [
      "Processed molecule 28100/50000 in molecule_fingerprints_part_2.parquet\n",
      "Processed molecule 28200/50000 in molecule_fingerprints_part_2.parquet\n"
     ]
    },
    {
     "name": "stderr",
     "output_type": "stream",
     "text": [
      "[07:56:14] Explicit valence for atom # 28 C, 5, is greater than permitted\n"
     ]
    },
    {
     "name": "stdout",
     "output_type": "stream",
     "text": [
      "Processed molecule 28300/50000 in molecule_fingerprints_part_2.parquet\n"
     ]
    },
    {
     "name": "stderr",
     "output_type": "stream",
     "text": [
      "[07:56:42] SMILES Parse Error: unclosed ring for input: 'CN1C2=C(CS1(=O)=O)C=C(C=C2)C3=CN=CC4=C3N5CCC6(CCNC6=O)CC5'\n"
     ]
    },
    {
     "name": "stdout",
     "output_type": "stream",
     "text": [
      "Processed molecule 28400/50000 in molecule_fingerprints_part_2.parquet\n"
     ]
    },
    {
     "name": "stderr",
     "output_type": "stream",
     "text": [
      "[07:57:21] Can't kekulize mol.  Unkekulized atoms: 1 2 3 4 5 6 7\n"
     ]
    },
    {
     "name": "stdout",
     "output_type": "stream",
     "text": [
      "Processed molecule 28500/50000 in molecule_fingerprints_part_2.parquet\n",
      "Processed molecule 28600/50000 in molecule_fingerprints_part_2.parquet\n"
     ]
    },
    {
     "name": "stderr",
     "output_type": "stream",
     "text": [
      "[07:58:45] SMILES Parse Error: unclosed ring for input: 'CC(=CCN1C2C(CCN2)C3C1=NC4C(=O)N(C(=O)N(C4=O)CC(=O)C5=CC=CC=C5)C)C'\n"
     ]
    },
    {
     "name": "stdout",
     "output_type": "stream",
     "text": [
      "Processed molecule 28700/50000 in molecule_fingerprints_part_2.parquet\n",
      "Processed molecule 28800/50000 in molecule_fingerprints_part_2.parquet\n"
     ]
    },
    {
     "name": "stderr",
     "output_type": "stream",
     "text": [
      "[07:59:40] SMILES Parse Error: unclosed ring for input: 'CCCN1CC[C@@H]2[C@H]3CCC[C@H]3[C@H](C4=C2C=C5C=CC(=CC5=N4)C(F)(F)F)CC'\n"
     ]
    },
    {
     "name": "stdout",
     "output_type": "stream",
     "text": [
      "Processed molecule 28900/50000 in molecule_fingerprints_part_2.parquet\n",
      "Processed molecule 29000/50000 in molecule_fingerprints_part_2.parquet\n",
      "Processed molecule 29100/50000 in molecule_fingerprints_part_2.parquet\n"
     ]
    },
    {
     "name": "stderr",
     "output_type": "stream",
     "text": [
      "[08:01:10] SMILES Parse Error: unclosed ring for input: 'c1(c(c2c(n(c1=O)c1c(cccc1)OCC)c(=O)n(c1c(cccc1)OCC)c1c(cccc1)OCC)O)CN=N'\n"
     ]
    },
    {
     "name": "stdout",
     "output_type": "stream",
     "text": [
      "Processed molecule 29200/50000 in molecule_fingerprints_part_2.parquet\n"
     ]
    },
    {
     "name": "stderr",
     "output_type": "stream",
     "text": [
      "[08:01:53] Can't kekulize mol.  Unkekulized atoms: 1 2 5 10 13\n"
     ]
    },
    {
     "name": "stdout",
     "output_type": "stream",
     "text": [
      "Processed molecule 29300/50000 in molecule_fingerprints_part_2.parquet\n"
     ]
    },
    {
     "name": "stderr",
     "output_type": "stream",
     "text": [
      "[08:02:13] SMILES Parse Error: unclosed ring for input: 'CC1=NC2=C(N1C3=CC=C(C=C3)C4=NC5=C6C=CN=CC6=NN5CCN4C(=O)C4)C=CN=C2'\n"
     ]
    },
    {
     "name": "stdout",
     "output_type": "stream",
     "text": [
      "Processed molecule 29400/50000 in molecule_fingerprints_part_2.parquet\n",
      "Processed molecule 29500/50000 in molecule_fingerprints_part_2.parquet\n"
     ]
    },
    {
     "name": "stderr",
     "output_type": "stream",
     "text": [
      "[08:03:25] SMILES Parse Error: unclosed ring for input: 'CC1=C(C=C(C=C1)N2C(=C(C(=C2O)C3C4=CC=CC=C4C(=O)C5(O3)C(=O)C6=CC=CC=C6C5=O)C7C8=CC=CC=C8C(=O)C7(O7)C9=CC=CC=C9)O)Cl'\n"
     ]
    },
    {
     "name": "stdout",
     "output_type": "stream",
     "text": [
      "Processed molecule 29600/50000 in molecule_fingerprints_part_2.parquet\n",
      "Processed molecule 29700/50000 in molecule_fingerprints_part_2.parquet\n",
      "Processed molecule 29800/50000 in molecule_fingerprints_part_2.parquet\n"
     ]
    },
    {
     "name": "stderr",
     "output_type": "stream",
     "text": [
      "[08:05:06] SMILES Parse Error: unclosed ring for input: 'CN1C2CC(N3C2=NC4=CC5=CC=CC=C5C=C43)C(=O)NCCC6=CC=CS6'\n"
     ]
    },
    {
     "name": "stdout",
     "output_type": "stream",
     "text": [
      "Processed molecule 29900/50000 in molecule_fingerprints_part_2.parquet\n",
      "Processed molecule 30000/50000 in molecule_fingerprints_part_2.parquet\n",
      "Processed molecule 30100/50000 in molecule_fingerprints_part_2.parquet\n"
     ]
    },
    {
     "name": "stderr",
     "output_type": "stream",
     "text": [
      "[08:06:51] SMILES Parse Error: unclosed ring for input: 'COc1cc(CN(CC(C)C)C(CC(=O)O)c2ccc(Cl)cc2)ccc1OCCN1C(O)C(=O)O'\n"
     ]
    },
    {
     "name": "stdout",
     "output_type": "stream",
     "text": [
      "Processed molecule 30200/50000 in molecule_fingerprints_part_2.parquet\n",
      "Processed molecule 30300/50000 in molecule_fingerprints_part_2.parquet\n",
      "Processed molecule 30400/50000 in molecule_fingerprints_part_2.parquet\n",
      "Processed molecule 30500/50000 in molecule_fingerprints_part_2.parquet\n"
     ]
    },
    {
     "name": "stderr",
     "output_type": "stream",
     "text": [
      "[08:08:56] Can't kekulize mol.  Unkekulized atoms: 0 1 2 3 4 5 6 7 9 10 11\n",
      "[08:09:11] SMILES Parse Error: unclosed ring for input: 'COC(=O)[C@]12CC[C@H]3[C@@H]1[C@H](N(C3)C(=O)OCC4=CC=CC=C4)C5=CC=CO5'\n"
     ]
    },
    {
     "name": "stdout",
     "output_type": "stream",
     "text": [
      "Processed molecule 30600/50000 in molecule_fingerprints_part_2.parquet\n",
      "Processed molecule 30700/50000 in molecule_fingerprints_part_2.parquet\n"
     ]
    },
    {
     "name": "stderr",
     "output_type": "stream",
     "text": [
      "[08:10:11] SMILES Parse Error: unclosed ring for input: 'O1c2c(N=C(/N=N/c3cc4nc([nH]c4cc3)C)C1=Nc1c(Oc3c(nc4c([nH]c(n4)C)c3)cccc3)cccc1)cccc2'\n"
     ]
    },
    {
     "name": "stdout",
     "output_type": "stream",
     "text": [
      "Processed molecule 30800/50000 in molecule_fingerprints_part_2.parquet\n",
      "Processed molecule 30900/50000 in molecule_fingerprints_part_2.parquet\n",
      "Processed molecule 31000/50000 in molecule_fingerprints_part_2.parquet\n",
      "Processed molecule 31100/50000 in molecule_fingerprints_part_2.parquet\n"
     ]
    },
    {
     "name": "stderr",
     "output_type": "stream",
     "text": [
      "[08:12:08] SMILES Parse Error: unclosed ring for input: 'COC1=C(C2=C(C=C1)C=C3C4=CC5=C(C=C4C(=O)N3CC=C)OCO5)OC'\n"
     ]
    },
    {
     "name": "stdout",
     "output_type": "stream",
     "text": [
      "Processed molecule 31200/50000 in molecule_fingerprints_part_2.parquet\n",
      "Processed molecule 31300/50000 in molecule_fingerprints_part_2.parquet\n"
     ]
    },
    {
     "name": "stderr",
     "output_type": "stream",
     "text": [
      "[08:13:45] Can't kekulize mol.  Unkekulized atoms: 3 4 5 6 7 8 10\n"
     ]
    },
    {
     "name": "stdout",
     "output_type": "stream",
     "text": [
      "Processed molecule 31400/50000 in molecule_fingerprints_part_2.parquet\n"
     ]
    },
    {
     "name": "stderr",
     "output_type": "stream",
     "text": [
      "[08:14:15] SMILES Parse Error: unclosed ring for input: 'CC1(CC=C2C(=O)C=CC3=C(C4=C(C(=C3N2C)O)C(=O)C=CC4=O)OC)C'\n"
     ]
    },
    {
     "name": "stdout",
     "output_type": "stream",
     "text": [
      "Processed molecule 31500/50000 in molecule_fingerprints_part_2.parquet\n",
      "Processed molecule 31600/50000 in molecule_fingerprints_part_2.parquet\n"
     ]
    },
    {
     "name": "stderr",
     "output_type": "stream",
     "text": [
      "[08:14:59] SMILES Parse Error: unclosed ring for input: 'C/C/1=C\\CCC(=C)[C@H]2COC(=O)[C@@H]2CC/C=C/CO'\n",
      "[08:15:20] SMILES Parse Error: unclosed ring for input: 'CCC1=C2[C@@]3(C[C@@]3(C(=NCC4=CC=CC=C4)OC(=O)N(CC)CC)N5C(=CCC6=C(N(C(=C1C2)O)CC)O)OC5=O)C'\n"
     ]
    },
    {
     "name": "stdout",
     "output_type": "stream",
     "text": [
      "Processed molecule 31700/50000 in molecule_fingerprints_part_2.parquet\n"
     ]
    },
    {
     "name": "stderr",
     "output_type": "stream",
     "text": [
      "[08:15:56] SMILES Parse Error: unclosed ring for input: 'CC(C)CN1C(=C(C(=O)NC1=O)N(CCOC)C(=O)CCN2C(=C3CC=CCC3=O)O)N'\n"
     ]
    },
    {
     "name": "stdout",
     "output_type": "stream",
     "text": [
      "Processed molecule 31800/50000 in molecule_fingerprints_part_2.parquet\n",
      "Processed molecule 31900/50000 in molecule_fingerprints_part_2.parquet\n",
      "Processed molecule 32000/50000 in molecule_fingerprints_part_2.parquet\n",
      "Processed molecule 32100/50000 in molecule_fingerprints_part_2.parquet\n"
     ]
    },
    {
     "name": "stderr",
     "output_type": "stream",
     "text": [
      "[08:17:42] SMILES Parse Error: unclosed ring for input: 'COC1=CC=CC(=C1)N2C(=C(C(=C2O)C3CCCC4C3C5=C4C6=CC=CC=C6N5)C7=C(N(C8=CC(=CC=C8)OC)C9=CC(=CC=C9)OC)O)O'\n"
     ]
    },
    {
     "name": "stdout",
     "output_type": "stream",
     "text": [
      "Processed molecule 32200/50000 in molecule_fingerprints_part_2.parquet\n"
     ]
    },
    {
     "name": "stderr",
     "output_type": "stream",
     "text": [
      "[08:18:43] SMILES Parse Error: unclosed ring for input: 'C1=CC=C(C=C1)C2C(N=C(C(=N2)O)O)C3=C(C4=CC=CC=C4C(=N2)O)O'\n"
     ]
    },
    {
     "name": "stdout",
     "output_type": "stream",
     "text": [
      "Processed molecule 32300/50000 in molecule_fingerprints_part_2.parquet\n"
     ]
    },
    {
     "name": "stderr",
     "output_type": "stream",
     "text": [
      "[08:18:58] SMILES Parse Error: unclosed ring for input: 'CC1=CC(=O)N(C2=C3C=C(C4=C(C1=C12)OCN43)COC(=O)C)C'\n",
      "[08:19:05] SMILES Parse Error: unclosed ring for input: 'CC(=CCC/C(=C/CNC(=O)CN1C2C3CC4C2C5C(C3C41)C6(C7C8CC9C7C6C5C9C8C7O)O)/C)C'\n"
     ]
    },
    {
     "name": "stdout",
     "output_type": "stream",
     "text": [
      "Processed molecule 32400/50000 in molecule_fingerprints_part_2.parquet\n",
      "Processed molecule 32500/50000 in molecule_fingerprints_part_2.parquet\n",
      "Processed molecule 32600/50000 in molecule_fingerprints_part_2.parquet\n",
      "Processed molecule 32700/50000 in molecule_fingerprints_part_2.parquet\n"
     ]
    },
    {
     "name": "stderr",
     "output_type": "stream",
     "text": [
      "[08:21:14] Can't kekulize mol.  Unkekulized atoms: 13 14 15 16 17 18 19\n"
     ]
    },
    {
     "name": "stdout",
     "output_type": "stream",
     "text": [
      "Processed molecule 32800/50000 in molecule_fingerprints_part_2.parquet\n"
     ]
    },
    {
     "name": "stderr",
     "output_type": "stream",
     "text": [
      "[08:22:00] SMILES Parse Error: unclosed ring for input: 'CC1(C)O[C@@H]2C=C[C@@H](NCc3c4c(=O)nc([nH]c4=O)N)[C@@H]2O1'\n"
     ]
    },
    {
     "name": "stdout",
     "output_type": "stream",
     "text": [
      "Processed molecule 32900/50000 in molecule_fingerprints_part_2.parquet\n",
      "Processed molecule 33000/50000 in molecule_fingerprints_part_2.parquet\n",
      "Processed molecule 33100/50000 in molecule_fingerprints_part_2.parquet\n",
      "Processed molecule 33200/50000 in molecule_fingerprints_part_2.parquet\n"
     ]
    },
    {
     "name": "stderr",
     "output_type": "stream",
     "text": [
      "[08:24:03] SMILES Parse Error: unclosed ring for input: 'CN1C(=C(C(=C1O)[C@@]2(CCCCN2C)C(=O)OC)[C@@H]3C4=CC=C(C=C4)C5=CC=C(C=C5)OC)O'\n"
     ]
    },
    {
     "name": "stdout",
     "output_type": "stream",
     "text": [
      "Processed molecule 33300/50000 in molecule_fingerprints_part_2.parquet\n"
     ]
    },
    {
     "name": "stderr",
     "output_type": "stream",
     "text": [
      "[08:24:45] SMILES Parse Error: unclosed ring for input: 'C[C@H]1CC=C[C@H]2[C@@]1(CC3=C4C[C@@](CC[C@@]45C=C6[C@@H]([C@@]7(CC[C@](C=C6[C@H]5C2=O)(CO)O)C)C(=O)[C@@H]5C3=O)(CO)O)C'\n"
     ]
    },
    {
     "name": "stdout",
     "output_type": "stream",
     "text": [
      "Processed molecule 33400/50000 in molecule_fingerprints_part_2.parquet\n"
     ]
    },
    {
     "name": "stderr",
     "output_type": "stream",
     "text": [
      "[08:25:11] Can't kekulize mol.  Unkekulized atoms: 3 4 13 14 15\n"
     ]
    },
    {
     "name": "stdout",
     "output_type": "stream",
     "text": [
      "Processed molecule 33500/50000 in molecule_fingerprints_part_2.parquet\n",
      "Processed molecule 33600/50000 in molecule_fingerprints_part_2.parquet\n",
      "Processed molecule 33700/50000 in molecule_fingerprints_part_2.parquet\n",
      "Processed molecule 33800/50000 in molecule_fingerprints_part_2.parquet\n",
      "Processed molecule 33900/50000 in molecule_fingerprints_part_2.parquet\n"
     ]
    },
    {
     "name": "stderr",
     "output_type": "stream",
     "text": [
      "[08:27:57] SMILES Parse Error: unclosed ring for input: 'CC1CC2=C(C(=C(C(=C2C(=O)O1)CC3=C4C=C5C(C(C(=O)C5=CO4)(C)O)O)O)C)O'\n"
     ]
    },
    {
     "name": "stdout",
     "output_type": "stream",
     "text": [
      "Processed molecule 34000/50000 in molecule_fingerprints_part_2.parquet\n",
      "Processed molecule 34100/50000 in molecule_fingerprints_part_2.parquet\n",
      "Processed molecule 34200/50000 in molecule_fingerprints_part_2.parquet\n",
      "Processed molecule 34300/50000 in molecule_fingerprints_part_2.parquet\n"
     ]
    },
    {
     "name": "stderr",
     "output_type": "stream",
     "text": [
      "[08:30:02] SMILES Parse Error: unclosed ring for input: 'C1[C@@H]2C=CC(=O)[C@H]1[C@@H]3[C@@]24C=CC5=CC=CC=C45'\n",
      "[08:30:16] SMILES Parse Error: unclosed ring for input: 'C[C@@H]1CC[C@H]2[C@@H]1[C@@H]3C4=C([C@H]5[C@H](CC[C@H]5C(O3)(C)C)C)C(=O)C(=O)C4=O'\n"
     ]
    },
    {
     "name": "stdout",
     "output_type": "stream",
     "text": [
      "Processed molecule 34400/50000 in molecule_fingerprints_part_2.parquet\n",
      "Processed molecule 34500/50000 in molecule_fingerprints_part_2.parquet\n",
      "Processed molecule 34600/50000 in molecule_fingerprints_part_2.parquet\n",
      "Processed molecule 34700/50000 in molecule_fingerprints_part_2.parquet\n",
      "Processed molecule 34800/50000 in molecule_fingerprints_part_2.parquet\n"
     ]
    },
    {
     "name": "stderr",
     "output_type": "stream",
     "text": [
      "[08:32:42] SMILES Parse Error: unclosed ring for input: 'C1CN2C3=C1C=CC=C3C4=C5C2=C6C=CC=CC6=NC7=CC=CC=C74'\n",
      "[08:32:55] Can't kekulize mol.  Unkekulized atoms: 0 2 3 5 6 7 8 16 17\n"
     ]
    },
    {
     "name": "stdout",
     "output_type": "stream",
     "text": [
      "Processed molecule 34900/50000 in molecule_fingerprints_part_2.parquet\n",
      "Processed molecule 35000/50000 in molecule_fingerprints_part_2.parquet\n",
      "Processed molecule 35100/50000 in molecule_fingerprints_part_2.parquet\n",
      "Processed molecule 35200/50000 in molecule_fingerprints_part_2.parquet\n",
      "Processed molecule 35300/50000 in molecule_fingerprints_part_2.parquet\n",
      "Processed molecule 35400/50000 in molecule_fingerprints_part_2.parquet\n",
      "Processed molecule 35500/50000 in molecule_fingerprints_part_2.parquet\n",
      "Processed molecule 35600/50000 in molecule_fingerprints_part_2.parquet\n",
      "Processed molecule 35700/50000 in molecule_fingerprints_part_2.parquet\n",
      "Processed molecule 35800/50000 in molecule_fingerprints_part_2.parquet\n"
     ]
    },
    {
     "name": "stderr",
     "output_type": "stream",
     "text": [
      "[08:38:47] SMILES Parse Error: unclosed ring for input: 'C1CC1CN2CC[C@]34[C@@H]5C(=O)NC6=CC=CC=C6NC(=O)[C@@H]3[C@]2(CCN5CC(F)(F)F)O'\n"
     ]
    },
    {
     "name": "stdout",
     "output_type": "stream",
     "text": [
      "Processed molecule 35900/50000 in molecule_fingerprints_part_2.parquet\n"
     ]
    },
    {
     "name": "stderr",
     "output_type": "stream",
     "text": [
      "[08:38:53] SMILES Parse Error: unclosed ring for input: 'C1=CC=C2C3C4=CC=CC=C4C(C2=C1)C5=C3N(C(=C35)O)CCCC(=O)O'\n",
      "[08:39:06] SMILES Parse Error: unclosed ring for input: 'Oc1c(c(=O)n(c2c1cccc2)c1ccccc1)c1c(n(c2ccccc2)c2c1cccc2)cccc1'\n"
     ]
    },
    {
     "name": "stdout",
     "output_type": "stream",
     "text": [
      "Processed molecule 36000/50000 in molecule_fingerprints_part_2.parquet\n"
     ]
    },
    {
     "name": "stderr",
     "output_type": "stream",
     "text": [
      "[08:39:28] SMILES Parse Error: ring closure 1 duplicates bond between atom 43 and atom 44 for input: 'C1CCC(CC1)(C2(CCCCC2)C34CC5CC6CC(C5)CC4C6)C7(C8CC9CC1CC(C8)CC7C9)C1(C2CC3CC(C2)CC1C1)N'\n",
      "[08:39:36] Explicit valence for atom # 29 C, 5, is greater than permitted\n"
     ]
    },
    {
     "name": "stdout",
     "output_type": "stream",
     "text": [
      "Processed molecule 36100/50000 in molecule_fingerprints_part_2.parquet\n",
      "Processed molecule 36200/50000 in molecule_fingerprints_part_2.parquet\n"
     ]
    },
    {
     "name": "stderr",
     "output_type": "stream",
     "text": [
      "[08:40:45] Can't kekulize mol.  Unkekulized atoms: 7 9 10 11 12 13 14\n"
     ]
    },
    {
     "name": "stdout",
     "output_type": "stream",
     "text": [
      "Processed molecule 36300/50000 in molecule_fingerprints_part_2.parquet\n",
      "Processed molecule 36400/50000 in molecule_fingerprints_part_2.parquet\n",
      "Processed molecule 36500/50000 in molecule_fingerprints_part_2.parquet\n"
     ]
    },
    {
     "name": "stderr",
     "output_type": "stream",
     "text": [
      "[08:42:40] Can't kekulize mol.  Unkekulized atoms: 8 9 10 11 12 17 18 19 35\n",
      "[08:42:40] Explicit valence for atom # 23 N, 4, is greater than permitted\n"
     ]
    },
    {
     "name": "stdout",
     "output_type": "stream",
     "text": [
      "Processed molecule 36600/50000 in molecule_fingerprints_part_2.parquet\n",
      "Processed molecule 36700/50000 in molecule_fingerprints_part_2.parquet\n",
      "Processed molecule 36800/50000 in molecule_fingerprints_part_2.parquet\n"
     ]
    },
    {
     "name": "stderr",
     "output_type": "stream",
     "text": [
      "[08:44:13] Can't kekulize mol.  Unkekulized atoms: 8 9 10 11 12\n",
      "[08:44:15] SMILES Parse Error: unclosed ring for input: 'C1CCC2(CC1)CC3=C(C=CC(=C3)C#N)C4C5=C(CC(O4)(O5)C6=CSC=C6)C=C(C=C5)C#N'\n"
     ]
    },
    {
     "name": "stdout",
     "output_type": "stream",
     "text": [
      "Processed molecule 36900/50000 in molecule_fingerprints_part_2.parquet\n"
     ]
    },
    {
     "name": "stderr",
     "output_type": "stream",
     "text": [
      "[08:44:28] SMILES Parse Error: extra close parentheses while parsing: COc1ccc(F)cc1C)OCc1cc2C(=O)NCCc2[nH]1\n",
      "[08:44:28] SMILES Parse Error: Failed parsing SMILES 'COc1ccc(F)cc1C)OCc1cc2C(=O)NCCc2[nH]1' for input: 'COc1ccc(F)cc1C)OCc1cc2C(=O)NCCc2[nH]1'\n"
     ]
    },
    {
     "name": "stdout",
     "output_type": "stream",
     "text": [
      "Processed molecule 37000/50000 in molecule_fingerprints_part_2.parquet\n"
     ]
    },
    {
     "name": "stderr",
     "output_type": "stream",
     "text": [
      "[08:45:05] SMILES Parse Error: unclosed ring for input: 'C[C@H]1C(=O)N2[C@H](N1C(=O)[C@H]3C[C@@]4(C(C5=CC=CC=C5N6C4N(C7=NC8=CC=CC=C8C6=O)C9=CC=CC=C97)(C)C)O)C(C1=CC=CC=C12)(C)C'\n",
      "[08:45:26] SMILES Parse Error: unclosed ring for input: 'CC(=O)O[C@@H]1C[C@@H]2[C@@](CC(=O)O2)([C@@H]3[C@@]1(C(=O)C4=C([C@H](C([C@@H]4OC(=O)C)(C)C)CC(=O)OC)C(=O)[C@@]5([C@@H](O5)C6=COC=C6)C)C)C'\n",
      "[08:45:29] SMILES Parse Error: unclosed ring for input: 'Clc1ccccc1n1ncc(C(=O)Nc2cnn3cccnc23)c1ncccn1'\n"
     ]
    },
    {
     "name": "stdout",
     "output_type": "stream",
     "text": [
      "Processed molecule 37100/50000 in molecule_fingerprints_part_2.parquet\n",
      "Processed molecule 37200/50000 in molecule_fingerprints_part_2.parquet\n",
      "Processed molecule 37300/50000 in molecule_fingerprints_part_2.parquet\n"
     ]
    },
    {
     "name": "stderr",
     "output_type": "stream",
     "text": [
      "[08:47:11] Can't kekulize mol.  Unkekulized atoms: 7 8 11 12 17 19 20\n"
     ]
    },
    {
     "name": "stdout",
     "output_type": "stream",
     "text": [
      "Processed molecule 37400/50000 in molecule_fingerprints_part_2.parquet\n"
     ]
    },
    {
     "name": "stderr",
     "output_type": "stream",
     "text": [
      "[08:47:17] SMILES Parse Error: unclosed ring for input: 'C1C2(C1)c1[nH]c3c(n1C[C@H](N=c1n(c(=O)n(c3=N1)CCC)CCC)CC)nc([nH]3)C12CCC(CC1)(CC2)O'\n"
     ]
    },
    {
     "name": "stdout",
     "output_type": "stream",
     "text": [
      "Processed molecule 37500/50000 in molecule_fingerprints_part_2.parquet\n"
     ]
    },
    {
     "name": "stderr",
     "output_type": "stream",
     "text": [
      "[08:48:16] SMILES Parse Error: unclosed ring for input: 'COC1=CC=CC2=C1N([C@@]34[C@@]25CCN6[C@H]5[C@@](CC3)([C@H]7[C@@H](C6)O7)C(=O)OC)C(=O)OC'\n"
     ]
    },
    {
     "name": "stdout",
     "output_type": "stream",
     "text": [
      "Processed molecule 37600/50000 in molecule_fingerprints_part_2.parquet\n"
     ]
    },
    {
     "name": "stderr",
     "output_type": "stream",
     "text": [
      "[08:48:35] SMILES Parse Error: unclosed ring for input: 'C[C@]12CSC(=N)N[C@@]3(CCCO3)c3cc(ccc3O1)c1cncc(Cl)c1'\n"
     ]
    },
    {
     "name": "stdout",
     "output_type": "stream",
     "text": [
      "Processed molecule 37700/50000 in molecule_fingerprints_part_2.parquet\n"
     ]
    },
    {
     "name": "stderr",
     "output_type": "stream",
     "text": [
      "[08:49:04] SMILES Parse Error: unclosed ring for input: 'CC(C)CC(=O)NC1CCC(CC1)N2C3=C(C=CN=C3N=CC4=NNN=C42)C5=C6C=NC7=NNN=C7N6C8CCC(CC8)NC(=O)CC(C)C'\n"
     ]
    },
    {
     "name": "stdout",
     "output_type": "stream",
     "text": [
      "Processed molecule 37800/50000 in molecule_fingerprints_part_2.parquet\n"
     ]
    },
    {
     "name": "stderr",
     "output_type": "stream",
     "text": [
      "[08:49:52] SMILES Parse Error: unclosed ring for input: 'C1C[C@@](C2CC(=O)C3=C(C=CC(=C23)O)O)(C4=C(C(=CC=C4)O)C(=O)CCC2C1C5=C(C=CC=C5O)O)O'\n"
     ]
    },
    {
     "name": "stdout",
     "output_type": "stream",
     "text": [
      "Processed molecule 37900/50000 in molecule_fingerprints_part_2.parquet\n",
      "Processed molecule 38000/50000 in molecule_fingerprints_part_2.parquet\n"
     ]
    },
    {
     "name": "stderr",
     "output_type": "stream",
     "text": [
      "[08:51:02] SMILES Parse Error: unclosed ring for input: 'C[C@@]12CC[C@@]3([C@@H](O3)CCC(=C)[C@H]([C@H]1CC[C@@]4([C@H](O4)CC2)C)C(=O)O3)CO'\n"
     ]
    },
    {
     "name": "stdout",
     "output_type": "stream",
     "text": [
      "Processed molecule 38100/50000 in molecule_fingerprints_part_2.parquet\n",
      "Processed molecule 38200/50000 in molecule_fingerprints_part_2.parquet\n"
     ]
    },
    {
     "name": "stderr",
     "output_type": "stream",
     "text": [
      "[08:52:11] SMILES Parse Error: unclosed ring for input: 'C[C@@]1(C[C@]23C[C@H]([C@]4([C@@H](CC[C@@H]5[C@H]4C[C@H]([C@]5(C)O)O)[C@]([C@@H]2C[C@H]1O)(C)O)O)O)O'\n"
     ]
    },
    {
     "name": "stdout",
     "output_type": "stream",
     "text": [
      "Processed molecule 38300/50000 in molecule_fingerprints_part_2.parquet\n",
      "Processed molecule 38400/50000 in molecule_fingerprints_part_2.parquet\n"
     ]
    },
    {
     "name": "stderr",
     "output_type": "stream",
     "text": [
      "[08:52:53] SMILES Parse Error: unclosed ring for input: 'c1(n(c(c2C3CC(C(=O)Nc4cnc(C(=O)C)cc4)CCC12)O)C1CCC(C(=O)Nc2cnc(C(=O)C)cc2)CC1)O'\n"
     ]
    },
    {
     "name": "stdout",
     "output_type": "stream",
     "text": [
      "Processed molecule 38500/50000 in molecule_fingerprints_part_2.parquet\n",
      "Processed molecule 38600/50000 in molecule_fingerprints_part_2.parquet\n",
      "Processed molecule 38700/50000 in molecule_fingerprints_part_2.parquet\n",
      "Processed molecule 38800/50000 in molecule_fingerprints_part_2.parquet\n",
      "Processed molecule 38900/50000 in molecule_fingerprints_part_2.parquet\n"
     ]
    },
    {
     "name": "stderr",
     "output_type": "stream",
     "text": [
      "[08:56:12] Can't kekulize mol.  Unkekulized atoms: 22 23 24 28 31 32 33\n"
     ]
    },
    {
     "name": "stdout",
     "output_type": "stream",
     "text": [
      "Processed molecule 39000/50000 in molecule_fingerprints_part_2.parquet\n",
      "Processed molecule 39100/50000 in molecule_fingerprints_part_2.parquet\n"
     ]
    },
    {
     "name": "stderr",
     "output_type": "stream",
     "text": [
      "[08:57:12] SMILES Parse Error: unclosed ring for input: 'CC(C)(C)C1CCC2C(C1)CCC(C3=C2C4=C(N3C5=CC=CC=C5)C6=C(NC7=C6C=C(C=C7)OC)O)C(C)(C)C'\n"
     ]
    },
    {
     "name": "stdout",
     "output_type": "stream",
     "text": [
      "Processed molecule 39200/50000 in molecule_fingerprints_part_2.parquet\n"
     ]
    },
    {
     "name": "stderr",
     "output_type": "stream",
     "text": [
      "[08:57:27] SMILES Parse Error: unclosed ring for input: 'C1(=C/C(=N\\CCc2c[nH]c3c2cccc3)/C(=O)c2c1n(cc2CCN/C(=N\\CCc1c[nH]c2c1cccc2)/C2=O)S(=O)(=O)c1ccc(cc1)C)C'\n"
     ]
    },
    {
     "name": "stdout",
     "output_type": "stream",
     "text": [
      "Processed molecule 39300/50000 in molecule_fingerprints_part_2.parquet\n",
      "Processed molecule 39400/50000 in molecule_fingerprints_part_2.parquet\n",
      "Processed molecule 39500/50000 in molecule_fingerprints_part_2.parquet\n",
      "Processed molecule 39600/50000 in molecule_fingerprints_part_2.parquet\n"
     ]
    },
    {
     "name": "stderr",
     "output_type": "stream",
     "text": [
      "[08:59:59] SMILES Parse Error: unclosed ring for input: 'Fc1c(Cl)ccc(C(=O)N2[C@@H]3CC[C@H]2c2nnc(c3Cl)c2cscn2)c1Cl'\n",
      "[09:00:09] SMILES Parse Error: unclosed ring for input: 'C[C@@H]1[C@H]2C(=C3SCCCS3)[C@H]([C@@H](OC(=O)N2CCCC4=C(SCCCS4)SCCCS3)C)N5CCCC5=O'\n"
     ]
    },
    {
     "name": "stdout",
     "output_type": "stream",
     "text": [
      "Processed molecule 39700/50000 in molecule_fingerprints_part_2.parquet\n",
      "Processed molecule 39800/50000 in molecule_fingerprints_part_2.parquet\n",
      "Processed molecule 39900/50000 in molecule_fingerprints_part_2.parquet\n"
     ]
    },
    {
     "name": "stderr",
     "output_type": "stream",
     "text": [
      "[09:01:29] SMILES Parse Error: unclosed ring for input: 'CC(C)[C@@]1(CC[C@]2(C1=C3C(CC4[C@]5(CC[C@@H](C(C5CC[C@]4([C@@]3(CC2)C)C)(C)C)O)C)N6C(=O)N(C(=O)N6C1O)C)C)C=O'\n",
      "[09:01:29] SMILES Parse Error: unclosed ring for input: 'C1=CC=C(C=C1)C2=CC(=NC3=C2C4=NC(=C(N4N=C23)C(F)(F)F)C5=CC=CC=C5)C6=CC=CC=C6'\n"
     ]
    },
    {
     "name": "stdout",
     "output_type": "stream",
     "text": [
      "Processed molecule 40000/50000 in molecule_fingerprints_part_2.parquet\n"
     ]
    },
    {
     "name": "stderr",
     "output_type": "stream",
     "text": [
      "[09:02:09] Can't kekulize mol.  Unkekulized atoms: 24 25 26 27 28\n",
      "[09:02:27] SMILES Parse Error: unclosed ring for input: 'C[C@]12CCC[C@@]([C@@H]1CC[C@@]34[C@@H]2CC[C@H](C3)[C@]56[C@H]4O5)(C)C(=O)O'\n"
     ]
    },
    {
     "name": "stdout",
     "output_type": "stream",
     "text": [
      "Processed molecule 40100/50000 in molecule_fingerprints_part_2.parquet\n",
      "Processed molecule 40200/50000 in molecule_fingerprints_part_2.parquet\n"
     ]
    },
    {
     "name": "stderr",
     "output_type": "stream",
     "text": [
      "[09:03:27] SMILES Parse Error: unclosed ring for input: 'C[C@H]1C(=O)N2[C@H](N1C(=O)[C@H]3C[C@@]4([C@H](N3C5=CC=CC=C54)N6C=NC7=CC=CC=C7C6=O)O)[C@@]8(C[C@H](C2=O)N9C=NC1=CC=CC=C1C9=O)O'\n",
      "[09:03:34] SMILES Parse Error: unclosed ring for input: 'C[C@]12[C@H]3C[C@H]([C@H]1C[C@H](C(=O)O2)[C@@H](C[C@@H]3Br)Br)C4(C)C'\n"
     ]
    },
    {
     "name": "stdout",
     "output_type": "stream",
     "text": [
      "Processed molecule 40300/50000 in molecule_fingerprints_part_2.parquet\n"
     ]
    },
    {
     "name": "stderr",
     "output_type": "stream",
     "text": [
      "[09:04:03] SMILES Parse Error: unclosed ring for input: 'C=C1[C@@H]2CC[C@]3(CO3)[C@H]4[C@@H]2OC(=O)C4=C'\n"
     ]
    },
    {
     "name": "stdout",
     "output_type": "stream",
     "text": [
      "Processed molecule 40400/50000 in molecule_fingerprints_part_2.parquet\n",
      "Processed molecule 40500/50000 in molecule_fingerprints_part_2.parquet\n"
     ]
    },
    {
     "name": "stderr",
     "output_type": "stream",
     "text": [
      "[09:05:08] SMILES Parse Error: unclosed ring for input: 'C[C@]12CC[C@H]3[C@H]([C@@H]1[C@@H]4C[C@]5(C=CCC(=O)[C@@]5([C@H]4O)C)O)C[C@@H]6[C@]7([C@@]3(C(=O)CC=C7)C)O6'\n"
     ]
    },
    {
     "name": "stdout",
     "output_type": "stream",
     "text": [
      "Processed molecule 40600/50000 in molecule_fingerprints_part_2.parquet\n"
     ]
    },
    {
     "name": "stderr",
     "output_type": "stream",
     "text": [
      "[09:05:30] SMILES Parse Error: unclosed ring for input: 'C1=CC(=C(N=C1)SC2=NC=NC(=C2N=CN=C3SC4=C(C=CC=N4)C(F)(F)F)NC5=CC=C(C=C5)C(F)(F)F)C(F)(F)F'\n",
      "[09:05:53] Can't kekulize mol.  Unkekulized atoms: 0 1 2 3 4 5 6 7 8\n"
     ]
    },
    {
     "name": "stdout",
     "output_type": "stream",
     "text": [
      "Processed molecule 40700/50000 in molecule_fingerprints_part_2.parquet\n",
      "Processed molecule 40800/50000 in molecule_fingerprints_part_2.parquet\n"
     ]
    },
    {
     "name": "stderr",
     "output_type": "stream",
     "text": [
      "[09:06:33] SMILES Parse Error: unclosed ring for input: 'C[C@]12CC[C@@H](C([C@@H]1CC[C@@]3([C@@H]2CC=C4[C@]3(CC[C@@]5([C@H]4CC([C@H]6C5CC([C@H](C6)O)(C)C)(C)C)C(=O)O4)C)C)(C)C)O'\n"
     ]
    },
    {
     "name": "stdout",
     "output_type": "stream",
     "text": [
      "Processed molecule 40900/50000 in molecule_fingerprints_part_2.parquet\n",
      "Processed molecule 41000/50000 in molecule_fingerprints_part_2.parquet\n",
      "Error running MolForge: Command '['/home/student/conda/envs/molforge/bin/python', '/home/student/MolForge/predict.py', '--fp=ECFP4', '--model_type=smiles', '--input=314 323 378 412 571 650 679 729 879 926 933 935 1019 1060 1071 1142 1292 1380 1446 1452 1664 1699 1783 1866 1873 1976 2026']' returned non-zero exit status 1.\n",
      "Error output: Traceback (most recent call last):\n",
      "  File \"/home/student/MolForge/predict.py\", line 6, in <module>\n",
      "    main()\n",
      "  File \"/home/student/MolForge/MolForge/predict.py\", line 132, in main\n",
      "    inference(model, args.input, args.decode, args)\n",
      "  File \"/home/student/MolForge/MolForge/predict.py\", line 61, in inference\n",
      "    result, attn = greedy_search(model, e_output, e_mask, trg_sp, args.device, True)\n",
      "                   ^^^^^^^^^^^^^^^^^^^^^^^^^^^^^^^^^^^^^^^^^^^^^^^^^^^^^^^^^^^^^^^^^\n",
      "  File \"/home/student/MolForge/MolForge/decoder.py\", line 33, in greedy_search\n",
      "    last_word_id = output[0][i].item()\n",
      "                   ^^^^^^^^^^^^^^^^^^^\n",
      "RuntimeError: CUDA error: unspecified launch failure\n",
      "CUDA kernel errors might be asynchronously reported at some other API call, so the stacktrace below might be incorrect.\n",
      "For debugging consider passing CUDA_LAUNCH_BLOCKING=1.\n",
      "Compile with `TORCH_USE_CUDA_DSA` to enable device-side assertions.\n",
      "\n",
      "\n",
      "Processed molecule 41100/50000 in molecule_fingerprints_part_2.parquet\n",
      "Processed molecule 41200/50000 in molecule_fingerprints_part_2.parquet\n",
      "Processed molecule 41300/50000 in molecule_fingerprints_part_2.parquet\n",
      "Processed molecule 41400/50000 in molecule_fingerprints_part_2.parquet\n"
     ]
    },
    {
     "name": "stderr",
     "output_type": "stream",
     "text": [
      "[09:10:03] SMILES Parse Error: unclosed ring for input: 'C[C@@]12CCC[C@@]34[C@@H]1[C@@H]5[C@@H](C(C3)[C@]67[C@H]4[C@H]([C@H](CC6C5)C(=C)[C@H]7O)OC(=O)C8=CC=C(C=C8)OC)N(C2)C4'\n"
     ]
    },
    {
     "name": "stdout",
     "output_type": "stream",
     "text": [
      "Processed molecule 41500/50000 in molecule_fingerprints_part_2.parquet\n",
      "Processed molecule 41600/50000 in molecule_fingerprints_part_2.parquet\n"
     ]
    },
    {
     "name": "stderr",
     "output_type": "stream",
     "text": [
      "[09:11:32] SMILES Parse Error: unclosed ring for input: 'C1C=CCC2=C1C(=C(N(C2=C3CC=CCC3=C(N(C(=C3CC=CCC4=C(N(C(=C4)O)CC5=CC=C(C=C5)F)O)CC6=CC=C(C=C6)F)CC7=CC=C(C=C7)F)O)O)O)O'\n"
     ]
    },
    {
     "name": "stdout",
     "output_type": "stream",
     "text": [
      "Processed molecule 41700/50000 in molecule_fingerprints_part_2.parquet\n"
     ]
    },
    {
     "name": "stderr",
     "output_type": "stream",
     "text": [
      "[09:11:54] SMILES Parse Error: unclosed ring for input: 'C[C@H]1[C@@H]2[C@H](CC1=O)[C@]3(CC[C@@]4([C@H](O3)[C@@H](C(=O)O[C@H]4[C@H]5[C@H](C(=O)C[C@@H]5[C@@]6(CC[C@]7([C@@H]([C@H]5OC(=O)[C@@H]7C)OO6)C)C)C)C)C)OO2'\n"
     ]
    },
    {
     "name": "stdout",
     "output_type": "stream",
     "text": [
      "Processed molecule 41800/50000 in molecule_fingerprints_part_2.parquet\n"
     ]
    },
    {
     "name": "stderr",
     "output_type": "stream",
     "text": [
      "[09:12:31] SMILES Parse Error: unclosed ring for input: 'C1CC2=C3C4=C(C5=CC=CC=C5N3C6=C2NCC6)NCC4'\n"
     ]
    },
    {
     "name": "stdout",
     "output_type": "stream",
     "text": [
      "Processed molecule 41900/50000 in molecule_fingerprints_part_2.parquet\n",
      "Processed molecule 42000/50000 in molecule_fingerprints_part_2.parquet\n"
     ]
    },
    {
     "name": "stderr",
     "output_type": "stream",
     "text": [
      "[09:13:43] SMILES Parse Error: ring closure 4 duplicates bond between atom 4 and atom 31 for input: 'CC1CC23C4(C1(C(CC2C3(C)C)OC(=O)C(C(C5=CSC=C5)NC(=O)NC(C)C)O)C)O4'\n"
     ]
    },
    {
     "name": "stdout",
     "output_type": "stream",
     "text": [
      "Processed molecule 42100/50000 in molecule_fingerprints_part_2.parquet\n"
     ]
    },
    {
     "name": "stderr",
     "output_type": "stream",
     "text": [
      "[09:14:23] SMILES Parse Error: unclosed ring for input: 'CC(C)C1=C[C@H]2C3=C([C@@H]([C@]2([C@H](C1)CO2)C)OC3)C4=CC(=C(C(=C4OC)OC)OC)OC'\n"
     ]
    },
    {
     "name": "stdout",
     "output_type": "stream",
     "text": [
      "Processed molecule 42200/50000 in molecule_fingerprints_part_2.parquet\n",
      "Processed molecule 42300/50000 in molecule_fingerprints_part_2.parquet\n"
     ]
    },
    {
     "name": "stderr",
     "output_type": "stream",
     "text": [
      "[09:15:28] SMILES Parse Error: unclosed ring for input: 'O=S(=O)(n1c2ncccc2cc1c1cn(nn1)Cc1cc2c([nH]c(c3cc4ccccc4c2)c1)nccc2)c1ccccc1'\n"
     ]
    },
    {
     "name": "stdout",
     "output_type": "stream",
     "text": [
      "Processed molecule 42400/50000 in molecule_fingerprints_part_2.parquet\n"
     ]
    },
    {
     "name": "stderr",
     "output_type": "stream",
     "text": [
      "[09:16:09] SMILES Parse Error: unclosed ring for input: 'C1C2CN(CC3C2C4C3C41)C(=O)C56C7C5C8C7C9C5C6CN(C8)C1=CC=CC=N1'\n"
     ]
    },
    {
     "name": "stdout",
     "output_type": "stream",
     "text": [
      "Processed molecule 42500/50000 in molecule_fingerprints_part_2.parquet\n",
      "Processed molecule 42600/50000 in molecule_fingerprints_part_2.parquet\n",
      "Processed molecule 42700/50000 in molecule_fingerprints_part_2.parquet\n"
     ]
    },
    {
     "name": "stderr",
     "output_type": "stream",
     "text": [
      "[09:17:34] Can't kekulize mol.  Unkekulized atoms: 18 19 20 21 22\n",
      "[09:17:36] SMILES Parse Error: unclosed ring for input: 'O=c1n(n(c(c1N=N/C(=N/Nc1[nH]nc(c1nnc1C)C)/C(=O)C)C)C)c1ccccc1'\n",
      "[09:17:42] SMILES Parse Error: unclosed ring for input: 'C123C4(C(=O)/C(=C/c5c(C)cccc5)/CN1C1C2(C(=O)c2ccccc12)N1C([C@@H]4c2c(C1)cccc2)CCC1)O'\n"
     ]
    },
    {
     "name": "stdout",
     "output_type": "stream",
     "text": [
      "Processed molecule 42800/50000 in molecule_fingerprints_part_2.parquet\n"
     ]
    },
    {
     "name": "stderr",
     "output_type": "stream",
     "text": [
      "[09:18:32] SMILES Parse Error: unclosed ring for input: 'c1(ccc2c(c1)nc1n2c2ccc3c(c2)n[nH]c3=O)C#N'\n",
      "[09:18:34] SMILES Parse Error: unclosed ring for input: 'CCO[C@@H]1[C@@]23[C@@H]4CC[C@H]([C@H]5[C@]4([C@H](O1)O[C@](CC5)(OO3)C)ON2CCC6=C3C=CC(=C6)OC)C'\n",
      "[09:18:35] SMILES Parse Error: unclosed ring for input: 'C[C@@H]1CC[C@H]2[C@@](C(=O)O[C@H]3[C@@]24[C@H]1CC[C@](O3)(OO4)C)(C)N5CCC6=C(C5C7=C(O5)C=C(C=C7)OC)C=CC(=C6)OC'\n"
     ]
    },
    {
     "name": "stdout",
     "output_type": "stream",
     "text": [
      "Processed molecule 42900/50000 in molecule_fingerprints_part_2.parquet\n",
      "Processed molecule 43000/50000 in molecule_fingerprints_part_2.parquet\n"
     ]
    },
    {
     "name": "stderr",
     "output_type": "stream",
     "text": [
      "[09:19:18] SMILES Parse Error: unclosed ring for input: 'CC1=C(C=CC2=CC3=C(NN=C3)SC1=NC4=CC=CC=C4)Cl'\n"
     ]
    },
    {
     "name": "stdout",
     "output_type": "stream",
     "text": [
      "Processed molecule 43100/50000 in molecule_fingerprints_part_2.parquet\n",
      "Processed molecule 43200/50000 in molecule_fingerprints_part_2.parquet\n"
     ]
    },
    {
     "name": "stderr",
     "output_type": "stream",
     "text": [
      "[09:20:52] Can't kekulize mol.  Unkekulized atoms: 1 2 3 4 5\n"
     ]
    },
    {
     "name": "stdout",
     "output_type": "stream",
     "text": [
      "Processed molecule 43300/50000 in molecule_fingerprints_part_2.parquet\n",
      "Processed molecule 43400/50000 in molecule_fingerprints_part_2.parquet\n",
      "Processed molecule 43500/50000 in molecule_fingerprints_part_2.parquet\n"
     ]
    },
    {
     "name": "stderr",
     "output_type": "stream",
     "text": [
      "[09:22:38] Explicit valence for atom # 20 C, 5, is greater than permitted\n"
     ]
    },
    {
     "name": "stdout",
     "output_type": "stream",
     "text": [
      "Processed molecule 43600/50000 in molecule_fingerprints_part_2.parquet\n"
     ]
    },
    {
     "name": "stderr",
     "output_type": "stream",
     "text": [
      "[09:23:16] SMILES Parse Error: unclosed ring for input: 'CC(C)(C)N1C=C(C2=N1)C(=O)N3CCC4(CC3)CC(=O)C5=CNC6=C5C=C(C=C6)C(=O)N7CCC8(CC7)CC(=O)C9=NN(C=C9C8)C(C)(C)C'\n"
     ]
    },
    {
     "name": "stdout",
     "output_type": "stream",
     "text": [
      "Processed molecule 43700/50000 in molecule_fingerprints_part_2.parquet\n"
     ]
    },
    {
     "name": "stderr",
     "output_type": "stream",
     "text": [
      "[09:23:31] SMILES Parse Error: unclosed ring for input: 'C[C@@]12C[C@H]3[C@@H](C[C@H]4[C@@](O4)(C(=O)CC=CC5(C(O5)CCC1C2CO3)C)C)OC(=O)C6=C'\n"
     ]
    },
    {
     "name": "stdout",
     "output_type": "stream",
     "text": [
      "Processed molecule 43800/50000 in molecule_fingerprints_part_2.parquet\n",
      "Processed molecule 43900/50000 in molecule_fingerprints_part_2.parquet\n",
      "Processed molecule 44000/50000 in molecule_fingerprints_part_2.parquet\n"
     ]
    },
    {
     "name": "stderr",
     "output_type": "stream",
     "text": [
      "[09:25:24] Can't kekulize mol.  Unkekulized atoms: 0 1 2 3 4 5 6 8 9\n"
     ]
    },
    {
     "name": "stdout",
     "output_type": "stream",
     "text": [
      "Processed molecule 44100/50000 in molecule_fingerprints_part_2.parquet\n"
     ]
    },
    {
     "name": "stderr",
     "output_type": "stream",
     "text": [
      "[09:26:14] SMILES Parse Error: unclosed ring for input: 'CC1(C=CC(=O)[C@@]2([C@H]1C(=O)[C@@]34[C@@H]5CC[C@H](C[C@@]5([C@@H]3C2=O)CO4)C(=C)C4=O)O)C'\n"
     ]
    },
    {
     "name": "stdout",
     "output_type": "stream",
     "text": [
      "Processed molecule 44200/50000 in molecule_fingerprints_part_2.parquet\n",
      "Processed molecule 44300/50000 in molecule_fingerprints_part_2.parquet\n"
     ]
    },
    {
     "name": "stderr",
     "output_type": "stream",
     "text": [
      "[09:27:21] SMILES Parse Error: unclosed ring for input: 'CC(=O)O[C@H]1CCC([C@H]2[C@]1(C3=C([C@@H](C[C@@H]4[C@H](C3C[C@@H]2OC(=O)C)C(=C)C4=O)O)C(=O)C5=C)C)(C)C'\n",
      "[09:27:27] Can't kekulize mol.  Unkekulized atoms: 5 7 8 9 10 11 12\n"
     ]
    },
    {
     "name": "stdout",
     "output_type": "stream",
     "text": [
      "Processed molecule 44400/50000 in molecule_fingerprints_part_2.parquet\n",
      "Processed molecule 44500/50000 in molecule_fingerprints_part_2.parquet\n",
      "Processed molecule 44600/50000 in molecule_fingerprints_part_2.parquet\n",
      "Processed molecule 44700/50000 in molecule_fingerprints_part_2.parquet\n",
      "Processed molecule 44800/50000 in molecule_fingerprints_part_2.parquet\n"
     ]
    },
    {
     "name": "stderr",
     "output_type": "stream",
     "text": [
      "[09:29:51] SMILES Parse Error: unclosed ring for input: 'C1CC1C2=CC3=C(C(=NN3C(=C2)C(F)(F)F)C(=O)N4CCN(C(=O)C4)C5CC6CC5CC6C5)Cl'\n"
     ]
    },
    {
     "name": "stdout",
     "output_type": "stream",
     "text": [
      "Processed molecule 44900/50000 in molecule_fingerprints_part_2.parquet\n"
     ]
    },
    {
     "name": "stderr",
     "output_type": "stream",
     "text": [
      "[09:30:45] SMILES Parse Error: unclosed ring for input: 'C[C@H]1CC2=C([C@H](C1=O)O)C3[C@H]4[C@](O4)([C@H]([C@@H]5[C@](O5)([C@H]([C@@H]6[C@@]2(O6)C)OC(=O)C7=CC=CC=C7)C(=C)C)OC(=O)C8=CC=CC=C8)C9=CC=CC=C9'\n"
     ]
    },
    {
     "name": "stdout",
     "output_type": "stream",
     "text": [
      "Processed molecule 45000/50000 in molecule_fingerprints_part_2.parquet\n",
      "Processed molecule 45100/50000 in molecule_fingerprints_part_2.parquet\n"
     ]
    },
    {
     "name": "stderr",
     "output_type": "stream",
     "text": [
      "[09:31:40] Can't kekulize mol.  Unkekulized atoms: 0 1 2 3 4 5 9\n"
     ]
    },
    {
     "name": "stdout",
     "output_type": "stream",
     "text": [
      "Processed molecule 45200/50000 in molecule_fingerprints_part_2.parquet\n"
     ]
    },
    {
     "name": "stderr",
     "output_type": "stream",
     "text": [
      "[09:32:27] SMILES Parse Error: unclosed ring for input: 'CSC1=NN2C3=C1C(=O)N(C=N3)C4=CC=C(C=C4)F'\n"
     ]
    },
    {
     "name": "stdout",
     "output_type": "stream",
     "text": [
      "Processed molecule 45300/50000 in molecule_fingerprints_part_2.parquet\n",
      "Processed molecule 45400/50000 in molecule_fingerprints_part_2.parquet\n",
      "Processed molecule 45500/50000 in molecule_fingerprints_part_2.parquet\n"
     ]
    },
    {
     "name": "stderr",
     "output_type": "stream",
     "text": [
      "[09:33:56] SMILES Parse Error: unclosed ring for input: 'CC1([C@@H]2C[C@]3([C@@H]([C@H]4[C@H]1[C@H]2C45C(=O)C3)O)O)C'\n",
      "[09:33:57] SMILES Parse Error: unclosed ring for input: 'C1CC2=C(C(=O)C1)C(=CC=C2)NC(=O)C3CCC(CC3)N4C(=C5C(=O)CCCC5=O)O'\n",
      "[09:34:25] Can't kekulize mol.  Unkekulized atoms: 0 1 2 3 4 5 6 7 8 18 19\n"
     ]
    },
    {
     "name": "stdout",
     "output_type": "stream",
     "text": [
      "Processed molecule 45600/50000 in molecule_fingerprints_part_2.parquet\n",
      "Processed molecule 45700/50000 in molecule_fingerprints_part_2.parquet\n",
      "Processed molecule 45800/50000 in molecule_fingerprints_part_2.parquet\n",
      "Processed molecule 45900/50000 in molecule_fingerprints_part_2.parquet\n",
      "Processed molecule 46000/50000 in molecule_fingerprints_part_2.parquet\n",
      "Processed molecule 46100/50000 in molecule_fingerprints_part_2.parquet\n"
     ]
    },
    {
     "name": "stderr",
     "output_type": "stream",
     "text": [
      "[09:37:31] SMILES Parse Error: extra open parentheses for input: 'C1C(C2C3=C(C1O2)OC(=C3C4CC(C(O4)C5=C(OC(=C5C6CC(C(O6)C7=C(OC(=C7C8C(O8)C9=C(O9)O)O)COC(=O)CCCC1=CC=CC=C1)O)O)O)CO)COC(=O'\n"
     ]
    },
    {
     "name": "stdout",
     "output_type": "stream",
     "text": [
      "Processed molecule 46200/50000 in molecule_fingerprints_part_2.parquet\n",
      "Processed molecule 46300/50000 in molecule_fingerprints_part_2.parquet\n",
      "Processed molecule 46400/50000 in molecule_fingerprints_part_2.parquet\n",
      "Processed molecule 46500/50000 in molecule_fingerprints_part_2.parquet\n",
      "Processed molecule 46600/50000 in molecule_fingerprints_part_2.parquet\n"
     ]
    },
    {
     "name": "stderr",
     "output_type": "stream",
     "text": [
      "[09:40:32] SMILES Parse Error: unclosed ring for input: 'C[C@H]1[C@@]2(CC[C@]3([C@]1(CC[C@H]4[C@H]3C[C@H]([C@@]5([C@@]4(C(=O)CC=C5)C)Cl)O)O)C)O[C@]6(C=CCC(=C(C(=O)O6)C)C)O'\n"
     ]
    },
    {
     "name": "stdout",
     "output_type": "stream",
     "text": [
      "Processed molecule 46700/50000 in molecule_fingerprints_part_2.parquet\n",
      "Processed molecule 46800/50000 in molecule_fingerprints_part_2.parquet\n",
      "Processed molecule 46900/50000 in molecule_fingerprints_part_2.parquet\n"
     ]
    },
    {
     "name": "stderr",
     "output_type": "stream",
     "text": [
      "[09:42:31] Can't kekulize mol.  Unkekulized atoms: 1 2 12 13 14 15 16\n"
     ]
    },
    {
     "name": "stdout",
     "output_type": "stream",
     "text": [
      "Processed molecule 47000/50000 in molecule_fingerprints_part_2.parquet\n",
      "Processed molecule 47100/50000 in molecule_fingerprints_part_2.parquet\n",
      "Processed molecule 47200/50000 in molecule_fingerprints_part_2.parquet\n",
      "Processed molecule 47300/50000 in molecule_fingerprints_part_2.parquet\n"
     ]
    },
    {
     "name": "stderr",
     "output_type": "stream",
     "text": [
      "[09:44:56] SMILES Parse Error: unclosed ring for input: 'CN1CCC2=C(C1)C3NC(=NC4=CC=C(C=C4)OC)C(=NN3)N'\n"
     ]
    },
    {
     "name": "stdout",
     "output_type": "stream",
     "text": [
      "Processed molecule 47400/50000 in molecule_fingerprints_part_2.parquet\n"
     ]
    },
    {
     "name": "stderr",
     "output_type": "stream",
     "text": [
      "[09:45:09] Can't kekulize mol.  Unkekulized atoms: 22 23 24 25 28 29 32\n"
     ]
    },
    {
     "name": "stdout",
     "output_type": "stream",
     "text": [
      "Processed molecule 47500/50000 in molecule_fingerprints_part_2.parquet\n",
      "Processed molecule 47600/50000 in molecule_fingerprints_part_2.parquet\n"
     ]
    },
    {
     "name": "stderr",
     "output_type": "stream",
     "text": [
      "[09:46:11] SMILES Parse Error: unclosed ring for input: 'C1=CC=C2C(=C1)C3=C2C4=C5C(=C3)C=C6C=CC7=C8C6=C5C(=CC=C7)C=C4'\n"
     ]
    },
    {
     "name": "stdout",
     "output_type": "stream",
     "text": [
      "Processed molecule 47700/50000 in molecule_fingerprints_part_2.parquet\n"
     ]
    },
    {
     "name": "stderr",
     "output_type": "stream",
     "text": [
      "[09:46:54] SMILES Parse Error: unclosed ring for input: 'CC1=CCC[C@]2([C@H]1C[C@@H]3[C@H]4C(=O)[C@]5(CC[C@@H]6[C@@]7([C@H]5C[C@H]7[C@@]4(C(=O)[C@]3(C2=O)C)C)C)C)C'\n"
     ]
    },
    {
     "name": "stdout",
     "output_type": "stream",
     "text": [
      "Processed molecule 47800/50000 in molecule_fingerprints_part_2.parquet\n"
     ]
    },
    {
     "name": "stderr",
     "output_type": "stream",
     "text": [
      "[09:47:54] SMILES Parse Error: unclosed ring for input: 'CC(C)[C@@H](C(=O)OCC1=CC=CC=C1)N2CC3=C(C[C@H]4C2(C)C)C5=CC=CC=C5N3'\n"
     ]
    },
    {
     "name": "stdout",
     "output_type": "stream",
     "text": [
      "Processed molecule 47900/50000 in molecule_fingerprints_part_2.parquet\n"
     ]
    },
    {
     "name": "stderr",
     "output_type": "stream",
     "text": [
      "[09:47:59] SMILES Parse Error: unclosed ring for input: 'C[C@H]1[C@H]2CC3=C(C=CC(=C3[C@H](N2C)C4=C5C=C([C@H](N([C@H]5CC6=C(C=CC(=C6[C@@H]4N2C)OC)OC)C)C)OC)OC)OC'\n"
     ]
    },
    {
     "name": "stdout",
     "output_type": "stream",
     "text": [
      "Processed molecule 48000/50000 in molecule_fingerprints_part_2.parquet\n",
      "Processed molecule 48100/50000 in molecule_fingerprints_part_2.parquet\n",
      "Processed molecule 48200/50000 in molecule_fingerprints_part_2.parquet\n",
      "Processed molecule 48300/50000 in molecule_fingerprints_part_2.parquet\n",
      "Processed molecule 48400/50000 in molecule_fingerprints_part_2.parquet\n",
      "Processed molecule 48500/50000 in molecule_fingerprints_part_2.parquet\n",
      "Processed molecule 48600/50000 in molecule_fingerprints_part_2.parquet\n",
      "Processed molecule 48700/50000 in molecule_fingerprints_part_2.parquet\n"
     ]
    },
    {
     "name": "stderr",
     "output_type": "stream",
     "text": [
      "[09:52:48] SMILES Parse Error: unclosed ring for input: 'C12(CCC1)Oc1nc(=O)c(c([nH]1)C(=O)NCc1ccc(cc1)F)O'\n",
      "[09:53:06] Can't kekulize mol.  Unkekulized atoms: 0 1 2 3 4\n"
     ]
    },
    {
     "name": "stdout",
     "output_type": "stream",
     "text": [
      "Processed molecule 48800/50000 in molecule_fingerprints_part_2.parquet\n",
      "Processed molecule 48900/50000 in molecule_fingerprints_part_2.parquet\n"
     ]
    },
    {
     "name": "stderr",
     "output_type": "stream",
     "text": [
      "[09:54:11] Can't kekulize mol.  Unkekulized atoms: 1 3 5 24 32\n"
     ]
    },
    {
     "name": "stdout",
     "output_type": "stream",
     "text": [
      "Processed molecule 49000/50000 in molecule_fingerprints_part_2.parquet\n",
      "Processed molecule 49100/50000 in molecule_fingerprints_part_2.parquet\n",
      "Processed molecule 49200/50000 in molecule_fingerprints_part_2.parquet\n"
     ]
    },
    {
     "name": "stderr",
     "output_type": "stream",
     "text": [
      "[09:55:41] Can't kekulize mol.  Unkekulized atoms: 0 1 2 3 6 7 8 9 10\n",
      "[09:55:43] SMILES Parse Error: unclosed ring for input: 'COC(=O)C1(CC23CCCN4C2(CCC4)C5=C(C1(C#N)O)C6=C(C=C5)OCO6)O'\n"
     ]
    },
    {
     "name": "stdout",
     "output_type": "stream",
     "text": [
      "Processed molecule 49300/50000 in molecule_fingerprints_part_2.parquet\n",
      "Processed molecule 49400/50000 in molecule_fingerprints_part_2.parquet\n",
      "Processed molecule 49500/50000 in molecule_fingerprints_part_2.parquet\n",
      "Processed molecule 49600/50000 in molecule_fingerprints_part_2.parquet\n"
     ]
    },
    {
     "name": "stderr",
     "output_type": "stream",
     "text": [
      "[09:57:54] SMILES Parse Error: unclosed ring for input: 'C/C=C\\1/CN2[C@H]3C[C@@H]1[C@@]([C@@H]2C[C@@]45[C@H]3N(C6=CC=CC=C64)C)(C(=O)OC)OC(=O)C7=CC(=C(C=C7)OC)OC'\n",
      "[09:58:11] SMILES Parse Error: unclosed ring for input: 'C[C@@H]1[C@@H]2[C@@H]3C[C@@H]4C5=C(CCN4C(=O)[C@H]2N(O1)C)C6=CC=CC=C6N5'\n"
     ]
    },
    {
     "name": "stdout",
     "output_type": "stream",
     "text": [
      "Processed molecule 49700/50000 in molecule_fingerprints_part_2.parquet\n",
      "Processed molecule 49800/50000 in molecule_fingerprints_part_2.parquet\n",
      "Processed molecule 49900/50000 in molecule_fingerprints_part_2.parquet\n",
      "Processed molecule 50000/50000 in molecule_fingerprints_part_2.parquet\n",
      "Finished processing molecule_fingerprints_part_2.parquet\n"
     ]
    }
   ],
   "source": [
    "process_files(file_list=parquet_files)"
   ]
  }
 ],
 "metadata": {
  "kernelspec": {
   "display_name": "Python 3 (ipykernel)",
   "language": "python",
   "name": "python3"
  },
  "language_info": {
   "codemirror_mode": {
    "name": "ipython",
    "version": 3
   },
   "file_extension": ".py",
   "mimetype": "text/x-python",
   "name": "python",
   "nbconvert_exporter": "python",
   "pygments_lexer": "ipython3",
   "version": "3.11.10"
  }
 },
 "nbformat": 4,
 "nbformat_minor": 5
}
