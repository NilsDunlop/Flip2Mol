{
 "cells": [
  {
   "cell_type": "markdown",
   "metadata": {},
   "source": [
    "# Project: Decoding Molecules From Fingerprints.\n",
    "## Group Members:\n",
    "### Qi Chen, e-mail: gusqichr@student.gu.se\n",
    "### Nils Dunlop, e-mail: gusdunlni@student.gu.se\n",
    "### Francisco Alejandro Erazo Piza, e-mail: guserafr@student.gu.se\n",
    "***"
   ]
  },
  {
   "cell_type": "code",
   "execution_count": 1,
   "metadata": {},
   "outputs": [],
   "source": [
    "import os\n",
    "import pandas as pd\n",
    "from rdkit.Chem import rdFingerprintGenerator\n",
    "from rdkit.Chem import PandasTools\n",
    "import numpy as np\n",
    "from joblib import Parallel, delayed\n",
    "from rdkit.DataStructs import TanimotoSimilarity\n",
    "import subprocess\n",
    "from typing import List, Tuple\n",
    "import subprocess\n",
    "from concurrent.futures import ThreadPoolExecutor, as_completed\n",
    "from rdkit import Chem\n",
    "import random\n",
    "from typing import List, Tuple\n",
    "import pandas as pd\n",
    "pd.set_option('display.max_colwidth', None)\n",
    "pd.set_option('display.width', None)"
   ]
  },
  {
   "cell_type": "markdown",
   "metadata": {},
   "source": [
    "### Define directories\n",
    "***"
   ]
  },
  {
   "cell_type": "code",
   "execution_count": 2,
   "metadata": {},
   "outputs": [],
   "source": [
    "# Set user directory\n",
    "USER_DIR = os.path.expanduser('~')\n",
    "\n",
    "# Set the project root directory\n",
    "PROJECT_ROOT = os.path.abspath(os.path.join(os.getcwd(), '..'))\n",
    "\n",
    "# Define the input and output directories\n",
    "INPUT_DIR = os.path.join(PROJECT_ROOT, 'data/')\n",
    "OUTPUT_DIR = os.path.join(PROJECT_ROOT, 'data/bit_flipping_nn_review_2')\n",
    "\n",
    "# Ensure output directory exists\n",
    "os.makedirs(OUTPUT_DIR, exist_ok=True)\n"
   ]
  },
  {
   "cell_type": "markdown",
   "metadata": {},
   "source": [
    "### COX2 and Janus Data\n",
    "***"
   ]
  },
  {
   "cell_type": "code",
   "execution_count": 3,
   "metadata": {},
   "outputs": [
    {
     "name": "stdout",
     "output_type": "stream",
     "text": [
      "COX2 shape: (21, 2)\n",
      "Janus shape: (12, 2)\n"
     ]
    }
   ],
   "source": [
    "# Read COX2_SMILES.csv\n",
    "cox2_df = pd.read_csv('../data/COX2_SMILES.csv', delimiter=';')\n",
    "print(f\"COX2 shape: {cox2_df.shape}\")\n",
    "\n",
    "# Read Janus_SMILES.csv\n",
    "janus_df = pd.read_csv('../data/Janus_SMILES.csv', delimiter=';')\n",
    "print(f\"Janus shape: {janus_df.shape}\")"
   ]
  },
  {
   "cell_type": "code",
   "execution_count": 4,
   "metadata": {},
   "outputs": [],
   "source": [
    "# Add molecule column to the dataframes\n",
    "PandasTools.AddMoleculeColumnToFrame(cox2_df, smilesCol='SMILES', molCol='Molecule')\n",
    "PandasTools.AddMoleculeColumnToFrame(janus_df, smilesCol='SMILES', molCol='Molecule')"
   ]
  },
  {
   "cell_type": "code",
   "execution_count": 5,
   "metadata": {},
   "outputs": [
    {
     "data": {
      "text/html": [
       "<div>\n",
       "<style scoped>\n",
       "    .dataframe tbody tr th:only-of-type {\n",
       "        vertical-align: middle;\n",
       "    }\n",
       "\n",
       "    .dataframe tbody tr th {\n",
       "        vertical-align: top;\n",
       "    }\n",
       "\n",
       "    .dataframe thead th {\n",
       "        text-align: right;\n",
       "    }\n",
       "</style>\n",
       "<table border=\"1\" class=\"dataframe\">\n",
       "  <thead>\n",
       "    <tr style=\"text-align: right;\">\n",
       "      <th></th>\n",
       "      <th>title</th>\n",
       "      <th>SMILES</th>\n",
       "      <th>Molecule</th>\n",
       "    </tr>\n",
       "  </thead>\n",
       "  <tbody>\n",
       "    <tr>\n",
       "      <th>0</th>\n",
       "      <td>Parecoxib</td>\n",
       "      <td>CCC(=O)NS(=O)(=O)c1ccc(cc1)c2c(C)onc2c3ccccc3</td>\n",
       "      <td>&lt;rdkit.Chem.rdchem.Mol object at 0x7fd61076e730&gt;</td>\n",
       "    </tr>\n",
       "    <tr>\n",
       "      <th>1</th>\n",
       "      <td>Anitrazafen</td>\n",
       "      <td>COc1ccc(cc1)c2nnc(C)nc2c3ccc(OC)cc3</td>\n",
       "      <td>&lt;rdkit.Chem.rdchem.Mol object at 0x7fd61076e7a0&gt;</td>\n",
       "    </tr>\n",
       "    <tr>\n",
       "      <th>2</th>\n",
       "      <td>Celecoxib</td>\n",
       "      <td>Cc1ccc(cc1)c2cc(nn2c3ccc(cc3)S(=O)(=O)N)C(F)(F)F</td>\n",
       "      <td>&lt;rdkit.Chem.rdchem.Mol object at 0x7fd61076e810&gt;</td>\n",
       "    </tr>\n",
       "    <tr>\n",
       "      <th>3</th>\n",
       "      <td>Cimicoxib</td>\n",
       "      <td>COc1ccc(cc1F)c2c(Cl)ncn2c3ccc(cc3)S(=O)(=O)N</td>\n",
       "      <td>&lt;rdkit.Chem.rdchem.Mol object at 0x7fd61076e8f0&gt;</td>\n",
       "    </tr>\n",
       "    <tr>\n",
       "      <th>4</th>\n",
       "      <td>Deracoxib</td>\n",
       "      <td>COc1ccc(cc1F)c2cc(nn2c3ccc(cc3)S(=O)(=O)N)C(F)F</td>\n",
       "      <td>&lt;rdkit.Chem.rdchem.Mol object at 0x7fd61076e960&gt;</td>\n",
       "    </tr>\n",
       "  </tbody>\n",
       "</table>\n",
       "</div>"
      ],
      "text/plain": [
       "         title                                            SMILES  \\\n",
       "0    Parecoxib     CCC(=O)NS(=O)(=O)c1ccc(cc1)c2c(C)onc2c3ccccc3   \n",
       "1  Anitrazafen               COc1ccc(cc1)c2nnc(C)nc2c3ccc(OC)cc3   \n",
       "2    Celecoxib  Cc1ccc(cc1)c2cc(nn2c3ccc(cc3)S(=O)(=O)N)C(F)(F)F   \n",
       "3    Cimicoxib      COc1ccc(cc1F)c2c(Cl)ncn2c3ccc(cc3)S(=O)(=O)N   \n",
       "4    Deracoxib   COc1ccc(cc1F)c2cc(nn2c3ccc(cc3)S(=O)(=O)N)C(F)F   \n",
       "\n",
       "                                           Molecule  \n",
       "0  <rdkit.Chem.rdchem.Mol object at 0x7fd61076e730>  \n",
       "1  <rdkit.Chem.rdchem.Mol object at 0x7fd61076e7a0>  \n",
       "2  <rdkit.Chem.rdchem.Mol object at 0x7fd61076e810>  \n",
       "3  <rdkit.Chem.rdchem.Mol object at 0x7fd61076e8f0>  \n",
       "4  <rdkit.Chem.rdchem.Mol object at 0x7fd61076e960>  "
      ]
     },
     "execution_count": 5,
     "metadata": {},
     "output_type": "execute_result"
    }
   ],
   "source": [
    "cox2_df.head()"
   ]
  },
  {
   "cell_type": "code",
   "execution_count": 6,
   "metadata": {},
   "outputs": [
    {
     "data": {
      "text/html": [
       "<div>\n",
       "<style scoped>\n",
       "    .dataframe tbody tr th:only-of-type {\n",
       "        vertical-align: middle;\n",
       "    }\n",
       "\n",
       "    .dataframe tbody tr th {\n",
       "        vertical-align: top;\n",
       "    }\n",
       "\n",
       "    .dataframe thead th {\n",
       "        text-align: right;\n",
       "    }\n",
       "</style>\n",
       "<table border=\"1\" class=\"dataframe\">\n",
       "  <thead>\n",
       "    <tr style=\"text-align: right;\">\n",
       "      <th></th>\n",
       "      <th>title</th>\n",
       "      <th>SMILES</th>\n",
       "      <th>Molecule</th>\n",
       "    </tr>\n",
       "  </thead>\n",
       "  <tbody>\n",
       "    <tr>\n",
       "      <th>0</th>\n",
       "      <td>Tofacitinib</td>\n",
       "      <td>C[C@@H]1CCN(C[C@@H]1N(C)c2ncnc3[nH]ccc23)C(=O)CC#N</td>\n",
       "      <td>&lt;rdkit.Chem.rdchem.Mol object at 0x7fd61076f1b0&gt;</td>\n",
       "    </tr>\n",
       "    <tr>\n",
       "      <th>1</th>\n",
       "      <td>Ruxolitinib</td>\n",
       "      <td>N#CC[C@H](C1CCCC1)n2cc(cn2)c3ncnc4[nH]ccc34</td>\n",
       "      <td>&lt;rdkit.Chem.rdchem.Mol object at 0x7fd61076f220&gt;</td>\n",
       "    </tr>\n",
       "    <tr>\n",
       "      <th>2</th>\n",
       "      <td>Oclacitinib</td>\n",
       "      <td>CNS(=O)(=O)C[C@@H]1CC[C@H](CC1)N(C)c2ncnc3[nH]ccc23</td>\n",
       "      <td>&lt;rdkit.Chem.rdchem.Mol object at 0x7fd61076f290&gt;</td>\n",
       "    </tr>\n",
       "    <tr>\n",
       "      <th>3</th>\n",
       "      <td>Baricitinib</td>\n",
       "      <td>CCS(=O)(=O)N1CC(CC#N)(C1)n2cc(cn2)c3ncnc4[nH]ccc34</td>\n",
       "      <td>&lt;rdkit.Chem.rdchem.Mol object at 0x7fd61076f300&gt;</td>\n",
       "    </tr>\n",
       "    <tr>\n",
       "      <th>4</th>\n",
       "      <td>Upadacitinib</td>\n",
       "      <td>CC[C@@H]1CN(C[C@@H]1c2cnc3cnc4[nH]ccc4n23)C(=O)NCC(F)(F)F</td>\n",
       "      <td>&lt;rdkit.Chem.rdchem.Mol object at 0x7fd61076f370&gt;</td>\n",
       "    </tr>\n",
       "  </tbody>\n",
       "</table>\n",
       "</div>"
      ],
      "text/plain": [
       "          title                                                     SMILES  \\\n",
       "0   Tofacitinib         C[C@@H]1CCN(C[C@@H]1N(C)c2ncnc3[nH]ccc23)C(=O)CC#N   \n",
       "1   Ruxolitinib                N#CC[C@H](C1CCCC1)n2cc(cn2)c3ncnc4[nH]ccc34   \n",
       "2   Oclacitinib        CNS(=O)(=O)C[C@@H]1CC[C@H](CC1)N(C)c2ncnc3[nH]ccc23   \n",
       "3   Baricitinib         CCS(=O)(=O)N1CC(CC#N)(C1)n2cc(cn2)c3ncnc4[nH]ccc34   \n",
       "4  Upadacitinib  CC[C@@H]1CN(C[C@@H]1c2cnc3cnc4[nH]ccc4n23)C(=O)NCC(F)(F)F   \n",
       "\n",
       "                                           Molecule  \n",
       "0  <rdkit.Chem.rdchem.Mol object at 0x7fd61076f1b0>  \n",
       "1  <rdkit.Chem.rdchem.Mol object at 0x7fd61076f220>  \n",
       "2  <rdkit.Chem.rdchem.Mol object at 0x7fd61076f290>  \n",
       "3  <rdkit.Chem.rdchem.Mol object at 0x7fd61076f300>  \n",
       "4  <rdkit.Chem.rdchem.Mol object at 0x7fd61076f370>  "
      ]
     },
     "execution_count": 6,
     "metadata": {},
     "output_type": "execute_result"
    }
   ],
   "source": [
    "janus_df.head()"
   ]
  },
  {
   "cell_type": "code",
   "execution_count": 7,
   "metadata": {},
   "outputs": [],
   "source": [
    "def generate_fingerprint(mol):\n",
    "    \"\"\"\n",
    "    Generate ECFP4 fingerprint and sparse representation for a molecule.\n",
    "    \"\"\"\n",
    "    if mol is not None:\n",
    "        morgan_generator = rdFingerprintGenerator.GetMorganGenerator(radius=2, fpSize=2048)\n",
    "        fp = morgan_generator.GetFingerprint(mol)\n",
    "        bit_vector = np.array(list(fp.ToBitString())).astype(int)\n",
    "        sparse_representation = list(np.where(bit_vector == 1)[0])\n",
    "        sparse_representation_str = ' '.join(map(str, sparse_representation))\n",
    "        return bit_vector, sparse_representation_str\n",
    "    return None, None"
   ]
  },
  {
   "cell_type": "code",
   "execution_count": 8,
   "metadata": {},
   "outputs": [],
   "source": [
    "# Apply the fingerprint generation function to COX2 DataFrame\n",
    "cox2_results = Parallel(n_jobs=-1)(delayed(generate_fingerprint)(mol) for mol in cox2_df['Molecule'])\n",
    "cox2_bit_vectors, cox2_sparse_fingerprints = zip(*cox2_results)\n",
    "\n",
    "# Assign the new columns to the COX2 DataFrame\n",
    "cox2_df['FingerprintBits'] = list(cox2_bit_vectors)\n",
    "cox2_df['SparseFingerprintBits'] = list(cox2_sparse_fingerprints)\n",
    "\n",
    "# Apply the fingerprint generation function to Janus DataFrame\n",
    "janus_results = Parallel(n_jobs=-1)(delayed(generate_fingerprint)(mol) for mol in janus_df['Molecule'])\n",
    "janus_bit_vectors, janus_sparse_fingerprints = zip(*janus_results)\n",
    "\n",
    "# Assign the new columns to the Janus DataFrame\n",
    "janus_df['FingerprintBits'] = list(janus_bit_vectors)\n",
    "janus_df['SparseFingerprintBits'] = list(janus_sparse_fingerprints)\n"
   ]
  },
  {
   "cell_type": "code",
   "execution_count": 9,
   "metadata": {},
   "outputs": [
    {
     "data": {
      "text/html": [
       "<div>\n",
       "<style scoped>\n",
       "    .dataframe tbody tr th:only-of-type {\n",
       "        vertical-align: middle;\n",
       "    }\n",
       "\n",
       "    .dataframe tbody tr th {\n",
       "        vertical-align: top;\n",
       "    }\n",
       "\n",
       "    .dataframe thead th {\n",
       "        text-align: right;\n",
       "    }\n",
       "</style>\n",
       "<table border=\"1\" class=\"dataframe\">\n",
       "  <thead>\n",
       "    <tr style=\"text-align: right;\">\n",
       "      <th></th>\n",
       "      <th>title</th>\n",
       "      <th>SMILES</th>\n",
       "      <th>Molecule</th>\n",
       "      <th>FingerprintBits</th>\n",
       "      <th>SparseFingerprintBits</th>\n",
       "    </tr>\n",
       "  </thead>\n",
       "  <tbody>\n",
       "    <tr>\n",
       "      <th>0</th>\n",
       "      <td>Parecoxib</td>\n",
       "      <td>CCC(=O)NS(=O)(=O)c1ccc(cc1)c2c(C)onc2c3ccccc3</td>\n",
       "      <td>&lt;rdkit.Chem.rdchem.Mol object at 0x7fd61076e730&gt;</td>\n",
       "      <td>[0, 0, 0, 0, 0, 0, 0, 0, 0, 0, 0, 0, 0, 0, 0, 0, 0, 0, 0, 0, 0, 0, 0, 0, 0, 0, 0, 0, 0, 0, 0, 0, 0, 0, 0, 0, 0, 0, 0, 0, 0, 1, 0, 0, 0, 0, 0, 0, 0, 0, 0, 0, 0, 0, 0, 0, 0, 0, 0, 0, 0, 0, 0, 0, 0, 0, 0, 0, 0, 0, 0, 0, 0, 0, 0, 0, 0, 0, 0, 0, 1, 0, 0, 0, 0, 0, 0, 0, 0, 0, 0, 0, 0, 0, 0, 0, 0, 0, 0, 0, ...]</td>\n",
       "      <td>41 80 179 248 294 307 319 323 331 350 361 378 389 461 471 476 502 624 650 656 715 736 807 835 883 896 898 1045 1057 1088 1141 1152 1160 1199 1366 1380 1476 1542 1722 1746 1747 1750 1873 1917</td>\n",
       "    </tr>\n",
       "    <tr>\n",
       "      <th>1</th>\n",
       "      <td>Anitrazafen</td>\n",
       "      <td>COc1ccc(cc1)c2nnc(C)nc2c3ccc(OC)cc3</td>\n",
       "      <td>&lt;rdkit.Chem.rdchem.Mol object at 0x7fd61076e7a0&gt;</td>\n",
       "      <td>[0, 0, 0, 0, 0, 0, 0, 0, 0, 0, 0, 0, 0, 0, 0, 0, 0, 0, 0, 0, 0, 0, 0, 0, 0, 0, 0, 0, 0, 0, 0, 0, 0, 0, 0, 0, 0, 0, 0, 0, 0, 0, 0, 0, 0, 0, 0, 0, 0, 0, 0, 0, 0, 0, 0, 0, 0, 0, 0, 0, 0, 0, 0, 0, 0, 0, 0, 0, 0, 0, 0, 0, 0, 0, 0, 0, 0, 0, 0, 0, 0, 0, 0, 0, 0, 0, 0, 0, 0, 0, 0, 0, 0, 0, 0, 0, 0, 0, 0, 0, ...]</td>\n",
       "      <td>123 139 269 322 323 357 378 454 471 695 718 781 831 841 896 978 1057 1126 1160 1164 1380 1536 1722 1750 1855 1873</td>\n",
       "    </tr>\n",
       "    <tr>\n",
       "      <th>2</th>\n",
       "      <td>Celecoxib</td>\n",
       "      <td>Cc1ccc(cc1)c2cc(nn2c3ccc(cc3)S(=O)(=O)N)C(F)(F)F</td>\n",
       "      <td>&lt;rdkit.Chem.rdchem.Mol object at 0x7fd61076e810&gt;</td>\n",
       "      <td>[0, 0, 0, 0, 0, 0, 0, 0, 0, 0, 0, 0, 0, 0, 0, 0, 0, 0, 0, 0, 0, 0, 0, 0, 0, 0, 0, 0, 0, 0, 0, 0, 0, 0, 0, 0, 0, 0, 0, 0, 0, 0, 0, 0, 0, 0, 0, 0, 0, 0, 0, 0, 0, 0, 0, 0, 0, 0, 0, 0, 0, 0, 0, 0, 0, 0, 0, 0, 0, 0, 0, 0, 0, 0, 0, 0, 0, 0, 0, 0, 0, 0, 0, 0, 0, 0, 0, 0, 0, 0, 0, 0, 0, 0, 0, 0, 0, 0, 0, 0, ...]</td>\n",
       "      <td>114 233 235 319 350 368 378 650 715 753 809 833 875 896 935 1057 1160 1171 1197 1328 1380 1399 1434 1440 1446 1453 1476 1489 1527 1607 1692 1722 1750 1823 1825 1852 1873 1920 1928 1956</td>\n",
       "    </tr>\n",
       "    <tr>\n",
       "      <th>3</th>\n",
       "      <td>Cimicoxib</td>\n",
       "      <td>COc1ccc(cc1F)c2c(Cl)ncn2c3ccc(cc3)S(=O)(=O)N</td>\n",
       "      <td>&lt;rdkit.Chem.rdchem.Mol object at 0x7fd61076e8f0&gt;</td>\n",
       "      <td>[0, 0, 0, 0, 0, 0, 0, 0, 0, 0, 0, 0, 0, 0, 0, 0, 0, 0, 0, 0, 0, 0, 0, 0, 0, 0, 0, 1, 0, 0, 0, 0, 0, 0, 0, 0, 0, 0, 0, 0, 0, 0, 0, 0, 0, 0, 0, 0, 0, 0, 0, 0, 0, 0, 0, 0, 0, 0, 0, 0, 0, 0, 0, 0, 0, 0, 0, 0, 0, 0, 0, 0, 0, 0, 0, 0, 0, 0, 0, 0, 0, 0, 0, 0, 0, 0, 0, 0, 0, 0, 0, 0, 0, 0, 1, 0, 0, 0, 0, 0, ...]</td>\n",
       "      <td>27 94 118 233 249 289 319 339 350 378 561 564 650 695 699 704 715 724 746 833 841 875 879 896 932 935 1057 1160 1171 1197 1260 1380 1445 1452 1476 1489 1536 1607 1649 1683 1750 1825 1840 1873 1928 1945 1970</td>\n",
       "    </tr>\n",
       "    <tr>\n",
       "      <th>4</th>\n",
       "      <td>Deracoxib</td>\n",
       "      <td>COc1ccc(cc1F)c2cc(nn2c3ccc(cc3)S(=O)(=O)N)C(F)F</td>\n",
       "      <td>&lt;rdkit.Chem.rdchem.Mol object at 0x7fd61076e960&gt;</td>\n",
       "      <td>[0, 1, 0, 0, 0, 0, 0, 0, 0, 0, 0, 0, 0, 0, 0, 0, 0, 0, 0, 0, 0, 0, 0, 0, 0, 0, 0, 0, 0, 0, 0, 0, 0, 0, 0, 0, 0, 0, 0, 0, 0, 0, 0, 0, 0, 0, 0, 0, 0, 0, 0, 0, 0, 0, 0, 0, 0, 0, 0, 0, 0, 0, 0, 0, 0, 0, 0, 0, 0, 0, 0, 0, 0, 0, 0, 0, 0, 0, 0, 0, 0, 0, 0, 0, 0, 0, 0, 0, 0, 0, 0, 0, 0, 0, 1, 0, 0, 0, 0, 0, ...]</td>\n",
       "      <td>1 94 118 233 249 259 305 319 350 378 501 650 695 699 715 833 841 875 896 935 991 1050 1057 1160 1171 1197 1328 1380 1399 1405 1440 1476 1489 1536 1607 1649 1692 1750 1780 1825 1840 1846 1852 1873 1928 1945 1956 1970</td>\n",
       "    </tr>\n",
       "  </tbody>\n",
       "</table>\n",
       "</div>"
      ],
      "text/plain": [
       "         title                                            SMILES  \\\n",
       "0    Parecoxib     CCC(=O)NS(=O)(=O)c1ccc(cc1)c2c(C)onc2c3ccccc3   \n",
       "1  Anitrazafen               COc1ccc(cc1)c2nnc(C)nc2c3ccc(OC)cc3   \n",
       "2    Celecoxib  Cc1ccc(cc1)c2cc(nn2c3ccc(cc3)S(=O)(=O)N)C(F)(F)F   \n",
       "3    Cimicoxib      COc1ccc(cc1F)c2c(Cl)ncn2c3ccc(cc3)S(=O)(=O)N   \n",
       "4    Deracoxib   COc1ccc(cc1F)c2cc(nn2c3ccc(cc3)S(=O)(=O)N)C(F)F   \n",
       "\n",
       "                                           Molecule  \\\n",
       "0  <rdkit.Chem.rdchem.Mol object at 0x7fd61076e730>   \n",
       "1  <rdkit.Chem.rdchem.Mol object at 0x7fd61076e7a0>   \n",
       "2  <rdkit.Chem.rdchem.Mol object at 0x7fd61076e810>   \n",
       "3  <rdkit.Chem.rdchem.Mol object at 0x7fd61076e8f0>   \n",
       "4  <rdkit.Chem.rdchem.Mol object at 0x7fd61076e960>   \n",
       "\n",
       "                                                                                                                                                                                                                                                                                                     FingerprintBits  \\\n",
       "0  [0, 0, 0, 0, 0, 0, 0, 0, 0, 0, 0, 0, 0, 0, 0, 0, 0, 0, 0, 0, 0, 0, 0, 0, 0, 0, 0, 0, 0, 0, 0, 0, 0, 0, 0, 0, 0, 0, 0, 0, 0, 1, 0, 0, 0, 0, 0, 0, 0, 0, 0, 0, 0, 0, 0, 0, 0, 0, 0, 0, 0, 0, 0, 0, 0, 0, 0, 0, 0, 0, 0, 0, 0, 0, 0, 0, 0, 0, 0, 0, 1, 0, 0, 0, 0, 0, 0, 0, 0, 0, 0, 0, 0, 0, 0, 0, 0, 0, 0, 0, ...]   \n",
       "1  [0, 0, 0, 0, 0, 0, 0, 0, 0, 0, 0, 0, 0, 0, 0, 0, 0, 0, 0, 0, 0, 0, 0, 0, 0, 0, 0, 0, 0, 0, 0, 0, 0, 0, 0, 0, 0, 0, 0, 0, 0, 0, 0, 0, 0, 0, 0, 0, 0, 0, 0, 0, 0, 0, 0, 0, 0, 0, 0, 0, 0, 0, 0, 0, 0, 0, 0, 0, 0, 0, 0, 0, 0, 0, 0, 0, 0, 0, 0, 0, 0, 0, 0, 0, 0, 0, 0, 0, 0, 0, 0, 0, 0, 0, 0, 0, 0, 0, 0, 0, ...]   \n",
       "2  [0, 0, 0, 0, 0, 0, 0, 0, 0, 0, 0, 0, 0, 0, 0, 0, 0, 0, 0, 0, 0, 0, 0, 0, 0, 0, 0, 0, 0, 0, 0, 0, 0, 0, 0, 0, 0, 0, 0, 0, 0, 0, 0, 0, 0, 0, 0, 0, 0, 0, 0, 0, 0, 0, 0, 0, 0, 0, 0, 0, 0, 0, 0, 0, 0, 0, 0, 0, 0, 0, 0, 0, 0, 0, 0, 0, 0, 0, 0, 0, 0, 0, 0, 0, 0, 0, 0, 0, 0, 0, 0, 0, 0, 0, 0, 0, 0, 0, 0, 0, ...]   \n",
       "3  [0, 0, 0, 0, 0, 0, 0, 0, 0, 0, 0, 0, 0, 0, 0, 0, 0, 0, 0, 0, 0, 0, 0, 0, 0, 0, 0, 1, 0, 0, 0, 0, 0, 0, 0, 0, 0, 0, 0, 0, 0, 0, 0, 0, 0, 0, 0, 0, 0, 0, 0, 0, 0, 0, 0, 0, 0, 0, 0, 0, 0, 0, 0, 0, 0, 0, 0, 0, 0, 0, 0, 0, 0, 0, 0, 0, 0, 0, 0, 0, 0, 0, 0, 0, 0, 0, 0, 0, 0, 0, 0, 0, 0, 0, 1, 0, 0, 0, 0, 0, ...]   \n",
       "4  [0, 1, 0, 0, 0, 0, 0, 0, 0, 0, 0, 0, 0, 0, 0, 0, 0, 0, 0, 0, 0, 0, 0, 0, 0, 0, 0, 0, 0, 0, 0, 0, 0, 0, 0, 0, 0, 0, 0, 0, 0, 0, 0, 0, 0, 0, 0, 0, 0, 0, 0, 0, 0, 0, 0, 0, 0, 0, 0, 0, 0, 0, 0, 0, 0, 0, 0, 0, 0, 0, 0, 0, 0, 0, 0, 0, 0, 0, 0, 0, 0, 0, 0, 0, 0, 0, 0, 0, 0, 0, 0, 0, 0, 0, 1, 0, 0, 0, 0, 0, ...]   \n",
       "\n",
       "                                                                                                                                                                                                     SparseFingerprintBits  \n",
       "0                           41 80 179 248 294 307 319 323 331 350 361 378 389 461 471 476 502 624 650 656 715 736 807 835 883 896 898 1045 1057 1088 1141 1152 1160 1199 1366 1380 1476 1542 1722 1746 1747 1750 1873 1917  \n",
       "1                                                                                                        123 139 269 322 323 357 378 454 471 695 718 781 831 841 896 978 1057 1126 1160 1164 1380 1536 1722 1750 1855 1873  \n",
       "2                                 114 233 235 319 350 368 378 650 715 753 809 833 875 896 935 1057 1160 1171 1197 1328 1380 1399 1434 1440 1446 1453 1476 1489 1527 1607 1692 1722 1750 1823 1825 1852 1873 1920 1928 1956  \n",
       "3           27 94 118 233 249 289 319 339 350 378 561 564 650 695 699 704 715 724 746 833 841 875 879 896 932 935 1057 1160 1171 1197 1260 1380 1445 1452 1476 1489 1536 1607 1649 1683 1750 1825 1840 1873 1928 1945 1970  \n",
       "4  1 94 118 233 249 259 305 319 350 378 501 650 695 699 715 833 841 875 896 935 991 1050 1057 1160 1171 1197 1328 1380 1399 1405 1440 1476 1489 1536 1607 1649 1692 1750 1780 1825 1840 1846 1852 1873 1928 1945 1956 1970  "
      ]
     },
     "execution_count": 9,
     "metadata": {},
     "output_type": "execute_result"
    }
   ],
   "source": [
    "cox2_df.head()"
   ]
  },
  {
   "cell_type": "code",
   "execution_count": 10,
   "metadata": {},
   "outputs": [
    {
     "data": {
      "text/html": [
       "<div>\n",
       "<style scoped>\n",
       "    .dataframe tbody tr th:only-of-type {\n",
       "        vertical-align: middle;\n",
       "    }\n",
       "\n",
       "    .dataframe tbody tr th {\n",
       "        vertical-align: top;\n",
       "    }\n",
       "\n",
       "    .dataframe thead th {\n",
       "        text-align: right;\n",
       "    }\n",
       "</style>\n",
       "<table border=\"1\" class=\"dataframe\">\n",
       "  <thead>\n",
       "    <tr style=\"text-align: right;\">\n",
       "      <th></th>\n",
       "      <th>title</th>\n",
       "      <th>SMILES</th>\n",
       "      <th>Molecule</th>\n",
       "      <th>FingerprintBits</th>\n",
       "      <th>SparseFingerprintBits</th>\n",
       "    </tr>\n",
       "  </thead>\n",
       "  <tbody>\n",
       "    <tr>\n",
       "      <th>0</th>\n",
       "      <td>Tofacitinib</td>\n",
       "      <td>C[C@@H]1CCN(C[C@@H]1N(C)c2ncnc3[nH]ccc23)C(=O)CC#N</td>\n",
       "      <td>&lt;rdkit.Chem.rdchem.Mol object at 0x7fd61076f1b0&gt;</td>\n",
       "      <td>[0, 0, 0, 0, 0, 0, 0, 0, 0, 0, 0, 0, 0, 0, 0, 0, 0, 0, 0, 0, 0, 0, 0, 0, 0, 0, 0, 0, 0, 0, 0, 0, 0, 0, 0, 0, 0, 0, 0, 0, 0, 0, 0, 0, 0, 0, 0, 0, 0, 0, 0, 1, 0, 0, 0, 0, 0, 0, 0, 0, 0, 0, 0, 0, 0, 0, 0, 0, 0, 0, 0, 0, 1, 0, 0, 0, 0, 0, 0, 0, 1, 0, 0, 0, 0, 0, 0, 1, 0, 0, 0, 0, 0, 0, 0, 0, 0, 0, 0, 0, ...]</td>\n",
       "      <td>51 72 80 87 259 361 369 378 417 479 489 506 560 590 650 652 674 678 711 739 788 790 806 807 881 926 935 1009 1019 1026 1057 1089 1114 1152 1163 1171 1309 1325 1357 1380 1384 1452 1480 1506 1750 1764 1807 1810 1853 1859 1860 1873 1917 1973 2009</td>\n",
       "    </tr>\n",
       "    <tr>\n",
       "      <th>1</th>\n",
       "      <td>Ruxolitinib</td>\n",
       "      <td>N#CC[C@H](C1CCCC1)n2cc(cn2)c3ncnc4[nH]ccc34</td>\n",
       "      <td>&lt;rdkit.Chem.rdchem.Mol object at 0x7fd61076f220&gt;</td>\n",
       "      <td>[0, 1, 0, 0, 0, 0, 0, 0, 0, 0, 0, 0, 0, 0, 0, 0, 0, 0, 0, 0, 0, 0, 0, 0, 0, 0, 0, 0, 0, 0, 0, 0, 0, 0, 0, 0, 0, 0, 0, 0, 0, 0, 0, 1, 0, 0, 0, 0, 0, 0, 0, 0, 0, 0, 0, 0, 0, 0, 0, 0, 0, 0, 0, 0, 0, 0, 0, 0, 0, 0, 0, 0, 0, 0, 0, 0, 0, 0, 0, 0, 1, 0, 0, 0, 0, 0, 0, 1, 0, 0, 0, 0, 0, 0, 0, 0, 0, 0, 0, 0, ...]</td>\n",
       "      <td>1 43 80 87 276 323 335 339 360 378 464 479 489 674 711 741 790 806 808 890 926 935 944 1019 1026 1028 1051 1089 1114 1152 1160 1161 1171 1256 1325 1348 1357 1380 1384 1452 1506 1535 1634 1706 1739 1750 1810 1873 1876 1897 1978</td>\n",
       "    </tr>\n",
       "    <tr>\n",
       "      <th>2</th>\n",
       "      <td>Oclacitinib</td>\n",
       "      <td>CNS(=O)(=O)C[C@@H]1CC[C@H](CC1)N(C)c2ncnc3[nH]ccc23</td>\n",
       "      <td>&lt;rdkit.Chem.rdchem.Mol object at 0x7fd61076f290&gt;</td>\n",
       "      <td>[0, 0, 0, 0, 0, 0, 0, 0, 0, 0, 0, 0, 0, 0, 0, 0, 0, 0, 0, 0, 0, 0, 0, 0, 0, 0, 0, 0, 0, 1, 0, 0, 0, 0, 0, 0, 0, 0, 0, 0, 0, 0, 0, 0, 0, 0, 0, 0, 0, 0, 0, 1, 0, 0, 0, 0, 0, 0, 0, 0, 0, 0, 0, 0, 0, 0, 0, 0, 0, 0, 0, 0, 1, 0, 0, 0, 0, 0, 0, 0, 1, 0, 0, 0, 0, 0, 0, 1, 0, 0, 0, 0, 0, 0, 0, 0, 0, 0, 0, 0, ...]</td>\n",
       "      <td>29 51 72 80 87 169 259 312 350 369 378 479 489 565 650 711 788 806 809 881 904 926 1019 1025 1026 1057 1114 1152 1154 1163 1171 1325 1357 1380 1430 1452 1454 1476 1506 1524 1561 1671 1750 1810 1873 2018</td>\n",
       "    </tr>\n",
       "    <tr>\n",
       "      <th>3</th>\n",
       "      <td>Baricitinib</td>\n",
       "      <td>CCS(=O)(=O)N1CC(CC#N)(C1)n2cc(cn2)c3ncnc4[nH]ccc34</td>\n",
       "      <td>&lt;rdkit.Chem.rdchem.Mol object at 0x7fd61076f300&gt;</td>\n",
       "      <td>[0, 0, 0, 0, 0, 0, 0, 0, 0, 0, 0, 0, 0, 0, 0, 0, 0, 0, 0, 0, 0, 0, 0, 0, 0, 0, 0, 0, 0, 0, 0, 0, 0, 0, 0, 0, 0, 0, 0, 0, 0, 0, 0, 1, 0, 0, 0, 0, 0, 0, 0, 0, 0, 0, 0, 0, 0, 0, 0, 0, 0, 0, 0, 0, 0, 0, 0, 0, 0, 0, 0, 0, 0, 0, 0, 0, 0, 0, 0, 0, 1, 0, 0, 0, 0, 0, 0, 1, 0, 0, 0, 0, 0, 0, 0, 0, 0, 0, 0, 0, ...]</td>\n",
       "      <td>43 80 87 141 225 226 276 294 323 350 378 464 479 489 585 602 650 674 675 711 723 741 790 806 872 923 926 935 1026 1057 1060 1089 1114 1152 1160 1171 1256 1357 1380 1384 1452 1476 1502 1506 1535 1700 1750 1810 1817 1873 1876 1897 1915 1971</td>\n",
       "    </tr>\n",
       "    <tr>\n",
       "      <th>4</th>\n",
       "      <td>Upadacitinib</td>\n",
       "      <td>CC[C@@H]1CN(C[C@@H]1c2cnc3cnc4[nH]ccc4n23)C(=O)NCC(F)(F)F</td>\n",
       "      <td>&lt;rdkit.Chem.rdchem.Mol object at 0x7fd61076f370&gt;</td>\n",
       "      <td>[0, 0, 0, 0, 0, 0, 0, 0, 0, 0, 0, 0, 0, 0, 0, 0, 0, 0, 0, 0, 0, 0, 0, 0, 0, 0, 0, 0, 0, 0, 0, 0, 0, 0, 0, 0, 0, 0, 0, 0, 0, 0, 0, 0, 0, 1, 0, 0, 1, 0, 0, 0, 0, 0, 0, 0, 0, 0, 0, 0, 0, 0, 0, 0, 0, 0, 0, 0, 0, 0, 0, 0, 0, 0, 0, 0, 0, 0, 0, 0, 1, 0, 0, 0, 0, 0, 0, 0, 0, 0, 0, 0, 0, 0, 0, 0, 0, 0, 0, 0, ...]</td>\n",
       "      <td>45 48 80 114 187 197 213 218 226 294 311 378 455 479 503 510 546 548 607 638 650 711 739 806 807 817 819 887 926 935 1009 1019 1039 1057 1092 1104 1114 1123 1152 1225 1228 1231 1380 1452 1453 1454 1506 1535 1549 1750 1799 1826 1873 1917 1928 2009</td>\n",
       "    </tr>\n",
       "  </tbody>\n",
       "</table>\n",
       "</div>"
      ],
      "text/plain": [
       "          title                                                     SMILES  \\\n",
       "0   Tofacitinib         C[C@@H]1CCN(C[C@@H]1N(C)c2ncnc3[nH]ccc23)C(=O)CC#N   \n",
       "1   Ruxolitinib                N#CC[C@H](C1CCCC1)n2cc(cn2)c3ncnc4[nH]ccc34   \n",
       "2   Oclacitinib        CNS(=O)(=O)C[C@@H]1CC[C@H](CC1)N(C)c2ncnc3[nH]ccc23   \n",
       "3   Baricitinib         CCS(=O)(=O)N1CC(CC#N)(C1)n2cc(cn2)c3ncnc4[nH]ccc34   \n",
       "4  Upadacitinib  CC[C@@H]1CN(C[C@@H]1c2cnc3cnc4[nH]ccc4n23)C(=O)NCC(F)(F)F   \n",
       "\n",
       "                                           Molecule  \\\n",
       "0  <rdkit.Chem.rdchem.Mol object at 0x7fd61076f1b0>   \n",
       "1  <rdkit.Chem.rdchem.Mol object at 0x7fd61076f220>   \n",
       "2  <rdkit.Chem.rdchem.Mol object at 0x7fd61076f290>   \n",
       "3  <rdkit.Chem.rdchem.Mol object at 0x7fd61076f300>   \n",
       "4  <rdkit.Chem.rdchem.Mol object at 0x7fd61076f370>   \n",
       "\n",
       "                                                                                                                                                                                                                                                                                                     FingerprintBits  \\\n",
       "0  [0, 0, 0, 0, 0, 0, 0, 0, 0, 0, 0, 0, 0, 0, 0, 0, 0, 0, 0, 0, 0, 0, 0, 0, 0, 0, 0, 0, 0, 0, 0, 0, 0, 0, 0, 0, 0, 0, 0, 0, 0, 0, 0, 0, 0, 0, 0, 0, 0, 0, 0, 1, 0, 0, 0, 0, 0, 0, 0, 0, 0, 0, 0, 0, 0, 0, 0, 0, 0, 0, 0, 0, 1, 0, 0, 0, 0, 0, 0, 0, 1, 0, 0, 0, 0, 0, 0, 1, 0, 0, 0, 0, 0, 0, 0, 0, 0, 0, 0, 0, ...]   \n",
       "1  [0, 1, 0, 0, 0, 0, 0, 0, 0, 0, 0, 0, 0, 0, 0, 0, 0, 0, 0, 0, 0, 0, 0, 0, 0, 0, 0, 0, 0, 0, 0, 0, 0, 0, 0, 0, 0, 0, 0, 0, 0, 0, 0, 1, 0, 0, 0, 0, 0, 0, 0, 0, 0, 0, 0, 0, 0, 0, 0, 0, 0, 0, 0, 0, 0, 0, 0, 0, 0, 0, 0, 0, 0, 0, 0, 0, 0, 0, 0, 0, 1, 0, 0, 0, 0, 0, 0, 1, 0, 0, 0, 0, 0, 0, 0, 0, 0, 0, 0, 0, ...]   \n",
       "2  [0, 0, 0, 0, 0, 0, 0, 0, 0, 0, 0, 0, 0, 0, 0, 0, 0, 0, 0, 0, 0, 0, 0, 0, 0, 0, 0, 0, 0, 1, 0, 0, 0, 0, 0, 0, 0, 0, 0, 0, 0, 0, 0, 0, 0, 0, 0, 0, 0, 0, 0, 1, 0, 0, 0, 0, 0, 0, 0, 0, 0, 0, 0, 0, 0, 0, 0, 0, 0, 0, 0, 0, 1, 0, 0, 0, 0, 0, 0, 0, 1, 0, 0, 0, 0, 0, 0, 1, 0, 0, 0, 0, 0, 0, 0, 0, 0, 0, 0, 0, ...]   \n",
       "3  [0, 0, 0, 0, 0, 0, 0, 0, 0, 0, 0, 0, 0, 0, 0, 0, 0, 0, 0, 0, 0, 0, 0, 0, 0, 0, 0, 0, 0, 0, 0, 0, 0, 0, 0, 0, 0, 0, 0, 0, 0, 0, 0, 1, 0, 0, 0, 0, 0, 0, 0, 0, 0, 0, 0, 0, 0, 0, 0, 0, 0, 0, 0, 0, 0, 0, 0, 0, 0, 0, 0, 0, 0, 0, 0, 0, 0, 0, 0, 0, 1, 0, 0, 0, 0, 0, 0, 1, 0, 0, 0, 0, 0, 0, 0, 0, 0, 0, 0, 0, ...]   \n",
       "4  [0, 0, 0, 0, 0, 0, 0, 0, 0, 0, 0, 0, 0, 0, 0, 0, 0, 0, 0, 0, 0, 0, 0, 0, 0, 0, 0, 0, 0, 0, 0, 0, 0, 0, 0, 0, 0, 0, 0, 0, 0, 0, 0, 0, 0, 1, 0, 0, 1, 0, 0, 0, 0, 0, 0, 0, 0, 0, 0, 0, 0, 0, 0, 0, 0, 0, 0, 0, 0, 0, 0, 0, 0, 0, 0, 0, 0, 0, 0, 0, 1, 0, 0, 0, 0, 0, 0, 0, 0, 0, 0, 0, 0, 0, 0, 0, 0, 0, 0, 0, ...]   \n",
       "\n",
       "                                                                                                                                                                                                                                    SparseFingerprintBits  \n",
       "0     51 72 80 87 259 361 369 378 417 479 489 506 560 590 650 652 674 678 711 739 788 790 806 807 881 926 935 1009 1019 1026 1057 1089 1114 1152 1163 1171 1309 1325 1357 1380 1384 1452 1480 1506 1750 1764 1807 1810 1853 1859 1860 1873 1917 1973 2009  \n",
       "1                      1 43 80 87 276 323 335 339 360 378 464 479 489 674 711 741 790 806 808 890 926 935 944 1019 1026 1028 1051 1089 1114 1152 1160 1161 1171 1256 1325 1348 1357 1380 1384 1452 1506 1535 1634 1706 1739 1750 1810 1873 1876 1897 1978  \n",
       "2                                              29 51 72 80 87 169 259 312 350 369 378 479 489 565 650 711 788 806 809 881 904 926 1019 1025 1026 1057 1114 1152 1154 1163 1171 1325 1357 1380 1430 1452 1454 1476 1506 1524 1561 1671 1750 1810 1873 2018  \n",
       "3          43 80 87 141 225 226 276 294 323 350 378 464 479 489 585 602 650 674 675 711 723 741 790 806 872 923 926 935 1026 1057 1060 1089 1114 1152 1160 1171 1256 1357 1380 1384 1452 1476 1502 1506 1535 1700 1750 1810 1817 1873 1876 1897 1915 1971  \n",
       "4  45 48 80 114 187 197 213 218 226 294 311 378 455 479 503 510 546 548 607 638 650 711 739 806 807 817 819 887 926 935 1009 1019 1039 1057 1092 1104 1114 1123 1152 1225 1228 1231 1380 1452 1453 1454 1506 1535 1549 1750 1799 1826 1873 1917 1928 2009  "
      ]
     },
     "execution_count": 10,
     "metadata": {},
     "output_type": "execute_result"
    }
   ],
   "source": [
    "janus_df.head()"
   ]
  },
  {
   "cell_type": "markdown",
   "metadata": {},
   "source": [
    "### Extract Nearby Neighbors of parecoxib\n",
    "***"
   ]
  },
  {
   "cell_type": "code",
   "execution_count": 11,
   "metadata": {},
   "outputs": [],
   "source": [
    "parecoxib = cox2_df[cox2_df['title'] == 'Parecoxib']\n",
    "anitrazafen = cox2_df[cox2_df['title'] == 'Anitrazafen']\n",
    "celecoxib = cox2_df[cox2_df['title'] == 'Celecoxib']\n",
    "cimicoxib = cox2_df[cox2_df['title'] == 'Cimicoxib']\n",
    "deracoxib = cox2_df[cox2_df['title'] == 'Deracoxib']"
   ]
  },
  {
   "cell_type": "markdown",
   "metadata": {},
   "source": [
    "### Flip Bits\n",
    "***"
   ]
  },
  {
   "cell_type": "code",
   "execution_count": 12,
   "metadata": {},
   "outputs": [],
   "source": [
    "def flip_bits(vector: List[int], positions: List[int]) -> List[int]:\n",
    "    \"\"\"Flip the bits at the given positions in the vector.\"\"\"\n",
    "    flipped_vector = vector.copy()\n",
    "    for position in positions:\n",
    "        flipped_vector[position] = 1 - flipped_vector[position]\n",
    "    return flipped_vector\n",
    "\n",
    "def batched_random_bit_flipping(fingerprint: List[int], batch_size: int) -> List[Tuple[List[int], List[int]]]:\n",
    "    \"\"\"Perform batched random bit flipping on the fingerprint.\"\"\"\n",
    "    total_bits = len(fingerprint)\n",
    "    all_positions = list(range(total_bits))\n",
    "    random.shuffle(all_positions)\n",
    "    \n",
    "    results = []\n",
    "    for i in range(0, total_bits, batch_size):\n",
    "        batch_positions = all_positions[i:i+batch_size]\n",
    "        flipped_fingerprint = flip_bits(fingerprint, batch_positions)\n",
    "        results.append((batch_positions, flipped_fingerprint))\n",
    "    \n",
    "    return results\n",
    "\n",
    "def sparse_to_dense(sparse_fingerprint: List[int], size: int = 2048) -> List[int]:\n",
    "    \"\"\"Convert sparse fingerprint to dense fingerprint.\"\"\"\n",
    "    dense = [0] * size\n",
    "    for bit in sparse_fingerprint:\n",
    "        dense[bit] = 1\n",
    "    return dense\n",
    "\n",
    "def dense_to_sparse(dense_fingerprint: List[int]) -> List[int]:\n",
    "    \"\"\"Convert dense fingerprint to sparse fingerprint.\"\"\"\n",
    "    return [i for i, bit in enumerate(dense_fingerprint) if bit == 1]\n",
    "\n",
    "def generate_flipped_fingerprints(row: pd.Series, batch_size: int) -> List[dict]:\n",
    "    \"\"\"Generate batched random bit flipped fingerprints for a single row.\"\"\"\n",
    "    dense_fingerprint = row['FingerprintBits']\n",
    "    sparse_fingerprint = row['SparseFingerprintBits']\n",
    "\n",
    "    flipped_results = batched_random_bit_flipping(dense_fingerprint, batch_size)\n",
    "\n",
    "    new_rows = []\n",
    "    for positions, flipped_dense in flipped_results:\n",
    "        flipped_sparse = dense_to_sparse(flipped_dense)\n",
    "        new_row = {\n",
    "            'title': row['title'],\n",
    "            'SMILES': row['SMILES'],\n",
    "            'FingerprintBits': dense_fingerprint,\n",
    "            'SparseFingerprintBits': sparse_fingerprint,\n",
    "            'FingerprintBitsFlipped': flipped_dense,\n",
    "            'SparseFingerprintBitsFlipped': flipped_sparse,\n",
    "            'FlippedBitPositions': positions\n",
    "        }\n",
    "        new_rows.append(new_row)\n",
    "\n",
    "    return new_rows\n",
    "\n",
    "\n",
    "def process_dataframe(df: pd.DataFrame, batch_size: int) -> pd.DataFrame:\n",
    "    \"\"\"Process the entire dataframe and generate batched random bit flipped fingerprints.\"\"\"\n",
    "    all_new_rows = []\n",
    "    for _, row in df.iterrows():\n",
    "        new_rows = generate_flipped_fingerprints(row, batch_size)\n",
    "        all_new_rows.extend(new_rows)\n",
    "\n",
    "    return pd.DataFrame(all_new_rows)"
   ]
  },
  {
   "cell_type": "code",
   "execution_count": 13,
   "metadata": {},
   "outputs": [],
   "source": [
    "# 2 random bit flips\n",
    "parecoxib_df_2_random_flips = process_dataframe(parecoxib, 2)\n",
    "anitrazafen_df_2_random_flips = process_dataframe(anitrazafen, 2)\n",
    "celecoxib_df_2_random_flips = process_dataframe(celecoxib, 2)\n",
    "cimicoxib_df_2_random_flips = process_dataframe(cimicoxib, 2)\n",
    "deracoxib_df_2_random_flips = process_dataframe(deracoxib, 2)"
   ]
  },
  {
   "cell_type": "code",
   "execution_count": 14,
   "metadata": {},
   "outputs": [],
   "source": [
    "# 4 random bit flips\n",
    "parecoxib_df_4_random_flips = process_dataframe(parecoxib, 4)\n",
    "anitrazafen_df_4_random_flips = process_dataframe(anitrazafen, 4)\n",
    "celecoxib_df_4_random_flips = process_dataframe(celecoxib, 4)\n",
    "cimicoxib_df_4_random_flips = process_dataframe(cimicoxib, 4)\n",
    "deracoxib_df_4_random_flips = process_dataframe(deracoxib, 4)"
   ]
  },
  {
   "cell_type": "code",
   "execution_count": 15,
   "metadata": {},
   "outputs": [],
   "source": [
    "# 8 random bit flips\n",
    "parecoxib_df_8_random_flips = process_dataframe(parecoxib, 8)\n",
    "anitrazafen_df_8_random_flips = process_dataframe(anitrazafen, 8)\n",
    "celecoxib_df_8_random_flips = process_dataframe(celecoxib, 8)\n",
    "cimicoxib_df_8_random_flips = process_dataframe(cimicoxib, 8)\n",
    "deracoxib_df_8_random_flips = process_dataframe(deracoxib, 8)"
   ]
  },
  {
   "cell_type": "code",
   "execution_count": 16,
   "metadata": {},
   "outputs": [],
   "source": [
    "# 128 random bit flips\n",
    "parecoxib_df_128_random_flips = process_dataframe(parecoxib, 128)\n",
    "anitrazafen_df_128_random_flips = process_dataframe(anitrazafen, 128)\n",
    "celecoxib_df_128_random_flips = process_dataframe(celecoxib, 128)\n",
    "cimicoxib_df_128_random_flips = process_dataframe(cimicoxib, 128)\n",
    "deracoxib_df_128_random_flips = process_dataframe(deracoxib, 128)"
   ]
  },
  {
   "cell_type": "code",
   "execution_count": 17,
   "metadata": {},
   "outputs": [],
   "source": [
    "# 1024 random bit flips\n",
    "parecoxib_df_1024_random_flips = process_dataframe(parecoxib, 1024)\n",
    "anitrazafen_df_1024_random_flips = process_dataframe(anitrazafen, 1024)\n",
    "celecoxib_df_1024_random_flips = process_dataframe(celecoxib, 1024)\n",
    "cimicoxib_df_1024_random_flips = process_dataframe(cimicoxib, 1024)\n",
    "deracoxib_df_1024_random_flips = process_dataframe(deracoxib, 1024)"
   ]
  },
  {
   "cell_type": "markdown",
   "metadata": {},
   "source": [
    "### MolForge predictions on flipped fingerprints\n",
    "***\n"
   ]
  },
  {
   "cell_type": "code",
   "execution_count": 18,
   "metadata": {},
   "outputs": [],
   "source": [
    "# Set user directory\n",
    "USER_DIR = os.path.expanduser('~')\n",
    "\n",
    "# Path to the conda environment to MolForge\n",
    "CONDA_ENV_PATH = os.path.join(USER_DIR, 'conda/envs/molforge/bin/python')\n",
    "MOLFORGE_DIR = os.path.join(USER_DIR, 'MolForge')\n",
    "MOLFORGE_SCRIPT_PATH = os.path.join(USER_DIR, 'MolForge/predict.py')\n",
    "WORKERS = 4"
   ]
  },
  {
   "cell_type": "code",
   "execution_count": 19,
   "metadata": {},
   "outputs": [],
   "source": [
    "def convert_spaced_smiles(spaced_smiles):\n",
    "    compact_smiles = spaced_smiles.replace(\" \", \"\")\n",
    "    mol = Chem.MolFromSmiles(compact_smiles)\n",
    "    if mol is not None:\n",
    "        return Chem.MolToSmiles(mol, isomericSmiles=False)\n",
    "    else:\n",
    "        return \"Invalid SMILES string\""
   ]
  },
  {
   "cell_type": "code",
   "execution_count": 20,
   "metadata": {},
   "outputs": [],
   "source": [
    "def run_molforge(fp_input):\n",
    "    # Ensure fp_input is a string\n",
    "    if isinstance(fp_input, list):\n",
    "        fp_input_str = ' '.join(map(str, fp_input))\n",
    "    else:\n",
    "        fp_input_str = fp_input\n",
    "    \n",
    "    command = [\n",
    "        CONDA_ENV_PATH,\n",
    "        MOLFORGE_SCRIPT_PATH,\n",
    "        \"--fp=ECFP4\",\n",
    "        \"--model_type=smiles\",\n",
    "        f\"--input={fp_input_str}\"\n",
    "    ]\n",
    "    \n",
    "    try:\n",
    "        result = subprocess.run(\n",
    "            command,\n",
    "            capture_output=True,\n",
    "            text=True,\n",
    "            check=True,\n",
    "            cwd=MOLFORGE_DIR,\n",
    "            env=os.environ.copy()\n",
    "        )\n",
    "    except subprocess.CalledProcessError as e:\n",
    "        print(f\"Error running MolForge: {e}\")\n",
    "        print(f\"Error output: {e.stderr}\")\n",
    "        return \"Error\", \"Error\"\n",
    "    \n",
    "    spaced_smiles = None\n",
    "    device_used = None\n",
    "    output_lines = result.stdout.splitlines()\n",
    "    \n",
    "    for line in output_lines:\n",
    "        if \"Result:\" in line:\n",
    "            spaced_smiles = line.split(\"Result:\")[1].strip()\n",
    "        if \"rank :\" in line:\n",
    "            device_used = line.split(\"rank :\")[1].strip()\n",
    "    \n",
    "    if spaced_smiles:\n",
    "        compact_smiles = convert_spaced_smiles(spaced_smiles)\n",
    "    else:\n",
    "        compact_smiles = \"No Result\"\n",
    "\n",
    "    return compact_smiles, device_used"
   ]
  },
  {
   "cell_type": "code",
   "execution_count": 21,
   "metadata": {},
   "outputs": [],
   "source": [
    "def process_row(row):\n",
    "    fp_input = row['SparseFingerprintBitsFlipped']\n",
    "    compact_smiles, device_used = run_molforge(fp_input)\n",
    "    return compact_smiles, device_used\n",
    "\n",
    "def process_dataframe(df, max_rows=None):\n",
    "    if max_rows:\n",
    "        df = df.head(max_rows)\n",
    "    \n",
    "    total = len(df)\n",
    "    with ThreadPoolExecutor(max_workers=WORKERS) as executor:\n",
    "        futures = {executor.submit(process_row, row): idx for idx, row in df.iterrows()}\n",
    "        \n",
    "        for i, future in enumerate(as_completed(futures)):\n",
    "            idx = futures[future]\n",
    "            result, device_used = future.result()\n",
    "            df.at[idx, 'Generated_SMILES'] = result\n",
    "            df.at[idx, 'Device_Used'] = device_used\n",
    "            if (i + 1) % 100 == 0 or (i + 1) == total:\n",
    "                print(f\"Processed molecule {i + 1}/{total}\")\n",
    "    \n",
    "    return df"
   ]
  },
  {
   "cell_type": "code",
   "execution_count": 22,
   "metadata": {},
   "outputs": [
    {
     "name": "stdout",
     "output_type": "stream",
     "text": [
      "Processed molecule 100/1024\n",
      "Processed molecule 200/1024\n",
      "Processed molecule 300/1024\n",
      "Processed molecule 400/1024\n",
      "Processed molecule 500/1024\n",
      "Processed molecule 600/1024\n",
      "Processed molecule 700/1024\n",
      "Processed molecule 800/1024\n",
      "Processed molecule 900/1024\n",
      "Processed molecule 1000/1024\n",
      "Processed molecule 1024/1024\n",
      "Processed molecule 100/512\n",
      "Processed molecule 200/512\n",
      "Processed molecule 300/512\n",
      "Processed molecule 400/512\n",
      "Processed molecule 500/512\n",
      "Processed molecule 512/512\n",
      "Processed molecule 100/256\n"
     ]
    },
    {
     "name": "stderr",
     "output_type": "stream",
     "text": [
      "[17:12:55] SMILES Parse Error: unclosed ring for input: 'CCC(=O)NS(=O)(=O)C1=CC=C(C=C1)C2=NOC3=C2CC4=C(C(=NO4)C5=CC=CC=C5)C6=CC=CC=C6'\n"
     ]
    },
    {
     "name": "stdout",
     "output_type": "stream",
     "text": [
      "Processed molecule 200/256\n",
      "Processed molecule 256/256\n"
     ]
    },
    {
     "name": "stderr",
     "output_type": "stream",
     "text": [
      "[17:13:59] SMILES Parse Error: unclosed ring for input: 'CC/C(=C\\1/C(=C=C=C=C=C=C=C=C=C=C=C=C=C=C=C=C=C=C=C=C=C=C=C=C=C=C=C=C=C=C=C=C=C=C=C=C=C=C=C=C=O)C#C=C=O)/CC'\n",
      "[17:13:59] SMILES Parse Error: unclosed ring for input: 'CC/C(=C/1\\C(=C(/C(=C/2\\C(=C(C(=C(CC)CC)C(=C3C=CON3)C2=C(CC)CC)C4=CC=C(O4)CC)CC)/CC)\\O)C(=C(O)O)CC)/[NH2+][CH]CC'\n",
      "[17:14:05] SMILES Parse Error: unclosed ring for input: 'CCC(=O)NS(=O)(=O)C1=CC=C(C=C1)C2=C3C=CC=C4C3=CP(=N4)(C2)SNP5(=C6C=CC=C7C6=C8C=CC=CC8=N5)N[Si](C)(C)C'\n",
      "[17:14:08] SMILES Parse Error: unclosed ring for input: 'CC/C(=C\\1/C=CC(=C([N+]#N)O)C=C1)/NS(=O)(=O)C2=CC=C(C=C2)[Si](CC)(CC)CC3=NN=C4C=CC(=C5C=CC(=NN5)C6=CC=CC=C6)C=C4[Si](CC)(CC)CC'\n"
     ]
    },
    {
     "name": "stdout",
     "output_type": "stream",
     "text": [
      "Processed molecule 16/16\n",
      "Processed molecule 2/2\n"
     ]
    },
    {
     "name": "stderr",
     "output_type": "stream",
     "text": [
      "[17:14:10] SMILES Parse Error: syntax error while parsing: C1=C(C(=C2C1=CC(=C3C2=C(S3)C(=O)OCC4[CH]C(=C5C4=CC(=C6SC(=C7SC(=CC(=C8S7)C(=C6S5)C(=C8)C)C(=O)OCS9)SP(S5)S)SP(S7)SC)S7)S5)S7)C(S7)C(\n",
      "[17:14:10] SMILES Parse Error: Failed parsing SMILES 'C1=C(C(=C2C1=CC(=C3C2=C(S3)C(=O)OCC4[CH]C(=C5C4=CC(=C6SC(=C7SC(=CC(=C8S7)C(=C6S5)C(=C8)C)C(=O)OCS9)SP(S5)S)SP(S7)SC)S7)S5)S7)C(S7)C(' for input: 'C1=C(C(=C2C1=CC(=C3C2=C(S3)C(=O)OCC4[CH]C(=C5C4=CC(=C6SC(=C7SC(=CC(=C8S7)C(=C6S5)C(=C8)C)C(=O)OCS9)SP(S5)S)SP(S7)SC)S7)S5)S7)C(S7)C('\n",
      "[17:14:10] SMILES Parse Error: extra open parentheses for input: 'C(C(C(C(C(C(C(C(C(C(C(C(C(C(C(C(C(C(C(C(C(C(C(C(C(C(C(C(C(C(C(C(C(C(C(CO)C(CO)CO)(CO)CO)[Se])CO)(F)[Se])O)O)O)O)O)O)O)(F)[Se]CO)O)O)O)O)O)'\n"
     ]
    }
   ],
   "source": [
    "parecoxib_df_2_random_flips = process_dataframe(parecoxib_df_2_random_flips)\n",
    "parecoxib_df_2_random_flips.to_parquet(os.path.join(OUTPUT_DIR, 'parecoxib_df_2_random_flips.parquet'), index=False)\n",
    "\n",
    "parecoxib_df_4_random_flips = process_dataframe(parecoxib_df_4_random_flips)\n",
    "parecoxib_df_4_random_flips.to_parquet(os.path.join(OUTPUT_DIR, 'parecoxib_df_4_random_flips.parquet'), index=False)\n",
    "\n",
    "parecoxib_df_8_random_flips = process_dataframe(parecoxib_df_8_random_flips)\n",
    "parecoxib_df_8_random_flips.to_parquet(os.path.join(OUTPUT_DIR, 'parecoxib_df_8_random_flips.parquet'), index=False)\n",
    "\n",
    "parecoxib_df_128_random_flips = process_dataframe(parecoxib_df_128_random_flips)\n",
    "parecoxib_df_128_random_flips.to_parquet(os.path.join(OUTPUT_DIR, 'parecoxib_df_128_random_flips.parquet'), index=False)\n",
    "\n",
    "parecoxib_df_1024_random_flips = process_dataframe(parecoxib_df_1024_random_flips)\n",
    "parecoxib_df_1024_random_flips.to_parquet(os.path.join(OUTPUT_DIR, 'parecoxib_df_1024_random_flips.parquet'), index=False)"
   ]
  },
  {
   "cell_type": "code",
   "execution_count": 23,
   "metadata": {},
   "outputs": [
    {
     "name": "stdout",
     "output_type": "stream",
     "text": [
      "Processed molecule 100/1024\n",
      "Processed molecule 200/1024\n",
      "Processed molecule 300/1024\n",
      "Processed molecule 400/1024\n",
      "Processed molecule 500/1024\n",
      "Processed molecule 600/1024\n",
      "Processed molecule 700/1024\n",
      "Processed molecule 800/1024\n",
      "Processed molecule 900/1024\n",
      "Processed molecule 1000/1024\n",
      "Processed molecule 1024/1024\n"
     ]
    },
    {
     "name": "stderr",
     "output_type": "stream",
     "text": [
      "[17:24:36] SMILES Parse Error: unclosed ring for input: 'CC1=NC2=NC(=C(N=N1)C3=CC=C(C=C3)OC)C4=CC=C(C=C4)OC'\n",
      "[17:24:39] SMILES Parse Error: unclosed ring for input: 'CC1=NC(=C(N=N1)C2=CC=C(C=C2)OC)S3(C4=NC(=C(N=N4)C5=CC=C(C=C5)OC)C6=CC=C(C=C6)OC)OC'\n",
      "[17:24:39] SMILES Parse Error: unclosed ring for input: 'CC1=NC2=NC(=C(N=N2)C3=CC=C(C=C3)OC)C4=CC=C(C=C4)OC'\n"
     ]
    },
    {
     "name": "stdout",
     "output_type": "stream",
     "text": [
      "Processed molecule 100/512\n",
      "Processed molecule 200/512\n",
      "Processed molecule 300/512\n",
      "Processed molecule 400/512\n"
     ]
    },
    {
     "name": "stderr",
     "output_type": "stream",
     "text": [
      "[17:28:08] SMILES Parse Error: unclosed ring for input: 'CC1=NC2=NC(=C(N=N2)C3=CC=C(C=C3)OC)C4=CC=C(C=C4)OC'\n"
     ]
    },
    {
     "name": "stdout",
     "output_type": "stream",
     "text": [
      "Processed molecule 500/512\n",
      "Processed molecule 512/512\n"
     ]
    },
    {
     "name": "stderr",
     "output_type": "stream",
     "text": [
      "[17:28:30] SMILES Parse Error: unclosed ring for input: 'CC1=NC2=NN=C(C(=N1)C3=NC(=C(N=N3)C4=CC=C(C=C4)OC)C5=CC=C(C=C5)OC)C6=CC=C(C=C6)OC'\n",
      "[17:28:33] SMILES Parse Error: unclosed ring for input: 'CC1=NC2=NC(=C(N=N1)C3=CC=C(C=C3)OC)N=NC4=NC(=C(N=N4)C5=CC=C(C=C5)OC)C6=CC=C(C=C6)OC'\n",
      "[17:28:33] SMILES Parse Error: unclosed ring for input: 'CC1=NC2=C(N=NC(=N1)C3=NC(=C(N=N3)C4=CC=C(C=C4)OC)C5=CC=C(C=C5)OC)C6=CC=C(C=C6)OC'\n",
      "[17:28:35] SMILES Parse Error: unclosed ring for input: 'CC1=NC2=C(N=N1)C3=NC(=C(N=N3)C4=CC=C(C=C4)OC)C5=C(N=C(N=N5)C)C6=CC=C(C=C6)OC'\n",
      "[17:28:40] SMILES Parse Error: unclosed ring for input: 'CC1=NC(=C(N=N1)C2=CC=C(C=C2)OC)P3(=P(C4=NC(=C(N=N4)C5=CC=C(C=C5)OC)C6=CC=C(C=C6)OC)(OC)OC)OC'\n",
      "[17:28:40] SMILES Parse Error: unclosed ring for input: 'CC1=NC2=NC(=C(N=N1)C3=CC=C(C=C3)OC)N=NC4=NC(=C(N=N4)C5=CC=C(C=C5)OC)C6=CC=C(C=C6)OC'\n",
      "[17:28:44] SMILES Parse Error: unclosed ring for input: 'CC1=NC2=NC(=C(N=N1)C3=CC=C(C=C3)OC)C4=C(N=C(N=N4)OC)C5=CC=C(C=C5)OC'\n",
      "[17:28:44] SMILES Parse Error: unclosed ring for input: 'CC1=NC2=NC(=C(N=N1)C3=CC=C(C=C3)OC)N=NC4=NC(=C(N=N4)C5=CC=C(C=C5)OC)C6=CC=C(C=C6)OC'\n",
      "[17:28:49] SMILES Parse Error: unclosed ring for input: 'CC1=NC2=C(N=N1)C3=NC(=C(N=N3)C4=CC=C(C=C4)OC)C5=C(N=C(N=N5)C)C6=CC=C(C=C6)OC'\n",
      "[17:28:51] SMILES Parse Error: unclosed ring for input: 'CC1=NC2=C(N=N1)C3=NC(=C(N=N3)C4=CC=C(C=C4)OC)C5=C(N=C(N=N5)C)C6=CC=C(C=C6)OC'\n",
      "[17:28:53] SMILES Parse Error: unclosed ring for input: 'CC1=NC2=NC(=C(N=N1)C3=CC=C(C=C3)OC)N=NC4=NC(=C(N=N4)C5=CC=C(C=C5)OC)C6=CC=C(C=C6)OC'\n",
      "[17:29:03] SMILES Parse Error: unclosed ring for input: 'CC1=NC2=NC(=C(N=N1)C3=CC=C(C=C3)OC)N=NC4=NC(=C(N=N4)C5=CC=C(C=C5)OC)C6=CC=C(C=C6)OC'\n",
      "[17:29:07] SMILES Parse Error: unclosed ring for input: 'CC1=NC2=NC(=C(N=N1)C3=CC=C(C=C3)OC)N=NC4=NC(=C(N=N4)C5=CC=C(C=C5)OC)C6=CC=C(C=C6)OC'\n",
      "[17:29:07] SMILES Parse Error: unclosed ring for input: 'CC1=NC2=NC(=C(N=N1)C3=CC=C(C=C3)OC)N=NC4=NC(=C(N=N4)C5=CC=C(C=C5)OC)C6=CC=C(C=C6)OC'\n",
      "[17:29:16] SMILES Parse Error: unclosed ring for input: 'CC1=NC2=NC(=C(N=N1)C3=CC=C(C=C3)OC)N=NC4=NC(=C(N=N4)C5=CC=C(C=C5)OC)C6=CC=C(C=C6)OC'\n",
      "[17:29:21] SMILES Parse Error: unclosed ring for input: 'CC1=NC2=NC(=C(N=N1)C3=CC=C(C=C3)OC)N=NC4=NC(=C(N=N4)C5=CC=C(C=C5)OC)C6=CC=C(C=C6)OC'\n",
      "[17:29:24] SMILES Parse Error: unclosed ring for input: 'CC1=NC2=NC(=C(N=N1)C3=CC=C(C=C3)OC)N=NC4=NC(=C(N=N4)C5=CC=C(C=C5)OC)C6=CC=C(C=C6)OC'\n"
     ]
    },
    {
     "name": "stdout",
     "output_type": "stream",
     "text": [
      "Processed molecule 100/256\n"
     ]
    },
    {
     "name": "stderr",
     "output_type": "stream",
     "text": [
      "[17:29:31] SMILES Parse Error: unclosed ring for input: 'CC1=NC2=NC(=C(N=N1)C3=CC=C(C=C3)OC)N=NC4=NC(=C(N=N4)C5=CC=C(C=C5)OC)C6=CC=C(C=C6)OC'\n",
      "[17:29:33] SMILES Parse Error: unclosed ring for input: '[B-]1(C2=CC=C(C=C2)C3=C(N=C(N=N3)C)C4=CC=C(C=C4)OC)(C5=NC(=C(N=N5)C6=CC=C(C=C6)OC)C7=CC=C(C=C7)OC)C8=CC=C(C=C8)OC'\n",
      "[17:29:35] SMILES Parse Error: unclosed ring for input: 'CC1=NC2=NC(=C(N=N1)C3=CC=C(C=C3)OC)C4=CC=C(C=C4)C5=C(N=C(N=N5)C)C6=CC=C(C=C6)OC'\n",
      "[17:29:36] SMILES Parse Error: unclosed ring for input: 'CC1=NC(=C(N=N1)C2=CC=C(C=C2)OC)C3=C=C=C=C=C=C=C=C=C=C=C=C=C=C=C=C=C=C=C=C=C=C=C=C=C=CC4=NC(=C(N=N4)C5=CC=C(C=C5)OC)C'\n",
      "[17:29:38] SMILES Parse Error: unclosed ring for input: 'CC1=NC2=NC(=C(N=N1)C3=CC=C(C=C3)OC)C4=C(N=C(N=N4)OC)C5=CC=C(C=C5)OC'\n",
      "[17:29:42] SMILES Parse Error: unclosed ring for input: 'CC1=NC2=C(N=N1)C3=NC(=C(N=N3)C4=CC=C(C=C4)OC)C5=C(N=C(N=N5)C)C6=CC=C(C=C6)OC'\n",
      "[17:29:42] SMILES Parse Error: unclosed ring for input: 'CC1=NC2=NC(=C(N=N1)C3=CC=C(C=C3)OC)C4=NC(=C(N=N4)C5=CC=C(C=C5)OC)C6=CC=C(C=C6)OC'\n",
      "[17:29:44] SMILES Parse Error: unclosed ring for input: 'CC1=NC(=C(N=N1)C2=CC=C(C=C2)OC)OS3(C4=NC(=C(N=N4)C5=CC=C(C=C5)OC)C6=CC=C(C=C6)OC)OC'\n",
      "[17:29:46] SMILES Parse Error: unclosed ring for input: 'CC1=NC2=NC(=C(N=N1)C3=CC=C(C=C3)OC)C4=CC=C(C=C4)OC'\n",
      "[17:29:51] SMILES Parse Error: unclosed ring for input: 'CC1=NC2=NC(=C(N=N1)C3=CC=C(C=C3)OC)N=NC4=NC(=C(N=N4)C5=CC=C(C=C5)OC)C6=CC=C(C=C6)OC'\n",
      "[17:29:56] SMILES Parse Error: unclosed ring for input: 'CC1=NC2=NC(=C(N=N1)C3=CC=C(C=C3)OC)N=NC4=NC(=C(N=N4)C5=CC=C(C=C5)OC)C6=CC=C(C=C6)OC'\n",
      "[17:30:01] SMILES Parse Error: unclosed ring for input: 'CC1=NC2=NC(=C(N=N1)C3=CC=C(C=C3)OC)N=NC4=NC(=C(N=N4)C5=CC=C(C=C5)OC)C6=CC=C(C=C6)OC'\n",
      "[17:30:01] SMILES Parse Error: unclosed ring for input: 'CC1=NC2=NC(=C(N=N1)C3=CC=C(C=C3)OC)N=NC4=NC(=C(N=N4)C5=CC=C(C=C5)OC)C6=CC=C(C=C6)OC'\n",
      "[17:30:03] SMILES Parse Error: unclosed ring for input: 'CC1=NC2=NC(=C(N=N1)C3=CC=C(C=C3)OC)N=NC4=NC(=C(N=N4)C5=CC=C(C=C5)OC)C6=CC=C(C=C6)OC'\n",
      "[17:30:08] SMILES Parse Error: unclosed ring for input: 'B1(C2=C(N=NC(=N2)C)C3=CC=C(C=C3)OC)C4=NC(=C(N=N4)C5=CC=C(C=C5)OC)C6=CC=C(C=C6)OC'\n",
      "[17:30:08] SMILES Parse Error: unclosed ring for input: 'CC1=NC2=C(N=N1)C3=NC(=C(N=N3)C4=CC=C(C=C4)OC)C5=C(N=C(N=N5)C)C6=CC=C(C=C6)OC'\n",
      "[17:30:10] SMILES Parse Error: unclosed ring for input: 'CC1=NC2=NC(=C(N=N1)C3=CC=C(C=C3)OC)N=NC4=NC(=C(N=N4)C5=CC=C(C=C5)OC)C6=CC=C(C=C6)OC'\n",
      "[17:30:12] SMILES Parse Error: unclosed ring for input: 'CC1=NC2=C(N=N1)C3=C(N=C(C(=N3)C4=CC=C(C=C4)OC)C5=C(N=C(N=N5)C)C6=CC=C(C=C6)OC)C7=CC=C(C=C7)OC'\n",
      "[17:30:15] SMILES Parse Error: unclosed ring for input: 'CC1=NC2(C(=N1)C3=C(N=NC(=N3)C)C4=CC=C(C=C4)OC)C5=NC(=C(N=N5)C6=CC=C(C=C6)OC)C7=CC=C(C=C7)OC'\n",
      "[17:30:15] SMILES Parse Error: unclosed ring for input: 'CC1=NC2=NC(=C(N=N1)C3=CC=C(C=C3)OC)N=NC4=NC(=C(N=N4)C5=CC=C(C=C5)OC)C6=CC=C(C=C6)OC'\n",
      "[17:30:18] SMILES Parse Error: unclosed ring for input: 'CC1=NC2=NC(=C(N=N1)C3=CC=C(C=C3)OC)N=NC4=NC(=C(N=N4)C5=CC=C(C=C5)OC)C6=CC=C(C=C6)OC'\n",
      "[17:30:18] SMILES Parse Error: unclosed ring for input: 'CC1=NC2=NC(=C(N=N1)C3=CC=C(C=C3)OC)N=NC4=NC(=C(N=N4)C5=CC=C(C=C5)OC)C6=CC=C(C=C6)OC'\n"
     ]
    },
    {
     "name": "stdout",
     "output_type": "stream",
     "text": [
      "Processed molecule 200/256\n"
     ]
    },
    {
     "name": "stderr",
     "output_type": "stream",
     "text": [
      "[17:30:24] SMILES Parse Error: unclosed ring for input: 'CC1=NC2=NC(=C(N=N1)C3=CC=C(C=C3)OC)C4=C(N=C(N=N4)C)C5=CC=C(C=C5)OC'\n",
      "[17:30:25] SMILES Parse Error: unclosed ring for input: 'CC1=NC2=NC(=C(N=N1)C3=CC=C(C=C3)OC)C4=C(N=C(N=N4)OC)C5=CC=C(C=C5)OC'\n",
      "[17:30:25] SMILES Parse Error: unclosed ring for input: 'CC1=NC2=NC(=C(N=N1)C3=CC=C(C=C3)OC)N=NC4=NC(=C(N=N4)C5=CC=C(C=C5)OC)C6=CC=C(C=C6)OC'\n",
      "[17:30:27] SMILES Parse Error: unclosed ring for input: 'CC1=NC2=NC(=C(N=N1)C3=CC=C(C=C3)OC)C4=CC=C(C=C4)OC'\n",
      "[17:30:27] SMILES Parse Error: unclosed ring for input: 'CC1=NC2=NC(=C(N=N1)C3=CC=C(C=C3)OC)N=NC4=NC(=C(N=N4)C5=CC=C(C=C5)OC)C6=CC=C(C=C6)OC'\n",
      "[17:30:32] SMILES Parse Error: unclosed ring for input: 'CC1=NC2=NC(=C(N=N1)C3=CC=C(C=C3)OC)C4=NC(=C(N=N4)C5=CC=C(C=C5)OC)C6=CC=C(C=C6)OC'\n",
      "[17:30:35] SMILES Parse Error: unclosed ring for input: 'CC1=NC2=NC(=C(N=N1)C3=CC=C(C=C3)OC)N=NC4=NC(=C(N=N4)C5=CC=C(C=C5)OC)C6=CC=C(C=C6)OC'\n",
      "[17:30:44] SMILES Parse Error: unclosed ring for input: 'CC1=NC2=C(N=N1)C3=NC(=C(N=N3)C4=CC=C(C=C4)OC)C5=CC=C(C=C5)OC'\n",
      "[17:30:44] SMILES Parse Error: unclosed ring for input: 'CC1=NC2=C(N=NC(=C(N=NC(=N1)C)C3=CC=C(C=C3)OC)C4=CC=C(C=C4)OC)C5=CC=C(C=C5)OC'\n",
      "[17:30:49] SMILES Parse Error: unclosed ring for input: 'CC1=NC2=NC(=C(N=N2)C3=CC=C(C=C3)OC)C4=NC(=C(N=N4)C5=CC=C(C=C5)OC)C6=CC=C(C=C6)OC'\n",
      "[17:30:53] SMILES Parse Error: unclosed ring for input: 'CC1=NC2=NC(=C(N=N2)C3=CC=C(C=C3)OC)C4=CC=C(C=C4)OC'\n"
     ]
    },
    {
     "name": "stdout",
     "output_type": "stream",
     "text": [
      "Processed molecule 256/256\n"
     ]
    },
    {
     "name": "stderr",
     "output_type": "stream",
     "text": [
      "[17:30:59] SMILES Parse Error: unclosed ring for input: 'B(C1=CC=C(C=C1)OC)(C2=CC=C(C=C2)OC)C3=C4C5=C(C(=NN=N5)[Se]C6=CC=C(C=C6)OC)N=N4'\n",
      "[17:30:59] SMILES Parse Error: unclosed ring for input: 'COC1=CC=C(C=C1)C2=C(N=NC(=N2)[N+](C3=CC=C(C=C3)OC)(C4=CC=C(C=C4)OC)C(=C5C=C6C(=NN=N6)C(=C7C=NN=N7)O)C(=[Se])OC)C8=CC=CCC=C8'\n",
      "[17:30:59] SMILES Parse Error: unclosed ring for input: 'COC1=CC=C(C=C1)C2=C(C(=NN=N2)C3=CC=C(C=C3)OC)C4=CC=C(C=C4)C5=C6C(=C7C=CC(=C8N=CC=N8)C=C7)N=N6'\n",
      "[17:31:02] SMILES Parse Error: unclosed ring for input: '[B](C1=C(C(=C=C=C2C(C(C(=C=C3C(C(C(=C=C4C(C(C(=C=C5C(=NN=N5)C6=CC=C(C=C6)OC)OC)S)S)C(=C=C4)OC)S)OC)S)S)C(=C2)OC)S)S)S'\n",
      "[17:31:04] SMILES Parse Error: unclosed ring for input: 'C[Si](C)(C)/C/1=C/2\\C(=C(N=N2)C3=CC=C(C=C3)OC)[Se]/C=C/4\\C=CC(=C/C=C/5\\C(=NOO5)C6=CC=C(C=C6)OC)[Se]C=C1'\n",
      "[17:31:05] SMILES Parse Error: unclosed ring for input: 'COC1=CC=C(C=C1)C2=C(N=NC(=N2)C3=CC=C(C=C3)OC)C4=CC(C(C(C4)O)OC(=O)C5=C6C(=NN=N6)C7=COC=C7)OO'\n",
      "[17:31:07] SMILES Parse Error: unclosed ring for input: 'COC1=CC=C(C=C1)C2=C(N=NC2=C3C4=CC=C(C=C4)OC)C5=CC=C(C=C5)C6=C7C=C8C(=NN=C9[N+]8=CN=N7)C=C=C=C9'\n",
      "[17:31:07] SMILES Parse Error: unclosed ring for input: 'CN(C)C1=C2C=C3C(=C4C=C5C=C6C=C7C=CC=C7C=C6C=C5C=C4C3=C=C2C=N1)C8=CC=C9C(=C8)C=C(C=C9)OC#CO9'\n",
      "[17:31:07] SMILES Parse Error: unclosed ring for input: 'COC1=CC=C(C=C1)C2=C(C(=NN=N2)C3=CC=C(C=C3)OC)C4=CC=C(C=C4)C5=C(C(=PC6=CC=C7C=CC(=CC=N7)OC)C=C5)C8=CC=C(C=C8)OC'\n"
     ]
    },
    {
     "name": "stdout",
     "output_type": "stream",
     "text": [
      "Processed molecule 16/16\n",
      "Processed molecule 2/2\n"
     ]
    },
    {
     "name": "stderr",
     "output_type": "stream",
     "text": [
      "[17:31:09] SMILES Parse Error: extra open parentheses for input: 'C1=C2C=C(C=C1C(C(C(C(C(C(C(C(C(C(C(C(C(C(C(C(F)(F)F)C(C(F)(F)F)C(C(F)(F)F)C(F)(F)F)C(F)(F)F)C(F)(F)F)(F)F)(F)F)(F)F)F)F)F)F)(F)F)'\n",
      "[17:31:09] SMILES Parse Error: unclosed ring for input: 'C(=C\\1/C(=C/2\\C(=C(C(=C2SP(S1)SC(P(S)P(S)P(P(P(P(P(P(P(P(F)F)S)P(F)F)P(F)F)S)S)SP(P(P(P(F)F)P(F)F)S)S5)S4)S3)S5=S=S)P(S5)S)S5)S5)'\n"
     ]
    }
   ],
   "source": [
    "anitrazafen_df_2_random_flips = process_dataframe(anitrazafen_df_2_random_flips)\n",
    "anitrazafen_df_2_random_flips.to_parquet(os.path.join(OUTPUT_DIR, 'anitrazafen_df_2_random_flips.parquet'), index=False)\n",
    "\n",
    "anitrazafen_df_4_random_flips = process_dataframe(anitrazafen_df_4_random_flips)\n",
    "anitrazafen_df_4_random_flips.to_parquet(os.path.join(OUTPUT_DIR, 'anitrazafen_df_4_random_flips.parquet'), index=False)\n",
    "\n",
    "anitrazafen_df_8_random_flips = process_dataframe(anitrazafen_df_8_random_flips)\n",
    "anitrazafen_df_8_random_flips.to_parquet(os.path.join(OUTPUT_DIR, 'anitrazafen_df_8_random_flips.parquet'), index=False)\n",
    "\n",
    "anitrazafen_df_128_random_flips = process_dataframe(anitrazafen_df_128_random_flips)\n",
    "anitrazafen_df_128_random_flips.to_parquet(os.path.join(OUTPUT_DIR, 'anitrazafen_df_128_random_flips.parquet'), index=False)\n",
    "\n",
    "anitrazafen_df_1024_random_flips = process_dataframe(anitrazafen_df_1024_random_flips)\n",
    "anitrazafen_df_1024_random_flips.to_parquet(os.path.join(OUTPUT_DIR, 'anitrazafen_df_1024_random_flips.parquet'), index=False)"
   ]
  },
  {
   "cell_type": "code",
   "execution_count": 24,
   "metadata": {},
   "outputs": [
    {
     "name": "stdout",
     "output_type": "stream",
     "text": [
      "Processed molecule 100/1024\n",
      "Processed molecule 200/1024\n",
      "Processed molecule 300/1024\n",
      "Processed molecule 400/1024\n",
      "Processed molecule 500/1024\n",
      "Processed molecule 600/1024\n",
      "Processed molecule 700/1024\n",
      "Processed molecule 800/1024\n",
      "Processed molecule 900/1024\n",
      "Processed molecule 1000/1024\n",
      "Processed molecule 1024/1024\n",
      "Processed molecule 100/512\n",
      "Processed molecule 200/512\n",
      "Processed molecule 300/512\n",
      "Processed molecule 400/512\n",
      "Processed molecule 500/512\n",
      "Processed molecule 512/512\n",
      "Processed molecule 100/256\n",
      "Processed molecule 200/256\n",
      "Processed molecule 256/256\n"
     ]
    },
    {
     "name": "stderr",
     "output_type": "stream",
     "text": [
      "[17:48:35] Explicit valence for atom # 34 C, 5, is greater than permitted\n",
      "[17:48:35] SMILES Parse Error: unclosed ring for input: 'CS(C)(C)CCC(C1=CC=CC=C1)(C2=CC3=CC4=CC=C5C(N4C6=NN=C7C=C(C=CC7=C6)C8=C9C=CC=CC9=C[N+]8=NN=N8)C[NH3+]=CC=C5C[NH3+])OON'\n",
      "[17:48:36] SMILES Parse Error: unclosed ring for input: 'C1=NC=C(C=C1)C2=C3C(=C4C=CC(=C5N4N=CN=CN5)C=C6N=CN=CN6)N=PN=C7N=CC(=CN=CN2)C=C7'\n",
      "[17:48:41] SMILES Parse Error: unclosed ring for input: 'C[C]1[CH][C]2[CH][C]([CH][C]2[CH]1)C(=C3[CH][CH][CH][C]3C(=O)[CH]4[CH][C]5[CH][CH][C]([CH]5)[C]6[C]7[C]([CH][CH][C]7[CH][CH][CH]6)C=C8[C]7N([CH][CH][CH]8)N=C9N=CN=NN9)C(=O)[C]1[CH][CH][C]([CH][CH]1)C(F)(F)F'\n",
      "[17:48:41] SMILES Parse Error: unclosed ring for input: 'C[Si](C)(C)N1C=C2C(=C1)N=NC3=CC(=CN23)S(=O)(=O)C4=CC5=C(C=C4)N=NC6=CC(=CN([CH]65)C(N)(N)N)N=N5'\n",
      "[17:48:41] SMILES Parse Error: extra open parentheses for input: '[B][N+](=C1C=C(C=C1C2=C(C(=C(C(=C2)C(=C3C=C(C=C3)C4=C(C(=C(C(=C4)C(=C5C(=CC(=N5)C(F)(F)F)C#N)C([B])(F)[B])C([B])([B])[B])C([B])([B])[B])[B])C)C)C([B])C([B])'\n",
      "[17:48:44] SMILES Parse Error: unclosed ring for input: 'C[Si](C)(C)N=C1C=C2C=C3C(=C4C=C5C(=C6C=C7C=CC(=C6)C(=C8C=CC(=C9C=CC(=C2)C=C89)C=C7N5C4=N3)SN)N)C1=C4'\n",
      "[17:48:44] SMILES Parse Error: unclosed ring for input: 'CC(C)(CC(=C1C=CC(=C2N=NN=N2)C=C1)C3=CC(=C(C(C)(C)C(C)(C)[O-])C(C)(C)[O-])C(C)(C)N4C=NN=N4)N5C=NC=N5'\n"
     ]
    },
    {
     "name": "stdout",
     "output_type": "stream",
     "text": [
      "Processed molecule 16/16\n"
     ]
    },
    {
     "name": "stderr",
     "output_type": "stream",
     "text": [
      "[17:48:46] SMILES Parse Error: extra close parentheses while parsing: C1=C2C(=CC1=C3C(=CC(=C4C(=CC(=C5C=C(C(=C6C(=CC(=N6)C7=CC(=CC(=C2)[N-]7)[S-])[S-])C(C5([S-])[S-])[S-])[S-])[CH]4)[S-])[S-])[CH][CH][CH][CH][CH]5)[S-])C(C([S-])(C[S-])[S-])[S-]\n",
      "[17:48:46] SMILES Parse Error: Failed parsing SMILES 'C1=C2C(=CC1=C3C(=CC(=C4C(=CC(=C5C=C(C(=C6C(=CC(=N6)C7=CC(=CC(=C2)[N-]7)[S-])[S-])C(C5([S-])[S-])[S-])[S-])[CH]4)[S-])[S-])[CH][CH][CH][CH][CH]5)[S-])C(C([S-])(C[S-])[S-])[S-]' for input: 'C1=C2C(=CC1=C3C(=CC(=C4C(=CC(=C5C=C(C(=C6C(=CC(=N6)C7=CC(=CC(=C2)[N-]7)[S-])[S-])C(C5([S-])[S-])[S-])[S-])[CH]4)[S-])[S-])[CH][CH][CH][CH][CH]5)[S-])C(C([S-])(C[S-])[S-])[S-]'\n"
     ]
    },
    {
     "name": "stdout",
     "output_type": "stream",
     "text": [
      "Processed molecule 2/2\n"
     ]
    },
    {
     "name": "stderr",
     "output_type": "stream",
     "text": [
      "[17:48:46] SMILES Parse Error: extra close parentheses while parsing: C1(=C2C(=C3C1=C4C(=C5C(=C(S4)P(C)C)C(C(C5(SP(C)C)P(C)C)P(C)C)(C(C(C(F)(F)F)OC(=S)C(C(F)(F)F)C(F)(F)F)C(F)(F)F)SP(C)C)C)C)C=S3)P(C\n",
      "[17:48:46] SMILES Parse Error: Failed parsing SMILES 'C1(=C2C(=C3C1=C4C(=C5C(=C(S4)P(C)C)C(C(C5(SP(C)C)P(C)C)P(C)C)(C(C(C(F)(F)F)OC(=S)C(C(F)(F)F)C(F)(F)F)C(F)(F)F)SP(C)C)C)C)C=S3)P(C' for input: 'C1(=C2C(=C3C1=C4C(=C5C(=C(S4)P(C)C)C(C(C5(SP(C)C)P(C)C)P(C)C)(C(C(C(F)(F)F)OC(=S)C(C(F)(F)F)C(F)(F)F)C(F)(F)F)SP(C)C)C)C)C=S3)P(C'\n"
     ]
    }
   ],
   "source": [
    "celecoxib_df_2_random_flips = process_dataframe(celecoxib_df_2_random_flips)\n",
    "celecoxib_df_2_random_flips.to_parquet(os.path.join(OUTPUT_DIR, 'celecoxib_df_2_random_flips.parquet'), index=False)\n",
    "\n",
    "celecoxib_df_4_random_flips = process_dataframe(celecoxib_df_4_random_flips)\n",
    "celecoxib_df_4_random_flips.to_parquet(os.path.join(OUTPUT_DIR, 'celecoxib_df_4_random_flips.parquet'), index=False)\n",
    "\n",
    "celecoxib_df_8_random_flips = process_dataframe(celecoxib_df_8_random_flips)\n",
    "celecoxib_df_8_random_flips.to_parquet(os.path.join(OUTPUT_DIR, 'celecoxib_df_8_random_flips.parquet'), index=False)\n",
    "\n",
    "celecoxib_df_128_random_flips = process_dataframe(celecoxib_df_128_random_flips)\n",
    "celecoxib_df_128_random_flips.to_parquet(os.path.join(OUTPUT_DIR, 'celecoxib_df_128_random_flips.parquet'), index=False)\n",
    "\n",
    "celecoxib_df_1024_random_flips = process_dataframe(celecoxib_df_1024_random_flips)\n",
    "celecoxib_df_1024_random_flips.to_parquet(os.path.join(OUTPUT_DIR, 'celecoxib_df_1024_random_flips.parquet'), index=False)\n"
   ]
  },
  {
   "cell_type": "code",
   "execution_count": 25,
   "metadata": {},
   "outputs": [
    {
     "name": "stdout",
     "output_type": "stream",
     "text": [
      "Processed molecule 100/1024\n",
      "Processed molecule 200/1024\n",
      "Processed molecule 300/1024\n",
      "Processed molecule 400/1024\n",
      "Processed molecule 500/1024\n",
      "Processed molecule 600/1024\n",
      "Processed molecule 700/1024\n",
      "Processed molecule 800/1024\n",
      "Processed molecule 900/1024\n",
      "Processed molecule 1000/1024\n",
      "Processed molecule 1024/1024\n",
      "Processed molecule 100/512\n",
      "Processed molecule 200/512\n",
      "Processed molecule 300/512\n",
      "Processed molecule 400/512\n",
      "Processed molecule 500/512\n",
      "Processed molecule 512/512\n",
      "Processed molecule 100/256\n",
      "Processed molecule 200/256\n",
      "Processed molecule 256/256\n"
     ]
    },
    {
     "name": "stderr",
     "output_type": "stream",
     "text": [
      "[18:05:59] SMILES Parse Error: unclosed ring for input: 'CO[Si](C1=CC(=CC(=C1)C2=C(N=CN2C3=CC=C(C=C3)C4=C(N=CN4C5=CC(=C(SN)S(=O)(=O)[O-])[Si](OC)(OC)OC)Cl)Cl)S(ON)(ON)ON)(OC)OC'\n",
      "[18:06:02] SMILES Parse Error: unclosed ring for input: 'CON1C=NN(C1=C2C=C3C(=C2)C(=C4N3C(=C5N4C(=C6C=C7C=C8C=CC(=CC8=C7ON9C=NN=C9)S(=O)(=O)N)C(=NN)Cl)Cl)OOC)CN'\n",
      "[18:06:05] Conflicting single bond directions around double bond at index 30.\n",
      "[18:06:05]   BondStereo set to STEREONONE and single bond directions set to NONE.\n",
      "[18:06:07] SMILES Parse Error: unclosed ring for input: '[B][NH2+]N1C=C(N=C1)C[NH+]2C=C(C=C2)C3=C(N=CN3OS(=O)(=O)OC4=CC5=CC(=C4)[S+](C=C5)C)C6=CC7=CC(=C=O)[S+](C7=C([B])[B])N'\n",
      "[18:06:07] SMILES Parse Error: unclosed ring for input: 'C/C(=C/1\\C=C2C=CC=C3C2=C1N=C3)/C4=CC(=CC=C4)S(=C5C=C6C=CC(=C7C6=CN=N7)S(=O)(=O)OC)(=O)OCC8=CC(=CN=C8)S(=O)(=O)N'\n",
      "[18:06:07] SMILES Parse Error: unclosed ring for input: 'CC1(CC=CCS1(=O)C2=CC=C(C=C2)N3C=NC(=C3C4=CC(=C5C(=NC=[N+]5S(=O)(=O)OC)Cl)C6=CC(=NS(=O)(=O)OC)C=CS6(OC)OC)N)C'\n"
     ]
    },
    {
     "name": "stdout",
     "output_type": "stream",
     "text": [
      "Processed molecule 16/16\n",
      "Processed molecule 2/2\n"
     ]
    },
    {
     "name": "stderr",
     "output_type": "stream",
     "text": [
      "[18:06:09] SMILES Parse Error: extra close parentheses while parsing: C1=C2C=C3C(=C4C1=C5C=C(C=C(C5=C4C(C(C(=C6C=C7C=C(C=C7C=C6)C(C(=C8C=C(C=N8)C(=C9C=N9)[S-])[S-])[S-])[S-])[S-])(C(F)(F)[S-])C(=C[S-])[S-])[S-])[S-])[S-])[S-])[CH]2\n",
      "[18:06:09] SMILES Parse Error: Failed parsing SMILES 'C1=C2C=C3C(=C4C1=C5C=C(C=C(C5=C4C(C(C(=C6C=C7C=C(C=C7C=C6)C(C(=C8C=C(C=N8)C(=C9C=N9)[S-])[S-])[S-])[S-])[S-])(C(F)(F)[S-])C(=C[S-])[S-])[S-])[S-])[S-])[S-])[CH]2' for input: 'C1=C2C=C3C(=C4C1=C5C=C(C=C(C5=C4C(C(C(=C6C=C7C=C(C=C7C=C6)C(C(=C8C=C(C=N8)C(=C9C=N9)[S-])[S-])[S-])[S-])[S-])(C(F)(F)[S-])C(=C[S-])[S-])[S-])[S-])[S-])[S-])[CH]2'\n"
     ]
    }
   ],
   "source": [
    "cimicoxib_df_2_random_flips = process_dataframe(cimicoxib_df_2_random_flips)\n",
    "cimicoxib_df_2_random_flips.to_parquet(os.path.join(OUTPUT_DIR, 'cimicoxib_df_2_random_flips.parquet'), index=False)\n",
    "\n",
    "cimicoxib_df_4_random_flips = process_dataframe(cimicoxib_df_4_random_flips)\n",
    "cimicoxib_df_4_random_flips.to_parquet(os.path.join(OUTPUT_DIR, 'cimicoxib_df_4_random_flips.parquet'), index=False)\n",
    "\n",
    "cimicoxib_df_8_random_flips = process_dataframe(cimicoxib_df_8_random_flips)\n",
    "cimicoxib_df_8_random_flips.to_parquet(os.path.join(OUTPUT_DIR, 'cimicoxib_df_8_random_flips.parquet'), index=False)\n",
    "\n",
    "cimicoxib_df_128_random_flips = process_dataframe(cimicoxib_df_128_random_flips)\n",
    "cimicoxib_df_128_random_flips.to_parquet(os.path.join(OUTPUT_DIR, 'cimicoxib_df_128_random_flips.parquet'), index=False)\n",
    "\n",
    "cimicoxib_df_1024_random_flips = process_dataframe(cimicoxib_df_1024_random_flips)\n",
    "cimicoxib_df_1024_random_flips.to_parquet(os.path.join(OUTPUT_DIR, 'cimicoxib_df_1024_random_flips.parquet'), index=False)"
   ]
  },
  {
   "cell_type": "code",
   "execution_count": 26,
   "metadata": {},
   "outputs": [
    {
     "name": "stdout",
     "output_type": "stream",
     "text": [
      "Processed molecule 100/1024\n",
      "Processed molecule 200/1024\n",
      "Processed molecule 300/1024\n",
      "Processed molecule 400/1024\n",
      "Processed molecule 500/1024\n",
      "Processed molecule 600/1024\n",
      "Processed molecule 700/1024\n"
     ]
    },
    {
     "name": "stderr",
     "output_type": "stream",
     "text": [
      "[18:13:23] SMILES Parse Error: extra close parentheses while parsing: COC1=C(C=C(C=C1)C2=CC(=NN2C3=CC=C(C=C3)S(=O)(=O)N)C(C4=NN(C(=C4)C5=CC(=C(C=C5)OC)F)C6=CC=C(C=C6)S(=O)(=O)N)C7=CC(C=C(C=C7)F)F)F)F\n",
      "[18:13:23] SMILES Parse Error: Failed parsing SMILES 'COC1=C(C=C(C=C1)C2=CC(=NN2C3=CC=C(C=C3)S(=O)(=O)N)C(C4=NN(C(=C4)C5=CC(=C(C=C5)OC)F)C6=CC=C(C=C6)S(=O)(=O)N)C7=CC(C=C(C=C7)F)F)F)F' for input: 'COC1=C(C=C(C=C1)C2=CC(=NN2C3=CC=C(C=C3)S(=O)(=O)N)C(C4=NN(C(=C4)C5=CC(=C(C=C5)OC)F)C6=CC=C(C=C6)S(=O)(=O)N)C7=CC(C=C(C=C7)F)F)F)F'\n"
     ]
    },
    {
     "name": "stdout",
     "output_type": "stream",
     "text": [
      "Processed molecule 800/1024\n",
      "Processed molecule 900/1024\n",
      "Processed molecule 1000/1024\n",
      "Processed molecule 1024/1024\n",
      "Processed molecule 100/512\n",
      "Processed molecule 200/512\n"
     ]
    },
    {
     "name": "stderr",
     "output_type": "stream",
     "text": [
      "[18:18:40] SMILES Parse Error: unclosed ring for input: 'COC1=C(C=C(C=C1)C2=CC(=NN2C3=CC=C(C=C3)S(=O)(=O)N)C(C4=NN(C(=C4)C5=CC(=C(C=C5)OC)F)C6=CC=C(C=C6)S(=O)(=O)N)C7=NN)F'\n"
     ]
    },
    {
     "name": "stdout",
     "output_type": "stream",
     "text": [
      "Processed molecule 300/512\n",
      "Processed molecule 400/512\n",
      "Processed molecule 500/512\n",
      "Processed molecule 512/512\n",
      "Processed molecule 100/256\n",
      "Processed molecule 200/256\n",
      "Processed molecule 256/256\n"
     ]
    },
    {
     "name": "stderr",
     "output_type": "stream",
     "text": [
      "[18:23:34] Explicit valence for atom # 6 N, 4, is greater than permitted\n",
      "[18:23:35] SMILES Parse Error: extra close parentheses while parsing: C1=CC(=CC=C1C2=NC(N=N2)S(=O)(=O)C3=CC(=C(C=C3)OC(C4=COC(=N4)S(=O)(=O)OC)F)C(F)F)S(=O)(=O)ON5C(=NC(C5=O)(C(F)F)C(F)F)F)F\n",
      "[18:23:35] SMILES Parse Error: Failed parsing SMILES 'C1=CC(=CC=C1C2=NC(N=N2)S(=O)(=O)C3=CC(=C(C=C3)OC(C4=COC(=N4)S(=O)(=O)OC)F)C(F)F)S(=O)(=O)ON5C(=NC(C5=O)(C(F)F)C(F)F)F)F' for input: 'C1=CC(=CC=C1C2=NC(N=N2)S(=O)(=O)C3=CC(=C(C=C3)OC(C4=COC(=N4)S(=O)(=O)OC)F)C(F)F)S(=O)(=O)ON5C(=NC(C5=O)(C(F)F)C(F)F)F)F'\n",
      "[18:23:36] SMILES Parse Error: unclosed ring for input: 'CON1C2=CC(=CC(=N2)N3C4(N3S1(N)OC)N5C(=N4)C=C6C57N(N=NN7S(N)(OC)OC)S(=O)(=O)OC)C(C)C'\n"
     ]
    },
    {
     "name": "stdout",
     "output_type": "stream",
     "text": [
      "Processed molecule 16/16\n",
      "Processed molecule 2/2\n"
     ]
    },
    {
     "name": "stderr",
     "output_type": "stream",
     "text": [
      "[18:23:44] SMILES Parse Error: extra close parentheses while parsing: C(C1=C(C(=C(C1=C2C(=C(C(=C2P(C3=CC=C(C=C3)P(C4=CC=C(C=C4)C#C)C5=CC=C(C=C5)[S-])[S-])P([S-])[S-])[S-])[S-])P([S-])[S-])P([S-])[S-])[S-])P([S-])[S-])[S-]\n",
      "[18:23:44] SMILES Parse Error: Failed parsing SMILES 'C(C1=C(C(=C(C1=C2C(=C(C(=C2P(C3=CC=C(C=C3)P(C4=CC=C(C=C4)C#C)C5=CC=C(C=C5)[S-])[S-])P([S-])[S-])[S-])[S-])P([S-])[S-])P([S-])[S-])[S-])P([S-])[S-])[S-]' for input: 'C(C1=C(C(=C(C1=C2C(=C(C(=C2P(C3=CC=C(C=C3)P(C4=CC=C(C=C4)C#C)C5=CC=C(C=C5)[S-])[S-])P([S-])[S-])[S-])[S-])P([S-])[S-])P([S-])[S-])[S-])P([S-])[S-])[S-]'\n",
      "[18:23:44] SMILES Parse Error: unclosed ring for input: 'C1=C2C=C3C(=C4C1=C(C(=C4)[Se]C(C(C(C(C(C(C(C(C(C(C(C(=S)N)[Se]C(=S)N)[Se]C(=S)N)[Se]C(=S)N)[Se]C(=S)N)OC(=S)N)[Se]5)[Se]C)OC(=S)N)[Se]C)OC(=S)[Se]3)[Se]C)[Se]C)N2'\n"
     ]
    }
   ],
   "source": [
    "deracoxib_df_2_random_flips = process_dataframe(deracoxib_df_2_random_flips)\n",
    "deracoxib_df_2_random_flips.to_parquet(os.path.join(OUTPUT_DIR, 'deracoxib_df_2_random_flips.parquet'), index=False)\n",
    "\n",
    "deracoxib_df_4_random_flips = process_dataframe(deracoxib_df_4_random_flips)\n",
    "deracoxib_df_4_random_flips.to_parquet(os.path.join(OUTPUT_DIR, 'deracoxib_df_4_random_flips.parquet'), index=False)\n",
    "\n",
    "deracoxib_df_8_random_flips = process_dataframe(deracoxib_df_8_random_flips)\n",
    "deracoxib_df_8_random_flips.to_parquet(os.path.join(OUTPUT_DIR, 'deracoxib_df_8_random_flips.parquet'), index=False)\n",
    "\n",
    "deracoxib_df_128_random_flips = process_dataframe(deracoxib_df_128_random_flips)\n",
    "deracoxib_df_128_random_flips.to_parquet(os.path.join(OUTPUT_DIR, 'deracoxib_df_128_random_flips.parquet'), index=False)\n",
    "\n",
    "deracoxib_df_1024_random_flips = process_dataframe(deracoxib_df_1024_random_flips)\n",
    "deracoxib_df_1024_random_flips.to_parquet(os.path.join(OUTPUT_DIR, 'deracoxib_df_1024_random_flips.parquet'), index=False)"
   ]
  }
 ],
 "metadata": {
  "kernelspec": {
   "display_name": "molforge",
   "language": "python",
   "name": "python3"
  },
  "language_info": {
   "codemirror_mode": {
    "name": "ipython",
    "version": 3
   },
   "file_extension": ".py",
   "mimetype": "text/x-python",
   "name": "python",
   "nbconvert_exporter": "python",
   "pygments_lexer": "ipython3",
   "version": "3.11.10"
  }
 },
 "nbformat": 4,
 "nbformat_minor": 2
}
