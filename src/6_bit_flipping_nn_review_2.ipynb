{
 "cells": [
  {
   "cell_type": "markdown",
   "metadata": {},
   "source": [
    "# Project: Decoding Molecules From Fingerprints.\n",
    "## Group Members:\n",
    "### Qi Chen, e-mail: gusqichr@student.gu.se\n",
    "### Nils Dunlop, e-mail: gusdunlni@student.gu.se\n",
    "### Francisco Alejandro Erazo Piza, e-mail: guserafr@student.gu.se\n",
    "***"
   ]
  },
  {
   "cell_type": "code",
   "execution_count": 46,
   "metadata": {},
   "outputs": [],
   "source": [
    "import os\n",
    "import pandas as pd\n",
    "from rdkit.Chem import rdFingerprintGenerator\n",
    "from rdkit.Chem import PandasTools\n",
    "import numpy as np\n",
    "from joblib import Parallel, delayed\n",
    "from rdkit.DataStructs import TanimotoSimilarity\n",
    "import subprocess\n",
    "from typing import List, Tuple\n",
    "import subprocess\n",
    "from concurrent.futures import ThreadPoolExecutor, as_completed\n",
    "from rdkit import Chem\n",
    "import random\n",
    "from typing import List, Tuple\n",
    "import pandas as pd\n",
    "pd.set_option('display.max_colwidth', None)\n",
    "pd.set_option('display.width', None)"
   ]
  },
  {
   "cell_type": "markdown",
   "metadata": {},
   "source": [
    "### Define directories\n",
    "***"
   ]
  },
  {
   "cell_type": "code",
   "execution_count": 47,
   "metadata": {},
   "outputs": [],
   "source": [
    "# Set user directory\n",
    "USER_DIR = os.path.expanduser('~')\n",
    "\n",
    "# Set the project root directory\n",
    "PROJECT_ROOT = os.path.abspath(os.path.join(os.getcwd(), '..'))\n",
    "\n",
    "# Define the input and output directories\n",
    "INPUT_DIR = os.path.join(PROJECT_ROOT, 'data/')\n",
    "OUTPUT_DIR = os.path.join(PROJECT_ROOT, 'data/bit_flipping_nn_review_2')\n",
    "\n",
    "# Ensure output directory exists\n",
    "os.makedirs(OUTPUT_DIR, exist_ok=True)\n"
   ]
  },
  {
   "cell_type": "markdown",
   "metadata": {},
   "source": [
    "### COX2 and Janus Data\n",
    "***"
   ]
  },
  {
   "cell_type": "code",
   "execution_count": 48,
   "metadata": {},
   "outputs": [
    {
     "name": "stdout",
     "output_type": "stream",
     "text": [
      "COX2 shape: (21, 2)\n",
      "Janus shape: (12, 2)\n"
     ]
    }
   ],
   "source": [
    "# Read COX2_SMILES.csv\n",
    "cox2_df = pd.read_csv('../data/COX2_SMILES.csv', delimiter=';')\n",
    "print(f\"COX2 shape: {cox2_df.shape}\")\n",
    "\n",
    "# Read Janus_SMILES.csv\n",
    "janus_df = pd.read_csv('../data/Janus_SMILES.csv', delimiter=';')\n",
    "print(f\"Janus shape: {janus_df.shape}\")"
   ]
  },
  {
   "cell_type": "code",
   "execution_count": 49,
   "metadata": {},
   "outputs": [],
   "source": [
    "# Add molecule column to the dataframes\n",
    "PandasTools.AddMoleculeColumnToFrame(cox2_df, smilesCol='SMILES', molCol='Molecule')\n",
    "PandasTools.AddMoleculeColumnToFrame(janus_df, smilesCol='SMILES', molCol='Molecule')"
   ]
  },
  {
   "cell_type": "code",
   "execution_count": 50,
   "metadata": {},
   "outputs": [
    {
     "data": {
      "text/html": [
       "<div>\n",
       "<style scoped>\n",
       "    .dataframe tbody tr th:only-of-type {\n",
       "        vertical-align: middle;\n",
       "    }\n",
       "\n",
       "    .dataframe tbody tr th {\n",
       "        vertical-align: top;\n",
       "    }\n",
       "\n",
       "    .dataframe thead th {\n",
       "        text-align: right;\n",
       "    }\n",
       "</style>\n",
       "<table border=\"1\" class=\"dataframe\">\n",
       "  <thead>\n",
       "    <tr style=\"text-align: right;\">\n",
       "      <th></th>\n",
       "      <th>title</th>\n",
       "      <th>SMILES</th>\n",
       "      <th>Molecule</th>\n",
       "    </tr>\n",
       "  </thead>\n",
       "  <tbody>\n",
       "    <tr>\n",
       "      <th>0</th>\n",
       "      <td>Parecoxib</td>\n",
       "      <td>CCC(=O)NS(=O)(=O)c1ccc(cc1)c2c(C)onc2c3ccccc3</td>\n",
       "      <td>&lt;rdkit.Chem.rdchem.Mol object at 0x7fc79cfb6ff0&gt;</td>\n",
       "    </tr>\n",
       "    <tr>\n",
       "      <th>1</th>\n",
       "      <td>Anitrazafen</td>\n",
       "      <td>COc1ccc(cc1)c2nnc(C)nc2c3ccc(OC)cc3</td>\n",
       "      <td>&lt;rdkit.Chem.rdchem.Mol object at 0x7fc79cfb7140&gt;</td>\n",
       "    </tr>\n",
       "    <tr>\n",
       "      <th>2</th>\n",
       "      <td>Celecoxib</td>\n",
       "      <td>Cc1ccc(cc1)c2cc(nn2c3ccc(cc3)S(=O)(=O)N)C(F)(F)F</td>\n",
       "      <td>&lt;rdkit.Chem.rdchem.Mol object at 0x7fc79cfb70d0&gt;</td>\n",
       "    </tr>\n",
       "    <tr>\n",
       "      <th>3</th>\n",
       "      <td>Cimicoxib</td>\n",
       "      <td>COc1ccc(cc1F)c2c(Cl)ncn2c3ccc(cc3)S(=O)(=O)N</td>\n",
       "      <td>&lt;rdkit.Chem.rdchem.Mol object at 0x7fc79cfb7a00&gt;</td>\n",
       "    </tr>\n",
       "    <tr>\n",
       "      <th>4</th>\n",
       "      <td>Deracoxib</td>\n",
       "      <td>COc1ccc(cc1F)c2cc(nn2c3ccc(cc3)S(=O)(=O)N)C(F)F</td>\n",
       "      <td>&lt;rdkit.Chem.rdchem.Mol object at 0x7fc79cfb73e0&gt;</td>\n",
       "    </tr>\n",
       "  </tbody>\n",
       "</table>\n",
       "</div>"
      ],
      "text/plain": [
       "         title                                            SMILES  \\\n",
       "0    Parecoxib     CCC(=O)NS(=O)(=O)c1ccc(cc1)c2c(C)onc2c3ccccc3   \n",
       "1  Anitrazafen               COc1ccc(cc1)c2nnc(C)nc2c3ccc(OC)cc3   \n",
       "2    Celecoxib  Cc1ccc(cc1)c2cc(nn2c3ccc(cc3)S(=O)(=O)N)C(F)(F)F   \n",
       "3    Cimicoxib      COc1ccc(cc1F)c2c(Cl)ncn2c3ccc(cc3)S(=O)(=O)N   \n",
       "4    Deracoxib   COc1ccc(cc1F)c2cc(nn2c3ccc(cc3)S(=O)(=O)N)C(F)F   \n",
       "\n",
       "                                           Molecule  \n",
       "0  <rdkit.Chem.rdchem.Mol object at 0x7fc79cfb6ff0>  \n",
       "1  <rdkit.Chem.rdchem.Mol object at 0x7fc79cfb7140>  \n",
       "2  <rdkit.Chem.rdchem.Mol object at 0x7fc79cfb70d0>  \n",
       "3  <rdkit.Chem.rdchem.Mol object at 0x7fc79cfb7a00>  \n",
       "4  <rdkit.Chem.rdchem.Mol object at 0x7fc79cfb73e0>  "
      ]
     },
     "execution_count": 50,
     "metadata": {},
     "output_type": "execute_result"
    }
   ],
   "source": [
    "cox2_df.head()"
   ]
  },
  {
   "cell_type": "code",
   "execution_count": 51,
   "metadata": {},
   "outputs": [
    {
     "data": {
      "text/html": [
       "<div>\n",
       "<style scoped>\n",
       "    .dataframe tbody tr th:only-of-type {\n",
       "        vertical-align: middle;\n",
       "    }\n",
       "\n",
       "    .dataframe tbody tr th {\n",
       "        vertical-align: top;\n",
       "    }\n",
       "\n",
       "    .dataframe thead th {\n",
       "        text-align: right;\n",
       "    }\n",
       "</style>\n",
       "<table border=\"1\" class=\"dataframe\">\n",
       "  <thead>\n",
       "    <tr style=\"text-align: right;\">\n",
       "      <th></th>\n",
       "      <th>title</th>\n",
       "      <th>SMILES</th>\n",
       "      <th>Molecule</th>\n",
       "    </tr>\n",
       "  </thead>\n",
       "  <tbody>\n",
       "    <tr>\n",
       "      <th>0</th>\n",
       "      <td>Tofacitinib</td>\n",
       "      <td>C[C@@H]1CCN(C[C@@H]1N(C)c2ncnc3[nH]ccc23)C(=O)CC#N</td>\n",
       "      <td>&lt;rdkit.Chem.rdchem.Mol object at 0x7fc79cfb7530&gt;</td>\n",
       "    </tr>\n",
       "    <tr>\n",
       "      <th>1</th>\n",
       "      <td>Ruxolitinib</td>\n",
       "      <td>N#CC[C@H](C1CCCC1)n2cc(cn2)c3ncnc4[nH]ccc34</td>\n",
       "      <td>&lt;rdkit.Chem.rdchem.Mol object at 0x7fc79cfb7680&gt;</td>\n",
       "    </tr>\n",
       "    <tr>\n",
       "      <th>2</th>\n",
       "      <td>Oclacitinib</td>\n",
       "      <td>CNS(=O)(=O)C[C@@H]1CC[C@H](CC1)N(C)c2ncnc3[nH]ccc23</td>\n",
       "      <td>&lt;rdkit.Chem.rdchem.Mol object at 0x7fc79cfb7c30&gt;</td>\n",
       "    </tr>\n",
       "    <tr>\n",
       "      <th>3</th>\n",
       "      <td>Baricitinib</td>\n",
       "      <td>CCS(=O)(=O)N1CC(CC#N)(C1)n2cc(cn2)c3ncnc4[nH]ccc34</td>\n",
       "      <td>&lt;rdkit.Chem.rdchem.Mol object at 0x7fc79cfb7b50&gt;</td>\n",
       "    </tr>\n",
       "    <tr>\n",
       "      <th>4</th>\n",
       "      <td>Upadacitinib</td>\n",
       "      <td>CC[C@@H]1CN(C[C@@H]1c2cnc3cnc4[nH]ccc4n23)C(=O)NCC(F)(F)F</td>\n",
       "      <td>&lt;rdkit.Chem.rdchem.Mol object at 0x7fc79cfb7990&gt;</td>\n",
       "    </tr>\n",
       "  </tbody>\n",
       "</table>\n",
       "</div>"
      ],
      "text/plain": [
       "          title                                                     SMILES  \\\n",
       "0   Tofacitinib         C[C@@H]1CCN(C[C@@H]1N(C)c2ncnc3[nH]ccc23)C(=O)CC#N   \n",
       "1   Ruxolitinib                N#CC[C@H](C1CCCC1)n2cc(cn2)c3ncnc4[nH]ccc34   \n",
       "2   Oclacitinib        CNS(=O)(=O)C[C@@H]1CC[C@H](CC1)N(C)c2ncnc3[nH]ccc23   \n",
       "3   Baricitinib         CCS(=O)(=O)N1CC(CC#N)(C1)n2cc(cn2)c3ncnc4[nH]ccc34   \n",
       "4  Upadacitinib  CC[C@@H]1CN(C[C@@H]1c2cnc3cnc4[nH]ccc4n23)C(=O)NCC(F)(F)F   \n",
       "\n",
       "                                           Molecule  \n",
       "0  <rdkit.Chem.rdchem.Mol object at 0x7fc79cfb7530>  \n",
       "1  <rdkit.Chem.rdchem.Mol object at 0x7fc79cfb7680>  \n",
       "2  <rdkit.Chem.rdchem.Mol object at 0x7fc79cfb7c30>  \n",
       "3  <rdkit.Chem.rdchem.Mol object at 0x7fc79cfb7b50>  \n",
       "4  <rdkit.Chem.rdchem.Mol object at 0x7fc79cfb7990>  "
      ]
     },
     "execution_count": 51,
     "metadata": {},
     "output_type": "execute_result"
    }
   ],
   "source": [
    "janus_df.head()"
   ]
  },
  {
   "cell_type": "code",
   "execution_count": 52,
   "metadata": {},
   "outputs": [],
   "source": [
    "def generate_fingerprint(mol):\n",
    "    \"\"\"\n",
    "    Generate ECFP4 fingerprint and sparse representation for a molecule.\n",
    "    \"\"\"\n",
    "    if mol is not None:\n",
    "        morgan_generator = rdFingerprintGenerator.GetMorganGenerator(radius=2, fpSize=2048)\n",
    "        fp = morgan_generator.GetFingerprint(mol)\n",
    "        bit_vector = np.array(list(fp.ToBitString())).astype(int)\n",
    "        sparse_representation = list(np.where(bit_vector == 1)[0])\n",
    "        sparse_representation_str = ' '.join(map(str, sparse_representation))\n",
    "        return bit_vector, sparse_representation_str\n",
    "    return None, None"
   ]
  },
  {
   "cell_type": "code",
   "execution_count": 53,
   "metadata": {},
   "outputs": [],
   "source": [
    "# Apply the fingerprint generation function to COX2 DataFrame\n",
    "cox2_results = Parallel(n_jobs=-1)(delayed(generate_fingerprint)(mol) for mol in cox2_df['Molecule'])\n",
    "cox2_bit_vectors, cox2_sparse_fingerprints = zip(*cox2_results)\n",
    "\n",
    "# Assign the new columns to the COX2 DataFrame\n",
    "cox2_df['FingerprintBits'] = list(cox2_bit_vectors)\n",
    "cox2_df['SparseFingerprintBits'] = list(cox2_sparse_fingerprints)\n",
    "\n",
    "# Apply the fingerprint generation function to Janus DataFrame\n",
    "janus_results = Parallel(n_jobs=-1)(delayed(generate_fingerprint)(mol) for mol in janus_df['Molecule'])\n",
    "janus_bit_vectors, janus_sparse_fingerprints = zip(*janus_results)\n",
    "\n",
    "# Assign the new columns to the Janus DataFrame\n",
    "janus_df['FingerprintBits'] = list(janus_bit_vectors)\n",
    "janus_df['SparseFingerprintBits'] = list(janus_sparse_fingerprints)\n"
   ]
  },
  {
   "cell_type": "code",
   "execution_count": 54,
   "metadata": {},
   "outputs": [
    {
     "data": {
      "text/html": [
       "<div>\n",
       "<style scoped>\n",
       "    .dataframe tbody tr th:only-of-type {\n",
       "        vertical-align: middle;\n",
       "    }\n",
       "\n",
       "    .dataframe tbody tr th {\n",
       "        vertical-align: top;\n",
       "    }\n",
       "\n",
       "    .dataframe thead th {\n",
       "        text-align: right;\n",
       "    }\n",
       "</style>\n",
       "<table border=\"1\" class=\"dataframe\">\n",
       "  <thead>\n",
       "    <tr style=\"text-align: right;\">\n",
       "      <th></th>\n",
       "      <th>title</th>\n",
       "      <th>SMILES</th>\n",
       "      <th>Molecule</th>\n",
       "      <th>FingerprintBits</th>\n",
       "      <th>SparseFingerprintBits</th>\n",
       "    </tr>\n",
       "  </thead>\n",
       "  <tbody>\n",
       "    <tr>\n",
       "      <th>0</th>\n",
       "      <td>Parecoxib</td>\n",
       "      <td>CCC(=O)NS(=O)(=O)c1ccc(cc1)c2c(C)onc2c3ccccc3</td>\n",
       "      <td>&lt;rdkit.Chem.rdchem.Mol object at 0x7fc79cfb6ff0&gt;</td>\n",
       "      <td>[0, 0, 0, 0, 0, 0, 0, 0, 0, 0, 0, 0, 0, 0, 0, 0, 0, 0, 0, 0, 0, 0, 0, 0, 0, 0, 0, 0, 0, 0, 0, 0, 0, 0, 0, 0, 0, 0, 0, 0, 0, 1, 0, 0, 0, 0, 0, 0, 0, 0, 0, 0, 0, 0, 0, 0, 0, 0, 0, 0, 0, 0, 0, 0, 0, 0, 0, 0, 0, 0, 0, 0, 0, 0, 0, 0, 0, 0, 0, 0, 1, 0, 0, 0, 0, 0, 0, 0, 0, 0, 0, 0, 0, 0, 0, 0, 0, 0, 0, 0, ...]</td>\n",
       "      <td>41 80 179 248 294 307 319 323 331 350 361 378 389 461 471 476 502 624 650 656 715 736 807 835 883 896 898 1045 1057 1088 1141 1152 1160 1199 1366 1380 1476 1542 1722 1746 1747 1750 1873 1917</td>\n",
       "    </tr>\n",
       "    <tr>\n",
       "      <th>1</th>\n",
       "      <td>Anitrazafen</td>\n",
       "      <td>COc1ccc(cc1)c2nnc(C)nc2c3ccc(OC)cc3</td>\n",
       "      <td>&lt;rdkit.Chem.rdchem.Mol object at 0x7fc79cfb7140&gt;</td>\n",
       "      <td>[0, 0, 0, 0, 0, 0, 0, 0, 0, 0, 0, 0, 0, 0, 0, 0, 0, 0, 0, 0, 0, 0, 0, 0, 0, 0, 0, 0, 0, 0, 0, 0, 0, 0, 0, 0, 0, 0, 0, 0, 0, 0, 0, 0, 0, 0, 0, 0, 0, 0, 0, 0, 0, 0, 0, 0, 0, 0, 0, 0, 0, 0, 0, 0, 0, 0, 0, 0, 0, 0, 0, 0, 0, 0, 0, 0, 0, 0, 0, 0, 0, 0, 0, 0, 0, 0, 0, 0, 0, 0, 0, 0, 0, 0, 0, 0, 0, 0, 0, 0, ...]</td>\n",
       "      <td>123 139 269 322 323 357 378 454 471 695 718 781 831 841 896 978 1057 1126 1160 1164 1380 1536 1722 1750 1855 1873</td>\n",
       "    </tr>\n",
       "    <tr>\n",
       "      <th>2</th>\n",
       "      <td>Celecoxib</td>\n",
       "      <td>Cc1ccc(cc1)c2cc(nn2c3ccc(cc3)S(=O)(=O)N)C(F)(F)F</td>\n",
       "      <td>&lt;rdkit.Chem.rdchem.Mol object at 0x7fc79cfb70d0&gt;</td>\n",
       "      <td>[0, 0, 0, 0, 0, 0, 0, 0, 0, 0, 0, 0, 0, 0, 0, 0, 0, 0, 0, 0, 0, 0, 0, 0, 0, 0, 0, 0, 0, 0, 0, 0, 0, 0, 0, 0, 0, 0, 0, 0, 0, 0, 0, 0, 0, 0, 0, 0, 0, 0, 0, 0, 0, 0, 0, 0, 0, 0, 0, 0, 0, 0, 0, 0, 0, 0, 0, 0, 0, 0, 0, 0, 0, 0, 0, 0, 0, 0, 0, 0, 0, 0, 0, 0, 0, 0, 0, 0, 0, 0, 0, 0, 0, 0, 0, 0, 0, 0, 0, 0, ...]</td>\n",
       "      <td>114 233 235 319 350 368 378 650 715 753 809 833 875 896 935 1057 1160 1171 1197 1328 1380 1399 1434 1440 1446 1453 1476 1489 1527 1607 1692 1722 1750 1823 1825 1852 1873 1920 1928 1956</td>\n",
       "    </tr>\n",
       "    <tr>\n",
       "      <th>3</th>\n",
       "      <td>Cimicoxib</td>\n",
       "      <td>COc1ccc(cc1F)c2c(Cl)ncn2c3ccc(cc3)S(=O)(=O)N</td>\n",
       "      <td>&lt;rdkit.Chem.rdchem.Mol object at 0x7fc79cfb7a00&gt;</td>\n",
       "      <td>[0, 0, 0, 0, 0, 0, 0, 0, 0, 0, 0, 0, 0, 0, 0, 0, 0, 0, 0, 0, 0, 0, 0, 0, 0, 0, 0, 1, 0, 0, 0, 0, 0, 0, 0, 0, 0, 0, 0, 0, 0, 0, 0, 0, 0, 0, 0, 0, 0, 0, 0, 0, 0, 0, 0, 0, 0, 0, 0, 0, 0, 0, 0, 0, 0, 0, 0, 0, 0, 0, 0, 0, 0, 0, 0, 0, 0, 0, 0, 0, 0, 0, 0, 0, 0, 0, 0, 0, 0, 0, 0, 0, 0, 0, 1, 0, 0, 0, 0, 0, ...]</td>\n",
       "      <td>27 94 118 233 249 289 319 339 350 378 561 564 650 695 699 704 715 724 746 833 841 875 879 896 932 935 1057 1160 1171 1197 1260 1380 1445 1452 1476 1489 1536 1607 1649 1683 1750 1825 1840 1873 1928 1945 1970</td>\n",
       "    </tr>\n",
       "    <tr>\n",
       "      <th>4</th>\n",
       "      <td>Deracoxib</td>\n",
       "      <td>COc1ccc(cc1F)c2cc(nn2c3ccc(cc3)S(=O)(=O)N)C(F)F</td>\n",
       "      <td>&lt;rdkit.Chem.rdchem.Mol object at 0x7fc79cfb73e0&gt;</td>\n",
       "      <td>[0, 1, 0, 0, 0, 0, 0, 0, 0, 0, 0, 0, 0, 0, 0, 0, 0, 0, 0, 0, 0, 0, 0, 0, 0, 0, 0, 0, 0, 0, 0, 0, 0, 0, 0, 0, 0, 0, 0, 0, 0, 0, 0, 0, 0, 0, 0, 0, 0, 0, 0, 0, 0, 0, 0, 0, 0, 0, 0, 0, 0, 0, 0, 0, 0, 0, 0, 0, 0, 0, 0, 0, 0, 0, 0, 0, 0, 0, 0, 0, 0, 0, 0, 0, 0, 0, 0, 0, 0, 0, 0, 0, 0, 0, 1, 0, 0, 0, 0, 0, ...]</td>\n",
       "      <td>1 94 118 233 249 259 305 319 350 378 501 650 695 699 715 833 841 875 896 935 991 1050 1057 1160 1171 1197 1328 1380 1399 1405 1440 1476 1489 1536 1607 1649 1692 1750 1780 1825 1840 1846 1852 1873 1928 1945 1956 1970</td>\n",
       "    </tr>\n",
       "  </tbody>\n",
       "</table>\n",
       "</div>"
      ],
      "text/plain": [
       "         title                                            SMILES  \\\n",
       "0    Parecoxib     CCC(=O)NS(=O)(=O)c1ccc(cc1)c2c(C)onc2c3ccccc3   \n",
       "1  Anitrazafen               COc1ccc(cc1)c2nnc(C)nc2c3ccc(OC)cc3   \n",
       "2    Celecoxib  Cc1ccc(cc1)c2cc(nn2c3ccc(cc3)S(=O)(=O)N)C(F)(F)F   \n",
       "3    Cimicoxib      COc1ccc(cc1F)c2c(Cl)ncn2c3ccc(cc3)S(=O)(=O)N   \n",
       "4    Deracoxib   COc1ccc(cc1F)c2cc(nn2c3ccc(cc3)S(=O)(=O)N)C(F)F   \n",
       "\n",
       "                                           Molecule  \\\n",
       "0  <rdkit.Chem.rdchem.Mol object at 0x7fc79cfb6ff0>   \n",
       "1  <rdkit.Chem.rdchem.Mol object at 0x7fc79cfb7140>   \n",
       "2  <rdkit.Chem.rdchem.Mol object at 0x7fc79cfb70d0>   \n",
       "3  <rdkit.Chem.rdchem.Mol object at 0x7fc79cfb7a00>   \n",
       "4  <rdkit.Chem.rdchem.Mol object at 0x7fc79cfb73e0>   \n",
       "\n",
       "                                                                                                                                                                                                                                                                                                     FingerprintBits  \\\n",
       "0  [0, 0, 0, 0, 0, 0, 0, 0, 0, 0, 0, 0, 0, 0, 0, 0, 0, 0, 0, 0, 0, 0, 0, 0, 0, 0, 0, 0, 0, 0, 0, 0, 0, 0, 0, 0, 0, 0, 0, 0, 0, 1, 0, 0, 0, 0, 0, 0, 0, 0, 0, 0, 0, 0, 0, 0, 0, 0, 0, 0, 0, 0, 0, 0, 0, 0, 0, 0, 0, 0, 0, 0, 0, 0, 0, 0, 0, 0, 0, 0, 1, 0, 0, 0, 0, 0, 0, 0, 0, 0, 0, 0, 0, 0, 0, 0, 0, 0, 0, 0, ...]   \n",
       "1  [0, 0, 0, 0, 0, 0, 0, 0, 0, 0, 0, 0, 0, 0, 0, 0, 0, 0, 0, 0, 0, 0, 0, 0, 0, 0, 0, 0, 0, 0, 0, 0, 0, 0, 0, 0, 0, 0, 0, 0, 0, 0, 0, 0, 0, 0, 0, 0, 0, 0, 0, 0, 0, 0, 0, 0, 0, 0, 0, 0, 0, 0, 0, 0, 0, 0, 0, 0, 0, 0, 0, 0, 0, 0, 0, 0, 0, 0, 0, 0, 0, 0, 0, 0, 0, 0, 0, 0, 0, 0, 0, 0, 0, 0, 0, 0, 0, 0, 0, 0, ...]   \n",
       "2  [0, 0, 0, 0, 0, 0, 0, 0, 0, 0, 0, 0, 0, 0, 0, 0, 0, 0, 0, 0, 0, 0, 0, 0, 0, 0, 0, 0, 0, 0, 0, 0, 0, 0, 0, 0, 0, 0, 0, 0, 0, 0, 0, 0, 0, 0, 0, 0, 0, 0, 0, 0, 0, 0, 0, 0, 0, 0, 0, 0, 0, 0, 0, 0, 0, 0, 0, 0, 0, 0, 0, 0, 0, 0, 0, 0, 0, 0, 0, 0, 0, 0, 0, 0, 0, 0, 0, 0, 0, 0, 0, 0, 0, 0, 0, 0, 0, 0, 0, 0, ...]   \n",
       "3  [0, 0, 0, 0, 0, 0, 0, 0, 0, 0, 0, 0, 0, 0, 0, 0, 0, 0, 0, 0, 0, 0, 0, 0, 0, 0, 0, 1, 0, 0, 0, 0, 0, 0, 0, 0, 0, 0, 0, 0, 0, 0, 0, 0, 0, 0, 0, 0, 0, 0, 0, 0, 0, 0, 0, 0, 0, 0, 0, 0, 0, 0, 0, 0, 0, 0, 0, 0, 0, 0, 0, 0, 0, 0, 0, 0, 0, 0, 0, 0, 0, 0, 0, 0, 0, 0, 0, 0, 0, 0, 0, 0, 0, 0, 1, 0, 0, 0, 0, 0, ...]   \n",
       "4  [0, 1, 0, 0, 0, 0, 0, 0, 0, 0, 0, 0, 0, 0, 0, 0, 0, 0, 0, 0, 0, 0, 0, 0, 0, 0, 0, 0, 0, 0, 0, 0, 0, 0, 0, 0, 0, 0, 0, 0, 0, 0, 0, 0, 0, 0, 0, 0, 0, 0, 0, 0, 0, 0, 0, 0, 0, 0, 0, 0, 0, 0, 0, 0, 0, 0, 0, 0, 0, 0, 0, 0, 0, 0, 0, 0, 0, 0, 0, 0, 0, 0, 0, 0, 0, 0, 0, 0, 0, 0, 0, 0, 0, 0, 1, 0, 0, 0, 0, 0, ...]   \n",
       "\n",
       "                                                                                                                                                                                                     SparseFingerprintBits  \n",
       "0                           41 80 179 248 294 307 319 323 331 350 361 378 389 461 471 476 502 624 650 656 715 736 807 835 883 896 898 1045 1057 1088 1141 1152 1160 1199 1366 1380 1476 1542 1722 1746 1747 1750 1873 1917  \n",
       "1                                                                                                        123 139 269 322 323 357 378 454 471 695 718 781 831 841 896 978 1057 1126 1160 1164 1380 1536 1722 1750 1855 1873  \n",
       "2                                 114 233 235 319 350 368 378 650 715 753 809 833 875 896 935 1057 1160 1171 1197 1328 1380 1399 1434 1440 1446 1453 1476 1489 1527 1607 1692 1722 1750 1823 1825 1852 1873 1920 1928 1956  \n",
       "3           27 94 118 233 249 289 319 339 350 378 561 564 650 695 699 704 715 724 746 833 841 875 879 896 932 935 1057 1160 1171 1197 1260 1380 1445 1452 1476 1489 1536 1607 1649 1683 1750 1825 1840 1873 1928 1945 1970  \n",
       "4  1 94 118 233 249 259 305 319 350 378 501 650 695 699 715 833 841 875 896 935 991 1050 1057 1160 1171 1197 1328 1380 1399 1405 1440 1476 1489 1536 1607 1649 1692 1750 1780 1825 1840 1846 1852 1873 1928 1945 1956 1970  "
      ]
     },
     "execution_count": 54,
     "metadata": {},
     "output_type": "execute_result"
    }
   ],
   "source": [
    "cox2_df.head()"
   ]
  },
  {
   "cell_type": "code",
   "execution_count": 55,
   "metadata": {},
   "outputs": [
    {
     "data": {
      "text/html": [
       "<div>\n",
       "<style scoped>\n",
       "    .dataframe tbody tr th:only-of-type {\n",
       "        vertical-align: middle;\n",
       "    }\n",
       "\n",
       "    .dataframe tbody tr th {\n",
       "        vertical-align: top;\n",
       "    }\n",
       "\n",
       "    .dataframe thead th {\n",
       "        text-align: right;\n",
       "    }\n",
       "</style>\n",
       "<table border=\"1\" class=\"dataframe\">\n",
       "  <thead>\n",
       "    <tr style=\"text-align: right;\">\n",
       "      <th></th>\n",
       "      <th>title</th>\n",
       "      <th>SMILES</th>\n",
       "      <th>Molecule</th>\n",
       "      <th>FingerprintBits</th>\n",
       "      <th>SparseFingerprintBits</th>\n",
       "    </tr>\n",
       "  </thead>\n",
       "  <tbody>\n",
       "    <tr>\n",
       "      <th>0</th>\n",
       "      <td>Tofacitinib</td>\n",
       "      <td>C[C@@H]1CCN(C[C@@H]1N(C)c2ncnc3[nH]ccc23)C(=O)CC#N</td>\n",
       "      <td>&lt;rdkit.Chem.rdchem.Mol object at 0x7fc79cfb7530&gt;</td>\n",
       "      <td>[0, 0, 0, 0, 0, 0, 0, 0, 0, 0, 0, 0, 0, 0, 0, 0, 0, 0, 0, 0, 0, 0, 0, 0, 0, 0, 0, 0, 0, 0, 0, 0, 0, 0, 0, 0, 0, 0, 0, 0, 0, 0, 0, 0, 0, 0, 0, 0, 0, 0, 0, 1, 0, 0, 0, 0, 0, 0, 0, 0, 0, 0, 0, 0, 0, 0, 0, 0, 0, 0, 0, 0, 1, 0, 0, 0, 0, 0, 0, 0, 1, 0, 0, 0, 0, 0, 0, 1, 0, 0, 0, 0, 0, 0, 0, 0, 0, 0, 0, 0, ...]</td>\n",
       "      <td>51 72 80 87 259 361 369 378 417 479 489 506 560 590 650 652 674 678 711 739 788 790 806 807 881 926 935 1009 1019 1026 1057 1089 1114 1152 1163 1171 1309 1325 1357 1380 1384 1452 1480 1506 1750 1764 1807 1810 1853 1859 1860 1873 1917 1973 2009</td>\n",
       "    </tr>\n",
       "    <tr>\n",
       "      <th>1</th>\n",
       "      <td>Ruxolitinib</td>\n",
       "      <td>N#CC[C@H](C1CCCC1)n2cc(cn2)c3ncnc4[nH]ccc34</td>\n",
       "      <td>&lt;rdkit.Chem.rdchem.Mol object at 0x7fc79cfb7680&gt;</td>\n",
       "      <td>[0, 1, 0, 0, 0, 0, 0, 0, 0, 0, 0, 0, 0, 0, 0, 0, 0, 0, 0, 0, 0, 0, 0, 0, 0, 0, 0, 0, 0, 0, 0, 0, 0, 0, 0, 0, 0, 0, 0, 0, 0, 0, 0, 1, 0, 0, 0, 0, 0, 0, 0, 0, 0, 0, 0, 0, 0, 0, 0, 0, 0, 0, 0, 0, 0, 0, 0, 0, 0, 0, 0, 0, 0, 0, 0, 0, 0, 0, 0, 0, 1, 0, 0, 0, 0, 0, 0, 1, 0, 0, 0, 0, 0, 0, 0, 0, 0, 0, 0, 0, ...]</td>\n",
       "      <td>1 43 80 87 276 323 335 339 360 378 464 479 489 674 711 741 790 806 808 890 926 935 944 1019 1026 1028 1051 1089 1114 1152 1160 1161 1171 1256 1325 1348 1357 1380 1384 1452 1506 1535 1634 1706 1739 1750 1810 1873 1876 1897 1978</td>\n",
       "    </tr>\n",
       "    <tr>\n",
       "      <th>2</th>\n",
       "      <td>Oclacitinib</td>\n",
       "      <td>CNS(=O)(=O)C[C@@H]1CC[C@H](CC1)N(C)c2ncnc3[nH]ccc23</td>\n",
       "      <td>&lt;rdkit.Chem.rdchem.Mol object at 0x7fc79cfb7c30&gt;</td>\n",
       "      <td>[0, 0, 0, 0, 0, 0, 0, 0, 0, 0, 0, 0, 0, 0, 0, 0, 0, 0, 0, 0, 0, 0, 0, 0, 0, 0, 0, 0, 0, 1, 0, 0, 0, 0, 0, 0, 0, 0, 0, 0, 0, 0, 0, 0, 0, 0, 0, 0, 0, 0, 0, 1, 0, 0, 0, 0, 0, 0, 0, 0, 0, 0, 0, 0, 0, 0, 0, 0, 0, 0, 0, 0, 1, 0, 0, 0, 0, 0, 0, 0, 1, 0, 0, 0, 0, 0, 0, 1, 0, 0, 0, 0, 0, 0, 0, 0, 0, 0, 0, 0, ...]</td>\n",
       "      <td>29 51 72 80 87 169 259 312 350 369 378 479 489 565 650 711 788 806 809 881 904 926 1019 1025 1026 1057 1114 1152 1154 1163 1171 1325 1357 1380 1430 1452 1454 1476 1506 1524 1561 1671 1750 1810 1873 2018</td>\n",
       "    </tr>\n",
       "    <tr>\n",
       "      <th>3</th>\n",
       "      <td>Baricitinib</td>\n",
       "      <td>CCS(=O)(=O)N1CC(CC#N)(C1)n2cc(cn2)c3ncnc4[nH]ccc34</td>\n",
       "      <td>&lt;rdkit.Chem.rdchem.Mol object at 0x7fc79cfb7b50&gt;</td>\n",
       "      <td>[0, 0, 0, 0, 0, 0, 0, 0, 0, 0, 0, 0, 0, 0, 0, 0, 0, 0, 0, 0, 0, 0, 0, 0, 0, 0, 0, 0, 0, 0, 0, 0, 0, 0, 0, 0, 0, 0, 0, 0, 0, 0, 0, 1, 0, 0, 0, 0, 0, 0, 0, 0, 0, 0, 0, 0, 0, 0, 0, 0, 0, 0, 0, 0, 0, 0, 0, 0, 0, 0, 0, 0, 0, 0, 0, 0, 0, 0, 0, 0, 1, 0, 0, 0, 0, 0, 0, 1, 0, 0, 0, 0, 0, 0, 0, 0, 0, 0, 0, 0, ...]</td>\n",
       "      <td>43 80 87 141 225 226 276 294 323 350 378 464 479 489 585 602 650 674 675 711 723 741 790 806 872 923 926 935 1026 1057 1060 1089 1114 1152 1160 1171 1256 1357 1380 1384 1452 1476 1502 1506 1535 1700 1750 1810 1817 1873 1876 1897 1915 1971</td>\n",
       "    </tr>\n",
       "    <tr>\n",
       "      <th>4</th>\n",
       "      <td>Upadacitinib</td>\n",
       "      <td>CC[C@@H]1CN(C[C@@H]1c2cnc3cnc4[nH]ccc4n23)C(=O)NCC(F)(F)F</td>\n",
       "      <td>&lt;rdkit.Chem.rdchem.Mol object at 0x7fc79cfb7990&gt;</td>\n",
       "      <td>[0, 0, 0, 0, 0, 0, 0, 0, 0, 0, 0, 0, 0, 0, 0, 0, 0, 0, 0, 0, 0, 0, 0, 0, 0, 0, 0, 0, 0, 0, 0, 0, 0, 0, 0, 0, 0, 0, 0, 0, 0, 0, 0, 0, 0, 1, 0, 0, 1, 0, 0, 0, 0, 0, 0, 0, 0, 0, 0, 0, 0, 0, 0, 0, 0, 0, 0, 0, 0, 0, 0, 0, 0, 0, 0, 0, 0, 0, 0, 0, 1, 0, 0, 0, 0, 0, 0, 0, 0, 0, 0, 0, 0, 0, 0, 0, 0, 0, 0, 0, ...]</td>\n",
       "      <td>45 48 80 114 187 197 213 218 226 294 311 378 455 479 503 510 546 548 607 638 650 711 739 806 807 817 819 887 926 935 1009 1019 1039 1057 1092 1104 1114 1123 1152 1225 1228 1231 1380 1452 1453 1454 1506 1535 1549 1750 1799 1826 1873 1917 1928 2009</td>\n",
       "    </tr>\n",
       "  </tbody>\n",
       "</table>\n",
       "</div>"
      ],
      "text/plain": [
       "          title                                                     SMILES  \\\n",
       "0   Tofacitinib         C[C@@H]1CCN(C[C@@H]1N(C)c2ncnc3[nH]ccc23)C(=O)CC#N   \n",
       "1   Ruxolitinib                N#CC[C@H](C1CCCC1)n2cc(cn2)c3ncnc4[nH]ccc34   \n",
       "2   Oclacitinib        CNS(=O)(=O)C[C@@H]1CC[C@H](CC1)N(C)c2ncnc3[nH]ccc23   \n",
       "3   Baricitinib         CCS(=O)(=O)N1CC(CC#N)(C1)n2cc(cn2)c3ncnc4[nH]ccc34   \n",
       "4  Upadacitinib  CC[C@@H]1CN(C[C@@H]1c2cnc3cnc4[nH]ccc4n23)C(=O)NCC(F)(F)F   \n",
       "\n",
       "                                           Molecule  \\\n",
       "0  <rdkit.Chem.rdchem.Mol object at 0x7fc79cfb7530>   \n",
       "1  <rdkit.Chem.rdchem.Mol object at 0x7fc79cfb7680>   \n",
       "2  <rdkit.Chem.rdchem.Mol object at 0x7fc79cfb7c30>   \n",
       "3  <rdkit.Chem.rdchem.Mol object at 0x7fc79cfb7b50>   \n",
       "4  <rdkit.Chem.rdchem.Mol object at 0x7fc79cfb7990>   \n",
       "\n",
       "                                                                                                                                                                                                                                                                                                     FingerprintBits  \\\n",
       "0  [0, 0, 0, 0, 0, 0, 0, 0, 0, 0, 0, 0, 0, 0, 0, 0, 0, 0, 0, 0, 0, 0, 0, 0, 0, 0, 0, 0, 0, 0, 0, 0, 0, 0, 0, 0, 0, 0, 0, 0, 0, 0, 0, 0, 0, 0, 0, 0, 0, 0, 0, 1, 0, 0, 0, 0, 0, 0, 0, 0, 0, 0, 0, 0, 0, 0, 0, 0, 0, 0, 0, 0, 1, 0, 0, 0, 0, 0, 0, 0, 1, 0, 0, 0, 0, 0, 0, 1, 0, 0, 0, 0, 0, 0, 0, 0, 0, 0, 0, 0, ...]   \n",
       "1  [0, 1, 0, 0, 0, 0, 0, 0, 0, 0, 0, 0, 0, 0, 0, 0, 0, 0, 0, 0, 0, 0, 0, 0, 0, 0, 0, 0, 0, 0, 0, 0, 0, 0, 0, 0, 0, 0, 0, 0, 0, 0, 0, 1, 0, 0, 0, 0, 0, 0, 0, 0, 0, 0, 0, 0, 0, 0, 0, 0, 0, 0, 0, 0, 0, 0, 0, 0, 0, 0, 0, 0, 0, 0, 0, 0, 0, 0, 0, 0, 1, 0, 0, 0, 0, 0, 0, 1, 0, 0, 0, 0, 0, 0, 0, 0, 0, 0, 0, 0, ...]   \n",
       "2  [0, 0, 0, 0, 0, 0, 0, 0, 0, 0, 0, 0, 0, 0, 0, 0, 0, 0, 0, 0, 0, 0, 0, 0, 0, 0, 0, 0, 0, 1, 0, 0, 0, 0, 0, 0, 0, 0, 0, 0, 0, 0, 0, 0, 0, 0, 0, 0, 0, 0, 0, 1, 0, 0, 0, 0, 0, 0, 0, 0, 0, 0, 0, 0, 0, 0, 0, 0, 0, 0, 0, 0, 1, 0, 0, 0, 0, 0, 0, 0, 1, 0, 0, 0, 0, 0, 0, 1, 0, 0, 0, 0, 0, 0, 0, 0, 0, 0, 0, 0, ...]   \n",
       "3  [0, 0, 0, 0, 0, 0, 0, 0, 0, 0, 0, 0, 0, 0, 0, 0, 0, 0, 0, 0, 0, 0, 0, 0, 0, 0, 0, 0, 0, 0, 0, 0, 0, 0, 0, 0, 0, 0, 0, 0, 0, 0, 0, 1, 0, 0, 0, 0, 0, 0, 0, 0, 0, 0, 0, 0, 0, 0, 0, 0, 0, 0, 0, 0, 0, 0, 0, 0, 0, 0, 0, 0, 0, 0, 0, 0, 0, 0, 0, 0, 1, 0, 0, 0, 0, 0, 0, 1, 0, 0, 0, 0, 0, 0, 0, 0, 0, 0, 0, 0, ...]   \n",
       "4  [0, 0, 0, 0, 0, 0, 0, 0, 0, 0, 0, 0, 0, 0, 0, 0, 0, 0, 0, 0, 0, 0, 0, 0, 0, 0, 0, 0, 0, 0, 0, 0, 0, 0, 0, 0, 0, 0, 0, 0, 0, 0, 0, 0, 0, 1, 0, 0, 1, 0, 0, 0, 0, 0, 0, 0, 0, 0, 0, 0, 0, 0, 0, 0, 0, 0, 0, 0, 0, 0, 0, 0, 0, 0, 0, 0, 0, 0, 0, 0, 1, 0, 0, 0, 0, 0, 0, 0, 0, 0, 0, 0, 0, 0, 0, 0, 0, 0, 0, 0, ...]   \n",
       "\n",
       "                                                                                                                                                                                                                                    SparseFingerprintBits  \n",
       "0     51 72 80 87 259 361 369 378 417 479 489 506 560 590 650 652 674 678 711 739 788 790 806 807 881 926 935 1009 1019 1026 1057 1089 1114 1152 1163 1171 1309 1325 1357 1380 1384 1452 1480 1506 1750 1764 1807 1810 1853 1859 1860 1873 1917 1973 2009  \n",
       "1                      1 43 80 87 276 323 335 339 360 378 464 479 489 674 711 741 790 806 808 890 926 935 944 1019 1026 1028 1051 1089 1114 1152 1160 1161 1171 1256 1325 1348 1357 1380 1384 1452 1506 1535 1634 1706 1739 1750 1810 1873 1876 1897 1978  \n",
       "2                                              29 51 72 80 87 169 259 312 350 369 378 479 489 565 650 711 788 806 809 881 904 926 1019 1025 1026 1057 1114 1152 1154 1163 1171 1325 1357 1380 1430 1452 1454 1476 1506 1524 1561 1671 1750 1810 1873 2018  \n",
       "3          43 80 87 141 225 226 276 294 323 350 378 464 479 489 585 602 650 674 675 711 723 741 790 806 872 923 926 935 1026 1057 1060 1089 1114 1152 1160 1171 1256 1357 1380 1384 1452 1476 1502 1506 1535 1700 1750 1810 1817 1873 1876 1897 1915 1971  \n",
       "4  45 48 80 114 187 197 213 218 226 294 311 378 455 479 503 510 546 548 607 638 650 711 739 806 807 817 819 887 926 935 1009 1019 1039 1057 1092 1104 1114 1123 1152 1225 1228 1231 1380 1452 1453 1454 1506 1535 1549 1750 1799 1826 1873 1917 1928 2009  "
      ]
     },
     "execution_count": 55,
     "metadata": {},
     "output_type": "execute_result"
    }
   ],
   "source": [
    "janus_df.head()"
   ]
  },
  {
   "cell_type": "markdown",
   "metadata": {},
   "source": [
    "### Extract Nearby Neighbors of parecoxib\n",
    "***"
   ]
  },
  {
   "cell_type": "code",
   "execution_count": 56,
   "metadata": {},
   "outputs": [],
   "source": [
    "parecoxib = cox2_df[cox2_df['title'] == 'Parecoxib']\n",
    "anitrazafen = cox2_df[cox2_df['title'] == 'Anitrazafen']\n",
    "celecoxib = cox2_df[cox2_df['title'] == 'Celecoxib']\n",
    "cimicoxib = cox2_df[cox2_df['title'] == 'Cimicoxib']\n",
    "deracoxib = cox2_df[cox2_df['title'] == 'Deracoxib']"
   ]
  },
  {
   "cell_type": "markdown",
   "metadata": {},
   "source": [
    "### Flip Bits\n",
    "***"
   ]
  },
  {
   "cell_type": "code",
   "execution_count": 57,
   "metadata": {},
   "outputs": [],
   "source": [
    "def flip_bits(vector: List[int], positions: List[int]) -> List[int]:\n",
    "    \"\"\"Flip the bits at the given positions in the vector.\"\"\"\n",
    "    flipped_vector = vector.copy()\n",
    "    for position in positions:\n",
    "        flipped_vector[position] = 1 - flipped_vector[position]\n",
    "    return flipped_vector\n",
    "\n",
    "def batched_random_bit_flipping(fingerprint: List[int], batch_size: int) -> List[Tuple[List[int], List[int]]]:\n",
    "    \"\"\"Perform batched random bit flipping on the fingerprint.\"\"\"\n",
    "    total_bits = len(fingerprint)\n",
    "    all_positions = list(range(total_bits))\n",
    "    random.shuffle(all_positions)\n",
    "    \n",
    "    results = []\n",
    "    for i in range(0, total_bits, batch_size):\n",
    "        batch_positions = all_positions[i:i+batch_size]\n",
    "        flipped_fingerprint = flip_bits(fingerprint, batch_positions)\n",
    "        results.append((batch_positions, flipped_fingerprint))\n",
    "    \n",
    "    return results\n",
    "\n",
    "def sparse_to_dense(sparse_fingerprint: List[int], size: int = 2048) -> List[int]:\n",
    "    \"\"\"Convert sparse fingerprint to dense fingerprint.\"\"\"\n",
    "    dense = [0] * size\n",
    "    for bit in sparse_fingerprint:\n",
    "        dense[bit] = 1\n",
    "    return dense\n",
    "\n",
    "def dense_to_sparse(dense_fingerprint: List[int]) -> List[int]:\n",
    "    \"\"\"Convert dense fingerprint to sparse fingerprint.\"\"\"\n",
    "    return [i for i, bit in enumerate(dense_fingerprint) if bit == 1]\n",
    "\n",
    "def generate_flipped_fingerprints(row: pd.Series, batch_size: int) -> List[dict]:\n",
    "    \"\"\"Generate batched random bit flipped fingerprints for a single row.\"\"\"\n",
    "    dense_fingerprint = row['FingerprintBits']\n",
    "    sparse_fingerprint = row['SparseFingerprintBits']\n",
    "\n",
    "    flipped_results = batched_random_bit_flipping(dense_fingerprint, batch_size)\n",
    "\n",
    "    new_rows = []\n",
    "    for positions, flipped_dense in flipped_results:\n",
    "        flipped_sparse = dense_to_sparse(flipped_dense)\n",
    "        new_row = {\n",
    "            'title': row['title'],\n",
    "            'SMILES': row['SMILES'],\n",
    "            'FingerprintBits': dense_fingerprint,\n",
    "            'SparseFingerprintBits': sparse_fingerprint,\n",
    "            'FingerprintBitsFlipped': flipped_dense,\n",
    "            'SparseFingerprintBitsFlipped': flipped_sparse,\n",
    "            'FlippedBitPositions': positions\n",
    "        }\n",
    "        new_rows.append(new_row)\n",
    "\n",
    "    return new_rows\n",
    "\n",
    "\n",
    "def process_dataframe(df: pd.DataFrame, batch_size: int) -> pd.DataFrame:\n",
    "    \"\"\"Process the entire dataframe and generate batched random bit flipped fingerprints.\"\"\"\n",
    "    all_new_rows = []\n",
    "    for _, row in df.iterrows():\n",
    "        new_rows = generate_flipped_fingerprints(row, batch_size)\n",
    "        all_new_rows.extend(new_rows)\n",
    "\n",
    "    return pd.DataFrame(all_new_rows)"
   ]
  },
  {
   "cell_type": "code",
   "execution_count": 58,
   "metadata": {},
   "outputs": [],
   "source": [
    "# 8 random bit flips\n",
    "parecoxib_df_8_random_flips = process_dataframe(parecoxib, 8)\n",
    "anitrazafen_df_8_random_flips = process_dataframe(anitrazafen, 8)\n",
    "celecoxib_df_8_random_flips = process_dataframe(celecoxib, 8)\n",
    "cimicoxib_df_8_random_flips = process_dataframe(cimicoxib, 8)\n",
    "deracoxib_df_8_random_flips = process_dataframe(deracoxib, 8)"
   ]
  },
  {
   "cell_type": "code",
   "execution_count": 59,
   "metadata": {},
   "outputs": [],
   "source": [
    "# 128 random bit flips\n",
    "parecoxib_df_128_random_flips = process_dataframe(parecoxib, 128)\n",
    "anitrazafen_df_128_random_flips = process_dataframe(anitrazafen, 128)\n",
    "celecoxib_df_128_random_flips = process_dataframe(celecoxib, 128)\n",
    "cimicoxib_df_128_random_flips = process_dataframe(cimicoxib, 128)\n",
    "deracoxib_df_128_random_flips = process_dataframe(deracoxib, 128)"
   ]
  },
  {
   "cell_type": "code",
   "execution_count": 60,
   "metadata": {},
   "outputs": [],
   "source": [
    "# 1024 random bit flips\n",
    "parecoxib_df_1024_random_flips = process_dataframe(parecoxib, 1024)\n",
    "anitrazafen_df_1024_random_flips = process_dataframe(anitrazafen, 1024)\n",
    "celecoxib_df_1024_random_flips = process_dataframe(celecoxib, 1024)\n",
    "cimicoxib_df_1024_random_flips = process_dataframe(cimicoxib, 1024)\n",
    "deracoxib_df_1024_random_flips = process_dataframe(deracoxib, 1024)"
   ]
  },
  {
   "cell_type": "markdown",
   "metadata": {},
   "source": [
    "### MolForge predictions on flipped fingerprints\n",
    "***\n"
   ]
  },
  {
   "cell_type": "code",
   "execution_count": 61,
   "metadata": {},
   "outputs": [],
   "source": [
    "# Set user directory\n",
    "USER_DIR = os.path.expanduser('~')\n",
    "\n",
    "# Path to the conda environment to MolForge\n",
    "CONDA_ENV_PATH = os.path.join(USER_DIR, 'conda/envs/molforge/bin/python')\n",
    "MOLFORGE_DIR = os.path.join(USER_DIR, 'MolForge')\n",
    "MOLFORGE_SCRIPT_PATH = os.path.join(USER_DIR, 'MolForge/predict.py')\n",
    "WORKERS = 4"
   ]
  },
  {
   "cell_type": "code",
   "execution_count": 62,
   "metadata": {},
   "outputs": [],
   "source": [
    "def convert_spaced_smiles(spaced_smiles):\n",
    "    compact_smiles = spaced_smiles.replace(\" \", \"\")\n",
    "    mol = Chem.MolFromSmiles(compact_smiles)\n",
    "    if mol is not None:\n",
    "        return Chem.MolToSmiles(mol, isomericSmiles=False)\n",
    "    else:\n",
    "        return \"Invalid SMILES string\""
   ]
  },
  {
   "cell_type": "code",
   "execution_count": 63,
   "metadata": {},
   "outputs": [],
   "source": [
    "def run_molforge(fp_input):\n",
    "    # Ensure fp_input is a string\n",
    "    if isinstance(fp_input, list):\n",
    "        fp_input_str = ' '.join(map(str, fp_input))\n",
    "    else:\n",
    "        fp_input_str = fp_input\n",
    "    \n",
    "    command = [\n",
    "        CONDA_ENV_PATH,\n",
    "        MOLFORGE_SCRIPT_PATH,\n",
    "        \"--fp=ECFP4\",\n",
    "        \"--model_type=smiles\",\n",
    "        f\"--input={fp_input_str}\"\n",
    "    ]\n",
    "    \n",
    "    try:\n",
    "        result = subprocess.run(\n",
    "            command,\n",
    "            capture_output=True,\n",
    "            text=True,\n",
    "            check=True,\n",
    "            cwd=MOLFORGE_DIR,\n",
    "            env=os.environ.copy()\n",
    "        )\n",
    "    except subprocess.CalledProcessError as e:\n",
    "        print(f\"Error running MolForge: {e}\")\n",
    "        print(f\"Error output: {e.stderr}\")\n",
    "        return \"Error\", \"Error\"\n",
    "    \n",
    "    spaced_smiles = None\n",
    "    device_used = None\n",
    "    output_lines = result.stdout.splitlines()\n",
    "    \n",
    "    for line in output_lines:\n",
    "        if \"Result:\" in line:\n",
    "            spaced_smiles = line.split(\"Result:\")[1].strip()\n",
    "        if \"rank :\" in line:\n",
    "            device_used = line.split(\"rank :\")[1].strip()\n",
    "    \n",
    "    if spaced_smiles:\n",
    "        compact_smiles = convert_spaced_smiles(spaced_smiles)\n",
    "    else:\n",
    "        compact_smiles = \"No Result\"\n",
    "\n",
    "    return compact_smiles, device_used"
   ]
  },
  {
   "cell_type": "code",
   "execution_count": 64,
   "metadata": {},
   "outputs": [],
   "source": [
    "def process_row(row):\n",
    "    fp_input = row['SparseFingerprintBitsFlipped']\n",
    "    compact_smiles, device_used = run_molforge(fp_input)\n",
    "    return compact_smiles, device_used\n",
    "\n",
    "def process_dataframe(df, max_rows=None):\n",
    "    if max_rows:\n",
    "        df = df.head(max_rows)\n",
    "    \n",
    "    total = len(df)\n",
    "    with ThreadPoolExecutor(max_workers=WORKERS) as executor:\n",
    "        futures = {executor.submit(process_row, row): idx for idx, row in df.iterrows()}\n",
    "        \n",
    "        for i, future in enumerate(as_completed(futures)):\n",
    "            idx = futures[future]\n",
    "            result, device_used = future.result()\n",
    "            df.at[idx, 'Generated_SMILES'] = result\n",
    "            df.at[idx, 'Device_Used'] = device_used\n",
    "            if (i + 1) % 100 == 0 or (i + 1) == total:\n",
    "                print(f\"Processed molecule {i + 1}/{total}\")\n",
    "    \n",
    "    return df"
   ]
  },
  {
   "cell_type": "code",
   "execution_count": 65,
   "metadata": {},
   "outputs": [
    {
     "name": "stdout",
     "output_type": "stream",
     "text": [
      "Processed molecule 100/256\n"
     ]
    },
    {
     "name": "stderr",
     "output_type": "stream",
     "text": [
      "[23:24:21] SMILES Parse Error: unclosed ring for input: 'CCC(=O)NS(=O)(=O)C1=CC=C(C=C1)C2=C(ON=C2C3=CC=CC=C3)C4=CC=C(C=C4)C5=C6C(=C)C(=C)C(=C)C6=C'\n",
      "[23:24:32] SMILES Parse Error: unclosed ring for input: 'CCC(=O)NS(=O)(=O)C1=CC=C(C=C1)C2=C3C=CC=CC3=C4C(=C(ON4)C)C5=CC=CC=C5'\n",
      "[23:24:37] SMILES Parse Error: unclosed ring for input: 'CCC(=O)NS(=O)(=O)C1=CC=C(C=C1)C2=NOC3=C2CC4=C(ON=C4C5=CC=CC=C5)C'\n"
     ]
    },
    {
     "name": "stdout",
     "output_type": "stream",
     "text": [
      "Processed molecule 200/256\n",
      "Processed molecule 256/256\n"
     ]
    },
    {
     "name": "stderr",
     "output_type": "stream",
     "text": [
      "[23:26:01] SMILES Parse Error: syntax error while parsing: CCC(=C=C=C=C=C=C=C=C=C=C=C=C=C=C=C=C=C=C=C=C=C=C=C=C=C=C=C=C=C=C=C=C=C=C=C=C=C=C=C=C=C=C=C=C=C=C=C=C=C=C=C=C=C=C=C=C=C=C=C=C=C=C=\n",
      "[23:26:01] SMILES Parse Error: Failed parsing SMILES 'CCC(=C=C=C=C=C=C=C=C=C=C=C=C=C=C=C=C=C=C=C=C=C=C=C=C=C=C=C=C=C=C=C=C=C=C=C=C=C=C=C=C=C=C=C=C=C=C=C=C=C=C=C=C=C=C=C=C=C=C=C=C=C=C=' for input: 'CCC(=C=C=C=C=C=C=C=C=C=C=C=C=C=C=C=C=C=C=C=C=C=C=C=C=C=C=C=C=C=C=C=C=C=C=C=C=C=C=C=C=C=C=C=C=C=C=C=C=C=C=C=C=C=C=C=C=C=C=C=C=C=C='\n"
     ]
    },
    {
     "name": "stdout",
     "output_type": "stream",
     "text": [
      "Processed molecule 16/16\n",
      "Processed molecule 2/2\n"
     ]
    },
    {
     "name": "stderr",
     "output_type": "stream",
     "text": [
      "[23:26:06] SMILES Parse Error: unclosed ring for input: 'C1=C2C=C3C(=C4C(=CC(=C5C(=CC(=C6C(=CC(=C7C(=CC(=C1C2=C7)C8=CC(=C9C8(C7=C9)CC)CC)C#C9)C5)C7)C=C6)C5)C4=C3)CC)O'\n",
      "[23:26:06] SMILES Parse Error: extra open parentheses for input: 'C(=C1C(=C2C(=C3C(=C4C(=C5C(=C6C(=C7C(=C(C(=C7P(C(C(C(C(C1=N2)(C(C(C(C(C(C(C(C(=C3)P(C(C(C(=C4)C)C)C)C)P(F)F)C)C)C)P(F)F)F)F)F)F)F'\n"
     ]
    }
   ],
   "source": [
    "parecoxib_df_8_random_flips = process_dataframe(parecoxib_df_8_random_flips)\n",
    "parecoxib_df_8_random_flips.to_parquet(os.path.join(OUTPUT_DIR, 'parecoxib_df_8_random_flips.parquet'), index=False)\n",
    "\n",
    "parecoxib_df_128_random_flips = process_dataframe(parecoxib_df_128_random_flips)\n",
    "parecoxib_df_128_random_flips.to_parquet(os.path.join(OUTPUT_DIR, 'parecoxib_df_128_random_flips.parquet'), index=False)\n",
    "\n",
    "parecoxib_df_1024_random_flips = process_dataframe(parecoxib_df_1024_random_flips)\n",
    "parecoxib_df_1024_random_flips.to_parquet(os.path.join(OUTPUT_DIR, 'parecoxib_df_1024_random_flips.parquet'), index=False)"
   ]
  },
  {
   "cell_type": "code",
   "execution_count": 66,
   "metadata": {},
   "outputs": [
    {
     "name": "stderr",
     "output_type": "stream",
     "text": [
      "[23:26:12] SMILES Parse Error: unclosed ring for input: 'CC1=NC2=NC(=C(N=N1)C3=CC=C(C=C3)OC)C4=C(N=C(N=N4)C)C5=CC=C(C=C5)OC'\n",
      "[23:26:14] SMILES Parse Error: unclosed ring for input: 'CC1=NC2=NC(=C(N=N1)C3=CC=C(C=C3)OC)C4=NC(=C(N=N4)C5=CC=C(C=C5)OC)C6=CC=C(C=C6)OC'\n",
      "[23:26:17] SMILES Parse Error: unclosed ring for input: 'CC1=NC2=NN=C(C(=NN=C(N=N1)C3=NC(=C(N=N3)C4=CC=C(C=C4)OC)C5=CC=C(C=C5)OC)C6=CC=C(C=C6)OC)C7=CC=C(C=C7)OC'\n",
      "[23:26:25] SMILES Parse Error: unclosed ring for input: 'CC1=NC2=NC(=C(N=N1)C3=CC=C(C=C3)OC)C4=CC=C(C=C4)C5=C(N=C(N=N5)C)C6=CC=C(C=C6)OC'\n",
      "[23:26:30] SMILES Parse Error: unclosed ring for input: 'CC1=NC2=NC(=C(N=N1)C3=CC=C(C=C3)OC)[Se]OC4=NC(=C(N=N4)C5=CC=C(C=C5)OC)C6=CC=C(C=C6)OC'\n",
      "[23:26:30] SMILES Parse Error: unclosed ring for input: 'CC1=NC2=NC(=C(N=N2)C3=CC=C(C=C3)OC)C4=NC(=C(N=N4)C5=CC=C(C=C5)OC)C6=CC=C(C=C6)OC'\n",
      "[23:26:32] SMILES Parse Error: unclosed ring for input: 'CC1=NC2=NC(=C(N=N1)C3=CC=C(C=C3)OC)C4=CC=C(C=C4)OC'\n",
      "[23:26:39] SMILES Parse Error: unclosed ring for input: 'CC1=NC2=NC(=C(N=N1)C3=CC=C(C=C3)OC)C4=CC=C(C=C4)OC'\n",
      "[23:26:39] SMILES Parse Error: unclosed ring for input: 'CC1=NC2=NN=C(C(=N1)C3=NC(=C(N=N3)C4=CC=C(C=C4)OC)C5=CC=C(C=C5)OC)C6=CC=C(C=C6)OC'\n",
      "[23:26:42] SMILES Parse Error: unclosed ring for input: 'CC1=NC2=NC(=C(N=N1)C3=CC=C(C=C3)OC)N=NC4=NC(=C(N=N4)C5=CC=C(C=C5)OC)C6=CC=C(C=C6)OC'\n",
      "[23:26:42] SMILES Parse Error: unclosed ring for input: 'CC1=NC2=NC(=C(N=N1)C3=CC=C(C=C3)OC)N=NC4=NC(=C(N=N4)C5=CC=C(C=C5)OC)C6=CC=C(C=C6)OC'\n",
      "[23:26:47] SMILES Parse Error: unclosed ring for input: 'CC1=NC2=C(N=N1)C3=C(N=C(N=N3)C)C4=CC=C(C=C4)OC'\n",
      "[23:26:47] SMILES Parse Error: unclosed ring for input: 'CC1=NC(=C(N=N1)C2=CC=C(C=C2)OC)S3(C4=NC(=C(N=N4)C5=CC=C(C=C5)OC)C6=CC=C(C=C6)OC)C7=CC=C(C=C7)OC'\n",
      "[23:26:53] SMILES Parse Error: unclosed ring for input: 'CC1=NC2=NC(=C(N=N1)C3=CC=C(C=C3)OC)C4=NC(=C(N=N4)C5=CC=C(C=C5)OC)C6=CC=C(C=C6)OC'\n",
      "[23:26:55] SMILES Parse Error: unclosed ring for input: 'CC1=NC2=NC(=C(N=N1)C3=CC=C(C=C3)OC)N=NC4=NC(=C(N=N4)C5=CC=C(C=C5)OC)C6=CC=C(C=C6)OC'\n"
     ]
    },
    {
     "name": "stderr",
     "output_type": "stream",
     "text": [
      "[23:27:00] SMILES Parse Error: unclosed ring for input: 'CC1=NC2=NC(=C(N=N1)C3=CC=C(C=C3)OC)N=NC4=NC(=C(N=N4)C5=CC=C(C=C5)OC)C6=CC=C(C=C6)OC'\n"
     ]
    },
    {
     "name": "stdout",
     "output_type": "stream",
     "text": [
      "Processed molecule 100/256\n"
     ]
    },
    {
     "name": "stderr",
     "output_type": "stream",
     "text": [
      "[23:27:08] SMILES Parse Error: unclosed ring for input: 'CC1=NC2=NC(=C(N=N1)C3=CC=C(C=C3)OC)C4=C(N=C(N=N4)C)C5=CC=C(C=C5)OC'\n",
      "[23:27:13] SMILES Parse Error: unclosed ring for input: 'CC1=NC2=NC(=C(N=N1)C3=CC=C(C=C3)OC)N=NC4=NC(=C(N=N4)C5=CC=C(C=C5)OC)C6=CC=C(C=C6)OC'\n",
      "[23:27:16] SMILES Parse Error: unclosed ring for input: '[B-]1(C2=CC=C(C=C2)C3=C(N=C(N=N3)C)C4=CC=C(C=C4)OC)(C5=C(N=C(N=N5)C)C6=CC=C(C=C6)OC)C7=CC=C(C=C7)OC'\n",
      "[23:27:16] SMILES Parse Error: unclosed ring for input: 'CC1=NC2=NC(=C(N=N1)C3=CC=C(C=C3)OC)N=NC4=NC(=C(N=N4)C5=CC=C(C=C5)OC)C6=CC=C(C=C6)OC'\n",
      "[23:27:28] SMILES Parse Error: unclosed ring for input: 'CC1=NC2=NC(=C(N=N1)C3=CC=C(C=C3)OC)N=NC4=NC(=C(N=N4)C5=CC=C(C=C5)OC)C6=CC=C(C=C6)OC'\n",
      "[23:27:28] SMILES Parse Error: unclosed ring for input: 'CC1=NC2=C(N=N1)C3=NC(=C(N=N3)C4=CC=C(C=C4)OC)C5=C(N=C(N=N5)C)C6=CC=C(C=C6)OC'\n",
      "[23:27:48] SMILES Parse Error: unclosed ring for input: 'CC1=NC2=NC(=C(N=N1)C3=CC=C(C=C3)OC)N=NC4=NC(=C(N=N4)C5=CC=C(C=C5)OC)C6=CC=C(C=C6)OC'\n",
      "[23:27:50] SMILES Parse Error: unclosed ring for input: 'CC1=NC2=NC(=C(N=N1)C3=CC=C(C=C3)OC)C4=C(N=C(N=N4)OC)C5=CC=C(C=C5)OC'\n",
      "[23:27:57] SMILES Parse Error: unclosed ring for input: 'CC1=NC2=NC(=C(N=N1)C3=CC=C(C=C3)OC)C4=CC=C(C=C4)OC'\n",
      "[23:28:00] SMILES Parse Error: unclosed ring for input: 'CC1=NC2=NC(=C(N=N1)C3=CC=C(C=C3)OC)N=NC4=NC(=C(N=N4)C5=CC=C(C=C5)OC)C6=CC=C(C=C6)OC'\n"
     ]
    },
    {
     "name": "stdout",
     "output_type": "stream",
     "text": [
      "Processed molecule 200/256\n"
     ]
    },
    {
     "name": "stderr",
     "output_type": "stream",
     "text": [
      "[23:28:04] SMILES Parse Error: unclosed ring for input: 'CC1=NC2=C(N=N1)C3=NC(=C(N=N3)C4=CC=C(C=C4)OC)C5=C(N=C(N=N5)C)C6=CC=C(C=C6)OC'\n",
      "[23:28:05] SMILES Parse Error: unclosed ring for input: 'CC1=NC2=NC(=C(N=N1)C3=CC=C(C=C3)OC)C4=NC(=C(N=N4)C5=CC=C(C=C5)OC)C6=CC=C(C=C6)OC'\n",
      "[23:28:05] SMILES Parse Error: unclosed ring for input: 'CC1=NC2=C(N=N1)C3=NC(=C(N=N3)C4=CC=C(C=C4)OC)N=NC5=NC(=C(N=N5)C6=CC=C(C=C6)OC)C7=CC=C(C=C7)OC'\n",
      "[23:28:16] SMILES Parse Error: unclosed ring for input: 'CC1=NC2=NC(=C(N=N1)C3=CC=C(C=C3)OC)N=NC4=NC(=C(N=N4)C5=CC=C(C=C5)OC)C6=CC=C(C=C6)OC'\n",
      "[23:28:17] SMILES Parse Error: unclosed ring for input: 'CC1=NC(=C(N=N1)C2=CC=C(C=C2)OC)[N+]3(C4=NC(=C(N=C4C5=CC=C(C=C5)OC)C6=CC=C(C=C6)OC)C7=CC=C(C=C7)OC)C8=NC(=NN=N8)C'\n",
      "[23:28:22] SMILES Parse Error: unclosed ring for input: 'CC1=NC2=NC(=C(N=N1)C3=CC=C(C=C3)OC)C4=C(N=C(N=N4)OC)C5=CC=C(C=C5)OC'\n",
      "[23:28:23] SMILES Parse Error: unclosed ring for input: 'CC1=NC2=NC(=C(N=N1)C3=CC=C(C=C3)OC)N=NC4=NC(=C(N=N4)C5=CC=C(C=C5)OC)C6=CC=C(C=C6)OC'\n",
      "[23:28:27] SMILES Parse Error: unclosed ring for input: 'CC1=NC2=NC(=C(N=N1)C3=CC=C(C=C3)OC)C4=CC=C(C=C4)OC'\n",
      "[23:28:30] SMILES Parse Error: unclosed ring for input: 'CC1=NC2=NC(=C(N=N2)C3=CC=C(C=C3)OC)C4=NC(=C(N=N4)C5=CC=C(C=C5)OC)C6=CC=C(C=C6)OC'\n",
      "[23:28:30] SMILES Parse Error: unclosed ring for input: 'CC1=NC2=NN=C(C(=N1)[NH2+]N=NC3=NC(=C(N=N3)C4=CC=C(C=C4)OC)C5=CC=C(C=C5)OC)C6=CC=C(C=C6)OC'\n",
      "[23:28:32] SMILES Parse Error: unclosed ring for input: 'CC1=NC2=NC(=C(N=N1)C3=CC=C(C=C3)OC)C4=NC(=C(N=N4)C5=CC=C(C=C5)OC)C6=CC=C(C=C6)OC'\n",
      "[23:28:34] SMILES Parse Error: unclosed ring for input: 'CC1=NC2=NC(=C(N=N1)C3=CC=C(C=C3)OC)N=NC4=NC(=C(N=N4)C5=CC=C(C=C5)OC)C6=CC=C(C=C6)OC'\n",
      "[23:28:34] SMILES Parse Error: unclosed ring for input: 'CC1=NC(=C(N=N1)C2=CC=C(C=C2)OC)S3(C4=NC(=C(N=N4)C5=CC=C(C=C5)OC)C6=CC=C(C=C6)OC)OC'\n"
     ]
    },
    {
     "name": "stdout",
     "output_type": "stream",
     "text": [
      "Processed molecule 256/256\n"
     ]
    },
    {
     "name": "stderr",
     "output_type": "stream",
     "text": [
      "[23:28:37] SMILES Parse Error: unclosed ring for input: 'COC1=CC=C(C=C1)C2=C(C(=NN=N2)C3=CC=C(C=C3)OC)C4=CC=C(C=C4)C5=C6C(=C7C(=NN=C(N7)OC)C=CS8=CC=CS(=N8)OC)C=C=[NH2+]6'\n",
      "[23:28:40] SMILES Parse Error: unclosed ring for input: 'COC1=CC=C(C=C1)C2=C3C=[N+](C=C3)C4=CC=C(C=C4)C5=C6C=CC=C(P6C7=CC=CC=C7P5OCC8=CC=C9C=C[N+](=CC=C9)C8=N7)OC'\n",
      "[23:28:40] SMILES Parse Error: extra close parentheses while parsing: COC1=CC=C(C=C1)C2=C(N=NC(=N2)CC(=C3C(=C4C=CC(=C5C(=C6C=C7C=CC=C(C7=N6)C5(C)C)C8=CC=C(C=C8)OC)C=C4)N=N3)OC)C9=CC=C(C=C9)O)O\n",
      "[23:28:40] SMILES Parse Error: Failed parsing SMILES 'COC1=CC=C(C=C1)C2=C(N=NC(=N2)CC(=C3C(=C4C=CC(=C5C(=C6C=C7C=CC=C(C7=N6)C5(C)C)C8=CC=C(C=C8)OC)C=C4)N=N3)OC)C9=CC=C(C=C9)O)O' for input: 'COC1=CC=C(C=C1)C2=C(N=NC(=N2)CC(=C3C(=C4C=CC(=C5C(=C6C=C7C=CC=C(C7=N6)C5(C)C)C8=CC=C(C=C8)OC)C=C4)N=N3)OC)C9=CC=C(C=C9)O)O'\n",
      "[23:28:46] SMILES Parse Error: unclosed ring for input: 'COC1=CC=C(C=C1)C2=C(C(=NN=N2)C3=CC=C(C=C3)OC)[NH+]=C4C(C(=C(C4=C5C(=C6C(=N)C(=C7C(=N)C(=CN=N7)S)C(=N)S)COS)S)S)S'\n",
      "[23:28:46] SMILES Parse Error: unclosed ring for input: 'COC1=CC=C(C=C1)C2=C3C4=CC=C(C=C4)C5=C6C(=C7C(=C(C(=C6C8=CC=C(C=C8)OC)C9=CC=C(C=C9)OC)C7=N5)O)C=C3'\n"
     ]
    },
    {
     "name": "stdout",
     "output_type": "stream",
     "text": [
      "Processed molecule 16/16\n",
      "Processed molecule 2/2\n"
     ]
    },
    {
     "name": "stderr",
     "output_type": "stream",
     "text": [
      "[23:28:48] SMILES Parse Error: syntax error while parsing: C1=C2C(=C3C1=C4C5=C6C(=C7C(C(C(C7=C8C(C(C(C(C8=C9C(=C7S9)C#CC(C(=C8[S-])C#C9)C(C(=C2)[S-])[S-])C(C(=C4)[S-])[S-])[S-])(C(C(C)C)[S-])[S-])[S-])(C(C(C(C(C(C(=\n",
      "[23:28:48] SMILES Parse Error: Failed parsing SMILES 'C1=C2C(=C3C1=C4C5=C6C(=C7C(C(C(C7=C8C(C(C(C(C8=C9C(=C7S9)C#CC(C(=C8[S-])C#C9)C(C(=C2)[S-])[S-])C(C(=C4)[S-])[S-])[S-])(C(C(C)C)[S-])[S-])[S-])(C(C(C(C(C(C(=' for input: 'C1=C2C(=C3C1=C4C5=C6C(=C7C(C(C(C7=C8C(C(C(C(C8=C9C(=C7S9)C#CC(C(=C8[S-])C#C9)C(C(=C2)[S-])[S-])C(C(=C4)[S-])[S-])[S-])(C(C(C)C)[S-])[S-])[S-])(C(C(C(C(C(C(='\n"
     ]
    }
   ],
   "source": [
    "anitrazafen_df_8_random_flips = process_dataframe(anitrazafen_df_8_random_flips)\n",
    "anitrazafen_df_8_random_flips.to_parquet(os.path.join(OUTPUT_DIR, 'anitrazafen_df_8_random_flips.parquet'), index=False)\n",
    "\n",
    "anitrazafen_df_128_random_flips = process_dataframe(anitrazafen_df_128_random_flips)\n",
    "anitrazafen_df_128_random_flips.to_parquet(os.path.join(OUTPUT_DIR, 'anitrazafen_df_128_random_flips.parquet'), index=False)\n",
    "\n",
    "anitrazafen_df_1024_random_flips = process_dataframe(anitrazafen_df_1024_random_flips)\n",
    "anitrazafen_df_1024_random_flips.to_parquet(os.path.join(OUTPUT_DIR, 'anitrazafen_df_1024_random_flips.parquet'), index=False)"
   ]
  },
  {
   "cell_type": "code",
   "execution_count": 67,
   "metadata": {},
   "outputs": [
    {
     "name": "stdout",
     "output_type": "stream",
     "text": [
      "Processed molecule 100/256\n"
     ]
    },
    {
     "name": "stderr",
     "output_type": "stream",
     "text": [
      "[23:30:22] SMILES Parse Error: extra open parentheses for input: 'CC1=CC=C(C=C1)C2=CC(=NN2C3=CC=C(C=C3)S(=O)(=O)N)C(C4=CC=C(C=C4)C)(C5=CC=C(C=C5)C)C6=CC(=NN6C7=CC=C(C=C7)S(=O)(=O)N)C(F)(F'\n"
     ]
    },
    {
     "name": "stdout",
     "output_type": "stream",
     "text": [
      "Processed molecule 200/256\n",
      "Processed molecule 256/256\n"
     ]
    },
    {
     "name": "stderr",
     "output_type": "stream",
     "text": [
      "[23:31:22] SMILES Parse Error: unclosed ring for input: 'CSC1=CN(N=N1)S(=O)(=O)SC2=CC(=CC=C2)C3=NN=NN3S(=O)(=O)S(=O)(=O)N4N=C5C=C(C=C(N5O)SN)S(=O)(=O)N'\n",
      "[23:31:22] SMILES Parse Error: unclosed ring for input: 'C[NH2+]/C(=C\\1/C=NS(=N)N1C2=NS(=N)N)/C3=CC(=C(C=C3)OS(=O)(=O)N)CS(=N)(=O)C4=CC=C(C=C4)C5=N/C(=C/6\\C=NS(=N)N6)/C=N5'\n",
      "[23:31:22] SMILES Parse Error: extra close parentheses while parsing: CN\\1C=CC(=N/C1=C/2\\C=CC(=N2)C(N=C3C=CC(=N3)C(=O)S(=O)(=O)C4=CC=C(C=C4)S(=O)(=O)C5=NN=C(C=C5)C(N=N6)(N7C=CC(=N7)C)N=N5)(N=O)C)C)(=\n",
      "[23:31:22] SMILES Parse Error: Failed parsing SMILES 'CN\\1C=CC(=N/C1=C/2\\C=CC(=N2)C(N=C3C=CC(=N3)C(=O)S(=O)(=O)C4=CC=C(C=C4)S(=O)(=O)C5=NN=C(C=C5)C(N=N6)(N7C=CC(=N7)C)N=N5)(N=O)C)C)(=' for input: 'CN\\1C=CC(=N/C1=C/2\\C=CC(=N2)C(N=C3C=CC(=N3)C(=O)S(=O)(=O)C4=CC=C(C=C4)S(=O)(=O)C5=NN=C(C=C5)C(N=N6)(N7C=CC(=N7)C)N=N5)(N=O)C)C)(='\n",
      "[23:31:25] SMILES Parse Error: unclosed ring for input: 'C[Si](C)(C)N=C=C=C=C1C2=CC(=C(C(=C2)P(=O)=S)P(=O)=S)C3=CC(=C(C(=C3)S(=O)(=O)N)P(=O)=S)P(=O)=S'\n",
      "[23:31:26] SMILES Parse Error: extra open parentheses for input: 'C/C(=C/1\\C=C(C=C1)C2=CC(=CN2)C(C)(C)C(C)(C)C(C)(C)C(C)(C)C(C)(C)C(C)(C)N)/C3=CC(=CN=C3)C4=CNNN4[Si](CC(C)(C)C)(CC(C)C'\n",
      "[23:31:28] SMILES Parse Error: unclosed ring for input: 'C[Si](C)(C)N1C=NC(=C2C1=CC(=C3C=C4C=C5C=C6C=C7C=C(C=CC7=C[N+]6=C5N=C4N3)C8=NN=NN8)C2=C9N)C(N)(N)N'\n",
      "[23:31:29] SMILES Parse Error: ring closure 1 duplicates bond between atom 1 and atom 52 for input: 'CC1(C(=C2C=C(C=C2)C3=CC(=CC(=C3)C4=CC(=CC(=C4)C5=CC(=CC(=C6C=C7C=CC(=CC7=N6)C(C)(C)N)C(C)(C)N)C(C)(C)N)C(N)(N)N)N)N)N1N'\n"
     ]
    },
    {
     "name": "stdout",
     "output_type": "stream",
     "text": [
      "Processed molecule 16/16\n",
      "Processed molecule 2/2\n"
     ]
    },
    {
     "name": "stderr",
     "output_type": "stream",
     "text": [
      "[23:31:31] SMILES Parse Error: syntax error while parsing: C1=C2C=C3C(=C4C(=CC(=C5C(C(=CC(=C6C(C(=CC(=C1C(=O)OC(C(F)(F)F)C(F)(F)F)C(F)(F)F)S6)C(F)(F)F)S5)C(F)(F)F)S4)S3)C(=P2)C(=C(C(C(=C(=\n",
      "[23:31:31] SMILES Parse Error: Failed parsing SMILES 'C1=C2C=C3C(=C4C(=CC(=C5C(C(=CC(=C6C(C(=CC(=C1C(=O)OC(C(F)(F)F)C(F)(F)F)C(F)(F)F)S6)C(F)(F)F)S5)C(F)(F)F)S4)S3)C(=P2)C(=C(C(C(=C(=' for input: 'C1=C2C=C3C(=C4C(=CC(=C5C(C(=CC(=C6C(C(=CC(=C1C(=O)OC(C(F)(F)F)C(F)(F)F)C(F)(F)F)S6)C(F)(F)F)S5)C(F)(F)F)S4)S3)C(=P2)C(=C(C(C(=C(='\n"
     ]
    }
   ],
   "source": [
    "celecoxib_df_8_random_flips = process_dataframe(celecoxib_df_8_random_flips)\n",
    "celecoxib_df_8_random_flips.to_parquet(os.path.join(OUTPUT_DIR, 'celecoxib_df_8_random_flips.parquet'), index=False)\n",
    "\n",
    "celecoxib_df_128_random_flips = process_dataframe(celecoxib_df_128_random_flips)\n",
    "celecoxib_df_128_random_flips.to_parquet(os.path.join(OUTPUT_DIR, 'celecoxib_df_128_random_flips.parquet'), index=False)\n",
    "\n",
    "celecoxib_df_1024_random_flips = process_dataframe(celecoxib_df_1024_random_flips)\n",
    "celecoxib_df_1024_random_flips.to_parquet(os.path.join(OUTPUT_DIR, 'celecoxib_df_1024_random_flips.parquet'), index=False)\n"
   ]
  },
  {
   "cell_type": "code",
   "execution_count": 68,
   "metadata": {},
   "outputs": [
    {
     "name": "stdout",
     "output_type": "stream",
     "text": [
      "Processed molecule 100/256\n",
      "Processed molecule 200/256\n",
      "Processed molecule 256/256\n"
     ]
    },
    {
     "name": "stderr",
     "output_type": "stream",
     "text": [
      "[23:34:00] SMILES Parse Error: extra close parentheses while parsing: B(N)(N)OS(=O)(=O)C1=CC(=CC(=C1)C2=NC(C=C2)OC)C3=N/C(=C(\\C)/C4=CC(=C(N4C3=N/C(=C/5\\C=CC(C=C5)OC)/C)C6=CC(=C(C(=C6)N)C)Cl)Cl)Cl)Cl)Cl\n",
      "[23:34:00] SMILES Parse Error: Failed parsing SMILES 'B(N)(N)OS(=O)(=O)C1=CC(=CC(=C1)C2=NC(C=C2)OC)C3=N/C(=C(\\C)/C4=CC(=C(N4C3=N/C(=C/5\\C=CC(C=C5)OC)/C)C6=CC(=C(C(=C6)N)C)Cl)Cl)Cl)Cl)Cl' for input: 'B(N)(N)OS(=O)(=O)C1=CC(=CC(=C1)C2=NC(C=C2)OC)C3=N/C(=C(\\C)/C4=CC(=C(N4C3=N/C(=C/5\\C=CC(C=C5)OC)/C)C6=CC(=C(C(=C6)N)C)Cl)Cl)Cl)Cl)Cl'\n",
      "[23:34:02] Explicit valence for atom # 25 C, 5, is greater than permitted\n",
      "[23:34:08] SMILES Parse Error: ring closure 1 duplicates bond between atom 67 and atom 69 for input: 'COOOOOOOOOOOOOOOOOOOOOOOOOOOOOOOOOOOOOOOOOOOOOOOOOOOOOOOOOOOOOOOOOOC1(O)C1(O)C1'\n"
     ]
    },
    {
     "name": "stdout",
     "output_type": "stream",
     "text": [
      "Processed molecule 16/16\n"
     ]
    },
    {
     "name": "stderr",
     "output_type": "stream",
     "text": [
      "[23:34:10] SMILES Parse Error: unclosed ring for input: 'C1=C2C(=C3C4=C5C(=C6C=C7C=CC(=C6)C=C7)C=C5C=C4)C(=C1)C2=C3P(=C8C=CC(=C9C=CC(=C7)C=C8)[S-])C1=CC=C9'\n"
     ]
    },
    {
     "name": "stdout",
     "output_type": "stream",
     "text": [
      "Processed molecule 2/2\n"
     ]
    },
    {
     "name": "stderr",
     "output_type": "stream",
     "text": [
      "[23:34:11] SMILES Parse Error: extra open parentheses for input: 'C1=C(C=C(C1=S)C(C(F)(F)F)(C(F)(F)F)SC(=S)C2=C(C(=C(S2)C(C(F)(F)F)(C(F)(F)F)C(F)(F)F)[Se]C(C(F)(F)F)(C(F)(F)F)C(F)(F)F)[Se]C(=S)C(C(=S)C'\n"
     ]
    }
   ],
   "source": [
    "cimicoxib_df_8_random_flips = process_dataframe(cimicoxib_df_8_random_flips)\n",
    "cimicoxib_df_8_random_flips.to_parquet(os.path.join(OUTPUT_DIR, 'cimicoxib_df_8_random_flips.parquet'), index=False)\n",
    "\n",
    "cimicoxib_df_128_random_flips = process_dataframe(cimicoxib_df_128_random_flips)\n",
    "cimicoxib_df_128_random_flips.to_parquet(os.path.join(OUTPUT_DIR, 'cimicoxib_df_128_random_flips.parquet'), index=False)\n",
    "\n",
    "cimicoxib_df_1024_random_flips = process_dataframe(cimicoxib_df_1024_random_flips)\n",
    "cimicoxib_df_1024_random_flips.to_parquet(os.path.join(OUTPUT_DIR, 'cimicoxib_df_1024_random_flips.parquet'), index=False)"
   ]
  },
  {
   "cell_type": "code",
   "execution_count": 69,
   "metadata": {},
   "outputs": [
    {
     "name": "stdout",
     "output_type": "stream",
     "text": [
      "Processed molecule 100/256\n",
      "Processed molecule 200/256\n",
      "Processed molecule 256/256\n"
     ]
    },
    {
     "name": "stderr",
     "output_type": "stream",
     "text": [
      "[23:36:45] SMILES Parse Error: unclosed ring for input: 'CC[NH+]=C1C=C(C=C1)C2=NN=C(C=C2)C(C3=NN=C(C=C3)[NH+]=CN)C4=NN=C(C=C4)S(=O)(=O)C5=CC(=CC(=[NH+]N)N)[NH+]=NN'\n",
      "[23:36:48] SMILES Parse Error: unclosed ring for input: 'COC1=CC(=C[N+](=C1)C2=C(C(=C(C(=C2)F)N3N4N3C5=C(C=C4C6=CC(=NN=N6)COO)OO)OO)OO)C7=CC(=NN=N7)COO'\n",
      "[23:36:51] SMILES Parse Error: unclosed ring for input: '[B](C1=CC=C(C=C1)S(=O)(=O)N)C(C2=NN=NN2)C3=CC(=CC(=C3)[O-])C4=CC(=C(C(=C5N(N=NN=N5)OC)S(=O)(=O)C)S(=O)(=O)C)S(=O)(=O)C'\n"
     ]
    },
    {
     "name": "stdout",
     "output_type": "stream",
     "text": [
      "Processed molecule 16/16\n",
      "Processed molecule 2/2\n"
     ]
    },
    {
     "name": "stderr",
     "output_type": "stream",
     "text": [
      "[23:36:53] SMILES Parse Error: unclosed ring for input: 'C1=C2C=C3C(=C4C1=C5C6=C7C(=CC(=C6)C(=C8C(C(=CC(=C9C8=CC(=N2)C#C9)C(C(F)(F)F)C(F)(F)F)C(=C7)[S-])C8)C(F)(F)F)S5)SC(=N4)[S-]'\n"
     ]
    }
   ],
   "source": [
    "deracoxib_df_8_random_flips = process_dataframe(deracoxib_df_8_random_flips)\n",
    "deracoxib_df_8_random_flips.to_parquet(os.path.join(OUTPUT_DIR, 'deracoxib_df_8_random_flips.parquet'), index=False)\n",
    "\n",
    "deracoxib_df_128_random_flips = process_dataframe(deracoxib_df_128_random_flips)\n",
    "deracoxib_df_128_random_flips.to_parquet(os.path.join(OUTPUT_DIR, 'deracoxib_df_128_random_flips.parquet'), index=False)\n",
    "\n",
    "deracoxib_df_1024_random_flips = process_dataframe(deracoxib_df_1024_random_flips)\n",
    "deracoxib_df_1024_random_flips.to_parquet(os.path.join(OUTPUT_DIR, 'deracoxib_df_1024_random_flips.parquet'), index=False)"
   ]
  }
 ],
 "metadata": {
  "kernelspec": {
   "display_name": "molforge",
   "language": "python",
   "name": "python3"
  },
  "language_info": {
   "codemirror_mode": {
    "name": "ipython",
    "version": 3
   },
   "file_extension": ".py",
   "mimetype": "text/x-python",
   "name": "python",
   "nbconvert_exporter": "python",
   "pygments_lexer": "ipython3",
   "version": "3.11.10"
  }
 },
 "nbformat": 4,
 "nbformat_minor": 2
}
