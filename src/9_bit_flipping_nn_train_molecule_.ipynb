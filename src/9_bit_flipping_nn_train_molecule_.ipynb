{
 "cells": [
  {
   "cell_type": "markdown",
   "metadata": {},
   "source": [
    "# Project: Decoding Molecules From Fingerprints.\n",
    "## Group Members:\n",
    "### Qi Chen, e-mail: gusqichr@student.gu.se\n",
    "### Nils Dunlop, e-mail: gusdunlni@student.gu.se\n",
    "### Francisco Alejandro Erazo Piza, e-mail: guserafr@student.gu.se\n",
    "***"
   ]
  },
  {
   "cell_type": "code",
   "execution_count": 9,
   "metadata": {},
   "outputs": [],
   "source": [
    "import os\n",
    "import pandas as pd\n",
    "from rdkit.Chem import rdFingerprintGenerator\n",
    "from rdkit.Chem import PandasTools\n",
    "import numpy as np\n",
    "from joblib import Parallel, delayed\n",
    "from rdkit.DataStructs import TanimotoSimilarity\n",
    "import subprocess\n",
    "from typing import List, Tuple\n",
    "import subprocess\n",
    "from concurrent.futures import ThreadPoolExecutor, as_completed\n",
    "from rdkit import Chem\n",
    "pd.set_option('display.max_colwidth', None)\n",
    "pd.set_option('display.width', None)"
   ]
  },
  {
   "cell_type": "markdown",
   "metadata": {},
   "source": [
    "### Define directories\n",
    "***"
   ]
  },
  {
   "cell_type": "code",
   "execution_count": 10,
   "metadata": {},
   "outputs": [],
   "source": [
    "# Set user directory\n",
    "USER_DIR = os.path.expanduser('~')\n",
    "\n",
    "# Set the project root directory\n",
    "PROJECT_ROOT = os.path.abspath(os.path.join(os.getcwd(), '..'))\n",
    "\n",
    "# Define the input and output directories\n",
    "INPUT_DIR = os.path.join(PROJECT_ROOT, 'data/')\n",
    "OUTPUT_DIR = os.path.join(PROJECT_ROOT, 'data/bit_flipping_nn_train_molecule')\n",
    "INPUT_PATH = os.path.join(PROJECT_ROOT, 'data/processed_chunks/processed_molecule_fingerprints_part_0.parquet')\n",
    "\n",
    "# Ensure output directory exists\n",
    "os.makedirs(OUTPUT_DIR, exist_ok=True)\n"
   ]
  },
  {
   "cell_type": "markdown",
   "metadata": {},
   "source": [
    "### COX2 and Janus Data\n",
    "***"
   ]
  },
  {
   "cell_type": "code",
   "execution_count": 11,
   "metadata": {},
   "outputs": [
    {
     "name": "stdout",
     "output_type": "stream",
     "text": [
      "COX2 shape: (1000, 6)\n"
     ]
    }
   ],
   "source": [
    "# Read\n",
    "df = pd.read_parquet(INPUT_PATH)\n",
    "print(f\"COX2 shape: {df.shape}\")\n"
   ]
  },
  {
   "cell_type": "code",
   "execution_count": 12,
   "metadata": {},
   "outputs": [
    {
     "data": {
      "text/html": [
       "<div>\n",
       "<style scoped>\n",
       "    .dataframe tbody tr th:only-of-type {\n",
       "        vertical-align: middle;\n",
       "    }\n",
       "\n",
       "    .dataframe tbody tr th {\n",
       "        vertical-align: top;\n",
       "    }\n",
       "\n",
       "    .dataframe thead th {\n",
       "        text-align: right;\n",
       "    }\n",
       "</style>\n",
       "<table border=\"1\" class=\"dataframe\">\n",
       "  <thead>\n",
       "    <tr style=\"text-align: right;\">\n",
       "      <th></th>\n",
       "      <th>ChEMBL ID</th>\n",
       "      <th>smiles</th>\n",
       "      <th>FingerprintBits</th>\n",
       "      <th>SparseFingerprintBits</th>\n",
       "      <th>Converted_SMILES</th>\n",
       "      <th>Device_Used</th>\n",
       "    </tr>\n",
       "  </thead>\n",
       "  <tbody>\n",
       "    <tr>\n",
       "      <th>0</th>\n",
       "      <td>CHEMBL3897759</td>\n",
       "      <td>Cc1ccc2c(NCc3ccc(NC(=O)C4CCN(Cc5ccc(F)c(F)c5)CC4)cc3)nc(N(C)C)nc2c1</td>\n",
       "      <td>[0, 0, 0, 0, 0, 0, 0, 0, 0, 0, 0, 0, 0, 0, 0, 0, 0, 0, 0, 0, 0, 0, 0, 0, 0, 0, 0, 0, 0, 0, 0, 0, 0, 0, 0, 0, 0, 0, 0, 0, 0, 0, 0, 0, 0, 0, 0, 0, 0, 0, 0, 0, 0, 0, 0, 0, 0, 0, 0, 0, 0, 0, 0, 0, 0, 0, 0, 0, 0, 0, 0, 0, 0, 0, 0, 0, 0, 0, 0, 0, 1, 0, 0, 0, 0, 0, 0, 0, 0, 0, 0, 0, 0, 0, 0, 0, 0, 0, 0, 0, ...]</td>\n",
       "      <td>80 191 216 235 255 263 310 363 378 380 467 531 548 638 650 689 699 708 744 784 785 807 827 843 875 881 926 933 935 974 1013 1019 1057 1077 1097 1106 1152 1163 1261 1275 1309 1325 1357 1380 1416 1422 1480 1539 1693 1700 1722 1733 1750 1754 1765 1771 1791 1816 1823 1837 1840 1855 1873 1917 1928 2004 2016</td>\n",
       "      <td>Cc1ccc2c(NCc3ccc(NC(=O)C4CCN(Cc5ccc(F)c(F)c5)CC4)cc3)nc(N(C)C)nc2c1</td>\n",
       "      <td>cuda</td>\n",
       "    </tr>\n",
       "    <tr>\n",
       "      <th>1</th>\n",
       "      <td>CHEMBL3935110</td>\n",
       "      <td>Cc1ccc2c(NCc3ccc(NC(=O)C4CCN(Cc5cc(F)ccc5F)CC4)cc3)nc(N(C)C)nc2c1</td>\n",
       "      <td>[0, 0, 0, 0, 0, 0, 0, 0, 0, 0, 0, 0, 0, 0, 0, 0, 0, 0, 0, 0, 0, 0, 0, 0, 0, 0, 0, 0, 0, 0, 0, 0, 0, 0, 0, 0, 0, 0, 0, 0, 0, 0, 0, 0, 0, 0, 0, 0, 0, 0, 0, 0, 0, 0, 0, 0, 0, 0, 0, 0, 0, 0, 0, 0, 0, 0, 0, 0, 0, 0, 0, 0, 0, 0, 0, 0, 0, 0, 0, 0, 1, 0, 0, 0, 0, 0, 0, 0, 0, 0, 0, 0, 0, 0, 0, 0, 0, 0, 0, 0, ...]</td>\n",
       "      <td>80 191 216 235 249 255 263 310 363 378 380 467 548 566 638 650 689 699 708 784 785 807 843 875 881 926 933 935 974 1013 1019 1057 1068 1077 1097 1106 1152 1163 1261 1275 1309 1325 1349 1357 1380 1410 1416 1422 1480 1487 1670 1693 1700 1722 1733 1750 1754 1765 1791 1792 1816 1823 1837 1840 1855 1873 1917 1928 2004 2016</td>\n",
       "      <td>Cc1ccc2c(NCc3ccc(NC(=O)C4CCN(Cc5cc(F)ccc5F)CC4)cc3)nc(N(C)C)nc2c1</td>\n",
       "      <td>cuda</td>\n",
       "    </tr>\n",
       "    <tr>\n",
       "      <th>2</th>\n",
       "      <td>CHEMBL3347413</td>\n",
       "      <td>N#Cc1cc(Cl)cc(Oc2cc(CCc3cccnc3)[nH]c(=O)c2Cl)c1</td>\n",
       "      <td>[0, 0, 0, 0, 0, 0, 0, 0, 0, 0, 0, 0, 0, 0, 0, 0, 0, 0, 0, 0, 0, 0, 0, 0, 1, 0, 0, 0, 0, 0, 0, 0, 0, 0, 0, 0, 0, 0, 0, 0, 0, 0, 0, 0, 0, 0, 0, 0, 0, 0, 0, 0, 0, 0, 0, 0, 0, 0, 0, 0, 0, 0, 0, 0, 0, 0, 0, 0, 0, 0, 0, 0, 0, 0, 0, 0, 0, 0, 0, 0, 1, 0, 0, 0, 0, 0, 0, 0, 0, 0, 0, 0, 0, 0, 0, 0, 0, 0, 0, 0, ...]</td>\n",
       "      <td>24 80 102 216 240 301 305 314 322 378 437 499 561 582 645 650 674 695 726 750 790 875 892 929 1011 1031 1043 1066 1087 1088 1103 1114 1120 1136 1154 1243 1261 1292 1380 1384 1535 1586 1603 1617 1683 1740 1745 1747 1750 1754 1866 1873 1970</td>\n",
       "      <td>N#Cc1cc(Cl)cc(Oc2cc(CCc3cccnc3)[nH]c(=O)c2Cl)c1</td>\n",
       "      <td>cuda</td>\n",
       "    </tr>\n",
       "    <tr>\n",
       "      <th>3</th>\n",
       "      <td>CHEMBL1739263</td>\n",
       "      <td>N=C(N)c1ccc(-c2sc(-c3ccc(C(=N)N)cc3)c3c2OCCO3)cc1</td>\n",
       "      <td>[0, 0, 0, 0, 0, 0, 0, 0, 0, 0, 0, 0, 0, 0, 0, 0, 0, 0, 0, 0, 0, 0, 0, 0, 0, 0, 0, 0, 0, 0, 0, 0, 0, 0, 0, 0, 0, 0, 0, 0, 0, 0, 0, 0, 0, 0, 0, 0, 0, 0, 0, 0, 0, 0, 0, 0, 0, 0, 0, 0, 0, 0, 0, 0, 0, 0, 0, 0, 0, 0, 0, 0, 0, 0, 0, 0, 0, 0, 0, 0, 0, 0, 1, 0, 0, 0, 0, 0, 0, 0, 0, 0, 0, 0, 0, 0, 0, 0, 0, 0, ...]</td>\n",
       "      <td>82 140 162 338 441 621 623 656 675 807 854 876 896 926 950 1104 1160 1171 1294 1326 1380 1385 1596 1697 1701 1750 1817 1860 1873</td>\n",
       "      <td>N=C(N)c1ccc(-c2sc(-c3ccc(C(=N)N)cc3)c3c2OCCO3)cc1</td>\n",
       "      <td>cuda</td>\n",
       "    </tr>\n",
       "    <tr>\n",
       "      <th>4</th>\n",
       "      <td>CHEMBL3917493</td>\n",
       "      <td>O=C(C=Cc1cccs1)c1cccc(NC(=O)c2cc(-c3ccncc3)[nH]n2)c1</td>\n",
       "      <td>[0, 0, 0, 0, 0, 0, 0, 0, 0, 0, 0, 0, 1, 0, 1, 0, 0, 0, 0, 0, 0, 0, 0, 0, 0, 0, 0, 0, 0, 0, 0, 1, 0, 0, 0, 0, 0, 0, 0, 0, 0, 0, 0, 0, 0, 0, 0, 0, 0, 0, 0, 0, 0, 0, 0, 0, 0, 0, 0, 0, 0, 0, 0, 1, 0, 0, 0, 0, 0, 0, 0, 0, 0, 0, 1, 0, 0, 0, 0, 0, 0, 0, 0, 0, 0, 0, 0, 0, 0, 0, 0, 0, 0, 0, 0, 0, 0, 0, 0, 0, ...]</td>\n",
       "      <td>12 14 31 63 74 119 184 191 241 378 383 391 486 552 595 650 675 694 703 747 804 807 813 835 855 875 935 1039 1053 1088 1114 1152 1160 1208 1324 1380 1385 1509 1567 1603 1667 1683 1713 1728 1750 1816 1817 1866 1873 1899 1917 1978 1985 2004</td>\n",
       "      <td>O=C(C=Cc1cccs1)c1cccc(NC(=O)c2cc(-c3ccncc3)[nH]n2)c1</td>\n",
       "      <td>cuda</td>\n",
       "    </tr>\n",
       "  </tbody>\n",
       "</table>\n",
       "</div>"
      ],
      "text/plain": [
       "       ChEMBL ID  \\\n",
       "0  CHEMBL3897759   \n",
       "1  CHEMBL3935110   \n",
       "2  CHEMBL3347413   \n",
       "3  CHEMBL1739263   \n",
       "4  CHEMBL3917493   \n",
       "\n",
       "                                                                smiles  \\\n",
       "0  Cc1ccc2c(NCc3ccc(NC(=O)C4CCN(Cc5ccc(F)c(F)c5)CC4)cc3)nc(N(C)C)nc2c1   \n",
       "1    Cc1ccc2c(NCc3ccc(NC(=O)C4CCN(Cc5cc(F)ccc5F)CC4)cc3)nc(N(C)C)nc2c1   \n",
       "2                      N#Cc1cc(Cl)cc(Oc2cc(CCc3cccnc3)[nH]c(=O)c2Cl)c1   \n",
       "3                    N=C(N)c1ccc(-c2sc(-c3ccc(C(=N)N)cc3)c3c2OCCO3)cc1   \n",
       "4                 O=C(C=Cc1cccs1)c1cccc(NC(=O)c2cc(-c3ccncc3)[nH]n2)c1   \n",
       "\n",
       "                                                                                                                                                                                                                                                                                                     FingerprintBits  \\\n",
       "0  [0, 0, 0, 0, 0, 0, 0, 0, 0, 0, 0, 0, 0, 0, 0, 0, 0, 0, 0, 0, 0, 0, 0, 0, 0, 0, 0, 0, 0, 0, 0, 0, 0, 0, 0, 0, 0, 0, 0, 0, 0, 0, 0, 0, 0, 0, 0, 0, 0, 0, 0, 0, 0, 0, 0, 0, 0, 0, 0, 0, 0, 0, 0, 0, 0, 0, 0, 0, 0, 0, 0, 0, 0, 0, 0, 0, 0, 0, 0, 0, 1, 0, 0, 0, 0, 0, 0, 0, 0, 0, 0, 0, 0, 0, 0, 0, 0, 0, 0, 0, ...]   \n",
       "1  [0, 0, 0, 0, 0, 0, 0, 0, 0, 0, 0, 0, 0, 0, 0, 0, 0, 0, 0, 0, 0, 0, 0, 0, 0, 0, 0, 0, 0, 0, 0, 0, 0, 0, 0, 0, 0, 0, 0, 0, 0, 0, 0, 0, 0, 0, 0, 0, 0, 0, 0, 0, 0, 0, 0, 0, 0, 0, 0, 0, 0, 0, 0, 0, 0, 0, 0, 0, 0, 0, 0, 0, 0, 0, 0, 0, 0, 0, 0, 0, 1, 0, 0, 0, 0, 0, 0, 0, 0, 0, 0, 0, 0, 0, 0, 0, 0, 0, 0, 0, ...]   \n",
       "2  [0, 0, 0, 0, 0, 0, 0, 0, 0, 0, 0, 0, 0, 0, 0, 0, 0, 0, 0, 0, 0, 0, 0, 0, 1, 0, 0, 0, 0, 0, 0, 0, 0, 0, 0, 0, 0, 0, 0, 0, 0, 0, 0, 0, 0, 0, 0, 0, 0, 0, 0, 0, 0, 0, 0, 0, 0, 0, 0, 0, 0, 0, 0, 0, 0, 0, 0, 0, 0, 0, 0, 0, 0, 0, 0, 0, 0, 0, 0, 0, 1, 0, 0, 0, 0, 0, 0, 0, 0, 0, 0, 0, 0, 0, 0, 0, 0, 0, 0, 0, ...]   \n",
       "3  [0, 0, 0, 0, 0, 0, 0, 0, 0, 0, 0, 0, 0, 0, 0, 0, 0, 0, 0, 0, 0, 0, 0, 0, 0, 0, 0, 0, 0, 0, 0, 0, 0, 0, 0, 0, 0, 0, 0, 0, 0, 0, 0, 0, 0, 0, 0, 0, 0, 0, 0, 0, 0, 0, 0, 0, 0, 0, 0, 0, 0, 0, 0, 0, 0, 0, 0, 0, 0, 0, 0, 0, 0, 0, 0, 0, 0, 0, 0, 0, 0, 0, 1, 0, 0, 0, 0, 0, 0, 0, 0, 0, 0, 0, 0, 0, 0, 0, 0, 0, ...]   \n",
       "4  [0, 0, 0, 0, 0, 0, 0, 0, 0, 0, 0, 0, 1, 0, 1, 0, 0, 0, 0, 0, 0, 0, 0, 0, 0, 0, 0, 0, 0, 0, 0, 1, 0, 0, 0, 0, 0, 0, 0, 0, 0, 0, 0, 0, 0, 0, 0, 0, 0, 0, 0, 0, 0, 0, 0, 0, 0, 0, 0, 0, 0, 0, 0, 1, 0, 0, 0, 0, 0, 0, 0, 0, 0, 0, 1, 0, 0, 0, 0, 0, 0, 0, 0, 0, 0, 0, 0, 0, 0, 0, 0, 0, 0, 0, 0, 0, 0, 0, 0, 0, ...]   \n",
       "\n",
       "                                                                                                                                                                                                                                                                                                             SparseFingerprintBits  \\\n",
       "0                  80 191 216 235 255 263 310 363 378 380 467 531 548 638 650 689 699 708 744 784 785 807 827 843 875 881 926 933 935 974 1013 1019 1057 1077 1097 1106 1152 1163 1261 1275 1309 1325 1357 1380 1416 1422 1480 1539 1693 1700 1722 1733 1750 1754 1765 1771 1791 1816 1823 1837 1840 1855 1873 1917 1928 2004 2016   \n",
       "1  80 191 216 235 249 255 263 310 363 378 380 467 548 566 638 650 689 699 708 784 785 807 843 875 881 926 933 935 974 1013 1019 1057 1068 1077 1097 1106 1152 1163 1261 1275 1309 1325 1349 1357 1380 1410 1416 1422 1480 1487 1670 1693 1700 1722 1733 1750 1754 1765 1791 1792 1816 1823 1837 1840 1855 1873 1917 1928 2004 2016   \n",
       "2                                                                                   24 80 102 216 240 301 305 314 322 378 437 499 561 582 645 650 674 695 726 750 790 875 892 929 1011 1031 1043 1066 1087 1088 1103 1114 1120 1136 1154 1243 1261 1292 1380 1384 1535 1586 1603 1617 1683 1740 1745 1747 1750 1754 1866 1873 1970   \n",
       "3                                                                                                                                                                                                 82 140 162 338 441 621 623 656 675 807 854 876 896 926 950 1104 1160 1171 1294 1326 1380 1385 1596 1697 1701 1750 1817 1860 1873   \n",
       "4                                                                                    12 14 31 63 74 119 184 191 241 378 383 391 486 552 595 650 675 694 703 747 804 807 813 835 855 875 935 1039 1053 1088 1114 1152 1160 1208 1324 1380 1385 1509 1567 1603 1667 1683 1713 1728 1750 1816 1817 1866 1873 1899 1917 1978 1985 2004   \n",
       "\n",
       "                                                      Converted_SMILES  \\\n",
       "0  Cc1ccc2c(NCc3ccc(NC(=O)C4CCN(Cc5ccc(F)c(F)c5)CC4)cc3)nc(N(C)C)nc2c1   \n",
       "1    Cc1ccc2c(NCc3ccc(NC(=O)C4CCN(Cc5cc(F)ccc5F)CC4)cc3)nc(N(C)C)nc2c1   \n",
       "2                      N#Cc1cc(Cl)cc(Oc2cc(CCc3cccnc3)[nH]c(=O)c2Cl)c1   \n",
       "3                    N=C(N)c1ccc(-c2sc(-c3ccc(C(=N)N)cc3)c3c2OCCO3)cc1   \n",
       "4                 O=C(C=Cc1cccs1)c1cccc(NC(=O)c2cc(-c3ccncc3)[nH]n2)c1   \n",
       "\n",
       "  Device_Used  \n",
       "0        cuda  \n",
       "1        cuda  \n",
       "2        cuda  \n",
       "3        cuda  \n",
       "4        cuda  "
      ]
     },
     "execution_count": 12,
     "metadata": {},
     "output_type": "execute_result"
    }
   ],
   "source": [
    "df.head()"
   ]
  },
  {
   "cell_type": "code",
   "execution_count": 13,
   "metadata": {},
   "outputs": [],
   "source": [
    "df = df.rename(columns={'smiles': 'SMILES'})\n"
   ]
  },
  {
   "cell_type": "markdown",
   "metadata": {},
   "source": [
    "### Extract Nearby Neighbors of parecoxib\n",
    "***"
   ]
  },
  {
   "cell_type": "code",
   "execution_count": 14,
   "metadata": {},
   "outputs": [],
   "source": [
    "chembl_3897759 = df[df['ChEMBL ID'] == 'CHEMBL3897759']\n",
    "\n",
    "chembl_3347413 = df[df['ChEMBL ID'] == 'CHEMBL3347413']"
   ]
  },
  {
   "cell_type": "markdown",
   "metadata": {},
   "source": [
    "### Flip Bits\n",
    "***"
   ]
  },
  {
   "cell_type": "code",
   "execution_count": 15,
   "metadata": {},
   "outputs": [],
   "source": [
    "def flip_single_bit(vector: List[int], position: int) -> List[int]:\n",
    "    \"\"\"Flip only the bit at the given position in the vector.\"\"\"\n",
    "    flipped_vector = vector.copy()\n",
    "    flipped_vector[position] = 1 - flipped_vector[position]\n",
    "    return flipped_vector\n",
    "\n",
    "def sequential_bit_flipping(fingerprint: List[int], start: int = None, end: int = None) -> List[Tuple[int, List[int]]]:\n",
    "    \"\"\"Perform sequential single bit flipping on the fingerprint from MSB to LSB.\"\"\"\n",
    "    if start is None:\n",
    "        start = 0\n",
    "    if end is None:\n",
    "        end = len(fingerprint)\n",
    "    \n",
    "    results = []\n",
    "    for i in range(start, end):  # Forward order: from left (MSB) to right (LSB)\n",
    "        flipped_fingerprint = flip_single_bit(fingerprint, i)\n",
    "        results.append((i, flipped_fingerprint))\n",
    "    return results\n",
    "\n",
    "def block_based_flipping(fingerprint: List[int], block_size: int, block_number: int = None) -> List[Tuple[int, List[int]]]:\n",
    "    \"\"\"Perform block-based single bit flipping on the fingerprint from MSB to LSB.\"\"\"\n",
    "    total_blocks = len(fingerprint) // block_size\n",
    "    if block_number is not None:\n",
    "        if block_number < 0 or block_number >= total_blocks:\n",
    "            raise ValueError(f\"Block number must be between 0 and {total_blocks - 1}\")\n",
    "        start = block_number * block_size\n",
    "        end = start + block_size\n",
    "        return sequential_bit_flipping(fingerprint, start, end)\n",
    "    else:\n",
    "        results = []\n",
    "        for start in range(0, len(fingerprint), block_size):\n",
    "            end = min(start + block_size, len(fingerprint))\n",
    "            results.extend(sequential_bit_flipping(fingerprint, start, end))\n",
    "        return results\n",
    "\n",
    "def sparse_to_dense(sparse_fingerprint: List[int], size: int = 2048) -> List[int]:\n",
    "    \"\"\"Convert sparse fingerprint to dense fingerprint.\"\"\"\n",
    "    dense = [0] * size\n",
    "    for bit in sparse_fingerprint:\n",
    "        dense[bit] = 1\n",
    "    return dense\n",
    "\n",
    "def dense_to_sparse(dense_fingerprint: List[int]) -> List[int]:\n",
    "    \"\"\"Convert dense fingerprint to sparse fingerprint.\"\"\"\n",
    "    return [i for i, bit in enumerate(dense_fingerprint) if bit == 1]\n",
    "\n",
    "def generate_flipped_fingerprints(row: pd.Series, block_size: int = None, block_number: int = None) -> List[dict]:\n",
    "    \"\"\"Generate single bit flipped fingerprints for a single row.\"\"\"\n",
    "    dense_fingerprint = row['FingerprintBits']\n",
    "    sparse_fingerprint = row['SparseFingerprintBits']\n",
    "    \n",
    "    if block_size:\n",
    "        flipped_results = block_based_flipping(dense_fingerprint, block_size, block_number)\n",
    "    else:\n",
    "        flipped_results = sequential_bit_flipping(dense_fingerprint)\n",
    "    \n",
    "    new_rows = []\n",
    "    for position, flipped_dense in flipped_results:\n",
    "        flipped_sparse = dense_to_sparse(flipped_dense)\n",
    "        new_row = {\n",
    "            'ChEMBL ID': row['ChEMBL ID'],\n",
    "            'SMILES': row['SMILES'],\n",
    "            'FingerprintBits': dense_fingerprint,\n",
    "            'SparseFingerprintBits': sparse_fingerprint,\n",
    "            'FingerprintBitsFlipped': flipped_dense,\n",
    "            'SparseFingerprintBitsFlipped': flipped_sparse,\n",
    "            'FlippedBitPosition': position\n",
    "        }\n",
    "        new_rows.append(new_row)\n",
    "    \n",
    "    return new_rows\n",
    "\n",
    "def process_dataframe(df: pd.DataFrame, block_size: int = None, block_number: int = None) -> pd.DataFrame:\n",
    "    \"\"\"Process the entire dataframe and generate single bit flipped fingerprints.\"\"\"\n",
    "    all_new_rows = []\n",
    "    for _, row in df.iterrows():\n",
    "        new_rows = generate_flipped_fingerprints(row, block_size, block_number)\n",
    "        all_new_rows.extend(new_rows)\n",
    "    \n",
    "    return pd.DataFrame(all_new_rows)\n"
   ]
  },
  {
   "cell_type": "code",
   "execution_count": 16,
   "metadata": {},
   "outputs": [],
   "source": [
    "chembl_3897759_flipped_df = process_dataframe(chembl_3897759)\n",
    "chembl_3347413_flipped_df = process_dataframe(chembl_3347413)\n"
   ]
  },
  {
   "cell_type": "code",
   "execution_count": 17,
   "metadata": {},
   "outputs": [
    {
     "data": {
      "text/plain": [
       "(2048, 7)"
      ]
     },
     "execution_count": 17,
     "metadata": {},
     "output_type": "execute_result"
    }
   ],
   "source": [
    "chembl_3897759_flipped_df.shape\n"
   ]
  },
  {
   "cell_type": "markdown",
   "metadata": {},
   "source": [
    "### MolForge predictions on flipped fingerprints\n",
    "***\n"
   ]
  },
  {
   "cell_type": "code",
   "execution_count": 18,
   "metadata": {},
   "outputs": [],
   "source": [
    "# Set user directory\n",
    "USER_DIR = os.path.expanduser('~')\n",
    "\n",
    "# Path to the conda environment to MolForge\n",
    "CONDA_ENV_PATH = os.path.join(USER_DIR, 'conda/envs/molforge/bin/python')\n",
    "MOLFORGE_DIR = os.path.join(USER_DIR, 'MolForge')\n",
    "MOLFORGE_SCRIPT_PATH = os.path.join(USER_DIR, 'MolForge/predict.py')\n",
    "WORKERS = 4"
   ]
  },
  {
   "cell_type": "code",
   "execution_count": 19,
   "metadata": {},
   "outputs": [],
   "source": [
    "def convert_spaced_smiles(spaced_smiles):\n",
    "    compact_smiles = spaced_smiles.replace(\" \", \"\")\n",
    "    mol = Chem.MolFromSmiles(compact_smiles)\n",
    "    if mol is not None:\n",
    "        return Chem.MolToSmiles(mol, isomericSmiles=False)\n",
    "    else:\n",
    "        return \"Invalid SMILES string\""
   ]
  },
  {
   "cell_type": "code",
   "execution_count": 20,
   "metadata": {},
   "outputs": [],
   "source": [
    "def run_molforge(fp_input):\n",
    "    # Ensure fp_input is a string\n",
    "    if isinstance(fp_input, list):\n",
    "        fp_input_str = ' '.join(map(str, fp_input))\n",
    "    else:\n",
    "        fp_input_str = fp_input\n",
    "    \n",
    "    command = [\n",
    "        CONDA_ENV_PATH,\n",
    "        MOLFORGE_SCRIPT_PATH,\n",
    "        \"--fp=ECFP4\",\n",
    "        \"--model_type=smiles\",\n",
    "        f\"--input={fp_input_str}\"\n",
    "    ]\n",
    "    \n",
    "    try:\n",
    "        result = subprocess.run(\n",
    "            command,\n",
    "            capture_output=True,\n",
    "            text=True,\n",
    "            check=True,\n",
    "            cwd=MOLFORGE_DIR,\n",
    "            env=os.environ.copy()\n",
    "        )\n",
    "    except subprocess.CalledProcessError as e:\n",
    "        print(f\"Error running MolForge: {e}\")\n",
    "        print(f\"Error output: {e.stderr}\")\n",
    "        return \"Error\", \"Error\"\n",
    "    \n",
    "    spaced_smiles = None\n",
    "    device_used = None\n",
    "    output_lines = result.stdout.splitlines()\n",
    "    \n",
    "    for line in output_lines:\n",
    "        if \"Result:\" in line:\n",
    "            spaced_smiles = line.split(\"Result:\")[1].strip()\n",
    "        if \"rank :\" in line:\n",
    "            device_used = line.split(\"rank :\")[1].strip()\n",
    "    \n",
    "    if spaced_smiles:\n",
    "        compact_smiles = convert_spaced_smiles(spaced_smiles)\n",
    "    else:\n",
    "        compact_smiles = \"No Result\"\n",
    "\n",
    "    return compact_smiles, device_used"
   ]
  },
  {
   "cell_type": "code",
   "execution_count": 21,
   "metadata": {},
   "outputs": [],
   "source": [
    "def process_row(row):\n",
    "    fp_input = row['SparseFingerprintBitsFlipped']\n",
    "    compact_smiles, device_used = run_molforge(fp_input)\n",
    "    return compact_smiles, device_used\n",
    "\n",
    "def process_dataframe(df, max_rows=None):\n",
    "    if max_rows:\n",
    "        df = df.head(max_rows)\n",
    "    \n",
    "    total = len(df)\n",
    "    with ThreadPoolExecutor(max_workers=WORKERS) as executor:\n",
    "        futures = {executor.submit(process_row, row): idx for idx, row in df.iterrows()}\n",
    "        \n",
    "        for i, future in enumerate(as_completed(futures)):\n",
    "            idx = futures[future]\n",
    "            result, device_used = future.result()\n",
    "            df.at[idx, 'Generated_SMILES'] = result\n",
    "            df.at[idx, 'Device_Used'] = device_used\n",
    "            if (i + 1) % 100 == 0 or (i + 1) == total:\n",
    "                print(f\"Processed molecule {i + 1}/{total}\")\n",
    "    \n",
    "    return df"
   ]
  },
  {
   "cell_type": "code",
   "execution_count": 22,
   "metadata": {},
   "outputs": [
    {
     "name": "stdout",
     "output_type": "stream",
     "text": [
      "Processed molecule 100/2048\n",
      "Processed molecule 200/2048\n",
      "Processed molecule 300/2048\n",
      "Processed molecule 400/2048\n",
      "Processed molecule 500/2048\n",
      "Processed molecule 600/2048\n",
      "Processed molecule 700/2048\n",
      "Processed molecule 800/2048\n",
      "Processed molecule 900/2048\n",
      "Processed molecule 1000/2048\n",
      "Processed molecule 1100/2048\n",
      "Processed molecule 1200/2048\n",
      "Processed molecule 1300/2048\n",
      "Processed molecule 1400/2048\n",
      "Processed molecule 1500/2048\n",
      "Processed molecule 1600/2048\n",
      "Processed molecule 1700/2048\n",
      "Processed molecule 1800/2048\n",
      "Processed molecule 1900/2048\n",
      "Processed molecule 2000/2048\n",
      "Processed molecule 2048/2048\n"
     ]
    }
   ],
   "source": [
    "chembl_3347413_flipped_df = process_dataframe(chembl_3347413_flipped_df)\n",
    "chembl_3347413_flipped_df.to_parquet(os.path.join(OUTPUT_DIR, 'chembl_3347413_flipped_df.parquet'), index=False)"
   ]
  },
  {
   "cell_type": "code",
   "execution_count": 23,
   "metadata": {},
   "outputs": [
    {
     "name": "stdout",
     "output_type": "stream",
     "text": [
      "Processed molecule 100/2048\n",
      "Processed molecule 200/2048\n",
      "Processed molecule 300/2048\n",
      "Processed molecule 400/2048\n",
      "Processed molecule 500/2048\n",
      "Processed molecule 600/2048\n",
      "Processed molecule 700/2048\n",
      "Processed molecule 800/2048\n",
      "Processed molecule 900/2048\n",
      "Processed molecule 1000/2048\n",
      "Processed molecule 1100/2048\n",
      "Processed molecule 1200/2048\n",
      "Processed molecule 1300/2048\n",
      "Processed molecule 1400/2048\n",
      "Processed molecule 1500/2048\n",
      "Processed molecule 1600/2048\n",
      "Processed molecule 1700/2048\n",
      "Processed molecule 1800/2048\n",
      "Processed molecule 1900/2048\n",
      "Processed molecule 2000/2048\n",
      "Processed molecule 2048/2048\n"
     ]
    }
   ],
   "source": [
    "chembl_3897759_flipped_df = process_dataframe(chembl_3897759_flipped_df)\n",
    "chembl_3897759_flipped_df.to_parquet(os.path.join(OUTPUT_DIR, 'chembl_3897759_flipped_df.parquet'), index=False)"
   ]
  }
 ],
 "metadata": {
  "kernelspec": {
   "display_name": "molforge",
   "language": "python",
   "name": "python3"
  },
  "language_info": {
   "codemirror_mode": {
    "name": "ipython",
    "version": 3
   },
   "file_extension": ".py",
   "mimetype": "text/x-python",
   "name": "python",
   "nbconvert_exporter": "python",
   "pygments_lexer": "ipython3",
   "version": "3.11.10"
  }
 },
 "nbformat": 4,
 "nbformat_minor": 2
}
