{
 "cells": [
  {
   "cell_type": "markdown",
   "metadata": {},
   "source": [
    "# Project: Decoding Molecules From Fingerprints.\n",
    "## Group Members:\n",
    "### Qi Chen, e-mail: gusqichr@student.gu.se\n",
    "### Nils Dunlop, e-mail: gusdunlni@student.gu.se\n",
    "### Francisco Alejandro Erazo Piza, e-mail: guserafr@student.gu.se\n",
    "***"
   ]
  },
  {
   "cell_type": "code",
   "execution_count": 147,
   "metadata": {},
   "outputs": [],
   "source": [
    "import os\n",
    "import io\n",
    "import base64\n",
    "from typing import List, Tuple\n",
    "from concurrent.futures import ThreadPoolExecutor, as_completed\n",
    "\n",
    "import numpy as np\n",
    "import pandas as pd\n",
    "import matplotlib.pyplot as plt\n",
    "import seaborn as sns\n",
    "from matplotlib import colors as mcolors\n",
    "from PIL import Image\n",
    "from collections import defaultdict\n",
    "from scipy import stats\n",
    "from scipy.cluster.hierarchy import dendrogram, linkage\n",
    "from scipy.stats import spearmanr\n",
    "\n",
    "from rdkit import Chem\n",
    "from rdkit.Chem import AllChem, Draw, PandasTools, Descriptors\n",
    "from rdkit.Chem.rdFingerprintGenerator import GetMorganGenerator\n",
    "from rdkit import DataStructs\n",
    "from rdkit.DataStructs import TanimotoSimilarity\n",
    "import requests\n",
    "import time\n",
    "import pandas as pd\n",
    "from typing import Optional, List, Dict\n",
    "from datetime import datetime\n",
    "import urllib.parse\n",
    "from IPython.display import display\n",
    "from ipywidgets import interact, fixed, widgets\n",
    "\n",
    "from joblib import Parallel, delayed\n",
    "from sklearn.manifold import MDS, TSNE\n",
    "\n",
    "# Pandas display settings\n",
    "pd.set_option('display.max_colwidth', None)\n",
    "pd.set_option('display.width', None)"
   ]
  },
  {
   "cell_type": "markdown",
   "metadata": {},
   "source": [
    "### Define directories\n",
    "***"
   ]
  },
  {
   "cell_type": "code",
   "execution_count": 148,
   "metadata": {},
   "outputs": [],
   "source": [
    "# Set user directory\n",
    "USER_DIR = os.path.expanduser('~')\n",
    "\n",
    "# Set the project root directory\n",
    "PROJECT_ROOT = os.path.abspath(os.path.join(os.getcwd(), '..'))\n",
    "\n",
    "# Define the input and output directories\n",
    "INPUT_DIR = os.path.join(PROJECT_ROOT, 'data/bit_flipping_nn_review_1')\n",
    "INPUT_DIR2 = os.path.join(PROJECT_ROOT, 'data/bit_flipping_nn')"
   ]
  },
  {
   "cell_type": "markdown",
   "metadata": {},
   "source": [
    "### Load Parecoxib, Celecoxib, Cimicoxib and Deracoxib, Anitrazafen Data\n",
    "***"
   ]
  },
  {
   "cell_type": "code",
   "execution_count": 149,
   "metadata": {},
   "outputs": [
    {
     "name": "stdout",
     "output_type": "stream",
     "text": [
      "Anitrazafen shape: (2048, 9)\n"
     ]
    }
   ],
   "source": [
    "\n",
    "\n",
    "anitrazafen_df_2048 = pd.read_parquet(os.path.join(INPUT_DIR2, 'anitrazafen_flipped_df.parquet'))\n",
    "print(f\"Anitrazafen shape: {anitrazafen_df_2048.shape}\")"
   ]
  },
  {
   "cell_type": "markdown",
   "metadata": {},
   "source": [
    "### Validate generated SMILES\n",
    "***"
   ]
  },
  {
   "cell_type": "code",
   "execution_count": 150,
   "metadata": {},
   "outputs": [],
   "source": [
    "# Function to convert SMILES to molecule and check validity\n",
    "def smiles_to_mol(smiles):\n",
    "    mol = Chem.MolFromSmiles(smiles)\n",
    "    return mol is not None, mol"
   ]
  },
  {
   "cell_type": "code",
   "execution_count": 151,
   "metadata": {},
   "outputs": [],
   "source": [
    "\n",
    "anitrazafen_df_2048['Valid_SMILES'], anitrazafen_df_2048['Molecule'] = zip(*anitrazafen_df_2048['Generated_SMILES'].apply(lambda x: smiles_to_mol(x)))\n"
   ]
  },
  {
   "cell_type": "code",
   "execution_count": 152,
   "metadata": {},
   "outputs": [],
   "source": [
    "def calculate_valid_smiles_percentage(df_dict):\n",
    "    results = []\n",
    "    \n",
    "    for compound, df in df_dict.items():\n",
    "        valid_smiles = df['Valid_SMILES'].sum()\n",
    "        percentage = df['Valid_SMILES'].mean() * 100\n",
    "        results.append({\n",
    "            'Compound': compound,\n",
    "            'Valid_SMILES': valid_smiles,\n",
    "            'Percentage': percentage\n",
    "        })\n",
    "    \n",
    "    return pd.DataFrame(results)"
   ]
  },
  {
   "cell_type": "markdown",
   "metadata": {},
   "source": [
    "### Generate ECFP4 Fingerprints of Generated SMILES\n",
    "***"
   ]
  },
  {
   "cell_type": "code",
   "execution_count": 153,
   "metadata": {},
   "outputs": [],
   "source": [
    "def generate_fingerprints_for_predictions_dict(df_dict, n_jobs=-1):\n",
    "    \"\"\"\n",
    "    Generate ECFP4 fingerprints for predicted SMILES strings using parallel processing.\n",
    "    \"\"\"\n",
    "    def process_single_smiles(smiles):\n",
    "        mol = Chem.MolFromSmiles(smiles)\n",
    "        if mol is not None:\n",
    "            morgan_generator = GetMorganGenerator(radius=2, fpSize=2048)\n",
    "            fp = morgan_generator.GetFingerprint(mol)\n",
    "            bit_vector = np.array(list(fp.ToBitString())).astype(int)\n",
    "            sparse_representation = list(np.where(bit_vector == 1)[0])\n",
    "            sparse_representation_str = ' '.join(map(str, sparse_representation))\n",
    "            return bit_vector, sparse_representation_str\n",
    "        return None, None\n",
    "\n",
    "    updated_dict = {}\n",
    "    \n",
    "    for molecule_name, df in df_dict.items():\n",
    "        print(f\"Processing {molecule_name}...\")\n",
    "        \n",
    "        # Use parallel processing to generate fingerprints\n",
    "        with ThreadPoolExecutor(max_workers=n_jobs if n_jobs > 0 else None) as executor:\n",
    "            results = list(executor.map(process_single_smiles, df['Generated_SMILES']))\n",
    "        \n",
    "        # Split results into separate lists\n",
    "        bit_vectors, sparse_representations = zip(*results)\n",
    "        \n",
    "        # Create a copy of the DataFrame and add the new columns\n",
    "        df_copy = df.copy()\n",
    "        df_copy['GeneratedFingerprintBits'] = bit_vectors\n",
    "        df_copy['GeneratedFingerprintSparse'] = sparse_representations\n",
    "        \n",
    "        # Store updated DataFrame in new dictionary\n",
    "        updated_dict[molecule_name] = df_copy\n",
    "    \n",
    "    return updated_dict\n",
    "\n",
    "def compare_fingerprints_dict(df_dict):\n",
    "    \"\"\"\n",
    "    Compare original and generated fingerprints to verify they're different.\n",
    "    \"\"\"\n",
    "    results = {}\n",
    "    \n",
    "    for molecule_name, df in df_dict.items():\n",
    "        different_fps = df.apply(\n",
    "            lambda row: not np.array_equal(row['FingerprintBitsFlipped'], \n",
    "                                         row['GeneratedFingerprintBits']), \n",
    "            axis=1\n",
    "        ).sum()\n",
    "        \n",
    "        total = len(df)\n",
    "        results[molecule_name] = {\n",
    "            'different_fps': different_fps,\n",
    "            'total': total,\n",
    "            'percentage': (different_fps/total) * 100\n",
    "        }\n",
    "        \n",
    "    return results"
   ]
  },
  {
   "cell_type": "code",
   "execution_count": 154,
   "metadata": {},
   "outputs": [
    {
     "name": "stdout",
     "output_type": "stream",
     "text": [
      "Processing Anitrazafen...\n",
      "\n",
      "Results for 2048 flips:\n",
      "Anitrazafen: 2047/2048 fingerprints are different (99.95%)\n"
     ]
    }
   ],
   "source": [
    "anitrazafen_df_2048 = generate_fingerprints_for_predictions_dict({'Anitrazafen': anitrazafen_df_2048})['Anitrazafen']\n",
    "\n",
    "# Compare results for each dataset\n",
    "for n_flips, dfs in [\n",
    "    (2048, [anitrazafen_df_2048])\n",
    "]:\n",
    "    print(f\"\\nResults for {n_flips} flips:\")\n",
    "    for df, name in zip(dfs, ['Anitrazafen']):\n",
    "        different_fps = df.apply(\n",
    "            lambda row: not np.array_equal(row['FingerprintBitsFlipped'], \n",
    "                                         row['GeneratedFingerprintBits']), \n",
    "            axis=1\n",
    "        ).sum()\n",
    "        total = len(df)\n",
    "        percentage = (different_fps/total) * 100\n",
    "        print(f\"{name}: {different_fps}/{total} fingerprints are different ({percentage:.2f}%)\")"
   ]
  },
  {
   "cell_type": "markdown",
   "metadata": {},
   "source": [
    "### Tanimoto similarity\n",
    "***"
   ]
  },
  {
   "cell_type": "code",
   "execution_count": 155,
   "metadata": {},
   "outputs": [],
   "source": [
    "def calculate_tanimoto_safe(fp_bits1, fp_bits2):\n",
    "    \"\"\"\n",
    "    Calculate Tanimoto similarity between two fingerprint bit vectors.\n",
    "    \"\"\"\n",
    "    try:\n",
    "        # Convert bit vectors to numpy arrays if they aren't already\n",
    "        fp_bits1 = np.array(fp_bits1)\n",
    "        fp_bits2 = np.array(fp_bits2)\n",
    "        \n",
    "        # Verify that both fingerprints have the same length\n",
    "        if len(fp_bits1) != len(fp_bits2):\n",
    "            print(f\"Fingerprint lengths don't match: {len(fp_bits1)} vs {len(fp_bits2)}\")\n",
    "            return None\n",
    "            \n",
    "        # Calculate intersection (AND) and union (OR)\n",
    "        intersection = np.sum(fp_bits1 & fp_bits2)\n",
    "        union = np.sum(fp_bits1 | fp_bits2)\n",
    "        \n",
    "        # Avoid division by zero\n",
    "        if union == 0:\n",
    "            print(\"Warning: Union of fingerprints is zero\")\n",
    "            return 0.0\n",
    "            \n",
    "        # Calculate Tanimoto similarity\n",
    "        tanimoto = intersection / union\n",
    "        \n",
    "        return float(tanimoto)\n",
    "        \n",
    "    except Exception as e:\n",
    "        print(f\"Error calculating Tanimoto similarity: {e}\")\n",
    "        return None"
   ]
  },
  {
   "cell_type": "code",
   "execution_count": 156,
   "metadata": {},
   "outputs": [],
   "source": [
    "\n",
    "anitrazafen_df_2048['Tanimoto'] = anitrazafen_df_2048.apply(lambda row: calculate_tanimoto_safe(row['FingerprintBits'], row['FingerprintBitsFlipped']), axis=1)"
   ]
  },
  {
   "cell_type": "code",
   "execution_count": 157,
   "metadata": {},
   "outputs": [],
   "source": [
    "\n",
    "anitrazafen_df_2048['Tanimoto2'] = anitrazafen_df_2048.apply(lambda row: calculate_tanimoto_safe(row['FingerprintBits'], row['GeneratedFingerprintBits']), axis=1)"
   ]
  },
  {
   "cell_type": "code",
   "execution_count": 158,
   "metadata": {},
   "outputs": [],
   "source": [
    "def print_average_similarities_single(flip_count):\n",
    "    \"\"\"\n",
    "    Calculate and print average Tanimoto similarities for both flipped fingerprints and generated SMILES\n",
    "    for single bit flips.\n",
    "    \"\"\"\n",
    "    molecules = ['anitrazafen']\n",
    "    \n",
    "    print(f'\\n*** {flip_count} random single flips ***')\n",
    "    \n",
    "    # Print Tanimoto similarities for flipped fingerprints\n",
    "    print(\"--- Tanimoto Similarity (Flipped Fingerprints) ---\")\n",
    "    for molecule in molecules:\n",
    "        df = globals()[f'{molecule}_df_{flip_count}']\n",
    "        avg_similarity = df['Tanimoto'].mean()\n",
    "        print(f\"Average Tanimoto Similarity for {flip_count} random single flips {molecule.capitalize()}: {avg_similarity}\")\n",
    "    \n",
    "    # Print Tanimoto similarities for generated SMILES\n",
    "    print(\"\\n--- Tanimoto Similarity (Generated SMILES) ---\")\n",
    "    for molecule in molecules:\n",
    "        df = globals()[f'{molecule}_df_{flip_count}']\n",
    "        avg_similarity2 = df['Tanimoto2'].mean()\n",
    "        print(f\"Average Tanimoto2 Similarity for {flip_count} random single flips {molecule.capitalize()}: {avg_similarity2}\")"
   ]
  },
  {
   "cell_type": "code",
   "execution_count": 159,
   "metadata": {},
   "outputs": [
    {
     "name": "stdout",
     "output_type": "stream",
     "text": [
      "\n",
      "*** 2048 random single flips ***\n",
      "--- Tanimoto Similarity (Flipped Fingerprints) ---\n",
      "Average Tanimoto Similarity for 2048 random single flips Anitrazafen: 0.9629448784722224\n",
      "\n",
      "--- Tanimoto Similarity (Generated SMILES) ---\n",
      "Average Tanimoto2 Similarity for 2048 random single flips Anitrazafen: 0.9977726688437247\n"
     ]
    }
   ],
   "source": [
    "# Calculate and print similarities for each flip count\n",
    "for flips in [2048]:\n",
    "    print_average_similarities_single(flips)"
   ]
  },
  {
   "cell_type": "code",
   "execution_count": 160,
   "metadata": {},
   "outputs": [],
   "source": [
    "def plot_similarity_distribution(df, molecule_name, n_flips):\n",
    "    fig, (ax1, ax2) = plt.subplots(1, 2, figsize=(20, 6))\n",
    "    \n",
    "    # Plot Tanimoto (Flipped Fingerprints)\n",
    "    sns.histplot(data=df['Tanimoto'], bins=20, kde=True, ax=ax1)\n",
    "    ax1.set_title(f'Similarity Distribution (Flipped Fingerprints)\\n{molecule_name} ({n_flips} flips)')\n",
    "    ax1.set_xlabel('Tanimoto Similarity')\n",
    "    ax1.set_ylabel('Count')\n",
    "    \n",
    "    # Plot Tanimoto2 (Generated SMILES)\n",
    "    sns.histplot(data=df['Tanimoto2'], bins=20, kde=True, ax=ax2)\n",
    "    ax2.set_title(f'Similarity Distribution (Generated SMILES)\\n{molecule_name} ({n_flips} flips)')\n",
    "    ax2.set_xlabel('Tanimoto Similarity')\n",
    "    ax2.set_ylabel('Count')\n",
    "    \n",
    "    plt.tight_layout()\n",
    "    plt.show()"
   ]
  },
  {
   "cell_type": "code",
   "execution_count": 161,
   "metadata": {},
   "outputs": [
    {
     "data": {
      "image/png": "[encoded data removed]",
      "text/plain": [
       "<Figure size 2000x600 with 2 Axes>"
      ]
     },
     "metadata": {},
     "output_type": "display_data"
    }
   ],
   "source": [
    "plot_similarity_distribution(anitrazafen_df_2048, 'Anitrazafen', 2048)"
   ]
  },
  {
   "cell_type": "markdown",
   "metadata": {},
   "source": [
    "### Compare generated SMILES\n",
    "***"
   ]
  },
  {
   "cell_type": "code",
   "execution_count": 162,
   "metadata": {},
   "outputs": [],
   "source": [
    "def analyze_smiles_occurrences(df_2048, compound_name):\n",
    "    # Get value counts for the dataset\n",
    "    smiles_counts_2048 = df_2048['Generated_SMILES'].value_counts().to_dict()\n",
    "    \n",
    "    # Create result dictionary\n",
    "    results = {\n",
    "        'compound_name': compound_name,\n",
    "        'datasets': {\n",
    "            '2048_flips': {\n",
    "                'occurrences': smiles_counts_2048,\n",
    "                'total_unique': len(smiles_counts_2048),\n",
    "                'total_samples': len(df_2048)\n",
    "            }\n",
    "        }\n",
    "    }\n",
    "    \n",
    "    return results\n",
    "\n",
    "# The print function remains the same as it will automatically handle the new dataset\n",
    "def print_smiles_analysis(results):\n",
    "    compound_name = results['compound_name']\n",
    "    print(f\"\\n**** {compound_name} ****\")\n",
    "    \n",
    "    for dataset_name, dataset_info in results['datasets'].items():\n",
    "        print(f\"\\n--- {dataset_name} ---\")\n",
    "        print(f\"Total unique SMILES: {dataset_info['total_unique']}\")\n",
    "        print(f\"Total samples: {dataset_info['total_samples']}\")\n",
    "        print(\"SMILES occurrences:\")\n",
    "        \n",
    "        # Sort by occurrence count (descending) and print\n",
    "        sorted_smiles = sorted(dataset_info['occurrences'].items(), key=lambda x: (-x[1], x[0]))\n",
    "        \n",
    "        for smiles, count in sorted_smiles:\n",
    "            print(f\"Count: {count} - SMILES: {smiles}\")"
   ]
  },
  {
   "cell_type": "code",
   "execution_count": 163,
   "metadata": {},
   "outputs": [
    {
     "name": "stdout",
     "output_type": "stream",
     "text": [
      "\n",
      "**** Anitrazafen ****\n",
      "\n",
      "--- 2048_flips ---\n",
      "Total unique SMILES: 14\n",
      "Total samples: 2048\n",
      "SMILES occurrences:\n",
      "Count: 2034 - SMILES: COc1ccc(-c2nnc(C)nc2-c2ccc(OC)cc2)cc1\n",
      "Count: 2 - SMILES: COc1ccc(-c2nnc(-c3ccc(OC)cc3)c3nc(C)nnc23)cc1\n",
      "Count: 1 - SMILES: COC1=NC(c2ccc(OC)cc2)=C(c2ccc(OC)cc2)N=C(C)N1\n",
      "Count: 1 - SMILES: COc1ccc(-c2ccc(-c3nnc(C)nc3-c3ccc(OC)cc3)cc2)cc1\n",
      "Count: 1 - SMILES: COc1ccc(-c2nc(C)nc(-c3ccc(OC)cc3)c2C)cc1\n",
      "Count: 1 - SMILES: COc1ccc(-c2nc(C)nc3nc(C)nnc23)cc1\n",
      "Count: 1 - SMILES: COc1ccc(-c2nc(C)nnc2C)cc1\n",
      "Count: 1 - SMILES: COc1ccc(-c2nc3nnc(C)nc3nc2-c2ccc(OC)cc2)cc1\n",
      "Count: 1 - SMILES: COc1ccc(-c2nnc(-c3ccc(OC)cc3)c3c(-c4ccc(OC)cc4)nc(C)nc23)cc1\n",
      "Count: 1 - SMILES: COc1ccc(-c2nnc(C)nc2-c2ccc(-c3nnc(C)nc3-c3ccc(OC)cc3)cc2)cc1\n",
      "Count: 1 - SMILES: COc1ccc(-c2nnc(OC)nc2-c2ccc(OC)cc2)cc1\n",
      "Count: 1 - SMILES: COc1ccc(-c2nnc3c(-c4ccc(OC)cc4)nc(C)nc3c2-c2ccc(OC)cc2)cc1\n",
      "Count: 1 - SMILES: COc1ccc(-c2nnnc(C)n2)cc1\n",
      "Count: 1 - SMILES: COc1ccc(C2=C3N=C(C)N=C3N=N2)cc1\n"
     ]
    }
   ],
   "source": [
    "anitrazafen_results = analyze_smiles_occurrences(anitrazafen_df_2048, \"Anitrazafen\")\n",
    "print_smiles_analysis(anitrazafen_results)\n"
   ]
  },
  {
   "cell_type": "markdown",
   "metadata": {},
   "source": [
    "### Plot generated molecules\n",
    "***"
   ]
  },
  {
   "cell_type": "code",
   "execution_count": 164,
   "metadata": {},
   "outputs": [],
   "source": [
    "def mol_to_image(mol):\n",
    "    if isinstance(mol, str):\n",
    "        mol = Chem.MolFromSmiles(mol)\n",
    "    if mol is None:\n",
    "        return None\n",
    "    img = Draw.MolToImage(mol)\n",
    "    buffered = io.BytesIO()\n",
    "    img.save(buffered, format=\"PNG\")\n",
    "    return base64.b64encode(buffered.getvalue()).decode()\n",
    "\n",
    "def plot_unique_molecules(df, n_flips):\n",
    "    molecule_name = df.iloc[0]['title'].lower()\n",
    "    \n",
    "    # Create a new column in df to store the original index\n",
    "    df['original_index'] = df.index\n",
    "\n",
    "    # Remove duplicates based on 'Generated_SMILES' but keep original indices\n",
    "    df_unique = df.drop_duplicates(subset=['Generated_SMILES']).copy()\n",
    "    \n",
    "    n_rows = len(df_unique) + 1  # +1 for the original molecule\n",
    "    fig, axes = plt.subplots(n_rows, 1, figsize=(10, 5*n_rows))\n",
    "    \n",
    "    # Plot original molecule\n",
    "    original_mol = Chem.MolFromSmiles(df.iloc[0]['SMILES'])\n",
    "    img = Draw.MolToImage(original_mol)\n",
    "    axes[0].imshow(img)\n",
    "    axes[0].set_title(f\"Original Molecule: {df.iloc[0]['title']}\\nSMILES: {df.iloc[0]['SMILES']}\")\n",
    "    axes[0].axis('off')\n",
    "    \n",
    "    # Plot unique generated molecules\n",
    "    for i, row in enumerate(df_unique.iterrows(), start=1):\n",
    "        img = mol_to_image(row[1]['Generated_SMILES'])\n",
    "        if img:\n",
    "            axes[i].imshow(Image.open(io.BytesIO(base64.b64decode(img))))\n",
    "            axes[i].set_title(f\"Generated Molecule {row[1]['original_index']} (Flipped Bits: {row[1]['FlippedBitPosition']})\\n\"\n",
    "                              f\"SMILES: {row[1]['Generated_SMILES']}\\n\"\n",
    "                              f\"Tanimoto = {row[1].get('Tanimoto2', 'N/A'):.2f}\")\n",
    "        else:\n",
    "            axes[i].text(0.5, 0.5, \"Invalid SMILES\", ha='center', va='center')\n",
    "        axes[i].axis('off')\n",
    "\n",
    "    plt.tight_layout()\n",
    "    plt.savefig(os.path.join(INPUT_DIR, f'{molecule_name}_{n_flips}_unique_flips.png'))\n",
    "    plt.close(fig)"
   ]
  },
  {
   "cell_type": "code",
   "execution_count": 165,
   "metadata": {},
   "outputs": [],
   "source": [
    "plot_unique_molecules(anitrazafen_df_2048,2048)"
   ]
  },
  {
   "cell_type": "markdown",
   "metadata": {},
   "source": [
    "### Plot the nearest neighbors\n",
    "***"
   ]
  },
  {
   "cell_type": "code",
   "execution_count": 166,
   "metadata": {},
   "outputs": [],
   "source": [
    "def generate_fingerprints(smiles_list):\n",
    "    \"\"\"Generate Morgan fingerprints for a list of SMILES strings.\"\"\"\n",
    "    mols = [Chem.MolFromSmiles(smiles) for smiles in smiles_list]\n",
    "    morgan_generator = GetMorganGenerator(radius=2, fpSize=2048)\n",
    "    fps = [morgan_generator.GetFingerprint(mol) for mol in mols if mol is not None]\n",
    "    return fps\n",
    "\n",
    "\n",
    "def calculate_similarity_matrix(fps):\n",
    "    \"\"\"Calculate Tanimoto similarity matrix for a list of fingerprints.\"\"\"\n",
    "    n = len(fps)\n",
    "    similarity_matrix = np.zeros((n, n))\n",
    "    for i in range(n):\n",
    "        for j in range(n):\n",
    "            similarity_matrix[i, j] = DataStructs.TanimotoSimilarity(fps[i], fps[j])\n",
    "    return similarity_matrix\n",
    "\n",
    "def plot_mds_similarity(df, title_column='title', smiles_column='SMILES', \n",
    "                        generated_smiles_column='Generated_SMILES', n_flips=10):\n",
    "    \"\"\"Plot MDS similarity for molecules in the dataframe with a color bar indicating similarity to the original.\"\"\"\n",
    "    # Extract SMILES (original + generated)\n",
    "    original_smiles = df[smiles_column].iloc[0]\n",
    "    all_smiles = [original_smiles] + df[generated_smiles_column].tolist()\n",
    "\n",
    "    # Generate fingerprints and calculate similarity matrix\n",
    "    fps = generate_fingerprints(all_smiles)\n",
    "    similarity_matrix = calculate_similarity_matrix(fps)\n",
    "\n",
    "    # Apply MDS\n",
    "    mds = MDS(n_components=2, dissimilarity='precomputed', random_state=42)\n",
    "    coords = mds.fit_transform(1 - similarity_matrix)  # Convert similarity to distance\n",
    "    #coords = mds.fit_transform(1 - similarity_matrix + 1e-8)  # Convert similarity to distance, epsilon to avoid divison by zero\n",
    "\n",
    "\n",
    "    # Calculate similarities to the original molecule\n",
    "    similarities_to_original = similarity_matrix[0, 1:]\n",
    "\n",
    "    # Plot\n",
    "    plt.figure(figsize=(14, 10))\n",
    "    \n",
    "    # Plot generated SMILES with color indicating similarity to original\n",
    "    scatter = plt.scatter(coords[1:, 0], coords[1:, 1], c=similarities_to_original, \n",
    "                          cmap='viridis', alpha=0.6, s=100)\n",
    "    \n",
    "    # Plot original SMILES in red\n",
    "    plt.scatter(coords[0, 0], coords[0, 1], c='red', s=200, label='Original SMILES', edgecolors='black')\n",
    "\n",
    "    # Add color bar\n",
    "    cbar = plt.colorbar(scatter)\n",
    "    cbar.set_label('Tanimoto Similarity to Original', rotation=270, labelpad=20)\n",
    "\n",
    "    # Add labels\n",
    "    for i, smiles in enumerate(all_smiles):\n",
    "        label = \"Original\" if i == 0 else f\"{df['FlippedBitPosition'].iloc[i-1]}\"\n",
    "        plt.annotate(label, (coords[i, 0], coords[i, 1]), xytext=(5, 5), \n",
    "                     textcoords='offset points', fontsize=8)\n",
    "\n",
    "    plt.title(f\"2D Projection of Molecular Similarity for {df[title_column].iloc[0]} ({n_flips} flips)\")\n",
    "    plt.xlabel(\"MDS Dimension 1\")\n",
    "    plt.ylabel(\"MDS Dimension 2\")\n",
    "    plt.legend()\n",
    "    plt.tight_layout()\n",
    "    \n",
    "    # Save the figure\n",
    "    filename = f'{df[title_column].iloc[0].lower()}_{n_flips}_flips_mds_similarity.png'\n",
    "    plt.savefig(os.path.join(INPUT_DIR, filename))\n",
    "    plt.close()\n",
    "\n",
    "\n",
    "def process_and_plot(df, n_flips):\n",
    "    \"\"\"Process dataframe and generate plot with error handling.\"\"\"\n",
    "    try:\n",
    "        success = plot_mds_similarity(df, n_flips=n_flips)\n",
    "        if success:\n",
    "            print(f\"MDS plot saved for {df['title'].iloc[0]} with {n_flips} flips.\")\n",
    "        else:\n",
    "            print(f\"Failed to create MDS plot for data with {n_flips} flips.\")\n",
    "    except Exception as e:\n",
    "        print(f\"Error in process_and_plot with {n_flips} flips: {str(e)}\")"
   ]
  },
  {
   "cell_type": "code",
   "execution_count": 167,
   "metadata": {},
   "outputs": [
    {
     "name": "stdout",
     "output_type": "stream",
     "text": [
      "Failed to create MDS plot for data with 2048 flips.\n"
     ]
    }
   ],
   "source": [
    "process_and_plot(anitrazafen_df_2048, 2048)"
   ]
  },
  {
   "cell_type": "code",
   "execution_count": 168,
   "metadata": {},
   "outputs": [
    {
     "data": {
      "text/plain": [
       "Index(['title', 'SMILES', 'FingerprintBits', 'SparseFingerprintBits',\n",
       "       'FingerprintBitsFlipped', 'SparseFingerprintBitsFlipped',\n",
       "       'FlippedBitPosition', 'Generated_SMILES', 'Device_Used', 'Valid_SMILES',\n",
       "       'Molecule', 'GeneratedFingerprintBits', 'GeneratedFingerprintSparse',\n",
       "       'Tanimoto', 'Tanimoto2', 'original_index'],\n",
       "      dtype='object')"
      ]
     },
     "execution_count": 168,
     "metadata": {},
     "output_type": "execute_result"
    }
   ],
   "source": [
    "anitrazafen_df_2048.columns"
   ]
  },
  {
   "cell_type": "code",
   "execution_count": 169,
   "metadata": {},
   "outputs": [],
   "source": [
    "def plot_tsne_similarity(df, title_column='title', smiles_column='SMILES', \n",
    "                         generated_smiles_column='Generated_SMILES', n_flips=10):\n",
    "    \"\"\"Plot t-SNE similarity for molecules in the dataframe with a color bar indicating similarity to the original.\"\"\"\n",
    "    # Extract SMILES (original + generated)\n",
    "    original_smiles = df[smiles_column].iloc[0]  # Assuming all rows have the same original SMILES\n",
    "    all_smiles = [original_smiles] + df[generated_smiles_column].tolist()\n",
    "\n",
    "    # Generate fingerprints and calculate similarity matrix\n",
    "    fps = generate_fingerprints(all_smiles)\n",
    "    similarity_matrix = calculate_similarity_matrix(fps)\n",
    "\n",
    "    # Adjust perplexity based on number of samples\n",
    "    n_samples = len(all_smiles)\n",
    "    perplexity = min(30, n_samples - 1)  # Default is 30, but we need it to be less than n_samples\n",
    "\n",
    "    # Apply t-SNE\n",
    "    tsne = TSNE(n_components=2, metric='precomputed', random_state=42, \n",
    "                perplexity=perplexity, init='random', learning_rate='auto')\n",
    "    coords = tsne.fit_transform(1 - similarity_matrix)  # Convert similarity to distance\n",
    "\n",
    "    # Calculate similarities to the original molecule\n",
    "    similarities_to_original = similarity_matrix[0, 1:]\n",
    "\n",
    "    # Plot\n",
    "    plt.figure(figsize=(14, 10))\n",
    "    \n",
    "    # Plot generated SMILES with color indicating similarity to original\n",
    "    scatter = plt.scatter(coords[1:, 0], coords[1:, 1], c=similarities_to_original, \n",
    "                          cmap='viridis', alpha=0.6, s=100)\n",
    "    \n",
    "    # Plot original SMILES in red\n",
    "    plt.scatter(coords[0, 0], coords[0, 1], c='red', s=200, label='Original SMILES', edgecolors='black')\n",
    "\n",
    "    # Add color bar\n",
    "    cbar = plt.colorbar(scatter)\n",
    "    cbar.set_label('Tanimoto Similarity to Original', rotation=270, labelpad=20)\n",
    "\n",
    "    # Add labels\n",
    "    for i, smiles in enumerate(all_smiles):\n",
    "        label = \"Original\" if i == 0 else f\"{df['FlippedBitPosition'].iloc[i-1]}\"\n",
    "        plt.annotate(label, (coords[i, 0], coords[i, 1]), xytext=(5, 5), \n",
    "                     textcoords='offset points', fontsize=8)\n",
    "\n",
    "    plt.title(f\"2D Projection of Molecular Similarity for {df[title_column].iloc[0]} ({n_flips} flips)\")\n",
    "    plt.xlabel(\"t-SNE Dimension 1\")\n",
    "    plt.ylabel(\"t-SNE Dimension 2\")\n",
    "    plt.legend()\n",
    "    plt.tight_layout()\n",
    "    \n",
    "    # Save the figure\n",
    "    filename = f'{df[title_column].iloc[0].lower()}_{n_flips}_flips_tsne_similarity.png'\n",
    "    plt.savefig(os.path.join(INPUT_DIR, filename))\n",
    "    plt.close()\n",
    "\n",
    "# The process_and_plot_tsne function remains the same\n",
    "def process_and_plot_tsne(df, n_flips):\n",
    "    plot_tsne_similarity(df, n_flips=n_flips)\n",
    "    print(f\"t-SNE plot saved for {df['title'].iloc[0]} with {n_flips} flips.\")"
   ]
  },
  {
   "cell_type": "code",
   "execution_count": 170,
   "metadata": {},
   "outputs": [
    {
     "name": "stdout",
     "output_type": "stream",
     "text": [
      "t-SNE plot saved for Anitrazafen with 2048 flips.\n"
     ]
    }
   ],
   "source": [
    "process_and_plot_tsne(anitrazafen_df_2048, 2048)\n"
   ]
  },
  {
   "cell_type": "markdown",
   "metadata": {},
   "source": [
    "### Bits Analysis\n",
    "---"
   ]
  },
  {
   "cell_type": "code",
   "execution_count": 171,
   "metadata": {},
   "outputs": [],
   "source": [
    "dataframes_dict = {\n",
    "    'anitrazafen': {\n",
    "        2048: anitrazafen_df_2048\n",
    "    }\n",
    "}"
   ]
  },
  {
   "cell_type": "code",
   "execution_count": 172,
   "metadata": {},
   "outputs": [],
   "source": [
    "def analyze_bit_similarities(df, molecule_name, n_flips):\n",
    "    \"\"\"\n",
    "    Analyze similarities for each bit position and create detailed summary\n",
    "    \"\"\"\n",
    "    bit_analysis = defaultdict(lambda: {\n",
    "        'similarities': [],\n",
    "        'count': 0,\n",
    "        'avg_similarity': 0,\n",
    "        'std_similarity': 0,\n",
    "        'min_similarity': 1,\n",
    "        'max_similarity': 0,\n",
    "        'molecule': molecule_name,\n",
    "        'n_flips': n_flips\n",
    "    })\n",
    "    \n",
    "    # Get original molecule for structure analysis\n",
    "    original_smiles = df['SMILES'].iloc[0]\n",
    "    mol = Chem.MolFromSmiles(original_smiles)\n",
    "    info = {}\n",
    "    # Generate Morgan fingerprint and get bit info\n",
    "    AllChem.GetMorganFingerprintAsBitVect(mol, 2, 2048, bitInfo=info)\n",
    "    \n",
    "    # Analyze each bit flip\n",
    "    for idx, row in df.iterrows():\n",
    "        bit = row['FlippedBitPosition']\n",
    "        similarity = row['Tanimoto']\n",
    "        \n",
    "        bit_analysis[bit]['similarities'].append(similarity)\n",
    "        bit_analysis[bit]['count'] += 1\n",
    "        bit_analysis[bit]['min_similarity'] = min(bit_analysis[bit]['min_similarity'], similarity)\n",
    "        bit_analysis[bit]['max_similarity'] = max(bit_analysis[bit]['max_similarity'], similarity)\n",
    "        \n",
    "        # Add structural information if available\n",
    "        if bit in info:\n",
    "            bit_analysis[bit]['substructures'] = info[bit]\n",
    "    \n",
    "    # Calculate statistics\n",
    "    for bit, data in bit_analysis.items():\n",
    "        similarities = data['similarities']\n",
    "        data['avg_similarity'] = np.mean(similarities)\n",
    "        data['std_similarity'] = np.std(similarities) if len(similarities) > 1 else 0\n",
    "    \n",
    "    return bit_analysis\n",
    "\n",
    "def generate_bit_impact_report(dataframes_dict):\n",
    "    \"\"\"\n",
    "    Generate comprehensive report comparing bit impacts across molecules and flip counts\n",
    "    \"\"\"\n",
    "    all_analyses = {}\n",
    "    summary_stats = []\n",
    "    \n",
    "    # Analyze each molecule and flip count combination\n",
    "    for molecule, flip_dict in dataframes_dict.items():\n",
    "        for n_flips, df in flip_dict.items():\n",
    "            try:\n",
    "                analysis = analyze_bit_similarities(df, molecule, n_flips)\n",
    "                key = f\"{molecule}_{n_flips}\"\n",
    "                all_analyses[key] = analysis\n",
    "                \n",
    "                # Create DataFrame for this analysis\n",
    "                analysis_df = pd.DataFrame([{\n",
    "                    'Molecule': molecule,\n",
    "                    'N_Flips': n_flips,\n",
    "                    'Bit_Position': bit,\n",
    "                    'Average_Similarity': data['avg_similarity'],\n",
    "                    'Std_Similarity': data['std_similarity'],\n",
    "                    'Min_Similarity': data['min_similarity'],\n",
    "                    'Max_Similarity': data['max_similarity'],\n",
    "                    'Times_Flipped': data['count'],\n",
    "                    'Has_Structural_Info': 'Yes' if 'substructures' in data else 'No',\n",
    "                    'Structural_Info': str(data.get('substructures', ''))\n",
    "                } for bit, data in analysis.items()])\n",
    "                \n",
    "                # Get summary statistics\n",
    "                top_bits = analysis_df.nsmallest(10, 'Average_Similarity')\n",
    "                bottom_bits = analysis_df.nlargest(10, 'Average_Similarity')\n",
    "                \n",
    "                summary_stats.append({\n",
    "                    'Molecule': molecule,\n",
    "                    'N_Flips': n_flips,\n",
    "                    'Most_Impactful_Bits': top_bits['Bit_Position'].tolist(),\n",
    "                    'Least_Impactful_Bits': bottom_bits['Bit_Position'].tolist(),\n",
    "                    'Avg_Similarity': analysis_df['Average_Similarity'].mean(),\n",
    "                    'Std_Similarity': analysis_df['Average_Similarity'].std()\n",
    "                })\n",
    "            except Exception as e:\n",
    "                print(f\"Error processing {molecule} with {n_flips} flips: {str(e)}\")\n",
    "                continue\n",
    "    \n",
    "    summary_df = pd.DataFrame(summary_stats)\n",
    "    return all_analyses, summary_df\n",
    "\n",
    "def analyze_single_molecule(dataframes_dict, molecule_name, n_flips):\n",
    "    \"\"\"\n",
    "    Detailed analysis of a single molecule's fingerprint bits\n",
    "    \"\"\"\n",
    "    df = dataframes_dict[molecule_name.lower()][n_flips]\n",
    "    analysis = analyze_bit_similarities(df, molecule_name, n_flips)\n",
    "    \n",
    "    # Get original molecule\n",
    "    original_smiles = df['SMILES'].iloc[0]\n",
    "    mol = Chem.MolFromSmiles(original_smiles)\n",
    "    \n",
    "    # Calculate Morgan fingerprint and get bit info\n",
    "    info = {}\n",
    "    fp = AllChem.GetMorganFingerprintAsBitVect(mol, 2, 2048, bitInfo=info)\n",
    "    \n",
    "    # Sort bits by impact\n",
    "    sorted_bits = sorted(\n",
    "        analysis.items(), \n",
    "        key=lambda x: x[1]['avg_similarity']\n",
    "    )[:10]  # Get top 10 most impactful bits\n",
    "    \n",
    "    # Display molecule information\n",
    "    print(f\"Analysis for {molecule_name} ({n_flips} flips):\")\n",
    "    print(f\"SMILES: {original_smiles}\\n\")\n",
    "    display(Draw.MolToImage(mol))\n",
    "    print(\"\\nTop 10 Most Impactful Bits:\")\n",
    "    \n",
    "    # Separate bits with and without structural information\n",
    "    bits_with_info = []\n",
    "    bits_without_info = []\n",
    "    \n",
    "    for bit, data in sorted_bits:\n",
    "        if bit in info:\n",
    "            bits_with_info.append((bit, data))\n",
    "        else:\n",
    "            bits_without_info.append((bit, data))\n",
    "    \n",
    "    # Display bits with structural information\n",
    "    if bits_with_info:\n",
    "        print(\"\\nBits with structural information:\")\n",
    "        for bit, data in bits_with_info:\n",
    "            print(f\"\\nBit {bit}:\")\n",
    "            print(f\"Tanimoto Similarity: {data['avg_similarity']:.4f}\")\n",
    "            print(f\"Times Flipped: {data['count']}\")\n",
    "            display(Draw.DrawMorganBit(mol, bit, info))\n",
    "    \n",
    "    # Display bits without structural information\n",
    "    if bits_without_info:\n",
    "        print(\"\\nBits without structural information:\")\n",
    "        print(\", \".join([f\"Bit {bit} (Tanimoto: {data['avg_similarity']:.4f})\" \n",
    "                        for bit, data in bits_without_info]))"
   ]
  },
  {
   "cell_type": "code",
   "execution_count": 173,
   "metadata": {},
   "outputs": [
    {
     "name": "stdout",
     "output_type": "stream",
     "text": [
      "Analysis for anitrazafen (2048 flips):\n",
      "SMILES: COc1ccc(cc1)c2nnc(C)nc2c3ccc(OC)cc3\n",
      "\n"
     ]
    },
    {
     "name": "stderr",
     "output_type": "stream",
     "text": [
      "[18:34:40] DEPRECATION WARNING: please use MorganGenerator\n",
      "[18:34:40] DEPRECATION WARNING: please use MorganGenerator\n"
     ]
    },
    {
     "data": {
      "image/jpeg": "[encoded data removed]",
      "image/png": "[encoded data removed]",
      "text/plain": [
       "<PIL.PngImagePlugin.PngImageFile image mode=RGB size=300x300>"
      ]
     },
     "metadata": {},
     "output_type": "display_data"
    },
    {
     "name": "stdout",
     "output_type": "stream",
     "text": [
      "\n",
      "Top 10 Most Impactful Bits:\n",
      "\n",
      "Bits with structural information:\n",
      "\n",
      "Bit 123:\n",
      "Tanimoto Similarity: 0.9615\n",
      "Times Flipped: 1\n"
     ]
    },
    {
     "data": {
      "image/jpeg": "[encoded data removed]",
      "image/png": "[encoded data removed]",
      "text/plain": [
       "<PIL.PngImagePlugin.PngImageFile image mode=RGB size=150x150>"
      ]
     },
     "metadata": {},
     "output_type": "display_data"
    },
    {
     "name": "stdout",
     "output_type": "stream",
     "text": [
      "\n",
      "Bit 139:\n",
      "Tanimoto Similarity: 0.9615\n",
      "Times Flipped: 1\n"
     ]
    },
    {
     "data": {
      "image/jpeg": "[encoded data removed]",
      "image/png": "[encoded data removed]",
      "text/plain": [
       "<PIL.PngImagePlugin.PngImageFile image mode=RGB size=150x150>"
      ]
     },
     "metadata": {},
     "output_type": "display_data"
    },
    {
     "name": "stdout",
     "output_type": "stream",
     "text": [
      "\n",
      "Bit 269:\n",
      "Tanimoto Similarity: 0.9615\n",
      "Times Flipped: 1\n"
     ]
    },
    {
     "data": {
      "image/jpeg": "[encoded data removed]",
      "image/png": "[encoded data removed]",
      "text/plain": [
       "<PIL.PngImagePlugin.PngImageFile image mode=RGB size=150x150>"
      ]
     },
     "metadata": {},
     "output_type": "display_data"
    },
    {
     "name": "stdout",
     "output_type": "stream",
     "text": [
      "\n",
      "Bit 322:\n",
      "Tanimoto Similarity: 0.9615\n",
      "Times Flipped: 1\n"
     ]
    },
    {
     "data": {
      "image/jpeg": "[encoded data removed]",
      "image/png": "[encoded data removed]",
      "text/plain": [
       "<PIL.PngImagePlugin.PngImageFile image mode=RGB size=150x150>"
      ]
     },
     "metadata": {},
     "output_type": "display_data"
    },
    {
     "name": "stdout",
     "output_type": "stream",
     "text": [
      "\n",
      "Bit 323:\n",
      "Tanimoto Similarity: 0.9615\n",
      "Times Flipped: 1\n"
     ]
    },
    {
     "data": {
      "image/jpeg": "[encoded data removed]",
      "image/png": "[encoded data removed]",
      "text/plain": [
       "<PIL.PngImagePlugin.PngImageFile image mode=RGB size=150x150>"
      ]
     },
     "metadata": {},
     "output_type": "display_data"
    },
    {
     "name": "stdout",
     "output_type": "stream",
     "text": [
      "\n",
      "Bit 357:\n",
      "Tanimoto Similarity: 0.9615\n",
      "Times Flipped: 1\n"
     ]
    },
    {
     "data": {
      "image/jpeg": "[encoded data removed]",
      "image/png": "[encoded data removed]",
      "text/plain": [
       "<PIL.PngImagePlugin.PngImageFile image mode=RGB size=150x150>"
      ]
     },
     "metadata": {},
     "output_type": "display_data"
    },
    {
     "name": "stdout",
     "output_type": "stream",
     "text": [
      "\n",
      "Bit 378:\n",
      "Tanimoto Similarity: 0.9615\n",
      "Times Flipped: 1\n"
     ]
    },
    {
     "data": {
      "image/jpeg": "[encoded data removed]",
      "image/png": "[encoded data removed]",
      "text/plain": [
       "<PIL.PngImagePlugin.PngImageFile image mode=RGB size=150x150>"
      ]
     },
     "metadata": {},
     "output_type": "display_data"
    },
    {
     "name": "stdout",
     "output_type": "stream",
     "text": [
      "\n",
      "Bit 454:\n",
      "Tanimoto Similarity: 0.9615\n",
      "Times Flipped: 1\n"
     ]
    },
    {
     "data": {
      "image/jpeg": "[encoded data removed]",
      "image/png": "[encoded data removed]",
      "text/plain": [
       "<PIL.PngImagePlugin.PngImageFile image mode=RGB size=150x150>"
      ]
     },
     "metadata": {},
     "output_type": "display_data"
    },
    {
     "name": "stdout",
     "output_type": "stream",
     "text": [
      "\n",
      "Bit 471:\n",
      "Tanimoto Similarity: 0.9615\n",
      "Times Flipped: 1\n"
     ]
    },
    {
     "data": {
      "image/jpeg": "[encoded data removed]",
      "image/png": "[encoded data removed]",
      "text/plain": [
       "<PIL.PngImagePlugin.PngImageFile image mode=RGB size=150x150>"
      ]
     },
     "metadata": {},
     "output_type": "display_data"
    },
    {
     "name": "stdout",
     "output_type": "stream",
     "text": [
      "\n",
      "Bit 695:\n",
      "Tanimoto Similarity: 0.9615\n",
      "Times Flipped: 1\n"
     ]
    },
    {
     "data": {
      "image/jpeg": "[encoded data removed]",
      "image/png": "[encoded data removed]",
      "text/plain": [
       "<PIL.PngImagePlugin.PngImageFile image mode=RGB size=150x150>"
      ]
     },
     "metadata": {},
     "output_type": "display_data"
    },
    {
     "name": "stdout",
     "output_type": "stream",
     "text": [
      "\n",
      "==================================================\n",
      "\n"
     ]
    }
   ],
   "source": [
    "for molecule in ['anitrazafen']:\n",
    "    analyze_single_molecule(dataframes_dict, molecule, 2048)\n",
    "    print(\"\\n\" + \"=\"*50 + \"\\n\")"
   ]
  },
  {
   "cell_type": "code",
   "execution_count": 174,
   "metadata": {},
   "outputs": [],
   "source": [
    "def analyze_all_molecules(dataframes_dict, n_flips_filter=None):\n",
    "    \"\"\"\n",
    "    Analyze SMILES strings across all molecules and flip counts\n",
    "    \"\"\"\n",
    "    print(\"Analysis of Generated Molecules Across All Datasets:\\n\")\n",
    "    all_results = {}\n",
    "    \n",
    "    for molecule_name, flip_dict in dataframes_dict.items():\n",
    "        # Skip molecules if they don't have the specified flip count\n",
    "        if n_flips_filter is not None and n_flips_filter not in flip_dict:\n",
    "            continue\n",
    "            \n",
    "        print(f\"\\n{'='*50}\")\n",
    "        print(f\"Analysis for {molecule_name.upper()}\")\n",
    "        print(f\"{'='*50}\\n\")\n",
    "        \n",
    "        for n_flips, df in flip_dict.items():\n",
    "            if n_flips_filter is not None and n_flips != n_flips_filter:\n",
    "                continue\n",
    "                \n",
    "            print(f\"\\n{'-'*30}\")\n",
    "            print(f\"Number of Bits Flipped: {n_flips}\")\n",
    "            print(f\"{'-'*30}\")\n",
    "            \n",
    "            # Get unique SMILES for this dataset\n",
    "            unique_smiles = df['Generated_SMILES'].unique()\n",
    "            \n",
    "            # Analyze this specific dataset\n",
    "            results_df = analyze_smiles_differences(unique_smiles, df)\n",
    "            \n",
    "            # Store results\n",
    "            all_results[f\"{molecule_name}_{n_flips}\"] = results_df\n",
    "    \n",
    "    return all_results\n",
    "\n",
    "def analyze_smiles_differences(smiles_list, full_dataset):\n",
    "    \"\"\"\n",
    "    Analyze a list of SMILES strings and return detailed molecular information\n",
    "    \"\"\"\n",
    "    results = []\n",
    "    \n",
    "    # Calculate frequencies from the full dataset\n",
    "    total_count = len(full_dataset)\n",
    "    smiles_counts = full_dataset['Generated_SMILES'].value_counts()\n",
    "    \n",
    "    # Create a mapping of SMILES to their associated flipped bits\n",
    "    smiles_to_bits = {}\n",
    "    for smiles in smiles_list:\n",
    "        relevant_rows = full_dataset[full_dataset['Generated_SMILES'] == smiles]\n",
    "        flipped_bits = sorted(relevant_rows['FlippedBitPosition'].unique())\n",
    "        smiles_to_bits[smiles] = flipped_bits\n",
    "    \n",
    "    for smiles in smiles_list:\n",
    "        mol = Chem.MolFromSmiles(smiles)\n",
    "        if mol is None:\n",
    "            print(f\"Warning: Could not parse SMILES: {smiles}\")\n",
    "            continue\n",
    "            \n",
    "        # Calculate properties\n",
    "        formula = Chem.rdMolDescriptors.CalcMolFormula(mol)\n",
    "        mw = Descriptors.ExactMolWt(mol)\n",
    "        logp = Descriptors.MolLogP(mol)\n",
    "        hbd = Descriptors.NumHDonors(mol)\n",
    "        hba = Descriptors.NumHAcceptors(mol)\n",
    "        rotatable_bonds = Descriptors.NumRotatableBonds(mol)\n",
    "        rings = Descriptors.RingCount(mol)\n",
    "        aromatic_rings = sum(1 for ring in mol.GetRingInfo().AtomRings() \n",
    "                           if all(mol.GetAtomWithIdx(i).GetIsAromatic() for i in ring))\n",
    "        \n",
    "        # Calculate frequency\n",
    "        count = smiles_counts.get(smiles, 0)\n",
    "        frequency = (count / total_count) * 100\n",
    "        \n",
    "        results.append({\n",
    "            'SMILES': smiles,\n",
    "            'Molecular Formula': formula,\n",
    "            'Molecular Weight': f\"{mw:.2f}\",\n",
    "            'LogP': f\"{logp:.2f}\",\n",
    "            'H-Bond Donors': hbd,\n",
    "            'H-Bond Acceptors': hba,\n",
    "            'Rotatable Bonds': rotatable_bonds,\n",
    "            'Total Rings': rings,\n",
    "            'Aromatic Rings': aromatic_rings,\n",
    "            'Count': count,\n",
    "            'Frequency': f\"{frequency:.2f}%\",\n",
    "            'Flipped Bits': smiles_to_bits[smiles]\n",
    "        })\n",
    "    \n",
    "    # Convert to DataFrame and sort by frequency\n",
    "    df = pd.DataFrame(results)\n",
    "    df = df.sort_values('Count', ascending=False)\n",
    "    \n",
    "    # Print summary\n",
    "    for idx, row in df.iterrows():\n",
    "        print(f\"\\nMolecule {idx + 1}:\")\n",
    "        print(f\"SMILES: {row['SMILES']}\")\n",
    "        print(f\"Formula: {row['Molecular Formula']}\")\n",
    "        print(f\"Frequency: {row['Frequency']}\")\n",
    "        print(f\"Flipped Bits: {', '.join(map(str, row['Flipped Bits']))}\")\n",
    "        print(f\"MW: {row['Molecular Weight']} g/mol\")\n",
    "        print(f\"LogP: {row['LogP']}\")\n",
    "        print(f\"H-Bond Donors/Acceptors: {row['H-Bond Donors']}/{row['H-Bond Acceptors']}\")\n",
    "        print(f\"Rotatable Bonds: {row['Rotatable Bonds']}\")\n",
    "        print(f\"Rings (Total/Aromatic): {row['Total Rings']}/{row['Aromatic Rings']}\")\n",
    "        print()\n",
    "    \n",
    "    return df"
   ]
  },
  {
   "cell_type": "code",
   "execution_count": 175,
   "metadata": {},
   "outputs": [
    {
     "name": "stdout",
     "output_type": "stream",
     "text": [
      "Analysis of Generated Molecules Across All Datasets:\n",
      "\n",
      "\n",
      "==================================================\n",
      "Analysis for ANITRAZAFEN\n",
      "==================================================\n",
      "\n",
      "\n",
      "------------------------------\n",
      "Number of Bits Flipped: 2048\n",
      "------------------------------\n",
      "\n",
      "Molecule 1:\n",
      "SMILES: COc1ccc(-c2nnc(C)nc2-c2ccc(OC)cc2)cc1\n",
      "Formula: C18H17N3O2\n",
      "Frequency: 99.32%\n",
      "Flipped Bits: 0, 1, 2, 3, 4, 5, 6, 7, 8, 9, 10, 11, 12, 13, 14, 15, 16, 17, 18, 19, 20, 21, 22, 23, 24, 25, 26, 27, 28, 29, 30, 31, 32, 33, 34, 35, 36, 37, 38, 39, 40, 41, 42, 43, 44, 45, 46, 47, 48, 49, 50, 51, 52, 53, 54, 55, 56, 57, 58, 59, 60, 61, 62, 63, 64, 65, 66, 67, 68, 69, 70, 71, 72, 73, 74, 75, 76, 77, 78, 79, 80, 81, 82, 83, 84, 85, 86, 87, 88, 89, 90, 91, 93, 94, 95, 96, 97, 98, 99, 100, 101, 102, 103, 104, 105, 106, 107, 108, 109, 110, 111, 112, 113, 114, 115, 116, 117, 118, 119, 120, 121, 122, 123, 124, 125, 126, 127, 128, 129, 130, 131, 132, 133, 134, 135, 136, 137, 138, 139, 140, 141, 142, 143, 144, 145, 146, 147, 148, 149, 150, 151, 152, 153, 154, 155, 156, 157, 158, 159, 160, 161, 162, 163, 164, 165, 166, 167, 168, 169, 170, 171, 172, 173, 174, 175, 176, 177, 178, 179, 180, 181, 182, 183, 184, 185, 186, 187, 188, 189, 190, 191, 192, 193, 194, 195, 196, 197, 198, 199, 200, 201, 202, 203, 204, 205, 206, 207, 208, 209, 210, 211, 212, 213, 214, 215, 216, 217, 218, 219, 220, 221, 222, 223, 224, 225, 226, 227, 228, 229, 230, 231, 232, 233, 234, 235, 236, 237, 238, 239, 240, 241, 242, 243, 244, 245, 246, 247, 248, 249, 250, 251, 253, 254, 255, 256, 257, 258, 259, 260, 261, 262, 263, 264, 265, 266, 267, 268, 269, 270, 271, 272, 273, 274, 275, 276, 277, 278, 279, 280, 281, 282, 283, 284, 285, 286, 287, 288, 289, 290, 291, 292, 293, 294, 295, 296, 297, 298, 299, 300, 301, 302, 303, 304, 305, 306, 307, 308, 309, 310, 311, 312, 313, 314, 315, 316, 317, 318, 319, 320, 321, 322, 324, 325, 326, 327, 328, 329, 330, 331, 332, 333, 334, 335, 336, 337, 338, 339, 340, 341, 342, 343, 344, 345, 346, 347, 348, 349, 350, 351, 352, 353, 354, 355, 356, 357, 358, 359, 360, 361, 362, 363, 364, 365, 366, 367, 368, 369, 370, 371, 372, 373, 374, 375, 376, 377, 378, 379, 380, 381, 382, 383, 384, 385, 386, 387, 388, 389, 390, 391, 392, 393, 394, 395, 396, 397, 398, 399, 400, 401, 402, 403, 404, 405, 406, 407, 408, 409, 410, 411, 412, 413, 414, 415, 416, 417, 418, 419, 420, 421, 422, 423, 424, 425, 426, 427, 428, 429, 430, 431, 432, 433, 434, 435, 436, 437, 438, 439, 440, 441, 442, 443, 444, 445, 446, 447, 448, 449, 450, 451, 452, 453, 454, 455, 456, 457, 458, 459, 460, 461, 462, 463, 464, 465, 466, 467, 468, 469, 470, 472, 473, 474, 475, 476, 477, 478, 479, 480, 481, 482, 483, 484, 485, 486, 487, 488, 489, 490, 491, 492, 493, 494, 495, 496, 497, 498, 499, 500, 501, 502, 503, 504, 505, 506, 507, 508, 509, 510, 512, 513, 514, 515, 516, 517, 518, 519, 520, 521, 522, 523, 524, 525, 526, 527, 528, 529, 530, 531, 532, 533, 534, 535, 536, 537, 538, 539, 540, 541, 542, 543, 544, 545, 546, 547, 548, 549, 550, 551, 552, 553, 554, 555, 556, 557, 558, 559, 560, 561, 562, 563, 564, 565, 566, 567, 568, 569, 570, 571, 572, 573, 574, 575, 576, 577, 578, 579, 580, 581, 582, 583, 584, 585, 586, 587, 588, 589, 590, 591, 592, 593, 594, 595, 596, 597, 598, 599, 601, 602, 603, 604, 605, 606, 607, 608, 609, 610, 611, 612, 613, 614, 615, 616, 617, 618, 619, 620, 621, 622, 623, 624, 625, 626, 627, 628, 629, 630, 631, 632, 633, 634, 635, 636, 637, 638, 639, 640, 641, 642, 643, 644, 645, 646, 647, 648, 649, 650, 651, 652, 653, 654, 655, 656, 657, 658, 659, 660, 661, 662, 663, 664, 665, 666, 667, 668, 669, 670, 671, 672, 673, 674, 675, 676, 677, 678, 679, 680, 681, 682, 683, 684, 685, 686, 687, 688, 689, 690, 691, 692, 693, 694, 695, 696, 697, 698, 699, 700, 701, 702, 703, 704, 705, 706, 707, 708, 709, 710, 711, 712, 713, 714, 715, 716, 717, 718, 719, 720, 721, 722, 723, 724, 725, 726, 727, 728, 729, 730, 731, 732, 733, 734, 735, 736, 737, 738, 739, 740, 741, 742, 743, 744, 745, 746, 747, 748, 749, 750, 751, 752, 753, 754, 755, 756, 757, 758, 759, 760, 761, 762, 763, 764, 765, 766, 767, 768, 769, 770, 771, 772, 773, 774, 775, 776, 777, 778, 779, 780, 781, 782, 783, 784, 785, 786, 787, 788, 789, 790, 791, 792, 793, 794, 795, 796, 797, 798, 799, 800, 801, 802, 803, 804, 805, 806, 807, 808, 809, 810, 811, 812, 813, 814, 815, 816, 817, 818, 819, 820, 821, 822, 823, 824, 825, 826, 827, 828, 829, 830, 831, 832, 833, 834, 835, 836, 837, 838, 839, 840, 841, 842, 843, 844, 845, 846, 847, 848, 849, 850, 851, 852, 853, 854, 855, 856, 857, 858, 859, 860, 861, 862, 863, 864, 865, 866, 867, 868, 869, 870, 871, 872, 873, 874, 875, 876, 877, 878, 879, 880, 881, 882, 883, 884, 885, 886, 887, 888, 889, 890, 891, 892, 893, 894, 895, 896, 897, 898, 899, 900, 901, 902, 903, 904, 905, 906, 907, 908, 909, 910, 911, 912, 913, 914, 915, 916, 917, 918, 919, 920, 921, 922, 923, 924, 925, 926, 927, 928, 929, 930, 931, 932, 933, 934, 935, 936, 937, 938, 939, 940, 941, 942, 943, 944, 945, 946, 947, 948, 949, 950, 951, 952, 953, 954, 955, 956, 957, 958, 959, 960, 961, 962, 963, 964, 965, 966, 967, 968, 969, 970, 971, 972, 973, 974, 975, 976, 977, 978, 979, 980, 981, 982, 983, 984, 985, 986, 987, 988, 989, 990, 991, 992, 993, 994, 995, 996, 997, 998, 999, 1000, 1001, 1002, 1003, 1004, 1005, 1006, 1007, 1008, 1009, 1010, 1011, 1012, 1013, 1014, 1015, 1016, 1017, 1018, 1019, 1020, 1021, 1022, 1023, 1024, 1025, 1026, 1027, 1028, 1029, 1030, 1031, 1032, 1033, 1034, 1035, 1036, 1037, 1038, 1039, 1040, 1041, 1042, 1043, 1044, 1045, 1046, 1047, 1048, 1049, 1050, 1051, 1052, 1053, 1054, 1055, 1056, 1057, 1058, 1059, 1060, 1061, 1062, 1063, 1064, 1065, 1066, 1067, 1068, 1069, 1070, 1071, 1072, 1073, 1074, 1075, 1076, 1077, 1078, 1079, 1080, 1081, 1082, 1083, 1084, 1085, 1086, 1087, 1088, 1089, 1090, 1091, 1092, 1093, 1094, 1095, 1096, 1098, 1099, 1100, 1101, 1102, 1103, 1104, 1105, 1106, 1107, 1108, 1109, 1110, 1111, 1112, 1113, 1114, 1115, 1116, 1117, 1118, 1119, 1120, 1121, 1122, 1123, 1124, 1125, 1126, 1127, 1128, 1129, 1130, 1131, 1132, 1133, 1134, 1135, 1136, 1137, 1138, 1139, 1140, 1141, 1142, 1143, 1144, 1145, 1146, 1147, 1148, 1149, 1150, 1151, 1152, 1153, 1154, 1155, 1156, 1157, 1158, 1159, 1160, 1161, 1162, 1163, 1165, 1166, 1167, 1168, 1169, 1170, 1171, 1172, 1173, 1174, 1175, 1176, 1177, 1178, 1179, 1180, 1181, 1182, 1183, 1184, 1185, 1186, 1187, 1188, 1189, 1190, 1191, 1192, 1193, 1194, 1195, 1196, 1197, 1198, 1199, 1200, 1201, 1202, 1203, 1204, 1205, 1206, 1207, 1208, 1209, 1210, 1211, 1212, 1213, 1214, 1215, 1216, 1217, 1218, 1219, 1220, 1221, 1222, 1223, 1224, 1225, 1226, 1227, 1228, 1229, 1230, 1231, 1232, 1233, 1234, 1235, 1236, 1237, 1238, 1239, 1240, 1241, 1242, 1243, 1244, 1245, 1246, 1247, 1248, 1249, 1250, 1251, 1252, 1253, 1254, 1255, 1256, 1257, 1258, 1259, 1260, 1261, 1262, 1263, 1264, 1265, 1266, 1267, 1268, 1269, 1270, 1271, 1272, 1273, 1274, 1275, 1276, 1277, 1278, 1279, 1280, 1281, 1282, 1283, 1284, 1285, 1286, 1287, 1288, 1289, 1290, 1291, 1292, 1293, 1294, 1295, 1296, 1297, 1298, 1299, 1300, 1301, 1302, 1303, 1304, 1305, 1306, 1307, 1308, 1309, 1310, 1311, 1312, 1313, 1314, 1315, 1316, 1317, 1318, 1319, 1320, 1321, 1322, 1323, 1324, 1325, 1326, 1327, 1328, 1329, 1330, 1331, 1332, 1333, 1334, 1335, 1336, 1337, 1338, 1339, 1340, 1341, 1342, 1343, 1344, 1345, 1346, 1347, 1348, 1349, 1350, 1351, 1352, 1353, 1354, 1355, 1356, 1357, 1358, 1359, 1360, 1361, 1362, 1363, 1364, 1365, 1366, 1367, 1368, 1369, 1370, 1371, 1372, 1373, 1374, 1375, 1376, 1377, 1378, 1379, 1380, 1381, 1382, 1383, 1384, 1385, 1386, 1387, 1388, 1389, 1390, 1391, 1392, 1393, 1394, 1395, 1396, 1397, 1398, 1399, 1400, 1401, 1402, 1403, 1404, 1405, 1406, 1407, 1408, 1409, 1410, 1411, 1412, 1413, 1414, 1415, 1416, 1417, 1418, 1419, 1420, 1421, 1422, 1423, 1424, 1425, 1426, 1427, 1428, 1429, 1430, 1431, 1432, 1433, 1434, 1435, 1436, 1437, 1438, 1439, 1440, 1441, 1442, 1443, 1444, 1445, 1446, 1447, 1448, 1449, 1450, 1451, 1452, 1453, 1454, 1455, 1456, 1457, 1458, 1459, 1460, 1461, 1462, 1463, 1464, 1465, 1466, 1467, 1468, 1469, 1470, 1471, 1472, 1473, 1474, 1475, 1476, 1477, 1478, 1479, 1480, 1481, 1482, 1483, 1484, 1485, 1486, 1487, 1488, 1489, 1490, 1491, 1492, 1493, 1494, 1495, 1496, 1497, 1498, 1499, 1500, 1501, 1502, 1503, 1504, 1505, 1506, 1507, 1508, 1509, 1510, 1511, 1512, 1513, 1514, 1515, 1516, 1517, 1518, 1519, 1520, 1521, 1522, 1523, 1524, 1525, 1526, 1527, 1528, 1529, 1530, 1531, 1532, 1533, 1534, 1535, 1536, 1537, 1538, 1539, 1540, 1541, 1542, 1543, 1544, 1545, 1546, 1547, 1548, 1549, 1550, 1551, 1552, 1553, 1554, 1555, 1556, 1557, 1558, 1559, 1560, 1561, 1562, 1563, 1564, 1565, 1566, 1567, 1568, 1569, 1570, 1571, 1572, 1573, 1574, 1575, 1576, 1577, 1578, 1579, 1580, 1581, 1582, 1583, 1584, 1585, 1586, 1587, 1588, 1589, 1590, 1591, 1592, 1593, 1594, 1595, 1596, 1597, 1598, 1599, 1600, 1601, 1602, 1603, 1604, 1605, 1606, 1607, 1608, 1609, 1610, 1611, 1612, 1613, 1614, 1615, 1616, 1617, 1618, 1619, 1620, 1621, 1622, 1623, 1624, 1625, 1626, 1627, 1628, 1629, 1630, 1631, 1632, 1633, 1634, 1635, 1636, 1637, 1638, 1639, 1640, 1641, 1642, 1643, 1644, 1645, 1646, 1647, 1648, 1649, 1650, 1651, 1652, 1653, 1654, 1655, 1656, 1657, 1658, 1659, 1660, 1661, 1662, 1663, 1664, 1665, 1666, 1667, 1668, 1669, 1670, 1671, 1672, 1673, 1674, 1675, 1676, 1677, 1678, 1679, 1680, 1681, 1682, 1683, 1684, 1685, 1686, 1687, 1688, 1689, 1690, 1691, 1692, 1693, 1694, 1695, 1696, 1697, 1698, 1699, 1700, 1701, 1702, 1703, 1704, 1705, 1706, 1707, 1708, 1709, 1710, 1711, 1712, 1713, 1714, 1715, 1716, 1717, 1718, 1719, 1720, 1721, 1723, 1725, 1726, 1727, 1728, 1729, 1730, 1731, 1732, 1733, 1734, 1735, 1736, 1737, 1738, 1739, 1740, 1741, 1742, 1743, 1744, 1745, 1746, 1747, 1748, 1749, 1750, 1751, 1752, 1753, 1754, 1755, 1756, 1757, 1758, 1759, 1760, 1761, 1762, 1763, 1764, 1765, 1766, 1767, 1768, 1769, 1770, 1771, 1772, 1773, 1774, 1775, 1776, 1777, 1778, 1779, 1780, 1781, 1782, 1783, 1784, 1785, 1786, 1787, 1788, 1789, 1790, 1791, 1792, 1793, 1794, 1795, 1796, 1797, 1798, 1799, 1800, 1801, 1802, 1803, 1804, 1805, 1806, 1807, 1808, 1809, 1810, 1811, 1813, 1814, 1815, 1816, 1817, 1818, 1819, 1820, 1821, 1822, 1823, 1824, 1825, 1826, 1827, 1828, 1829, 1830, 1831, 1832, 1833, 1834, 1835, 1836, 1837, 1838, 1839, 1840, 1841, 1842, 1843, 1844, 1845, 1846, 1847, 1848, 1849, 1850, 1851, 1852, 1853, 1854, 1855, 1856, 1857, 1858, 1859, 1860, 1861, 1862, 1863, 1864, 1865, 1866, 1867, 1868, 1869, 1870, 1871, 1872, 1874, 1875, 1876, 1877, 1878, 1879, 1880, 1881, 1882, 1883, 1884, 1885, 1886, 1887, 1888, 1889, 1890, 1891, 1892, 1893, 1894, 1895, 1896, 1897, 1898, 1899, 1900, 1901, 1902, 1903, 1904, 1905, 1906, 1907, 1908, 1909, 1910, 1911, 1912, 1913, 1914, 1915, 1916, 1917, 1918, 1919, 1920, 1921, 1922, 1923, 1924, 1925, 1926, 1927, 1928, 1929, 1930, 1931, 1932, 1933, 1934, 1935, 1936, 1937, 1938, 1939, 1940, 1941, 1942, 1943, 1944, 1945, 1946, 1947, 1948, 1949, 1950, 1951, 1952, 1953, 1954, 1955, 1956, 1957, 1958, 1959, 1960, 1961, 1962, 1963, 1965, 1966, 1967, 1968, 1969, 1970, 1971, 1972, 1973, 1974, 1975, 1976, 1977, 1978, 1979, 1980, 1981, 1982, 1983, 1985, 1986, 1987, 1988, 1989, 1990, 1991, 1992, 1993, 1994, 1995, 1996, 1997, 1998, 1999, 2000, 2001, 2002, 2003, 2004, 2005, 2006, 2007, 2008, 2009, 2010, 2011, 2012, 2013, 2014, 2015, 2016, 2017, 2018, 2019, 2020, 2021, 2022, 2023, 2024, 2025, 2026, 2027, 2028, 2029, 2030, 2031, 2032, 2033, 2034, 2035, 2036, 2037, 2038, 2039, 2040, 2041, 2042, 2043, 2044, 2045, 2046, 2047\n",
      "MW: 307.13 g/mol\n",
      "LogP: 3.53\n",
      "H-Bond Donors/Acceptors: 0/5\n",
      "Rotatable Bonds: 4\n",
      "Rings (Total/Aromatic): 3/3\n",
      "\n",
      "\n",
      "Molecule 6:\n",
      "SMILES: COc1ccc(-c2nnc(-c3ccc(OC)cc3)c3nc(C)nnc23)cc1\n",
      "Formula: C20H17N5O2\n",
      "Frequency: 0.10%\n",
      "Flipped Bits: 511, 1097\n",
      "MW: 359.14 g/mol\n",
      "LogP: 3.47\n",
      "H-Bond Donors/Acceptors: 0/7\n",
      "Rotatable Bonds: 4\n",
      "Rings (Total/Aromatic): 4/4\n",
      "\n",
      "\n",
      "Molecule 2:\n",
      "SMILES: COc1ccc(-c2nc(C)nnc2C)cc1\n",
      "Formula: C12H13N3O\n",
      "Frequency: 0.05%\n",
      "Flipped Bits: 92\n",
      "MW: 215.11 g/mol\n",
      "LogP: 2.16\n",
      "H-Bond Donors/Acceptors: 0/4\n",
      "Rotatable Bonds: 2\n",
      "Rings (Total/Aromatic): 2/2\n",
      "\n",
      "\n",
      "Molecule 3:\n",
      "SMILES: COc1ccc(-c2nc(C)nc(-c3ccc(OC)cc3)c2C)cc1\n",
      "Formula: C20H20N2O2\n",
      "Frequency: 0.05%\n",
      "Flipped Bits: 252\n",
      "MW: 320.15 g/mol\n",
      "LogP: 4.44\n",
      "H-Bond Donors/Acceptors: 0/4\n",
      "Rotatable Bonds: 4\n",
      "Rings (Total/Aromatic): 3/3\n",
      "\n",
      "\n",
      "Molecule 4:\n",
      "SMILES: COc1ccc(-c2nnnc(C)n2)cc1\n",
      "Formula: C10H10N4O\n",
      "Frequency: 0.05%\n",
      "Flipped Bits: 323\n",
      "MW: 202.09 g/mol\n",
      "LogP: 1.25\n",
      "H-Bond Donors/Acceptors: 0/5\n",
      "Rotatable Bonds: 2\n",
      "Rings (Total/Aromatic): 2/2\n",
      "\n",
      "\n",
      "Molecule 5:\n",
      "SMILES: COc1ccc(-c2nc(C)nc3nc(C)nnc23)cc1\n",
      "Formula: C14H13N5O\n",
      "Frequency: 0.05%\n",
      "Flipped Bits: 471\n",
      "MW: 267.11 g/mol\n",
      "LogP: 2.11\n",
      "H-Bond Donors/Acceptors: 0/6\n",
      "Rotatable Bonds: 2\n",
      "Rings (Total/Aromatic): 3/3\n",
      "\n",
      "\n",
      "Molecule 7:\n",
      "SMILES: COc1ccc(-c2nc3nnc(C)nc3nc2-c2ccc(OC)cc2)cc1\n",
      "Formula: C20H17N5O2\n",
      "Frequency: 0.05%\n",
      "Flipped Bits: 600\n",
      "MW: 359.14 g/mol\n",
      "LogP: 3.47\n",
      "H-Bond Donors/Acceptors: 0/7\n",
      "Rotatable Bonds: 4\n",
      "Rings (Total/Aromatic): 4/4\n",
      "\n",
      "\n",
      "Molecule 8:\n",
      "SMILES: COC1=NC(c2ccc(OC)cc2)=C(c2ccc(OC)cc2)N=C(C)N1\n",
      "Formula: C20H21N3O3\n",
      "Frequency: 0.05%\n",
      "Flipped Bits: 1164\n",
      "MW: 351.16 g/mol\n",
      "LogP: 3.55\n",
      "H-Bond Donors/Acceptors: 1/6\n",
      "Rotatable Bonds: 4\n",
      "Rings (Total/Aromatic): 3/2\n",
      "\n",
      "\n",
      "Molecule 9:\n",
      "SMILES: COc1ccc(-c2nnc(OC)nc2-c2ccc(OC)cc2)cc1\n",
      "Formula: C18H17N3O3\n",
      "Frequency: 0.05%\n",
      "Flipped Bits: 1722\n",
      "MW: 323.13 g/mol\n",
      "LogP: 3.23\n",
      "H-Bond Donors/Acceptors: 0/6\n",
      "Rotatable Bonds: 5\n",
      "Rings (Total/Aromatic): 3/3\n",
      "\n",
      "\n",
      "Molecule 10:\n",
      "SMILES: COc1ccc(-c2nnc3c(-c4ccc(OC)cc4)nc(C)nc3c2-c2ccc(OC)cc2)cc1\n",
      "Formula: C28H24N4O3\n",
      "Frequency: 0.05%\n",
      "Flipped Bits: 1724\n",
      "MW: 464.18 g/mol\n",
      "LogP: 5.76\n",
      "H-Bond Donors/Acceptors: 0/7\n",
      "Rotatable Bonds: 6\n",
      "Rings (Total/Aromatic): 5/5\n",
      "\n",
      "\n",
      "Molecule 11:\n",
      "SMILES: COc1ccc(C2=C3N=C(C)N=C3N=N2)cc1\n",
      "Formula: C12H10N4O\n",
      "Frequency: 0.05%\n",
      "Flipped Bits: 1812\n",
      "MW: 226.09 g/mol\n",
      "LogP: 2.66\n",
      "H-Bond Donors/Acceptors: 0/5\n",
      "Rotatable Bonds: 2\n",
      "Rings (Total/Aromatic): 3/1\n",
      "\n",
      "\n",
      "Molecule 12:\n",
      "SMILES: COc1ccc(-c2nnc(C)nc2-c2ccc(-c3nnc(C)nc3-c3ccc(OC)cc3)cc2)cc1\n",
      "Formula: C28H24N6O2\n",
      "Frequency: 0.05%\n",
      "Flipped Bits: 1873\n",
      "MW: 476.20 g/mol\n",
      "LogP: 5.36\n",
      "H-Bond Donors/Acceptors: 0/8\n",
      "Rotatable Bonds: 6\n",
      "Rings (Total/Aromatic): 5/5\n",
      "\n",
      "\n",
      "Molecule 13:\n",
      "SMILES: COc1ccc(-c2ccc(-c3nnc(C)nc3-c3ccc(OC)cc3)cc2)cc1\n",
      "Formula: C24H21N3O2\n",
      "Frequency: 0.05%\n",
      "Flipped Bits: 1964\n",
      "MW: 383.16 g/mol\n",
      "LogP: 5.20\n",
      "H-Bond Donors/Acceptors: 0/5\n",
      "Rotatable Bonds: 5\n",
      "Rings (Total/Aromatic): 4/4\n",
      "\n",
      "\n",
      "Molecule 14:\n",
      "SMILES: COc1ccc(-c2nnc(-c3ccc(OC)cc3)c3c(-c4ccc(OC)cc4)nc(C)nc23)cc1\n",
      "Formula: C28H24N4O3\n",
      "Frequency: 0.05%\n",
      "Flipped Bits: 1984\n",
      "MW: 464.18 g/mol\n",
      "LogP: 5.76\n",
      "H-Bond Donors/Acceptors: 0/7\n",
      "Rotatable Bonds: 6\n",
      "Rings (Total/Aromatic): 5/5\n",
      "\n"
     ]
    }
   ],
   "source": [
    "# Analyze for flip counts of 2048 bit flips\n",
    "analyses_2048 = analyze_all_molecules(dataframes_dict, n_flips_filter=2048)"
   ]
  }
 ],
 "metadata": {
  "kernelspec": {
   "display_name": "molforge",
   "language": "python",
   "name": "python3"
  },
  "language_info": {
   "codemirror_mode": {
    "name": "ipython",
    "version": 3
   },
   "file_extension": ".py",
   "mimetype": "text/x-python",
   "name": "python",
   "nbconvert_exporter": "python",
   "pygments_lexer": "ipython3",
   "version": "3.11.10"
  }
 },
 "nbformat": 4,
 "nbformat_minor": 2
}
